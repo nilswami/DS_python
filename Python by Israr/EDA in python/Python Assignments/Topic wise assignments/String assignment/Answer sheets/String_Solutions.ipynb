{
 "cells": [
  {
   "cell_type": "markdown",
   "id": "261a1de7",
   "metadata": {},
   "source": [
    "### 1. Python program to check whether the string is Symmetrical or Palindrome\n",
    "\n",
    "Example:\n",
    "    \n",
    "Input: khokho\n",
    "Output: \n",
    "The entered string is symmetrical\n",
    "The entered string is not palindrome\n",
    "\n",
    "Input:amaama\n",
    "Output:\n",
    "The entered string is symmetrical\n",
    "The entered string is palindrome"
   ]
  },
  {
   "cell_type": "code",
   "execution_count": 1,
   "id": "53f67221",
   "metadata": {},
   "outputs": [
    {
     "name": "stdout",
     "output_type": "stream",
     "text": [
      "The entered string is palindrome\n",
      "The entered string is not symmetrical\n"
     ]
    }
   ],
   "source": [
    "# Using Def function\n",
    "\n",
    "# Python program to demonstrate\n",
    "# symmetry and palindrome of the\n",
    "# string\n",
    " \n",
    "#Function to check whether the\n",
    "# string is palindrome or not\n",
    "def palindrome(a):\n",
    "  \n",
    "    # finding the mid, start\n",
    "    # and last index of the string\n",
    "    mid = (len(a)-1)//2     #you can remove the -1 or you add <= sign in line 21 \n",
    "    start = 0                #so that you can compare the middle elements also.\n",
    "    last = len(a)-1\n",
    "    flag = 0\n",
    "     \n",
    "    # A loop till the mid of the\n",
    "    # string\n",
    "    while(start <= mid):\n",
    "  \n",
    "        # comparing letters from right\n",
    "        # from the letters from left\n",
    "        if (a[start]== a[last]):\n",
    "             \n",
    "            start += 1\n",
    "            last -= 1\n",
    "                     \n",
    "        else:\n",
    "            flag = 1\n",
    "            break;\n",
    "             \n",
    "    # Checking the flag variable to\n",
    "    # check if the string is palindrome\n",
    "    # or not\n",
    "    if flag == 0:\n",
    "        print(\"The entered string is palindrome\")\n",
    "    else:\n",
    "        print(\"The entered string is not palindrome\")\n",
    "         \n",
    "# Function to check whether the\n",
    "# string is symmetrical or not       \n",
    "def symmetry(a):\n",
    "     \n",
    "    n = len(a)\n",
    "    flag = 0\n",
    "     \n",
    "    # Check if the string's length\n",
    "    # is odd or even\n",
    "    if n%2:\n",
    "        mid = n//2 +1\n",
    "    else:\n",
    "        mid = n//2\n",
    "         \n",
    "    start1 = 0\n",
    "    start2 = mid\n",
    "     \n",
    "    while(start1 < mid and start2 < n):\n",
    "         \n",
    "        if (a[start1]== a[start2]):\n",
    "            start1 = start1 + 1\n",
    "            start2 = start2 + 1\n",
    "        else:\n",
    "            flag = 1\n",
    "            break\n",
    "      \n",
    "    # Checking the flag variable to\n",
    "    # check if the string is symmetrical\n",
    "    # or not\n",
    "    if flag == 0:\n",
    "        print(\"The entered string is symmetrical\")\n",
    "    else:\n",
    "        print(\"The entered string is not symmetrical\")\n",
    "         \n",
    "# Driver code\n",
    "string = 'madam'\n",
    "palindrome(string)\n",
    "symmetry(string)"
   ]
  },
  {
   "cell_type": "code",
   "execution_count": 2,
   "id": "2e566068",
   "metadata": {},
   "outputs": [
    {
     "name": "stdout",
     "output_type": "stream",
     "text": [
      "Learnbay string is not symmertical\n",
      "Learnbay string is not palindrome\n"
     ]
    }
   ],
   "source": [
    "string = \"Learnbay\"\n",
    "half = int(len(string) / 2)\n",
    " \n",
    "if len(string) % 2 == 0:  # even\n",
    "    first_str = string[:half]\n",
    "    second_str = string[half:]\n",
    "else:  # odd\n",
    "    first_str = string[:half]\n",
    "    second_str = string[half+1:]\n",
    "\n",
    "# Symmertical\n",
    "if first_str == second_str:\n",
    "    print(string, 'string is symmertical')\n",
    "else:\n",
    "    print(string, 'string is not symmertical')\n",
    "    \n",
    "# palindrome\n",
    "if first_str == second_str[::-1]:  # ''.join(reversed(second_str)) [slower]\n",
    "    print(string, 'string is palindrome')\n",
    "else:\n",
    "    print(string, 'string is not palindrome')"
   ]
  },
  {
   "cell_type": "markdown",
   "id": "b02cfb1a",
   "metadata": {},
   "source": [
    "### 2. Reverse words in a given String in Python\n",
    "\n",
    "Examples:\n",
    "\n",
    "Input : str = Although 8 that way may not be obvious at first unless you're Dutch\n",
    "\n",
    "Output : str = Dutch you're unless first at obvious be not may way that 8 Although"
   ]
  },
  {
   "cell_type": "code",
   "execution_count": 3,
   "id": "cb0827ec",
   "metadata": {},
   "outputs": [
    {
     "name": "stdout",
     "output_type": "stream",
     "text": [
      "Dutch you're unless first at obvious be not may way that 8 Although\n"
     ]
    }
   ],
   "source": [
    "# Using def function and .split()\n",
    "  \n",
    "def rev_sentence(sentence): \n",
    "  \n",
    "    # first split the string into words \n",
    "    words = sentence.split(' ') \n",
    "  \n",
    "    # then reverse the split string list and join using space \n",
    "    reverse_sentence = ' '.join(reversed(words)) \n",
    "  \n",
    "    # finally return the joined string \n",
    "    return reverse_sentence \n",
    "  \n",
    "if __name__ == \"__main__\": \n",
    "    input = \"Although 8 that way may not be obvious at first unless you're Dutch\"\n",
    "    print (rev_sentence(input))"
   ]
  },
  {
   "cell_type": "markdown",
   "id": "33b61888",
   "metadata": {},
   "source": [
    "### 3. Write a Python program to remove i’th character from string in Python\n",
    "\n",
    "Example: \n",
    "The original string is : peter piper picked a peck of pickled peppers.\n",
    "\n",
    "The string after removal of i'th character : eter piper picked a peck of pickled peppers.\n",
    "\n"
   ]
  },
  {
   "cell_type": "code",
   "execution_count": 7,
   "id": "1d40fb7a",
   "metadata": {},
   "outputs": [
    {
     "name": "stdout",
     "output_type": "stream",
     "text": [
      "The original string is : peter piper picked a peck of pickled peppers.\n",
      "The string after removal of i'th character : eter piper picked a peck of pickled peppers.\n"
     ]
    }
   ],
   "source": [
    "# Python code to demonstrate\n",
    "# method to remove i'th character\n",
    "# Naive Method\n",
    "\n",
    "# Initializing String\n",
    "test_str = \"peter piper picked a peck of pickled peppers.\"\n",
    "\n",
    "# Printing original string\n",
    "print (\"The original string is : \" + test_str)\n",
    "\n",
    "# Removing char at ith position\n",
    "# using loop\n",
    "new_str = \"\"\n",
    "\n",
    "for i in range(len(test_str)):\n",
    "    if i != 0:\n",
    "        new_str = new_str + test_str[i]\n",
    "\n",
    "# Printing string after removal\n",
    "print (\"The string after removal of i'th character : \" + new_str)\n"
   ]
  },
  {
   "cell_type": "code",
   "execution_count": 10,
   "id": "676c1d44",
   "metadata": {},
   "outputs": [
    {
     "name": "stdout",
     "output_type": "stream",
     "text": [
      "The original string is : peter piper picked a peck of pickled peppers.\n",
      "The string after removal of i'th character : peer piper picked a peck of pickled peppers.\n"
     ]
    }
   ],
   "source": [
    "# Method 2 : Using slice + concatenation\n",
    "\n",
    "# Python code to demonstrate\n",
    "# method to remove i'th character\n",
    "# using slice + concatenation\n",
    "\n",
    "# Initializing String\n",
    "test_str = \"peter piper picked a peck of pickled peppers.\"\n",
    "\n",
    "# Printing original string\n",
    "print (\"The original string is : \" + test_str)\n",
    "\n",
    "# Removing char at pos 3\n",
    "# using slice + concatenation\n",
    "new_str = test_str[:2] + test_str[3:]\n",
    "\n",
    "# Printing string after removal\n",
    "# removes ele. at 3rd index\n",
    "print (\"The string after removal of i'th character : \" + new_str)\n"
   ]
  },
  {
   "cell_type": "code",
   "execution_count": 11,
   "id": "9e36a852",
   "metadata": {},
   "outputs": [
    {
     "name": "stdout",
     "output_type": "stream",
     "text": [
      "The original string is : peter piper picked a peck of pickled peppers.\n",
      "The string after removal of i'th character : peer piper picked a peck of pickled peppers.\n"
     ]
    }
   ],
   "source": [
    "# Method 3 : Using str.join() and list comprehension\n",
    "# Python code to demonstrate\n",
    "# method to remove i'th character\n",
    "# using join() + list comprehension\n",
    "\n",
    "# Initializing String\n",
    "test_str = \"peter piper picked a peck of pickled peppers.\"\n",
    "\n",
    "# Printing original string\n",
    "print (\"The original string is : \" + test_str)\n",
    "\n",
    "# Removing char at pos 3\n",
    "# using join() + list comprehension\n",
    "new_str = ''.join([test_str[i] for i in range(len(test_str)) if i != 2])\n",
    "\n",
    "# Printing string after removal\n",
    "# removes ele. at 3rd index\n",
    "print (\"The string after removal of i'th character : \" + new_str)"
   ]
  },
  {
   "cell_type": "markdown",
   "id": "35ab410f",
   "metadata": {},
   "source": [
    "### 4. Find length of a string in python (4 ways)\n",
    "\n",
    "Examples\n",
    "\n",
    "Input : 'abc'\n",
    "Output : 3\n",
    "\n",
    "Input : 'hello world !'\n",
    "Output : 13\n",
    "\n",
    "Input : ' h e l   l  o '\n",
    "Output :14"
   ]
  },
  {
   "cell_type": "code",
   "execution_count": 12,
   "id": "96c84b43",
   "metadata": {},
   "outputs": [
    {
     "name": "stdout",
     "output_type": "stream",
     "text": [
      "8\n"
     ]
    }
   ],
   "source": [
    "# Python code to demonstrate string length\n",
    "# using len\n",
    "\n",
    "str = \"Learnbay\"\n",
    "print(len(str))\n"
   ]
  },
  {
   "cell_type": "code",
   "execution_count": 13,
   "id": "5c1e153e",
   "metadata": {},
   "outputs": [
    {
     "name": "stdout",
     "output_type": "stream",
     "text": [
      "45\n"
     ]
    }
   ],
   "source": [
    "# Python code to demonstrate string length\n",
    "# using for loop\n",
    "\n",
    "# Returns length of string\n",
    "def findLen(str):\n",
    "    counter = 0\t\n",
    "    for i in str:\n",
    "        counter += 1\n",
    "    return counter\n",
    "\n",
    "\n",
    "str = \"peter piper picked a peck of pickled peppers.\"\n",
    "print(findLen(str))\n"
   ]
  },
  {
   "cell_type": "code",
   "execution_count": 14,
   "id": "f36c12a5",
   "metadata": {},
   "outputs": [
    {
     "name": "stdout",
     "output_type": "stream",
     "text": [
      "6\n"
     ]
    }
   ],
   "source": [
    "# Python code to demonstrate string length\n",
    "# using while loop.\n",
    "\n",
    "# Returns length of string\n",
    "def findLen(str):\n",
    "    counter = 0\n",
    "    while str[counter:]:\n",
    "        counter += 1\n",
    "    return counter\n",
    "\n",
    "str = \"Python\"\n",
    "print(findLen(str))\n"
   ]
  },
  {
   "cell_type": "code",
   "execution_count": 16,
   "id": "6aaceae0",
   "metadata": {},
   "outputs": [
    {
     "name": "stdout",
     "output_type": "stream",
     "text": [
      "8\n"
     ]
    }
   ],
   "source": [
    "# Python code to demonstrate string length\n",
    "# using join and count\n",
    "\n",
    "# Returns length of string\n",
    "def findLen(str):\n",
    "    if not str:\n",
    "        return 0\n",
    "    else:\n",
    "        some_random_str = 'py'\n",
    "        return ((some_random_str).join(str)).count(some_random_str) + 1\n",
    "\n",
    "str = \"Learnbay\"\n",
    "print(findLen(str))\n"
   ]
  },
  {
   "cell_type": "markdown",
   "id": "36e4e5fb",
   "metadata": {},
   "source": [
    "### 5. Write a Python program to print even length words in a string\n",
    "\n",
    "Example: \n",
    "\n",
    "Input: s = \"This is a python language\"\n",
    "\n",
    "Output: This\n",
    "        is\n",
    "        python\n",
    "        language \n",
    "\n",
    "Input: s = \"Welcome to Learnbay\"\n",
    "\n",
    "Output: am\n",
    "        muskan\n",
    "        "
   ]
  },
  {
   "cell_type": "code",
   "execution_count": 31,
   "id": "eff53600",
   "metadata": {},
   "outputs": [
    {
     "name": "stdout",
     "output_type": "stream",
     "text": [
      "This\n",
      "is\n",
      "python\n",
      "language\n"
     ]
    }
   ],
   "source": [
    "# Python program to print\n",
    "# even length words in a string\n",
    "\n",
    "def printWords(s):\n",
    "\n",
    "    # split the string\n",
    "    s = s.split(' ')\n",
    "    \n",
    "    # iterate in words of string\n",
    "    for word in s:\n",
    "        \n",
    "        # if length is even\n",
    "        if len(word)%2==0:\n",
    "            print(word)\n",
    "\n",
    "\n",
    "# Driver Code\n",
    "s = \"This is a python language\"\n",
    "printWords(s)\n"
   ]
  },
  {
   "cell_type": "markdown",
   "id": "57a22c44",
   "metadata": {},
   "source": [
    "### 6. Write a Python program to Uppercase Half String\n",
    "\n",
    "Input : test_str = ‘Thisisapythonlanguage’\n",
    "Output : ThisisapytHONLANGUAGE\n",
    "Explanation : Latter half of string is uppercased.\n",
    "\n",
    "Input : test_str = ‘apples’\n",
    "Output : appLES\n",
    "Explanation : Latter half of string is uppercased."
   ]
  },
  {
   "cell_type": "code",
   "execution_count": 42,
   "id": "91a1ac2e",
   "metadata": {},
   "outputs": [
    {
     "name": "stdout",
     "output_type": "stream",
     "text": [
      "The original string is : Thisisapythonlanguage\n",
      "The resultant string : ThisisapytHONLANGUAGE\n"
     ]
    }
   ],
   "source": [
    "# Python code to demonstrate working of\n",
    "# Uppercase Half String\n",
    "# Using upper() + loop + len()\n",
    "\n",
    "# initializing string\n",
    "test_str = \"Thisisapythonlanguage\"\n",
    "\n",
    "# printing original string\n",
    "print(\"The original string is : \" + test_str)\n",
    "\n",
    "# computing half index\n",
    "hlf_idx = len(test_str) // 2\n",
    "\n",
    "res = ''\n",
    "for idx in range(len(test_str)):\n",
    "\n",
    "    # uppercasing later half\n",
    "    if idx >= hlf_idx:\n",
    "        res += test_str[idx].upper()\n",
    "    else :\n",
    "        res += test_str[idx]\n",
    "        \n",
    "# printing result\n",
    "print(\"The resultant string : \" + res)\n"
   ]
  },
  {
   "cell_type": "code",
   "execution_count": 44,
   "id": "5146e090",
   "metadata": {},
   "outputs": [
    {
     "name": "stdout",
     "output_type": "stream",
     "text": [
      "The original string is : Thisisapythonlanguage\n",
      "The resultant string : ThisisapytHONLANGUAGE\n"
     ]
    }
   ],
   "source": [
    "# Method 2 : Using list comprehension + join() + upper()\n",
    "# Python code to demonstrate working of\n",
    "# Uppercase Half String\n",
    "# Using list comprehension + join() + upper()\n",
    "\n",
    "# initializing string\n",
    "test_str = 'Thisisapythonlanguage'\n",
    "\n",
    "# printing original string\n",
    "print(\"The original string is : \" + test_str)\n",
    "\n",
    "# computing half index\n",
    "hlf_idx = len(test_str) // 2\n",
    "\n",
    "# join() used to create result string\n",
    "res = ''.join([test_str[idx].upper() if idx >= hlf_idx else test_str[idx]\n",
    "        for idx in range(len(test_str)) ])\n",
    "\n",
    "# printing result\n",
    "print(\"The resultant string : \" + res)\n",
    "\n",
    "\n"
   ]
  },
  {
   "cell_type": "markdown",
   "id": "742446c6",
   "metadata": {},
   "source": [
    "### 7. Write a Python program to capitalize the first and last character of each word in a string\n",
    "\n",
    "Examples:\n",
    "\n",
    "Input: hello world \n",
    "Output: HellO WorlD\n",
    "\n",
    "Input: welcome to learnbay\n",
    "Output: WelcomE TO LearnbaY"
   ]
  },
  {
   "cell_type": "code",
   "execution_count": 46,
   "id": "50793e53",
   "metadata": {},
   "outputs": [
    {
     "name": "stdout",
     "output_type": "stream",
     "text": [
      "String before: welcome to learnbay \n",
      "String after: WelcomE TO LearnbaY\n"
     ]
    }
   ],
   "source": [
    "# Python program to capitalize\n",
    "# first and last character of\n",
    "# each word of a String\n",
    "\n",
    "\n",
    "# Function to do the same\n",
    "def word_both_cap(str):\n",
    "\n",
    "    #lamda function for capitalizing the\n",
    "    # first and last letter of words in\n",
    "    # the string\n",
    "    return ' '.join(map(lambda s: s[:-1]+s[-1].upper(),\n",
    "                        s.title().split()))\n",
    "\n",
    "\n",
    "# Driver's code\n",
    "s = \"welcome to learnbay \"\n",
    "print(\"String before:\", s)\n",
    "print(\"String after:\", word_both_cap(str))\n"
   ]
  },
  {
   "cell_type": "markdown",
   "id": "382f09e8",
   "metadata": {},
   "source": [
    "### 8. Write a Python program to check if a string has at least one letter and one number.\n",
    "\n",
    "Example: \n",
    "Input: welcome2ourcountry34\n",
    "Output: True\n",
    "\n",
    "Input: stringwithoutnum\n",
    "Output: False"
   ]
  },
  {
   "cell_type": "code",
   "execution_count": 49,
   "id": "40d43664",
   "metadata": {},
   "outputs": [
    {
     "name": "stdout",
     "output_type": "stream",
     "text": [
      "True\n",
      "False\n"
     ]
    }
   ],
   "source": [
    "def checkString(str):\n",
    "\n",
    "    # initializing flag variable\n",
    "    flag_l = False\n",
    "    flag_n = False\n",
    "\n",
    "    # checking for letter and numbers in\n",
    "    # given string\n",
    "    for i in str:\n",
    "    \n",
    "        # if string has letter\n",
    "        if i.isalpha():\n",
    "            flag_l = True\n",
    "\n",
    "        # if string has number\n",
    "        if i.isdigit():\n",
    "            flag_n = True\n",
    "    \n",
    "    # returning and of flag\n",
    "    # for checking required condition\n",
    "    return flag_l and flag_n\n",
    "\n",
    "\n",
    "# driver code\n",
    "print(checkString('welcome2ourcountry34'))\n",
    "print(checkString('Learnbayisbest'))\n"
   ]
  },
  {
   "cell_type": "markdown",
   "id": "0e2a2f60",
   "metadata": {},
   "source": [
    "### 9. Write a Python progra to accept the strings which contains all vowels\n",
    "\n",
    "Examples : \n",
    "\n",
    "Input : Learnbay\n",
    "Output : Not Accepted\n",
    "All vowels except 'o' are not present\n",
    "\n",
    "Input : ABeeIghiObhkUul\n",
    "Output : Accepted\n",
    "All vowels are present"
   ]
  },
  {
   "cell_type": "code",
   "execution_count": 52,
   "id": "b3b1ed4d",
   "metadata": {},
   "outputs": [
    {
     "name": "stdout",
     "output_type": "stream",
     "text": [
      "Accepted\n"
     ]
    }
   ],
   "source": [
    "# Python program to accept the strings\n",
    "# which contains all the vowels\n",
    "\n",
    "# Function for check if string\n",
    "# is accepted or not\n",
    "def check(string) :\n",
    "\n",
    "    string = string.lower()\n",
    "\n",
    "    # set() function convert \"aeiou\"\n",
    "    # string into set of characters\n",
    "    # i.e.vowels = {'a', 'e', 'i', 'o', 'u'}\n",
    "    vowels = set(\"aeiou\")\n",
    "\n",
    "    # set() function convert empty\n",
    "    # dictionary into empty set\n",
    "    s = set({})\n",
    "\n",
    "    # looping through each\n",
    "    # character of the string\n",
    "    for char in string :\n",
    "\n",
    "        # Check for the character is present inside\n",
    "        # the vowels set or not. If present, then\n",
    "        # add into the set s by using add method\n",
    "        if char in vowels :\n",
    "            s.add(char)\n",
    "        else:\n",
    "            pass\n",
    "\n",
    "    # check the length of set s equal to length\n",
    "    # of vowels set or not. If equal, string is\n",
    "    # accepted otherwise not\n",
    "    if len(s) == len(vowels) :\n",
    "        print(\"Accepted\")\n",
    "    else :\n",
    "        print(\"Not Accepted\")\n",
    "\n",
    "\n",
    "# Driver code\n",
    "if __name__ == \"__main__\" :\n",
    "    \n",
    "    string = \"ABeeIghiObhkU\"\n",
    "\n",
    "    # calling function\n",
    "    check(string)\n"
   ]
  },
  {
   "cell_type": "code",
   "execution_count": 53,
   "id": "da10f403",
   "metadata": {},
   "outputs": [
    {
     "name": "stdout",
     "output_type": "stream",
     "text": [
      "not accepted\n"
     ]
    }
   ],
   "source": [
    "def check(string):\n",
    "    string = string.replace(' ', '')\n",
    "    string = string.lower()\n",
    "    vowel = [string.count('a'), string.count('e'), string.count(\n",
    "        'i'), string.count('o'), string.count('u')]\n",
    "\n",
    "    # If 0 is present int vowel count array\n",
    "    if vowel.count(0) > 0:\n",
    "        return('not accepted')\n",
    "    else:\n",
    "        return('accepted')\n",
    "\n",
    "\n",
    "# Driver code\n",
    "if __name__ == \"__main__\":\n",
    "\n",
    "    string = \"Learnbay\"\n",
    "\n",
    "    print(check(string))"
   ]
  },
  {
   "cell_type": "markdown",
   "id": "40b2cfb4",
   "metadata": {},
   "source": [
    "### 10. Write a Python program to Count the Number of matching characters in a pair of string\n",
    "\n",
    "Examples:\n",
    "\n",
    "Input : str1 = 'abcdef'\n",
    "        str2 = 'defghia'\n",
    "Output : 4 \n",
    "(i.e. matching characters :- a, d, e, f)\n",
    "\n",
    "Input : str1 = 'aabcddekll12@'\n",
    "        str2 = 'bb22ll@55k'\n",
    "Output : 5 \n",
    "(i.e. matching characters :- b, 1, 2, @, k)"
   ]
  },
  {
   "cell_type": "code",
   "execution_count": 55,
   "id": "66232de3",
   "metadata": {},
   "outputs": [
    {
     "name": "stdout",
     "output_type": "stream",
     "text": [
      "No. of matching characters are :  5\n"
     ]
    }
   ],
   "source": [
    "# Python code to count number of matching\n",
    "# characters in a pair of strings\n",
    "\n",
    "# count function\n",
    "def count(str1, str2):\n",
    "    c, j = 0, 0\n",
    "    \n",
    "    # loop executes till length of str1 and\n",
    "    # stores value of str1 character by character\n",
    "    # and stores in i at each iteration.\n",
    "    for i in str1:\t\n",
    "        \n",
    "        # this will check if character extracted from\n",
    "        # str1 is present in str2 or not(str2.find(i)\n",
    "        # return -1 if not found otherwise return the\n",
    "        # starting occurrence index of that character\n",
    "        # in str2) and j == str1.find(i) is used to\n",
    "        # avoid the counting of the duplicate characters\n",
    "        # present in str1 found in str2\n",
    "        if str2.find(i)>= 0 and j == str1.find(i):\n",
    "            c += 1\n",
    "        j += 1\n",
    "    print ('No. of matching characters are : ', c)\n",
    "\n",
    "# Main function\n",
    "def main():\n",
    "    str1 ='aabcddekll12@' # first string\n",
    "    str2 ='bb2211@55k' # second string\n",
    "    count(str1, str2) # calling count function\n",
    "\n",
    "# Driver Code\n",
    "if __name__==\"__main__\":\n",
    "    main()\n"
   ]
  },
  {
   "cell_type": "code",
   "execution_count": 57,
   "id": "160e76a6",
   "metadata": {},
   "outputs": [
    {
     "name": "stdout",
     "output_type": "stream",
     "text": [
      "No. of matching characters are :  5\n"
     ]
    }
   ],
   "source": [
    "# Count the Number of matching characters in\n",
    "# a pair of string using regex\n",
    "import re\n",
    "ip1 = \"geeks\"\n",
    "ip2 = \"geeksonly\"\n",
    "\n",
    "c = 0\n",
    "for i in ip1:\n",
    "    if re.search(i,ip2):\n",
    "        c=c+1\n",
    "print(\"No. of matching characters are : \", c)\n"
   ]
  },
  {
   "cell_type": "code",
   "execution_count": null,
   "id": "fef53081",
   "metadata": {},
   "outputs": [],
   "source": []
  }
 ],
 "metadata": {
  "kernelspec": {
   "display_name": "Python 3 (ipykernel)",
   "language": "python",
   "name": "python3"
  },
  "language_info": {
   "codemirror_mode": {
    "name": "ipython",
    "version": 3
   },
   "file_extension": ".py",
   "mimetype": "text/x-python",
   "name": "python",
   "nbconvert_exporter": "python",
   "pygments_lexer": "ipython3",
   "version": "3.9.7"
  }
 },
 "nbformat": 4,
 "nbformat_minor": 5
}
