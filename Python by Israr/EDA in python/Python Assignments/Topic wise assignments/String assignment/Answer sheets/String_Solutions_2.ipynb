{
 "cells": [
  {
   "cell_type": "markdown",
   "id": "7ebe6bd6",
   "metadata": {},
   "source": [
    "### 1. Write a Python program to count number of vowels using sets in given string\n",
    "\n",
    "Examples:\n",
    "\n",
    "Input : Learnbay\n",
    "Output : No. of vowels : 3\n",
    "\n",
    "Input : Hello World\n",
    "Output : No. of vowels :  3"
   ]
  },
  {
   "cell_type": "code",
   "execution_count": 1,
   "id": "4a865558",
   "metadata": {},
   "outputs": [
    {
     "name": "stdout",
     "output_type": "stream",
     "text": [
      "No. of vowels : 3\n"
     ]
    }
   ],
   "source": [
    "# Python3 code to count vowel in\n",
    "# a string using set\n",
    "\n",
    "# Function to count vowel\n",
    "def vowel_count(str):\n",
    "\n",
    " # Initializing count variable to 0\n",
    "    count = 0\n",
    "\n",
    "    # Creating a set of vowels\n",
    "    vowel = set(\"aeiouAEIOU\")\n",
    "    \n",
    "    # Loop to traverse the alphabet\n",
    "    # in the given string\n",
    "    for alphabet in str:\n",
    "    \n",
    "        # If alphabet is present\n",
    "        # in set vowel\n",
    "        if alphabet in vowel:\n",
    "            count = count + 1\n",
    "    print(\"No. of vowels :\", count)\n",
    "    \n",
    "# Driver code\n",
    "str = \"Learnbay\"\n",
    "\n",
    "# Function Call\n",
    "vowel_count(str)\n"
   ]
  },
  {
   "cell_type": "markdown",
   "id": "b307f6ed",
   "metadata": {},
   "source": [
    "### 2. Write a Python Code to Remove all duplicates from a given string in Python\n",
    "Examples:\n",
    "\n",
    "Input : Learnbay\n",
    "\n",
    "Output :\n",
    "\n",
    "Without Order =  Lnyaebr\n",
    "\n",
    "With Order =  Learnby\n",
    "\n"
   ]
  },
  {
   "cell_type": "code",
   "execution_count": 2,
   "id": "48a82f10",
   "metadata": {},
   "outputs": [
    {
     "name": "stdout",
     "output_type": "stream",
     "text": [
      "Without Order =  rybaeLn\n",
      "With Order =  Learnby\n"
     ]
    }
   ],
   "source": [
    "from collections import OrderedDict\n",
    "\n",
    "# Function to remove all duplicates from string\n",
    "# and order does not matter\n",
    "def removeDupWithoutOrder(str):\n",
    "\n",
    "    # set() --> A Set is an unordered collection\n",
    "    # data type that is iterable, mutable,\n",
    "    # and has no duplicate elements.\n",
    "    # \"\".join() --> It joins two adjacent elements in\n",
    "    # iterable with any symbol defined in\n",
    "    # \"\" ( double quotes ) and returns a\n",
    "    # single string\n",
    "    return \"\".join(set(str))\n",
    "\n",
    "# Function to remove all duplicates from string\n",
    "# and keep the order of characters same\n",
    "def removeDupWithOrder(str):\n",
    "    return \"\".join(OrderedDict.fromkeys(str))\n",
    "\n",
    "# Driver program\n",
    "if __name__ == \"__main__\":\n",
    "    str = \"Learnbay\"\n",
    "    print (\"Without Order = \",removeDupWithoutOrder(str))\n",
    "    print (\"With Order = \",removeDupWithOrder(str))\n"
   ]
  },
  {
   "cell_type": "markdown",
   "id": "e3e759a7",
   "metadata": {},
   "source": [
    "### 3. Write a Python code for finding the Least Frequent Character in String\n",
    "\n",
    "Examples : \n",
    "\n",
    "The original string is : Learnbay\n",
    "\n",
    "The minimum of all characters in Learnbay is : L\n"
   ]
  },
  {
   "cell_type": "code",
   "execution_count": 29,
   "id": "b1c3ab95",
   "metadata": {
    "scrolled": true
   },
   "outputs": [
    {
     "name": "stdout",
     "output_type": "stream",
     "text": [
      "The original string is : good\n",
      "The minimum of all characters in Learnbay is : g\n"
     ]
    }
   ],
   "source": [
    "# Python 3 code to demonstrate\n",
    "# Least Frequent Character in String\n",
    "# naive method\n",
    "\n",
    "# initializing string\n",
    "test_str = \"good\"\n",
    "\n",
    "# printing original string\n",
    "print (\"The original string is : \" + test_str)\n",
    "\n",
    "# using naive method to get\n",
    "# Least Frequent Character in String\n",
    "all_freq = {}\n",
    "for i in test_str:\n",
    "    if i in all_freq:\n",
    "        all_freq[i] += 1\n",
    "    else:\n",
    "        all_freq[i] = 1\n",
    "res = min(all_freq, key = all_freq.get)\n",
    "\n",
    "# printing result\n",
    "print (\"The minimum of all characters in Learnbay is : \" + (res))\n"
   ]
  },
  {
   "cell_type": "markdown",
   "id": "b17793df",
   "metadata": {},
   "source": [
    "### 4. Python code for | Maximum frequency character in String\n",
    "\n",
    "Examples : \n",
    "\n",
    "The original string is : Learnbay\n",
    "\n",
    "The maximum of all characters in Learnbay is : a\n"
   ]
  },
  {
   "cell_type": "code",
   "execution_count": 5,
   "id": "5aed5b11",
   "metadata": {},
   "outputs": [
    {
     "name": "stdout",
     "output_type": "stream",
     "text": [
      "The original string is : Learnbay\n",
      "The maximum of all characters in Learnbay is : a\n"
     ]
    }
   ],
   "source": [
    "# Python 3 code to demonstrate\n",
    "# Maximum frequency character in String\n",
    "# naive method\n",
    "\n",
    "# initializing string\n",
    "test_str = \"Learnbay\"\n",
    "\n",
    "# printing original string\n",
    "print (\"The original string is : \" + test_str)\n",
    "\n",
    "# using naive method to get\n",
    "# Maximum frequency character in String\n",
    "all_freq = {}\n",
    "for i in test_str:\n",
    "    if i in all_freq:\n",
    "        all_freq[i] += 1\n",
    "    else:\n",
    "        all_freq[i] = 1\n",
    "res = max(all_freq, key = all_freq.get)\n",
    "\n",
    "# printing result\n",
    "print (\"The maximum of all characters in Learnbay is : \" + res)\n"
   ]
  },
  {
   "cell_type": "markdown",
   "id": "aa1c3afe",
   "metadata": {},
   "source": [
    "### 5. Python Program for – Odd Frequency Characters\n",
    "\n",
    "Example:\n",
    "\n",
    "Input : test_str = ‘Learnbay is best for Students’\n",
    "\n",
    "Output : ['L', 'e', 'y', 'i', 's', 't', 'f', 'o', 'S', 'u', 'd']\n",
    "\n"
   ]
  },
  {
   "cell_type": "code",
   "execution_count": 9,
   "id": "fc8735fa",
   "metadata": {},
   "outputs": [
    {
     "name": "stdout",
     "output_type": "stream",
     "text": [
      "The original string is : Learnbay is best for Students\n",
      "The Odd Frequency Characters are :  ['L', 'e', 'y', 'i', 's', 't', 'f', 'o', 'S', 'u', 'd']\n"
     ]
    }
   ],
   "source": [
    "# Python3 code to demonstrate working of\n",
    "# Odd Frequency Characters\n",
    "# Using list comprehension + defaultdict()\n",
    "from collections import defaultdict\n",
    "\n",
    "# helper_function\n",
    "def hlper_fnc(test_str):\n",
    "    cntr = defaultdict(int)\n",
    "    for ele in test_str:\n",
    "        cntr[ele] += 1\n",
    "    return [val for val, chr in cntr.items() if chr % 2 != 0]\n",
    "\n",
    "# initializing string\n",
    "test_str = 'Learnbay is best for Students'\n",
    "\n",
    "# printing original string\n",
    "print(\"The original string is : \" + test_str)\n",
    "\n",
    "# Odd Frequency Characters\n",
    "# Using list comprehension + defaultdict()\n",
    "res = hlper_fnc(test_str)\n",
    "\n",
    "# printing result\n",
    "print(\"The Odd Frequency Characters are : \" , res)\n"
   ]
  },
  {
   "cell_type": "markdown",
   "id": "e4aadcd6",
   "metadata": {},
   "source": [
    "### 6. Python Program for – Specific Characters Frequency in String List\n",
    "\n",
    "Examples : \n",
    "\n",
    "Input : test_list = ['Learnbay is best for Students']\n",
    "\n",
    "Output : {'e': 3, 'b': 2}\n",
    "\n",
    "Explanation : Frequency of certain characters extracted.\n",
    "\n"
   ]
  },
  {
   "cell_type": "code",
   "execution_count": 13,
   "id": "b546f3e9",
   "metadata": {},
   "outputs": [
    {
     "name": "stdout",
     "output_type": "stream",
     "text": [
      "The original list :  ['Learnbay is best for Students']\n",
      "Specific Characters Frequencies :  {'e': 3, 'b': 2}\n"
     ]
    }
   ],
   "source": [
    "# Python3 code to demonstrate working of\n",
    "# Specific Characters Frequency in String List\n",
    "# Using join() + Counter()\n",
    "from collections import Counter\n",
    "\n",
    "# initializing lists\n",
    "test_list = [\"Learnbay is best for Students\"]\n",
    "\n",
    "# printing original list\n",
    "print(\"The original list : \" , test_list)\n",
    "\n",
    "# char list\n",
    "chr_list = ['e', 'b', 'g']\n",
    "\n",
    "# dict comprehension to retrieve on certain Frequencies\n",
    "res = {key:val for key, val in dict(Counter(\"\".join(test_list))).items() if key in chr_list}\n",
    "    # printing result\n",
    "print(\"Specific Characters Frequencies : \" , res)\n"
   ]
  },
  {
   "cell_type": "markdown",
   "id": "accfe4f0",
   "metadata": {},
   "source": [
    "### 7. Python Program for | Frequency of numbers in String\n",
    "\n",
    "Examples : \n",
    "\n",
    "Input : test_list = Learnbay is No. 1 4 Students\n",
    "\n",
    "Output : Count of numerics in string : 2\n"
   ]
  },
  {
   "cell_type": "code",
   "execution_count": 16,
   "id": "0e158ada",
   "metadata": {},
   "outputs": [
    {
     "name": "stdout",
     "output_type": "stream",
     "text": [
      "The original string is : Learnbay is No. 1 4 Students\n",
      "Count of numerics in string :  2\n"
     ]
    }
   ],
   "source": [
    "# Python3 code to demonstrate working of\n",
    "# Frequency of numbers in String\n",
    "# Using re.findall() + len()\n",
    "import re\n",
    "\n",
    "# initializing string\n",
    "test_str = \"Learnbay is No. 1 4 Students\"\n",
    "\n",
    "# printing original string\n",
    "print(\"The original string is : \" + test_str)\n",
    "\n",
    "# Frequency of numbers in String\n",
    "# Using re.findall() + len()\n",
    "res = len(re.findall(r'\\d+', test_str))\n",
    "\n",
    "# printing result\n",
    "print(\"Count of numerics in string : \" , res)\n"
   ]
  },
  {
   "cell_type": "markdown",
   "id": "48078c4f",
   "metadata": {},
   "source": [
    "### 8. Python Program to check if a string contains any special character\n",
    "\n",
    "Examples :\n",
    "\n",
    "Input : 'Learnbay$Data$Science'\n",
    "\n",
    "Output : String is not accepted.\n"
   ]
  },
  {
   "cell_type": "code",
   "execution_count": 17,
   "id": "65b46011",
   "metadata": {},
   "outputs": [
    {
     "name": "stdout",
     "output_type": "stream",
     "text": [
      "String is not accepted.\n"
     ]
    }
   ],
   "source": [
    "# Python3 program to check if a string\n",
    "# contains any special character\n",
    "\n",
    "# import required package\n",
    "import re\n",
    "\n",
    "# Function checks if the string\n",
    "# contains any special character\n",
    "def run(string):\n",
    "\n",
    "    # Make own character set and pass\n",
    "    # this as argument in compile method\n",
    "    regex = re.compile('[@_!#$%^&*()<>?/\\|}{~:]')\n",
    "\n",
    "    # Pass the string in search\n",
    "    # method of regex object.\n",
    "    if(regex.search(string) == None):\n",
    "        print(\"String is accepted\")\n",
    "\n",
    "    else:\n",
    "        print(\"String is not accepted.\")\n",
    "\n",
    "        \n",
    "# Driver Code\n",
    "if __name__ == '__main__' :\n",
    "\n",
    "    # Enter the string\n",
    "    string = \"Learnbay$Data$Science\"\n",
    "\n",
    "    # calling run function\n",
    "    run(string)\n"
   ]
  },
  {
   "cell_type": "markdown",
   "id": "ac780652",
   "metadata": {},
   "source": [
    "### 9. Python Program for Generating random strings until a given string is generated\n",
    " \n",
    " Examples :\n",
    "\n",
    "Input : GFG\n",
    "\n",
    "Output :n4W\n",
    "        mK7\n",
    "        k1x\n",
    "        q;;, !g\n",
    "        .\n",
    "        .\n",
    "        .\n",
    "        .\n",
    "        .\n",
    "        GF,\n",
    "        GFf\n",
    "        GFp\n",
    "        GFG\n",
    "\n",
    "Target matched after 167 iterations\n"
   ]
  },
  {
   "cell_type": "code",
   "execution_count": 24,
   "id": "f02d307c",
   "metadata": {},
   "outputs": [
    {
     "name": "stdout",
     "output_type": "stream",
     "text": [
      "WqE\n",
      "ng1\n",
      "A!m\n",
      "T? \n",
      "nIn\n",
      "3vD\n",
      "7Pq\n",
      "HoY\n",
      "3Zc\n",
      "zdY\n",
      "SUP\n",
      "8 g\n",
      "qxM\n",
      "1.R\n",
      "AJE\n",
      "eJf\n",
      ":LK\n",
      "Ko.\n",
      "zO.\n",
      "1Od\n",
      "7iY\n",
      "RIW\n",
      "0oG\n",
      "GjG\n",
      "GoG\n",
      "GeG\n",
      "GQG\n",
      "GzG\n",
      "GWG\n",
      "GpG\n",
      "GsG\n",
      "G,G\n",
      "GRG\n",
      "GhG\n",
      "GtG\n",
      "GTG\n",
      "G0G\n",
      "GPG\n",
      "G:G\n",
      "GQG\n",
      "G3G\n",
      "G,G\n",
      "GuG\n",
      "GCG\n",
      "GyG\n",
      "G9G\n",
      "GZG\n",
      "GNG\n",
      "GrG\n",
      "GvG\n",
      "GSG\n",
      "GOG\n",
      "GdG\n",
      "GTG\n",
      "GaG\n",
      "G9G\n",
      "GgG\n",
      "GqG\n",
      "G7G\n",
      "GMG\n",
      "GgG\n",
      "GqG\n",
      "GIG\n",
      "GdG\n",
      "G;G\n",
      "GaG\n",
      "G6G\n",
      "G1G\n",
      "GdG\n",
      "GQG\n",
      "GEG\n",
      "GRG\n",
      "GYG\n",
      "GFG\n",
      "Target matched after  74  iterations\n"
     ]
    }
   ],
   "source": [
    "# Python program to generate and match\n",
    "# the string from all random strings\n",
    "# of same length\n",
    "\n",
    "# Importing string, random\n",
    "# and time modules\n",
    "import string\n",
    "import random\n",
    "import time\n",
    "\n",
    "# all possible characters including\n",
    "# lowercase, uppercase and special symbols\n",
    "possibleCharacters = string.ascii_lowercase + string.digits + string.ascii_uppercase + ' ., !?;:'\n",
    "\n",
    "# string to be generated\n",
    "t = \"GFG\"\n",
    "\n",
    "# To take input from user\n",
    "# t = input(str(\"Enter your target text: \"))\n",
    "\n",
    "attemptThis = ''.join(random.choice(possibleCharacters)\n",
    "                                for i in range(len(t)))\n",
    "attemptNext = ''\n",
    "\n",
    "completed = False\n",
    "iteration = 0\n",
    "\n",
    "# Iterate while completed is false\n",
    "while completed == False:\n",
    "    print(attemptThis)\n",
    "\n",
    "    attemptNext = ''\n",
    "    completed = True\n",
    "\n",
    "    # Fix the index if matches with\n",
    "    # the strings to be generated\n",
    "    for i in range(len(t)):\n",
    "        if attemptThis[i] != t[i]:\n",
    "            completed = False\n",
    "            attemptNext += random.choice(possibleCharacters)\n",
    "        else:\n",
    "            attemptNext += t[i]\n",
    "            \n",
    "    # increment the iteration\n",
    "    iteration += 1\n",
    "    attemptThis = attemptNext\n",
    "    time.sleep(0.1)\n",
    "\n",
    "# Driver Code\n",
    "print(\"Target matched after \" ,\n",
    "    iteration, \" iterations\")\n"
   ]
  },
  {
   "cell_type": "markdown",
   "id": "0bef9b5b",
   "metadata": {},
   "source": [
    "### 10. Python Program for Finding words which are greater than given length k\n",
    "\n",
    "Examples:  \n",
    "\n",
    "Input : str = \"Learnbay Data Science\" \n",
    "\n",
    "        k = 3\n",
    "        \n",
    "Output : ['Learnbay', 'Data', 'Science']\n",
    "\n",
    "Explanation : The output is list of all \n",
    "words that are of length more than k.\n"
   ]
  },
  {
   "cell_type": "code",
   "execution_count": 26,
   "id": "b5b168b0",
   "metadata": {},
   "outputs": [
    {
     "name": "stdout",
     "output_type": "stream",
     "text": [
      "['Learnbay', 'best', 'Data', 'Science']\n"
     ]
    }
   ],
   "source": [
    "# Python program to find all string\n",
    "# which are greater than given length k\n",
    "\n",
    "# function find string greater than length k\n",
    "def string_k(k, str):\n",
    "    \n",
    "    # create the empty string\n",
    "    string = []\n",
    "    \n",
    "    # split the string where space is comes\n",
    "    text = str.split(\" \")\n",
    "\n",
    "    # iterate the loop till every substring\n",
    "    for x in text:\n",
    "\n",
    "        # if length of current sub string\n",
    "        # is greater than k then\n",
    "        if len(x) > k:\n",
    "\n",
    "            # append this sub string in\n",
    "            # string list\n",
    "            string.append(x)\n",
    "\n",
    "    # return string list\n",
    "    return string\n",
    "\n",
    "\n",
    "# Driver Program\n",
    "k = 3\n",
    "str =\"Learnbay is best for Data Science\"\n",
    "print(string_k(k, str))\n"
   ]
  },
  {
   "cell_type": "code",
   "execution_count": null,
   "id": "70819044",
   "metadata": {},
   "outputs": [],
   "source": []
  }
 ],
 "metadata": {
  "kernelspec": {
   "display_name": "Python 3 (ipykernel)",
   "language": "python",
   "name": "python3"
  },
  "language_info": {
   "codemirror_mode": {
    "name": "ipython",
    "version": 3
   },
   "file_extension": ".py",
   "mimetype": "text/x-python",
   "name": "python",
   "nbconvert_exporter": "python",
   "pygments_lexer": "ipython3",
   "version": "3.9.7"
  }
 },
 "nbformat": 4,
 "nbformat_minor": 5
}
