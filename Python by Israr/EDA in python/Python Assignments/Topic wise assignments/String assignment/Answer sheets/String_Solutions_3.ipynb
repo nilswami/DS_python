{
 "cells": [
  {
   "cell_type": "markdown",
   "id": "6fb8da82",
   "metadata": {},
   "source": [
    "### 1. Write a Python program for removing i-th character from a string\n",
    "\n",
    "Example:\n",
    "\n",
    "Input : Learnbay\n",
    "\n",
    "        i = 5\n",
    "\n",
    "Output : Learnay  \n"
   ]
  },
  {
   "cell_type": "code",
   "execution_count": 1,
   "id": "dbae349f",
   "metadata": {},
   "outputs": [
    {
     "name": "stdout",
     "output_type": "stream",
     "text": [
      "Learnay\n"
     ]
    }
   ],
   "source": [
    "# Python3 program for removing i-th\n",
    "# indexed character from a string\n",
    "\n",
    "# Removes character at index i\n",
    "def remove(string, i):\n",
    "\n",
    "    # Characters before the i-th indexed\n",
    "    # is stored in a variable a\n",
    "    a = string[ : i]\n",
    "    \n",
    "    # Characters after the nth indexed\n",
    "    # is stored in a variable b\n",
    "    b = string[i + 1: ]\n",
    "    \n",
    "    # Returning string after removing\n",
    "    # nth indexed character.\n",
    "    return a + b\n",
    "    \n",
    "# Driver Code\n",
    "if __name__ == '__main__':\n",
    "    \n",
    "    string = \"Learnbay\"\n",
    "    \n",
    "    # Remove nth index element\n",
    "    i = 5\n",
    "    \n",
    "    # Print the new string\n",
    "    print(remove(string, i))\n"
   ]
  },
  {
   "cell_type": "markdown",
   "id": "e4ab4e4b",
   "metadata": {},
   "source": [
    "### 2. Write a Python program to split and join a string\n",
    "\n",
    "Example:\n",
    "\n",
    "Input :  Learnbay Data Science\n",
    "\n",
    "Output : ['Learnbay', 'Data', 'Science']\n",
    "\n",
    "           Learnbay-Data-Science\n"
   ]
  },
  {
   "cell_type": "code",
   "execution_count": 2,
   "id": "55c4cfae",
   "metadata": {
    "scrolled": true
   },
   "outputs": [
    {
     "name": "stdout",
     "output_type": "stream",
     "text": [
      "['Learnbay', 'Data', 'Science']\n",
      "Learnbay-Data-Science\n"
     ]
    }
   ],
   "source": [
    "# Python program to split a string and\n",
    "# join it using different delimiter\n",
    "\n",
    "def split_string(string):\n",
    "\n",
    "    # Split the string based on space delimiter\n",
    "    list_string = string.split(' ')\n",
    "    \n",
    "    return list_string\n",
    "\n",
    "def join_string(list_string):\n",
    "\n",
    "    # Join the string based on '-' delimiter\n",
    "    string = '-'.join(list_string)\n",
    "    \n",
    "    return string\n",
    "\n",
    "# Driver Function\n",
    "if __name__ == '__main__':\n",
    "    string = 'Learnbay Data Science'\n",
    "    \n",
    "    # Splitting a string\n",
    "    list_string = split_string(string)\n",
    "    print(list_string)\n",
    "\n",
    "    # Join list of strings into one\n",
    "    new_string = join_string(list_string)\n",
    "    print(new_string)\n"
   ]
  },
  {
   "cell_type": "markdown",
   "id": "1567cdfe",
   "metadata": {},
   "source": [
    "### 3. Write a Python Programming to Check if a given string is binary string or not\n",
    "\n",
    "Examples: \n",
    "\n",
    "Input: str = \"101010000111\"\n",
    "\n",
    "Output: Yes\n"
   ]
  },
  {
   "cell_type": "code",
   "execution_count": 3,
   "id": "de461df0",
   "metadata": {},
   "outputs": [
    {
     "name": "stdout",
     "output_type": "stream",
     "text": [
      "Yes\n"
     ]
    }
   ],
   "source": [
    "# Python program to check\n",
    "# if a string is binary or not\n",
    "\n",
    "# function for checking the\n",
    "# string is accepted or not\n",
    "def check(string) :\n",
    "\n",
    "    # set function convert string\n",
    "    # into set of characters .\n",
    "    p = set(string)\n",
    "\n",
    "    # declare set of '0', '1' .\n",
    "    s = {'0', '1'}\n",
    "\n",
    "    # check set p is same as set s\n",
    "    # or set p contains only '0'\n",
    "    # or set p contains only '1'\n",
    "    # or not, if any one condition\n",
    "    # is true then string is accepted\n",
    "    # otherwise not .\n",
    "    if s == p or p == {'0'} or p == {'1'}:\n",
    "        print(\"Yes\")\n",
    "    else :\n",
    "        print(\"No\")\n",
    "\n",
    "\n",
    "\n",
    "# driver code\n",
    "if __name__ == \"__main__\" :\n",
    "\n",
    "    string = \"101010000111\"\n",
    "\n",
    "    # function calling\n",
    "    check(string)\n"
   ]
  },
  {
   "cell_type": "markdown",
   "id": "fcdcaeed",
   "metadata": {},
   "source": [
    "### 4. Write a Python Programme to Find all close matches of input string from a list\n",
    "\n",
    "Examples:\n",
    "\n",
    "Input : patterns = ['ape', 'apple', \n",
    "\n",
    "                  'peach', 'puppy'], \n",
    "                  \n",
    "          input = 'appel'\n",
    "          \n",
    "Output : ['apple', 'ape']"
   ]
  },
  {
   "cell_type": "code",
   "execution_count": 4,
   "id": "bcd776d5",
   "metadata": {},
   "outputs": [
    {
     "name": "stdout",
     "output_type": "stream",
     "text": [
      "['apple', 'ape']\n"
     ]
    }
   ],
   "source": [
    "# Function to find all close matches of\n",
    "# input string in given list of possible strings\n",
    "from difflib import get_close_matches\n",
    "\n",
    "def closeMatches(patterns, word):\n",
    "    print(get_close_matches(word, patterns))\n",
    "\n",
    "# Driver program\n",
    "if __name__ == \"__main__\":\n",
    "    word = 'appel'\n",
    "    patterns = ['ape', 'apple', 'peach', 'puppy']\n",
    "    closeMatches(patterns, word)\n"
   ]
  },
  {
   "cell_type": "markdown",
   "id": "1ee2a759",
   "metadata": {},
   "source": [
    "### 5. Write a Python program to find uncommon words from two Strings\n",
    "\n",
    "Example:\n",
    "\n",
    "Input : A = \"Learnbay\" \n",
    "\n",
    "        B = \"Learning from Learnbay\"\n",
    "        \n",
    "Output : ['Learning', 'from']"
   ]
  },
  {
   "cell_type": "code",
   "execution_count": 5,
   "id": "538db472",
   "metadata": {},
   "outputs": [
    {
     "name": "stdout",
     "output_type": "stream",
     "text": [
      "['Learning', 'from']\n"
     ]
    }
   ],
   "source": [
    "# Python3 program to find a list of uncommon words\n",
    "\n",
    "# Function to return all uncommon words\n",
    "def UncommonWords(A, B):\n",
    "\n",
    "    # count will contain all the word counts\n",
    "    count = {}\n",
    "    \n",
    "    # insert words of string A to hash\n",
    "    for word in A.split():\n",
    "        count[word] = count.get(word, 0) + 1\n",
    "    \n",
    "    # insert words of string B to hash\n",
    "    for word in B.split():\n",
    "        count[word] = count.get(word, 0) + 1\n",
    "\n",
    "    # return required list of words\n",
    "    return [word for word in count if count[word] == 1]\n",
    "\n",
    "# Driver Code\n",
    "A = \"Learnbay\"\n",
    "B = \"Learning from Learnbay\"\n",
    "\n",
    "# Print required answer\n",
    "print(UncommonWords(A, B))\n"
   ]
  },
  {
   "cell_type": "markdown",
   "id": "cb0cf99b",
   "metadata": {},
   "source": [
    "### 6. Write a Python Programming to Swap commas and dots in a String\n",
    "\n",
    "Example: \n",
    "\n",
    "Input : 18, 525, 298.002\n",
    "\n",
    "Output : 18.525.298, 002 "
   ]
  },
  {
   "cell_type": "code",
   "execution_count": 6,
   "id": "10a08515",
   "metadata": {},
   "outputs": [
    {
     "name": "stdout",
     "output_type": "stream",
     "text": [
      "18.525.298, 002\n"
     ]
    }
   ],
   "source": [
    "# Python code to replace, with . and vice-versa\n",
    "def Replace(str1):\n",
    "    maketrans = str1.maketrans\n",
    "    final = str1.translate(maketrans(',.', '.,', ' '))\n",
    "    return final.replace(',', \", \")\n",
    "\n",
    "\n",
    "# Driving Code\n",
    "string = \"18, 525, 298.002\"\n",
    "print(Replace(string))\n"
   ]
  },
  {
   "cell_type": "markdown",
   "id": "c775b7b6",
   "metadata": {},
   "source": [
    "### 7. Write a Python programme for Permutation of a given string using inbuilt function\n",
    "\n",
    "Example:\n",
    "\n",
    "Input :  str = 'XYZ'\n",
    "\n",
    "Output : XYZ\n",
    "\n",
    "        XZY\n",
    "        \n",
    "        YXZ\n",
    "        \n",
    "        YZX\n",
    "        \n",
    "        ZXY\n",
    "        \n",
    "        ZYX"
   ]
  },
  {
   "cell_type": "code",
   "execution_count": 7,
   "id": "f035cf99",
   "metadata": {},
   "outputs": [
    {
     "name": "stdout",
     "output_type": "stream",
     "text": [
      "XYZ\n",
      "XZY\n",
      "YXZ\n",
      "YZX\n",
      "ZXY\n",
      "ZYX\n"
     ]
    }
   ],
   "source": [
    "# Function to find permutations of a given string\n",
    "from itertools import permutations\n",
    "\n",
    "def allPermutations(str):\n",
    "    \n",
    "    # Get all permutations of string 'ABC'\n",
    "    permList = permutations(str)\n",
    "\n",
    "    # print all permutations\n",
    "    for perm in list(permList):\n",
    "        print (''.join(perm))\n",
    "\n",
    "# Driver program\n",
    "if __name__ == \"__main__\":\n",
    "    str = 'XYZ'\n",
    "    allPermutations(str)\n"
   ]
  },
  {
   "cell_type": "markdown",
   "id": "81398bb6",
   "metadata": {},
   "source": [
    "### 8. Write a Python Programme to Check for URL in a String\n",
    "\n",
    "Input : string = 'My Profile: https://auth.Learnbay.org/user/Data%Science/articles in the portal of https://www.Learnbay.org/'\n",
    "\n",
    "Output : URLs :  Urls:  ['https://auth.Learnbay.org/user/Data%Science/articles', 'https://www.Learnbay.org/']"
   ]
  },
  {
   "cell_type": "code",
   "execution_count": 8,
   "id": "6186f56d",
   "metadata": {},
   "outputs": [
    {
     "name": "stdout",
     "output_type": "stream",
     "text": [
      "Urls:  ['https://auth.Learnbay.org/user/Data%Science/articles', 'https://www.Learnbay.org/']\n"
     ]
    }
   ],
   "source": [
    "# Python code to find the URL from an input string\n",
    "# Using the regular expression\n",
    "import re\n",
    "\n",
    "def Find(string):\n",
    "\n",
    "    # findall() has been used\n",
    "    # with valid conditions for urls in string\n",
    "    regex = r\"(?i)\\b((?:https?://|www\\d{0,3}[.]|[a-z0-9.\\-]+[.][a-z]{2,4}/)(?:[^\\s()<>]+|\\(([^\\s()<>]+|(\\([^\\s()<>]+\\)))*\\))+(?:\\(([^\\s()<>]+|(\\([^\\s()<>]+\\)))*\\)|[^\\s`!()\\[\\]{};:'\\\".,<>?«»“”‘’]))\"\n",
    "    url = re.findall(regex,string)\t\n",
    "    return [x[0] for x in url]\n",
    "    \n",
    "# Driver Code\n",
    "string = 'My Profile: https://auth.Learnbay.org/user/Data%Science/articles in the portal of https://www.Learnbay.org/'\n",
    "print(\"Urls: \", Find(string))\n"
   ]
  },
  {
   "cell_type": "markdown",
   "id": "e4583559",
   "metadata": {},
   "source": [
    "###  9. Write a Python Programme for Executing a String of Code in Python\n",
    "\n",
    "Example: \n",
    " \n",
    "\n",
    "Input:\n",
    "code = \"\"\" def factorial(num):\n",
    "               for i in range(1,num+1):\n",
    "                   fact = fact*i\n",
    "               return fact\n",
    "           print(factorial(5))\"\"\"\n",
    "           \n",
    "Output: 120\n",
    "\n",
    "Explanation:\n",
    "\n",
    "On executing the program containing the \n",
    "variable in Python we must get the result \n",
    "after executing the content of the variable."
   ]
  },
  {
   "cell_type": "code",
   "execution_count": 9,
   "id": "dc896ef4",
   "metadata": {},
   "outputs": [
    {
     "name": "stdout",
     "output_type": "stream",
     "text": [
      "120\n"
     ]
    }
   ],
   "source": [
    "# Python program to illustrate use of exec to\n",
    "# execute a given code as string.\n",
    "\n",
    "# function illustrating how exec() functions.\n",
    "def exec_code():\n",
    "    LOC = \"\"\"\n",
    "def factorial(num):\n",
    "    fact=1\n",
    "    for i in range(1,num+1):\n",
    "        fact = fact*i\n",
    "    return fact\n",
    "print(factorial(5))\n",
    "\"\"\"\n",
    "    exec(LOC)\n",
    "    \n",
    "# Driver Code\n",
    "exec_code()\n"
   ]
  },
  {
   "cell_type": "code",
   "execution_count": null,
   "id": "e98561ff",
   "metadata": {},
   "outputs": [],
   "source": []
  }
 ],
 "metadata": {
  "kernelspec": {
   "display_name": "Python 3 (ipykernel)",
   "language": "python",
   "name": "python3"
  },
  "language_info": {
   "codemirror_mode": {
    "name": "ipython",
    "version": 3
   },
   "file_extension": ".py",
   "mimetype": "text/x-python",
   "name": "python",
   "nbconvert_exporter": "python",
   "pygments_lexer": "ipython3",
   "version": "3.9.7"
  }
 },
 "nbformat": 4,
 "nbformat_minor": 5
}
