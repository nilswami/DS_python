{
 "cells": [
  {
   "cell_type": "markdown",
   "id": "d3557928",
   "metadata": {},
   "source": [
    "### 1. Create a Python Program to Find the size of a Set in Python.\n"
   ]
  },
  {
   "cell_type": "code",
   "execution_count": 2,
   "id": "32678b73",
   "metadata": {},
   "outputs": [
    {
     "name": "stdout",
     "output_type": "stream",
     "text": [
      "Size of Set1: 472bytes\n",
      "Size of Set2: 472bytes\n",
      "Size of Set3: 216bytes\n"
     ]
    }
   ],
   "source": [
    "import sys\n",
    "\n",
    "# sample Sets\n",
    "Set1 = {\"A\", 1, \"B\", 2, \"C\", 3}\n",
    "Set2 = {\"Student1\", \"Raju\", \"Student2\", \"Nikhil\", \"Student3\", \"Deepanshu\"}\n",
    "Set3 = {(1, \"Lion\"), ( 2, \"Tiger\"), (3, \"Fox\")}\n",
    "\n",
    "# print the sizes of sample Sets\n",
    "print(\"Size of Set1: \" + str(sys.getsizeof(Set1)) + \"bytes\")\n",
    "print(\"Size of Set2: \" + str(sys.getsizeof(Set2)) + \"bytes\")\n",
    "print(\"Size of Set3: \" + str(sys.getsizeof(Set3)) + \"bytes\")\n"
   ]
  },
  {
   "cell_type": "markdown",
   "id": "2de827ba",
   "metadata": {},
   "source": [
    "### 2. Write a code to Iterate over a set in Python.\n"
   ]
  },
  {
   "cell_type": "code",
   "execution_count": 4,
   "id": "2e63ab66",
   "metadata": {},
   "outputs": [
    {
     "name": "stdout",
     "output_type": "stream",
     "text": [
      "a\n",
      "e\n",
      "y\n",
      "L\n",
      "n\n",
      "b\n",
      "r\n"
     ]
    }
   ],
   "source": [
    "# Creating a set using string\n",
    "test_set = set(\"Learnbay\")\n",
    "\n",
    "# Iterating using for loop\n",
    "for val in test_set:\n",
    "\tprint(val)"
   ]
  },
  {
   "cell_type": "markdown",
   "id": "afb43079",
   "metadata": {},
   "source": [
    "### 3. Write a Python Program to find Maximum and Minimum in a Set.\n",
    "\n",
    "Example:\n",
    "\n",
    "Input : set = ([8, 16, 24, 1, 25, 3, 10, 65, 55])\n",
    "\n",
    "Output : max is 65"
   ]
  },
  {
   "cell_type": "code",
   "execution_count": null,
   "id": "81b8d23d",
   "metadata": {},
   "outputs": [],
   "source": [
    "# Python code to get the maximum element from a set\n",
    "def MAX(sets):\n",
    "    return (max(sets))\n",
    "\n",
    "# Driver Code\n",
    "sets = set([8, 16, 24, 1, 25, 3, 10, 65, 55])\n",
    "print(MAX(sets))"
   ]
  },
  {
   "cell_type": "markdown",
   "id": "4ab0f9b4",
   "metadata": {},
   "source": [
    "### 4. Write a Python Program to Remove items from Set.\n",
    "\n",
    "Examples:\n",
    "\n",
    "Input : set([12, 10, 13, 15, 8, 9])\n",
    "\n",
    "Output :\n",
    "{9, 10, 12, 13, 15}\n",
    "{10, 12, 13, 15}\n",
    "{12, 13, 15}\n",
    "{13, 15}\n",
    "{15}\n",
    "set()\n"
   ]
  },
  {
   "cell_type": "code",
   "execution_count": 6,
   "id": "fd670d38",
   "metadata": {},
   "outputs": [
    {
     "name": "stdout",
     "output_type": "stream",
     "text": [
      "{9, 10, 12, 13, 15}\n",
      "{10, 12, 13, 15}\n",
      "{12, 13, 15}\n",
      "{13, 15}\n",
      "{15}\n",
      "set()\n"
     ]
    }
   ],
   "source": [
    "# Python program to remove elements from set\n",
    "# Using the pop() method\n",
    "def Remove(initial_set):\n",
    "    while initial_set:\n",
    "        initial_set.pop()\n",
    "        print(initial_set)\n",
    "\n",
    "# Driver Code\n",
    "initial_set = set([12, 10, 13, 15, 8, 9])\n",
    "Remove(initial_set)"
   ]
  },
  {
   "cell_type": "markdown",
   "id": "44d3d6cf",
   "metadata": {},
   "source": [
    "### 5. Write a Python Program to Check if two lists have at-least one element common.\n",
    "\n",
    "Example:\n",
    "\n",
    "Input : a = [1, 2, 3, 4, 5]\n",
    "        b = [5, 6, 7, 8, 9]\n",
    "        \n",
    "Output : True\n",
    "         False"
   ]
  },
  {
   "cell_type": "code",
   "execution_count": 7,
   "id": "bcf6c6a9",
   "metadata": {},
   "outputs": [
    {
     "name": "stdout",
     "output_type": "stream",
     "text": [
      "True\n",
      "False\n"
     ]
    }
   ],
   "source": [
    "# Python program to check\n",
    "# if two lists have at-least\n",
    "# one element common\n",
    "# using traversal of list\n",
    "\n",
    "def common_data(list1, list2):\n",
    "    result = False\n",
    "\n",
    "    # traverse in the 1st list\n",
    "    for x in list1:\n",
    "\n",
    "        # traverse in the 2nd list\n",
    "        for y in list2:\n",
    "    \n",
    "            # if one common\n",
    "            if x == y:\n",
    "                result = True\n",
    "                return result\n",
    "\n",
    "    return result\n",
    "\n",
    "# driver code\n",
    "a = [1, 2, 3, 4, 5]\n",
    "b = [5, 6, 7, 8, 9]\n",
    "print(common_data(a, b))\n",
    "\n",
    "a = [1, 2, 3, 4, 5]\n",
    "b = [6, 7, 8, 9]\n",
    "print(common_data(a, b))"
   ]
  },
  {
   "cell_type": "markdown",
   "id": "2335db90",
   "metadata": {},
   "source": [
    "### 6. Write a Python program to find common elements in three lists using sets.\n",
    "\n",
    "Example :\n",
    "\n",
    "Input : ar1 = [1, 5, 10, 20, 40, 80]\n",
    "        ar2 = [6, 7, 20, 80, 100]\n",
    "        ar3 = [3, 4, 15, 20, 30, 70, 80, 120]\n",
    "\n",
    "Output : [80, 20]"
   ]
  },
  {
   "cell_type": "code",
   "execution_count": 8,
   "id": "f9446a23",
   "metadata": {},
   "outputs": [
    {
     "name": "stdout",
     "output_type": "stream",
     "text": [
      "[80, 20]\n"
     ]
    }
   ],
   "source": [
    "# Python3 program to find common elements\n",
    "# in three lists using sets\n",
    "\n",
    "def IntersecOfSets(arr1, arr2, arr3):\n",
    "    # Converting the arrays into sets\n",
    "    s1 = set(arr1)\n",
    "    s2 = set(arr2)\n",
    "    s3 = set(arr3)\n",
    "    \n",
    "    # Calculates intersection of\n",
    "    # sets on s1 and s2\n",
    "    set1 = s1.intersection(s2)\t\t #[80, 20, 100]\n",
    "    \n",
    "    # Calculates intersection of sets\n",
    "    # on set1 and s3\n",
    "    result_set = set1.intersection(s3)\n",
    "    \n",
    "    # Converts resulting set to list\n",
    "    final_list = list(result_set)\n",
    "    print(final_list)\n",
    "\n",
    "# Driver Code\n",
    "if __name__ == '__main__' :\n",
    "    \n",
    "    # Elements in Array1\n",
    "    arr1 = [1, 5, 10, 20, 40, 80, 100]\n",
    "    \n",
    "    # Elements in Array2\n",
    "    arr2 = [6, 7, 20, 80, 100]\n",
    "    \n",
    "    # Elements in Array3\n",
    "    arr3 = [3, 4, 15, 20, 30, 70, 80, 120]\n",
    "    \n",
    "    # Calling Function\n",
    "    IntersecOfSets(arr1, arr2, arr3)"
   ]
  },
  {
   "cell_type": "markdown",
   "id": "9001b5bc",
   "metadata": {},
   "source": [
    "### 7. Write a Python code to Find missing and additional values in two lists.\n",
    "\n",
    "Examples:\n",
    "\n",
    "Input : list1 = [1, 2, 3, 4, 5, 6] \n",
    "        list2 = [4, 5, 6, 7, 8] \n",
    "        \n",
    "Output : Missing values in second list: {1, 2, 3}\n",
    "         Additional values in second list: {7, 8}\n",
    "         Missing values in first list: {7, 8}\n",
    "         Additional values in first list: {1, 2, 3}"
   ]
  },
  {
   "cell_type": "code",
   "execution_count": 9,
   "id": "8d9f79dc",
   "metadata": {},
   "outputs": [
    {
     "name": "stdout",
     "output_type": "stream",
     "text": [
      "Missing values in second list: {1, 2, 3}\n",
      "Additional values in second list: {7, 8}\n",
      "Missing values in first list: {7, 8}\n",
      "Additional values in first list: {1, 2, 3}\n"
     ]
    }
   ],
   "source": [
    "# Python program to find the missing\n",
    "# and additional elements\n",
    "\n",
    "# examples of lists\n",
    "list1 = [1, 2, 3, 4, 5, 6]\n",
    "list2 = [4, 5, 6, 7, 8]\n",
    "\n",
    "# prints the missing and additional elements in list2\n",
    "print(\"Missing values in second list:\", (set(list1).difference(list2)))\n",
    "print(\"Additional values in second list:\", (set(list2).difference(list1)))\n",
    "\n",
    "# prints the missing and additional elements in list1\n",
    "print(\"Missing values in first list:\", (set(list2).difference(list1)))\n",
    "print(\"Additional values in first list:\", (set(list1).difference(list2)))"
   ]
  },
  {
   "cell_type": "markdown",
   "id": "fa9a3e95",
   "metadata": {},
   "source": [
    "### 8. Write a  Python Program to find Difference between two lists.\n",
    "\n",
    "Examples:  \n",
    "\n",
    "Input : list1 = [10, 15, 20, 25, 30, 35, 40] \n",
    "        list2 = [25, 40, 35] \n",
    "\n",
    "Output : [10, 20, 30, 15]\n",
    "\n",
    "Explanation : resultant list = list1 - list2"
   ]
  },
  {
   "cell_type": "code",
   "execution_count": 10,
   "id": "da9e4ae9",
   "metadata": {},
   "outputs": [
    {
     "name": "stdout",
     "output_type": "stream",
     "text": [
      "[10, 20, 30, 15]\n"
     ]
    }
   ],
   "source": [
    "# Python code t get difference of two lists\n",
    "# Using set()\n",
    "def Diff(li1, li2):\n",
    "    return list(set(li1) - set(li2)) + list(set(li2) - set(li1))\n",
    "\n",
    "# Driver Code\n",
    "li1 = [10, 15, 20, 25, 30, 35, 40]\n",
    "li2 = [25, 40, 35]\n",
    "print(Diff(li1, li2))"
   ]
  },
  {
   "cell_type": "markdown",
   "id": "8655f294",
   "metadata": {},
   "source": [
    "### 9. Write a Python Program to Set difference for finding lost element from a duplicated array.\n",
    "\n",
    "Example:\n",
    "\n",
    "Input:  A = [1, 4, 5, 7, 9]\n",
    "        B = [4, 5, 7, 9]\n",
    "        \n",
    "Output: [1]\n",
    "\n",
    "1 is missing from second array"
   ]
  },
  {
   "cell_type": "code",
   "execution_count": 13,
   "id": "8f187ce5",
   "metadata": {},
   "outputs": [
    {
     "name": "stdout",
     "output_type": "stream",
     "text": [
      "[1]\n"
     ]
    }
   ],
   "source": [
    "# Function to find lost element from a duplicate\n",
    "# array\n",
    "\n",
    "def lostElement(A,B):\n",
    "\n",
    "    # convert lists into set\n",
    "    A = set(A)\n",
    "    B = set(B)\n",
    "\n",
    "    # take difference of greater set with smaller\n",
    "    if len(A) > len(B):\n",
    "        print (list(A-B))\n",
    "    else:\n",
    "        print (list(B-A))\n",
    "\n",
    "# Driver program\n",
    "if __name__ == \"__main__\":\n",
    "    A = [1, 4, 5, 7, 9]\n",
    "    B = [4, 5, 7, 9]\n",
    "    lostElement(A,B)"
   ]
  },
  {
   "cell_type": "markdown",
   "id": "c1c4b4c3",
   "metadata": {},
   "source": [
    "### 10. Write a Python program to count number of vowels using sets in given string.\n",
    "\n",
    "Example:\n",
    "\n",
    "Input : Learnbay\n",
    "\n",
    "Output : No. of vowels : 3"
   ]
  },
  {
   "cell_type": "code",
   "execution_count": 15,
   "id": "7503f2c6",
   "metadata": {},
   "outputs": [
    {
     "name": "stdout",
     "output_type": "stream",
     "text": [
      "No. of vowels : 3\n"
     ]
    }
   ],
   "source": [
    "# Python3 code to count vowel in\n",
    "# a string using set\n",
    "\n",
    "# Function to count vowel\n",
    "def vowel_count(str):\n",
    "\n",
    "    # Initializing count variable to 0\n",
    "    count = 0\n",
    "    \n",
    "    # Creating a set of vowels\n",
    "    vowel = set(\"aeiouAEIOU\")\n",
    "    \n",
    "    # Loop to traverse the alphabet\n",
    "    # in the given string\n",
    "    for alphabet in str:\n",
    "    \n",
    "        # If alphabet is present\n",
    "        # in set vowel\n",
    "        if alphabet in vowel:\n",
    "            count = count + 1\n",
    "\n",
    "    print(\"No. of vowels :\", count)\n",
    "\n",
    "# Driver code\n",
    "str = \"Learnbay\"\n",
    "\n",
    "# Function Call\n",
    "vowel_count(str)"
   ]
  },
  {
   "cell_type": "code",
   "execution_count": null,
   "id": "6dccf4bb",
   "metadata": {},
   "outputs": [],
   "source": []
  }
 ],
 "metadata": {
  "kernelspec": {
   "display_name": "Python 3 (ipykernel)",
   "language": "python",
   "name": "python3"
  },
  "language_info": {
   "codemirror_mode": {
    "name": "ipython",
    "version": 3
   },
   "file_extension": ".py",
   "mimetype": "text/x-python",
   "name": "python",
   "nbconvert_exporter": "python",
   "pygments_lexer": "ipython3",
   "version": "3.9.7"
  }
 },
 "nbformat": 4,
 "nbformat_minor": 5
}
