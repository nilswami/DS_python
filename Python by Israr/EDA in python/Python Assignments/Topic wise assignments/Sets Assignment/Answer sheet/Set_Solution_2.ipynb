{
 "cells": [
  {
   "cell_type": "markdown",
   "id": "1afa6d4e",
   "metadata": {},
   "source": [
    "### 1. Write a Python Program to Concatenate string with uncommon characters.\n",
    "\n",
    "Example:\n",
    "\n",
    "Input : S1 = \"aacdb\"\n",
    "        S2 = \"gafd\"\n",
    "        \n",
    "Output : \"cbgf\""
   ]
  },
  {
   "cell_type": "code",
   "execution_count": 2,
   "id": "22bfbb64",
   "metadata": {},
   "outputs": [
    {
     "name": "stdout",
     "output_type": "stream",
     "text": [
      "cbgf\n"
     ]
    }
   ],
   "source": [
    "# Function to concatenated string with uncommon\n",
    "# characters of two strings\n",
    "\n",
    "def uncommonConcat(str1, str2):\n",
    "\n",
    "    # convert both strings into set\n",
    "    set1 = set(str1)\n",
    "    set2 = set(str2)\n",
    "\n",
    "    # take intersection of two sets to get list of\n",
    "    # common characters\n",
    "    common = list(set1 & set2)\n",
    "\n",
    "    # separate out characters in each string\n",
    "    # which are not common in both strings\n",
    "    result = [ch for ch in str1 if ch not in common] + [ch for ch in str2 if ch not in common]\n",
    "\n",
    "    # join each character without space to get\n",
    "    # final string\n",
    "    print( ''.join(result) )\n",
    "\n",
    "# Driver program\n",
    "if __name__ == \"__main__\":\n",
    "    str1 = 'aacdb'\n",
    "    str2 = 'gafd'\n",
    "    uncommonConcat(str1,str2)"
   ]
  },
  {
   "cell_type": "markdown",
   "id": "5d84cc52",
   "metadata": {},
   "source": [
    "### 2. Write a Python Program to accept the strings which contains all vowels.\n",
    "\n",
    "Example : \n",
    "\n",
    "Input : Learnbay\n",
    "\n",
    "Output : Accepted"
   ]
  },
  {
   "cell_type": "code",
   "execution_count": 4,
   "id": "b3a1165b",
   "metadata": {},
   "outputs": [
    {
     "name": "stdout",
     "output_type": "stream",
     "text": [
      "Accepted\n"
     ]
    }
   ],
   "source": [
    "# Python program to accept the strings\n",
    "# which contains all the vowels\n",
    "\n",
    "# Function for check if string\n",
    "# is accepted or not\n",
    "def check(string) :\n",
    "\n",
    "    string = string.lower()\n",
    "\n",
    "    # set() function convert \"aeiou\"\n",
    "    # string into set of characters\n",
    "    # i.e.vowels = {'a', 'e', 'i', 'o', 'u'}\n",
    "    vowels = set(\"aeiou\")\n",
    "\n",
    "    # set() function convert empty\n",
    "    # dictionary into empty set\n",
    "    s = set({})\n",
    "\n",
    "    # looping through each\n",
    "    # character of the string\n",
    "    for char in string :\n",
    "\n",
    "        # Check for the character is present inside\n",
    "        # the vowels set or not. If present, then\n",
    "        # add into the set s by using add method\n",
    "        if char in vowels :\n",
    "            s.add(char)\n",
    "        else:\n",
    "            pass\n",
    "\n",
    "    # check the length of set s equal to length\n",
    "    # of vowels set or not. If equal, string is\n",
    "    # accepted otherwise not\n",
    "    if len(s) == len(vowels) :\n",
    "        print(\"Accepted\")\n",
    "    else :\n",
    "        print(\"Not Accepted\")\n",
    "\n",
    "\n",
    "# Driver code\n",
    "if __name__ == \"__main__\" :\n",
    "\n",
    "    string = \"SEEquoiaL\"\n",
    "\n",
    "    # calling function\n",
    "    check(string)"
   ]
  },
  {
   "cell_type": "markdown",
   "id": "d6462a38",
   "metadata": {},
   "source": [
    "### 3. Write a Python code to Check if a given string is binary string or not.\n",
    "\n",
    "Example: \n",
    "\n",
    "Input: str = \"01010101010\"\n",
    "\n",
    "Output: Yes"
   ]
  },
  {
   "cell_type": "code",
   "execution_count": 6,
   "id": "a2b1460d",
   "metadata": {},
   "outputs": [
    {
     "name": "stdout",
     "output_type": "stream",
     "text": [
      "Yes\n"
     ]
    }
   ],
   "source": [
    "# Python program to check\n",
    "# if a string is binary or not\n",
    "\n",
    "# function for checking the\n",
    "# string is accepted or not\n",
    "def check(string) :\n",
    "\n",
    "    # set function convert string\n",
    "    # into set of characters .\n",
    "    p = set(string)\n",
    "\n",
    "    # declare set of '0', '1' .\n",
    "    s = {'0', '1'}\n",
    "\n",
    "    # check set p is same as set s\n",
    "    # or set p contains only '0'\n",
    "    # or set p contains only '1'\n",
    "    # or not, if any one condition\n",
    "    # is true then string is accepted\n",
    "    # otherwise not .\n",
    "    if s == p or p == {'0'} or p == {'1'}:\n",
    "        print(\"Yes\")\n",
    "    else :\n",
    "        print(\"No\")\n",
    "\n",
    "\n",
    "\n",
    "# driver code\n",
    "if __name__ == \"__main__\" :\n",
    "\n",
    "    string = \"101010000111\"\n",
    "\n",
    "    # function calling\n",
    "    check(string)"
   ]
  },
  {
   "cell_type": "markdown",
   "id": "bb9188b5",
   "metadata": {},
   "source": [
    "### 4. In Python Create a set to check if string is panagram.\n",
    "\n",
    "Example: \n",
    "\n",
    "Input : The quick brown fox jumps over the lazy dog\n",
    "\n",
    "Output : The string is a pangram"
   ]
  },
  {
   "cell_type": "code",
   "execution_count": 8,
   "id": "32bd70a4",
   "metadata": {},
   "outputs": [
    {
     "name": "stdout",
     "output_type": "stream",
     "text": [
      "The string is a pangram\n"
     ]
    }
   ],
   "source": [
    "# import from string all ascii_lowercase and asc_lower\n",
    "from string import ascii_lowercase as asc_lower\n",
    "\n",
    "# function to check if all elements are present or not\n",
    "def check(s):\n",
    "    return set(asc_lower) - set(s.lower()) == set([])\n",
    "\n",
    "# driver code\n",
    "string =\"The quick brown fox jumps over the lazy dog\"\n",
    "if(check(string)== True):\n",
    "    print(\"The string is a pangram\")\n",
    "else:\n",
    "        print(\"The string isn't a pangram\")"
   ]
  },
  {
   "cell_type": "markdown",
   "id": "06d3abe3",
   "metadata": {},
   "source": [
    "### 5. Create a Set in Python to find the Pairs of complete strings in two sets.\n",
    "\n",
    "Example:\n",
    "\n",
    "Input : set1[] = {\"abcdefgh\", \"Learnbay\",\n",
    "                 \"lmnopqrst\", \"abc\"}\n",
    "        set2[] = {\"ijklmnopqrstuvwxyz\", \n",
    "                 \"abcdefghijklmnopqrstuvwxyz\", \n",
    "                 \"defghijklmnopqrstuvwxyz\"} \n",
    "                 \n",
    "Output : 7\n",
    "The total complete pairs that are forming are:\n",
    "\"abcdefghijklmnopqrstuvwxyz\"\n",
    "\"abcdefghabcdefghijklmnopqrstuvwxyz\"\n",
    "\"abcdefghdefghijklmnopqrstuvwxyz\"\n",
    "\"geeksforgeeksabcdefghijklmnopqrstuvwxyz\"\n",
    "\"lmnopqrstabcdefghijklmnopqrstuvwxyz\"\n",
    "\"abcabcdefghijklmnopqrstuvwxyz\"\n",
    "\"abcdefghijklmnopqrstuvwxyz\""
   ]
  },
  {
   "cell_type": "code",
   "execution_count": 11,
   "id": "347278be",
   "metadata": {},
   "outputs": [
    {
     "name": "stdout",
     "output_type": "stream",
     "text": [
      "7\n"
     ]
    }
   ],
   "source": [
    "# Function to find pairs of complete strings\n",
    "# in two sets of strings\n",
    "\n",
    "def completePair(set1,set2):\n",
    "    \n",
    "    # consider all pairs of string from\n",
    "    # set1 and set2\n",
    "    count = 0\n",
    "    for str1 in set1:\n",
    "        for str2 in set2:\n",
    "            result = str1 + str2\n",
    "\n",
    "            # push all alphabets of concatenated\n",
    "            # string into temporary set\n",
    "            tmpSet = set([ch for ch in result if (ord(ch)>=ord('a') and ord(ch)<=ord('z'))])\n",
    "            if len(tmpSet)==26:\n",
    "                count = count + 1\n",
    "    print (count)\n",
    "\n",
    "# Driver program\n",
    "if __name__ == \"__main__\":\n",
    "    set1 = ['abcdefgh', 'Learnbay','lmnopqrst', 'abc']\n",
    "    set2 = ['ijklmnopqrstuvwxyz', 'abcdefghijklmnopqrstuvwxyz','defghijklmnopqrstuvwxyz']\n",
    "    completePair(set1,set2)"
   ]
  },
  {
   "cell_type": "markdown",
   "id": "8a875d5b",
   "metadata": {},
   "source": [
    "### 6. Create a Set in Python to Check whether a given string is Heterogram or not.\n",
    "\n",
    "Example:\n",
    "\n",
    "Input : S = \"the big dwarf only jumps\"\n",
    "\n",
    "Output : Yes\n",
    "\n",
    "Each alphabet in the string S is occurred\n",
    "only once."
   ]
  },
  {
   "cell_type": "code",
   "execution_count": 13,
   "id": "ed3a8082",
   "metadata": {},
   "outputs": [
    {
     "name": "stdout",
     "output_type": "stream",
     "text": [
      "Yes\n"
     ]
    }
   ],
   "source": [
    "# Function to Check whether a given string is Heterogram or not\n",
    "\n",
    "def heterogram(input):\n",
    "\n",
    "    # separate out list of alphabets using list comprehension\n",
    "    # ord function returns ascii value of character\n",
    "    alphabets = [ ch for ch in input if ( ord(ch) >= ord('a') and ord(ch) <= ord('z') )]\n",
    "\n",
    "    # convert list of alphabets into set and\n",
    "    # compare lengths\n",
    "    if len(set(alphabets))==len(alphabets):\n",
    "        print ('Yes')\n",
    "    else:\n",
    "        print ('No')\n",
    "\n",
    "# Driver program\n",
    "if __name__ == \"__main__\":\n",
    "    input = 'the big dwarf only jumps'\n",
    "    heterogram(input)"
   ]
  },
  {
   "cell_type": "code",
   "execution_count": null,
   "id": "461bd4c4",
   "metadata": {},
   "outputs": [],
   "source": []
  }
 ],
 "metadata": {
  "kernelspec": {
   "display_name": "Python 3 (ipykernel)",
   "language": "python",
   "name": "python3"
  },
  "language_info": {
   "codemirror_mode": {
    "name": "ipython",
    "version": 3
   },
   "file_extension": ".py",
   "mimetype": "text/x-python",
   "name": "python",
   "nbconvert_exporter": "python",
   "pygments_lexer": "ipython3",
   "version": "3.9.7"
  }
 },
 "nbformat": 4,
 "nbformat_minor": 5
}
