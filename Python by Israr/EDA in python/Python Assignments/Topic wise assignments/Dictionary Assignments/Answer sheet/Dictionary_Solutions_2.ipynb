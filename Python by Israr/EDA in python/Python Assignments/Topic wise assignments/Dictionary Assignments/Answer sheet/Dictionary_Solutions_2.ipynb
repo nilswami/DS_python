{
 "cells": [
  {
   "cell_type": "markdown",
   "id": "3b989f4d",
   "metadata": {},
   "source": [
    "### 1. Write a Python code for Checking the order of character in string by using OrderedDict( )\n",
    "\n",
    "Examples:\n",
    "\n",
    "Input: string = \"engineers rock\"\n",
    "       pattern = \"er\";\n",
    " \n",
    "Output: true\n",
    "\n",
    "Explanation: \n",
    "\n",
    "All 'e' in the input string are before all 'r'.\n"
   ]
  },
  {
   "cell_type": "code",
   "execution_count": 2,
   "id": "a2c39abf",
   "metadata": {},
   "outputs": [
    {
     "name": "stdout",
     "output_type": "stream",
     "text": [
      "true\n"
     ]
    }
   ],
   "source": [
    "# Function to check if string follows order of\n",
    "# characters defined by a pattern\n",
    "from collections import OrderedDict\n",
    "\n",
    "def checkOrder(input, pattern):\n",
    "\n",
    "    # create empty OrderedDict\n",
    "    # output will be like {'a': None,'b': None, 'c': None}\n",
    "    dict = OrderedDict.fromkeys(input)\n",
    "\n",
    "    # traverse generated OrderedDict parallel with\n",
    "    # pattern string to check if order of characters\n",
    "    # are same or not\n",
    "    ptrlen = 0\n",
    "    for key,value in dict.items():\n",
    "        if (key == pattern[ptrlen]):\n",
    "            ptrlen = ptrlen + 1\n",
    "\n",
    "        # check if we have traverse complete\n",
    "        # pattern string\n",
    "        if (ptrlen == (len(pattern))):\n",
    "            return 'true'\n",
    "\n",
    "    # if we come out from for loop that means\n",
    "    # order was mismatched\n",
    "    return 'false'\n",
    "\n",
    "# Driver program\n",
    "if __name__ == \"__main__\":\n",
    "    input = 'engineers rock'\n",
    "    pattern = 'egr'\n",
    "    print (checkOrder(input,pattern))\n"
   ]
  },
  {
   "cell_type": "markdown",
   "id": "f3065e2f",
   "metadata": {},
   "source": [
    "### 2. Write a Python Programme for finding common elements in three sorted arrays by dictionary intersection\n",
    "\n",
    "Examples:\n",
    "\n",
    "Input:  ar1 = [1, 5, 10, 20, 40, 80]\n",
    "\n",
    "        ar2 = [6, 7, 20, 80, 100]\n",
    "        \n",
    "        ar3 = [3, 4, 15, 20, 30, 70, 80, 120]\n",
    "        \n",
    "Output: [20, 80]"
   ]
  },
  {
   "cell_type": "code",
   "execution_count": 4,
   "id": "a9dbe2ff",
   "metadata": {},
   "outputs": [
    {
     "name": "stdout",
     "output_type": "stream",
     "text": [
      "[20, 80]\n"
     ]
    }
   ],
   "source": [
    "# Function to find common elements in three\n",
    "# sorted arrays\n",
    "from collections import Counter\n",
    "\n",
    "def commonElement(ar1,ar2,ar3):\n",
    "    # first convert lists into dictionary\n",
    "    ar1 = Counter(ar1)\n",
    "    ar2 = Counter(ar2)\n",
    "    ar3 = Counter(ar3)\n",
    "\n",
    "    # perform intersection operation\n",
    "    resultDict = dict(ar1.items() & ar2.items() & ar3.items())\n",
    "    common = []\n",
    "    \n",
    "    # iterate through resultant dictionary\n",
    "    # and collect common elements\n",
    "    for (key,val) in resultDict.items():\n",
    "        for i in range(0,val):\n",
    "            common.append(key)\n",
    "\n",
    "    print(common)\n",
    "\n",
    "# Driver program\n",
    "if __name__ == \"__main__\":\n",
    "    ar1 = [1, 5, 10, 20, 40, 80]\n",
    "    ar2 = [6, 7, 20, 80, 100]\n",
    "    ar3 = [3, 4, 15, 20, 30, 70, 80, 120]\n",
    "    commonElement(ar1,ar2,ar3)\n"
   ]
  },
  {
   "cell_type": "markdown",
   "id": "200b5888",
   "metadata": {},
   "source": [
    "### 3. Write a Python Programme that will Dictionary and counter to find winner of election\n",
    "\n",
    "Example:\n",
    "\n",
    "Here input is the names of candidates in an election. We need to print the names of candidates in an election and if there is a tie then we need to print lexicographically smaller name.\n",
    "\n",
    "\n",
    "Input :  votes[] = {\"john\", \"johnny\", \"jackie\", \n",
    "                    \"johnny\", \"john\", \"jackie\", \n",
    "                    \"jamie\", \"jamie\", \"john\",\n",
    "                    \"johnny\", \"jamie\", \"johnny\", \n",
    "                    \"john\"};\n",
    "Output : John \n",
    "\n",
    "Explanation : \n",
    "\n",
    "We have four Candidates with name as 'John', \n",
    "'Johnny', 'jamie', 'jackie'. The candidates\n",
    "John and Johny get maximum votes. Since John\n",
    "is alphabetically smaller, we print it.\n"
   ]
  },
  {
   "cell_type": "code",
   "execution_count": 6,
   "id": "4d9db90c",
   "metadata": {},
   "outputs": [
    {
     "name": "stdout",
     "output_type": "stream",
     "text": [
      "john\n"
     ]
    }
   ],
   "source": [
    "# Function to find winner of an election where votes\n",
    "# are represented as candidate names\n",
    "from collections import Counter\n",
    "\n",
    "def winner(input):\n",
    "\n",
    "    # convert list of candidates into dictionary\n",
    "    # output will be likes candidates = {'A':2, 'B':4}\n",
    "    votes = Counter(input)\n",
    "\n",
    "    # create another dictionary and it's key will\n",
    "    # be count of votes values will be name of\n",
    "    # candidates\n",
    "    dict = {}\n",
    "\n",
    "    for value in votes.values():\n",
    "\n",
    "        # initialize empty list to each key to\n",
    "        # insert candidate names having same\n",
    "        # number of votes\n",
    "        dict[value] = []\n",
    "\n",
    "    for (key,value) in votes.items():\n",
    "        dict[value].append(key)\n",
    "\n",
    "    # sort keys in descending order to get maximum\n",
    "    # value of votes\n",
    "    maxVote = sorted(dict.keys(),reverse=True)[0]\n",
    "\n",
    "    # check if more than 1 candidates have same\n",
    "    # number of votes. If yes, then sort the list\n",
    "    # first and print first element\n",
    "    if len(dict[maxVote])>1:\n",
    "        print (sorted(dict[maxVote])[0])\n",
    "    else:\n",
    "        print (dict[maxVote][0])\n",
    "\n",
    "# Driver program\n",
    "if __name__ == \"__main__\":\n",
    "    input =['john','johnny','jackie','johnny',\n",
    "            'john','jackie','jamie','jamie',\n",
    "            'john','johnny','jamie','johnny',\n",
    "            'john']\n",
    "    winner(input)\n"
   ]
  },
  {
   "cell_type": "markdown",
   "id": "e455be2b",
   "metadata": {},
   "source": [
    "### 4. Write a Python code for extracting the Key with maximum unique values\n",
    "\n",
    "Example:\n",
    "\n",
    "Input : test_dict = {“Abc” : [5, 7, 9, 4, 0], “is” : [6, 7, 4, 3, 3], “Best” : [9, 9, 6, 5, 5]}\n",
    "\n",
    "Output : “Abc”\n",
    "\n",
    "Explanation : “Abc” having max unique elements i.e 5."
   ]
  },
  {
   "cell_type": "code",
   "execution_count": 10,
   "id": "7a6595c5",
   "metadata": {},
   "outputs": [
    {
     "name": "stdout",
     "output_type": "stream",
     "text": [
      "The original dictionary is : {'Abc': [5, 7, 5, 4, 5], 'is': [6, 7, 4, 3, 3], 'Best': [9, 9, 6, 5, 5]}\n",
      "Key with maximum unique values : is\n"
     ]
    }
   ],
   "source": [
    "# Python3 code to demonstrate working of\n",
    "# Key with maximum unique values\n",
    "# Using loop\n",
    "\n",
    "# initializing dictionary\n",
    "test_dict = {\"Abc\" : [5, 7, 5, 4, 5],\n",
    "            \"is\" : [6, 7, 4, 3, 3],\n",
    "            \"Best\" : [9, 9, 6, 5, 5]}\n",
    "\n",
    "# printing original dictionary\n",
    "print(\"The original dictionary is : \" + str(test_dict))\n",
    "\n",
    "max_val = 0\n",
    "max_key = None\n",
    "for sub in test_dict:\n",
    "\n",
    "    # test for length using len()\n",
    "    # converted to set for duplicates removal\n",
    "    if len(set(test_dict[sub])) > max_val:\n",
    "        max_val = len(set(test_dict[sub]))\n",
    "        max_key = sub\n",
    "\n",
    "# printing result\n",
    "print(\"Key with maximum unique values : \" + str(max_key))"
   ]
  },
  {
   "cell_type": "markdown",
   "id": "74b12a24",
   "metadata": {},
   "source": [
    "### 5. Write a Python code for Grouping Similar items to Dictionary Values List\n",
    "\n",
    "Example:\n",
    "\n",
    "Input : test_list = [4, 6, 6, 4, 2, 2, 4, 8, 5, 8]\n",
    "\n",
    "Output : {4: [4, 4, 4], 6: [6, 6], 2: [2, 2], 8: [8, 8], 5: [5]}\n",
    "\n",
    "Explanation : Similar items grouped together on occurrences."
   ]
  },
  {
   "cell_type": "code",
   "execution_count": 19,
   "id": "f1f17aac",
   "metadata": {},
   "outputs": [
    {
     "name": "stdout",
     "output_type": "stream",
     "text": [
      "The original list : [4, 6, 6, 4, 2, 2, 4, 4, 8, 5, 8]\n",
      "Similar grouped dictionary : {4: [4, 4, 4, 4], 6: [6, 6], 2: [2, 2], 8: [8, 8], 5: [5]}\n"
     ]
    }
   ],
   "source": [
    "# Python3 code to demonstrate working of\n",
    "# Group Similar items to Dictionary Values List\n",
    "# Using defaultdict + loop\n",
    "from collections import defaultdict\n",
    "\n",
    "# initializing list\n",
    "test_list = [4, 6, 6, 4, 2, 2, 4, 4, 8, 5, 8]\n",
    "\n",
    "# printing original list\n",
    "print(\"The original list : \" + str(test_list))\n",
    "\n",
    "# using defaultdict for default list\n",
    "res = defaultdict(list)\n",
    "for ele in test_list:\n",
    "\n",
    "    # appending Similar values\n",
    "    res[ele].append(ele)\n",
    "\n",
    "# printing result\n",
    "print(\"Similar grouped dictionary : \" + str(dict(res)))\n"
   ]
  },
  {
   "cell_type": "markdown",
   "id": "cccc04bd",
   "metadata": {},
   "source": [
    "###  6. Write a Python code for finding K’th Non-repeating Character by using List Comprehension and OrderedDict\n",
    "\n",
    "Examples:\n",
    "\n",
    "Input : str = Learnbay, k = 3\n",
    "\n",
    "Output : r\n",
    "\n",
    "Explanation: The third non-repeating character is r"
   ]
  },
  {
   "cell_type": "code",
   "execution_count": 25,
   "id": "990085c1",
   "metadata": {},
   "outputs": [
    {
     "name": "stdout",
     "output_type": "stream",
     "text": [
      "r\n"
     ]
    }
   ],
   "source": [
    "# Function to find k'th non repeating character\n",
    "# in string\n",
    "from collections import OrderedDict\n",
    "\n",
    "def kthRepeating(input,k):\n",
    "\n",
    "    # OrderedDict returns a dictionary data\n",
    "        # structure having characters of input\n",
    "    # string as keys in the same order they\n",
    "        # were inserted and 0 as their default value\n",
    "    dict=OrderedDict.fromkeys(input,0)\n",
    "\n",
    "        # now traverse input string to calculate\n",
    "        # frequency of each character\n",
    "    for ch in input:\n",
    "        dict[ch]+=1\n",
    "\n",
    "    # now extract list of all keys whose value\n",
    "        # is 1 from dict Ordered Dictionary\n",
    "    nonRepeatDict = [key for (key,value) in dict.items() if value==1]\n",
    "    \n",
    "    # now return (k-1)th character from above list\n",
    "    if len(nonRepeatDict) < k:\n",
    "        return 'Less than k non-repeating characters in input.'\n",
    "    else:\n",
    "        return nonRepeatDict[k-1]\n",
    "\n",
    "# Driver function\n",
    "if __name__ == \"__main__\":\n",
    "    input = \"Learnbay\"\n",
    "    k = 3\n",
    "    print (kthRepeating(input, k))"
   ]
  },
  {
   "cell_type": "markdown",
   "id": "3aa114fe",
   "metadata": {},
   "source": [
    "### 7. Write a Python Programe to Replace String by Kth Dictionary value\n",
    "\n",
    "Example: \n",
    "\n",
    "Input : test_list = [“Abc”, “is”, “Best”], subs_dict = {“Abc” : [5, 6, 7], “is” : [7, 4, 2]}, K = 0\n",
    "\n",
    "Output : [5, 7, “Best”]\n",
    "\n",
    "Explanation : “Abc” and “is” is replaced by 5, 7 as 0th index in dictionary value list."
   ]
  },
  {
   "cell_type": "code",
   "execution_count": 28,
   "id": "6c048c5f",
   "metadata": {},
   "outputs": [
    {
     "name": "stdout",
     "output_type": "stream",
     "text": [
      "The original list : ['Abc', 'is', 'Best']\n",
      "The list after substitution : [7, 2, 'Best']\n"
     ]
    }
   ],
   "source": [
    "# Python3 code to demonstrate working of\n",
    "# Replace String by Kth Dictionary value\n",
    "# Using list comprehension\n",
    "\n",
    "# initializing list\n",
    "test_list = [\"Abc\", \"is\", \"Best\"]\n",
    "\n",
    "# printing original list\n",
    "print(\"The original list : \" + str(test_list))\n",
    "\n",
    "# initializing subs. Dictionary\n",
    "subs_dict = {\n",
    "    \"Abc\" : [5, 6, 7],\n",
    "    \"is\" : [7, 4, 2],\n",
    "}\n",
    "\n",
    "# initializing K\n",
    "K = 2\n",
    "\n",
    "# using list comprehension to solve\n",
    "# problem using one liner\n",
    "res = [ele if ele not in subs_dict else subs_dict[ele][K]\n",
    "                                    for ele in test_list]\n",
    "\n",
    "# printing result\n",
    "print(\"The list after substitution : \" + str(res))"
   ]
  },
  {
   "cell_type": "markdown",
   "id": "7783e409",
   "metadata": {},
   "source": [
    "### 8. Write a Python Programme for removing a key from dictionary\n"
   ]
  },
  {
   "cell_type": "code",
   "execution_count": null,
   "id": "ab56b2b3",
   "metadata": {},
   "outputs": [],
   "source": [
    "# Python code to demonstrate\n",
    "# removal of dict. pair\n",
    "# using pop()\n",
    "\n",
    "# Initializing dictionary\n",
    "test_dict = {\"Arushi\" : 22, \"Anuradha\" : 21, \"Mani\" : 21, \"Haritha\" : 21}\n",
    "\n",
    "# Printing dictionary before removal\n",
    "print (\"The dictionary before performing remove is : \" + str(test_dict))\n",
    "\n",
    "# Using pop() to remove a dict. pair\n",
    "# removes Mani\n",
    "removed_value = test_dict.pop('Mani')\n",
    "\n",
    "# Printing dictionary after removal\n",
    "print (\"The dictionary after remove is : \" + str(test_dict))\n",
    "print (\"The removed key's value is : \" + str(removed_value))\n",
    "\n",
    "print ('\\r')\n",
    "\n",
    "# Using pop() to remove a dict. pair\n",
    "# doesn't raise exception\n",
    "# assigns 'No Key found' to removed_value\n",
    "removed_value = test_dict.pop('Manjeet', 'No Key found')\n",
    "\n",
    "# Printing dictionary after removal\n",
    "print (\"The dictionary after remove is : \" + str(test_dict))\n",
    "print (\"The removed key's value is : \" + str(removed_value))\n"
   ]
  },
  {
   "cell_type": "markdown",
   "id": "72d223ee",
   "metadata": {},
   "source": [
    "### 9. Write a Python Programme for Replacing words from Dictionary\n",
    "\n",
    "Example :\n",
    "\n",
    "Input : test_str = ‘Learnbay is best for Student’, repl_dict = {“Student” : “all Data Science aspirants”}\n",
    "\n",
    "Output : Learnbay is best for all Data Science aspirants\n",
    "\n",
    "Explanation : “Student” word is replaced by lookup value."
   ]
  },
  {
   "cell_type": "code",
   "execution_count": 8,
   "id": "2d0bfba9",
   "metadata": {},
   "outputs": [
    {
     "name": "stdout",
     "output_type": "stream",
     "text": [
      "The original string is : Learnbay is best for Students\n",
      "Replaced Strings : Learnbay is good and better for all Data Science aspirants\n"
     ]
    }
   ],
   "source": [
    "# Python3 code to demonstrate working of\n",
    "# Replace words from Dictionary\n",
    "# Using split() + join() + get()\n",
    "\n",
    "# initializing string\n",
    "test_str = 'Learnbay is best for Students'\n",
    "\n",
    "# printing original string\n",
    "print(\"The original string is : \" + str(test_str))\n",
    "\n",
    "# lookup Dictionary\n",
    "lookp_dict = {\"best\" : \"good and better\", \"Students\" : \"all Data Science aspirants\"}\n",
    "\n",
    "# performing split()\n",
    "temp = test_str.split()\n",
    "res = []\n",
    "for wrd in temp:\n",
    "\n",
    "    # searching from lookp_dict\n",
    "    res.append(lookp_dict.get(wrd, wrd))\n",
    "\n",
    "res = ' '.join(res)\n",
    "\n",
    "# printing result\n",
    "print(\"Replaced Strings : \" + str(res))\n"
   ]
  },
  {
   "cell_type": "code",
   "execution_count": null,
   "id": "797ddd49",
   "metadata": {},
   "outputs": [],
   "source": []
  }
 ],
 "metadata": {
  "kernelspec": {
   "display_name": "Python 3 (ipykernel)",
   "language": "python",
   "name": "python3"
  },
  "language_info": {
   "codemirror_mode": {
    "name": "ipython",
    "version": 3
   },
   "file_extension": ".py",
   "mimetype": "text/x-python",
   "name": "python",
   "nbconvert_exporter": "python",
   "pygments_lexer": "ipython3",
   "version": "3.9.7"
  }
 },
 "nbformat": 4,
 "nbformat_minor": 5
}
