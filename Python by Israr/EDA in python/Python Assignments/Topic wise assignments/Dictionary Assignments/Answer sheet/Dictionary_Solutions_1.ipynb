{
 "cells": [
  {
   "cell_type": "markdown",
   "id": "b9a22291",
   "metadata": {},
   "source": [
    "### 1. Write a Python code to Sort Python Dictionaries by Key or Value\n",
    "\n",
    "Example:\n",
    "\n",
    "Input :  {'ravi':'10','rajnish':'9','sanjeev':'15','yash':'2','suraj':'32'}\n",
    "\n",
    "Output: ('rajnish', '9'), ('ravi', '10'), ('sanjeev', '15'), ('suraj', '32'), ('yash', '2')"
   ]
  },
  {
   "cell_type": "code",
   "execution_count": 1,
   "id": "970f357d",
   "metadata": {},
   "outputs": [
    {
     "name": "stdout",
     "output_type": "stream",
     "text": [
      "OrderedDict([('rajnish', '9'), ('ravi', '10'), ('sanjeev', '15'), ('suraj', '32'), ('yash', '2')])\n"
     ]
    }
   ],
   "source": [
    "# Creates a sorted dictionary (sorted by key)\n",
    "from collections import OrderedDict\n",
    "\n",
    "dict = {'ravi':'10','rajnish':'9','sanjeev':'15','yash':'2','suraj':'32'}\n",
    "dict1 = OrderedDict(sorted(dict.items()))\n",
    "print(dict1)\n"
   ]
  },
  {
   "cell_type": "markdown",
   "id": "2493dafe",
   "metadata": {},
   "source": [
    "### 2. Write a Python code for Handling missing keys in Python dictionaries\n",
    "\n",
    "Method1 : Using get() method"
   ]
  },
  {
   "cell_type": "code",
   "execution_count": 2,
   "id": "80a5d87a",
   "metadata": {},
   "outputs": [
    {
     "name": "stdout",
     "output_type": "stream",
     "text": [
      "0091\n",
      "Not Found\n"
     ]
    }
   ],
   "source": [
    "country_code = {'India' : '0091',\n",
    "                'Australia' : '0025',\n",
    "                'Nepal' : '00977'}\n",
    "\n",
    "# search dictionary for country code of India\n",
    "print(country_code.get('India', 'Not Found'))\n",
    "\n",
    "# search dictionary for country code of Japan\n",
    "print(country_code.get('Japan', 'Not Found'))\n"
   ]
  },
  {
   "cell_type": "markdown",
   "id": "6ed0ef0d",
   "metadata": {},
   "source": [
    "### Method2 :  Using setdefault() method"
   ]
  },
  {
   "cell_type": "code",
   "execution_count": 3,
   "id": "b8e249f1",
   "metadata": {},
   "outputs": [
    {
     "name": "stdout",
     "output_type": "stream",
     "text": [
      "0091\n",
      "Not Present\n"
     ]
    }
   ],
   "source": [
    "country_code = {'India' : '0091',\n",
    "                'Australia' : '0025',\n",
    "                'Nepal' : '00977'}\n",
    "\n",
    "# Set a default value for Japan\n",
    "country_code.setdefault('Japan', 'Not Present')\n",
    "\n",
    "# search dictionary for country code of India\n",
    "print(country_code['India'])\n",
    "\n",
    "# search dictionary for country code of Japan\n",
    "print(country_code['Japan'])\n"
   ]
  },
  {
   "cell_type": "markdown",
   "id": "5226b2c5",
   "metadata": {},
   "source": [
    "### 3. Create Python dictionary with keys having multiple inputs\n",
    "\n"
   ]
  },
  {
   "cell_type": "code",
   "execution_count": 4,
   "id": "ec3825a4",
   "metadata": {},
   "outputs": [
    {
     "name": "stdout",
     "output_type": "stream",
     "text": [
      "{(10, 20, 30): 0, (5, 2, 4): 3}\n"
     ]
    }
   ],
   "source": [
    "# Python code to demonstrate a dictionary\n",
    "# with multiple inputs in a key.\n",
    "import random as rn\n",
    "\n",
    "# creating an empty dictionary\n",
    "dict = {}\n",
    "\n",
    "# Insert first triplet in dictionary\n",
    "x, y, z = 10, 20, 30\n",
    "dict[x, y, z] = x + y - z;\n",
    "\n",
    "# Insert second triplet in dictionary\n",
    "x, y, z = 5, 2, 4\n",
    "dict[x, y, z] = x + y - z;\n",
    "\n",
    "# print the dictionary\n",
    "print(dict)\n"
   ]
  },
  {
   "cell_type": "markdown",
   "id": "5dc9ec39",
   "metadata": {},
   "source": [
    "### 4. Write a Python program for finding the sum of all items in a dictionary\n",
    "\n",
    "Example:\n",
    "\n",
    "Input : {‘a’: 100, ‘b’:200, ‘c’:300}\n",
    "\n",
    "Output : 600"
   ]
  },
  {
   "cell_type": "code",
   "execution_count": 5,
   "id": "e7136d10",
   "metadata": {},
   "outputs": [
    {
     "name": "stdout",
     "output_type": "stream",
     "text": [
      "Sum : 600\n"
     ]
    }
   ],
   "source": [
    "# Python3 Program to find sum of\n",
    "# all items in a Dictionary\n",
    "\n",
    "# Function to print sum\n",
    "\n",
    "\n",
    "def returnSum(myDict):\n",
    "\n",
    "    list = []\n",
    "    for i in myDict:\n",
    "        list.append(myDict[i])\n",
    "    final = sum(list)\n",
    "\n",
    "    return final\n",
    "\n",
    "\n",
    "# Driver Function\n",
    "dict = {'a': 100, 'b': 200, 'c': 300}\n",
    "print(\"Sum :\", returnSum(dict))\n"
   ]
  },
  {
   "cell_type": "markdown",
   "id": "117682f9",
   "metadata": {},
   "source": [
    "### 5. Write a Python code for finding the size of a Dictionary in Python\n"
   ]
  },
  {
   "cell_type": "code",
   "execution_count": 6,
   "id": "e209b0fe",
   "metadata": {},
   "outputs": [
    {
     "name": "stdout",
     "output_type": "stream",
     "text": [
      "Size of dic1: 232bytes\n",
      "Size of dic2: 232bytes\n",
      "Size of dic3: 232bytes\n"
     ]
    }
   ],
   "source": [
    "import sys\n",
    "\n",
    "# sample Dictionaries\n",
    "dic1 = {\"A\": 1, \"B\": 2, \"C\": 3}\n",
    "dic2 = {\"Student1\": \"Raju\", \"Student2\": \"Nikhil\", \"Student3\": \"Deepanshu\"}\n",
    "dic3 = {1: \"Lion\", 2: \"Tiger\", 3: \"Fox\", 4: \"Wolf\"}\n",
    "\n",
    "# print the sizes of sample Dictionaries\n",
    "print(\"Size of dic1: \" + str(sys.getsizeof(dic1)) + \"bytes\")\n",
    "print(\"Size of dic2: \" + str(sys.getsizeof(dic2)) + \"bytes\")\n",
    "print(\"Size of dic3: \" + str(sys.getsizeof(dic3)) + \"bytes\")\n"
   ]
  },
  {
   "cell_type": "markdown",
   "id": "d0d999bd",
   "metadata": {},
   "source": [
    "### 6. Write a Python Programming for sorting list of dictionaries by values by Using itemgetter\n"
   ]
  },
  {
   "cell_type": "code",
   "execution_count": 7,
   "id": "d5abceb9",
   "metadata": {},
   "outputs": [
    {
     "name": "stdout",
     "output_type": "stream",
     "text": [
      "The list printed sorting by age: \n",
      "[{'name': 'Nikhil', 'age': 19}, {'name': 'Nandini', 'age': 20}, {'name': 'Manjeet', 'age': 20}]\n",
      "\r\n",
      "The list printed sorting by age and name: \n",
      "[{'name': 'Nikhil', 'age': 19}, {'name': 'Manjeet', 'age': 20}, {'name': 'Nandini', 'age': 20}]\n",
      "\r\n",
      "The list printed sorting by age in descending order: \n",
      "[{'name': 'Nandini', 'age': 20}, {'name': 'Manjeet', 'age': 20}, {'name': 'Nikhil', 'age': 19}]\n"
     ]
    }
   ],
   "source": [
    "# Python code demonstrate the working of sorted()\n",
    "# and itemgetter\n",
    "\n",
    "# importing \"operator\" for implementing itemgetter\n",
    "from operator import itemgetter\n",
    "\n",
    "# Initializing list of dictionaries\n",
    "lis = [{ \"name\" : \"Nandini\", \"age\" : 20},\n",
    "{ \"name\" : \"Manjeet\", \"age\" : 20 },\n",
    "{ \"name\" : \"Nikhil\" , \"age\" : 19 }]\n",
    "\n",
    "# using sorted and itemgetter to print list sorted by age\n",
    "print (\"The list printed sorting by age: \")\n",
    "print (sorted(lis, key=itemgetter('age')))\n",
    "\n",
    "print (\"\\r\")\n",
    "\n",
    "# using sorted and itemgetter to print list sorted by both age and name\n",
    "# notice that \"Manjeet\" now comes before \"Nandini\"\n",
    "print (\"The list printed sorting by age and name: \")\n",
    "print (sorted(lis, key=itemgetter('age', 'name')))\n",
    "\n",
    "print (\"\\r\")\n",
    "\n",
    "# using sorted and itemgetter to print list sorted by age in descending order\n",
    "print (\"The list printed sorting by age in descending order: \")\n",
    "print (sorted(lis,key = itemgetter('age'),reverse=True))\n"
   ]
  },
  {
   "cell_type": "markdown",
   "id": "3be83fd6",
   "metadata": {},
   "source": [
    "### 7. Python code for sorting list of dictionaries by values by Using lambda function"
   ]
  },
  {
   "cell_type": "code",
   "execution_count": 8,
   "id": "cf48ccf7",
   "metadata": {},
   "outputs": [
    {
     "name": "stdout",
     "output_type": "stream",
     "text": [
      "The list printed sorting by age: \n",
      "[{'name': 'Nikhil', 'age': 19}, {'name': 'Nandini', 'age': 20}, {'name': 'Manjeet', 'age': 20}]\n",
      "\n",
      "The list printed sorting by age and name: \n",
      "[{'name': 'Nikhil', 'age': 19}, {'name': 'Manjeet', 'age': 20}, {'name': 'Nandini', 'age': 20}]\n",
      "\n",
      "The list printed sorting by age in descending order: \n",
      "[{'name': 'Nandini', 'age': 20}, {'name': 'Manjeet', 'age': 20}, {'name': 'Nikhil', 'age': 19}]\n"
     ]
    }
   ],
   "source": [
    "# Python code demonstrate the working of\n",
    "# sorted() with lambda\n",
    "\n",
    "# Initializing list of dictionaries\n",
    "lis = [{ \"name\" : \"Nandini\", \"age\" : 20},\n",
    "{ \"name\" : \"Manjeet\", \"age\" : 20 },\n",
    "{ \"name\" : \"Nikhil\" , \"age\" : 19 }]\n",
    "\n",
    "# using sorted and lambda to print list sorted\n",
    "# by age\n",
    "print (\"The list printed sorting by age: \")\n",
    "print (sorted(lis, key = lambda i: i['age']))\n",
    "\n",
    "print (\"\\r\")\n",
    "\n",
    "# using sorted and lambda to print list sorted\n",
    "# by both age and name. Notice that \"Manjeet\"\n",
    "# now comes before \"Nandini\"\n",
    "print (\"The list printed sorting by age and name: \")\n",
    "print (sorted(lis, key = lambda i: (i['age'], i['name'])))\n",
    "\n",
    "print (\"\\r\")\n",
    "\n",
    "# using sorted and lambda to print list sorted\n",
    "# by age in descending order\n",
    "print (\"The list printed sorting by age in descending order: \")\n",
    "print (sorted(lis, key = lambda i: i['age'],reverse=True))\n"
   ]
  },
  {
   "cell_type": "markdown",
   "id": "55ea441d",
   "metadata": {},
   "source": [
    "### 8. Write a Python code for merging two dictionaries.\n",
    "\n"
   ]
  },
  {
   "cell_type": "code",
   "execution_count": 9,
   "id": "c60cf529",
   "metadata": {},
   "outputs": [
    {
     "name": "stdout",
     "output_type": "stream",
     "text": [
      "None\n",
      "{'d': 6, 'c': 4, 'a': 10, 'b': 8}\n"
     ]
    }
   ],
   "source": [
    "# Python code to merge dict using update() method\n",
    "def Merge(dict1, dict2):\n",
    "    return(dict2.update(dict1))\n",
    "    \n",
    "# Driver code\n",
    "dict1 = {'a': 10, 'b': 8}\n",
    "dict2 = {'d': 6, 'c': 4}\n",
    "\n",
    "# This return None\n",
    "print(Merge(dict1, dict2))\n",
    "\n",
    "# changes made in dict2\n",
    "print(dict2)"
   ]
  },
  {
   "cell_type": "markdown",
   "id": "6212208e",
   "metadata": {},
   "source": [
    "### 9. Write a Python Program for creating grade calculator.\n",
    "\n",
    "Example:\n",
    "\n",
    "We need to find grades of the given scored marks of the students where the test score is an average of the respective marks scored in assignments, tests and lab-works.\n",
    "\n",
    "10 % of marks scored from submission of Assignments.\n",
    "70 % of marks scored from Test.\n",
    "20 % of marks scored in Lab-Works.\n",
    "\n",
    "The final test score is assigned using below formula.\n",
    "\n",
    "1. score >= 90 : \"A\"\n",
    "\n",
    "2. score >= 80 : \"B\"\n",
    "\n",
    "3. score >= 70 : \"C\"\n",
    "\n",
    "4. score >= 60 : \"D\"\n"
   ]
  },
  {
   "cell_type": "code",
   "execution_count": 10,
   "id": "22cbf803",
   "metadata": {},
   "outputs": [
    {
     "name": "stdout",
     "output_type": "stream",
     "text": [
      "Jack Frost\n",
      "=+=+=+=+=+=+=+=+=+=+=+=+=+=+=+=+=+=+=+=\n",
      "Average marks of Jack Frost is : 72.79 \n",
      "Letter Grade of Jack Frost is : C\n",
      "\n",
      "James Potter\n",
      "=+=+=+=+=+=+=+=+=+=+=+=+=+=+=+=+=+=+=+=\n",
      "Average marks of James Potter is : 75.962 \n",
      "Letter Grade of James Potter is : C\n",
      "\n",
      "Dylan Rhodes\n",
      "=+=+=+=+=+=+=+=+=+=+=+=+=+=+=+=+=+=+=+=\n",
      "Average marks of Dylan Rhodes is : 75.775 \n",
      "Letter Grade of Dylan Rhodes is : C\n",
      "\n",
      "Jessica Stone\n",
      "=+=+=+=+=+=+=+=+=+=+=+=+=+=+=+=+=+=+=+=\n",
      "Average marks of Jessica Stone is : 48.356 \n",
      "Letter Grade of Jessica Stone is : E\n",
      "\n",
      "Tom Hanks\n",
      "=+=+=+=+=+=+=+=+=+=+=+=+=+=+=+=+=+=+=+=\n",
      "Average marks of Tom Hanks is : 57.26 \n",
      "Letter Grade of Tom Hanks is : E\n",
      "\n",
      "Class Average is 72.79\n",
      "Letter Grade of the class is C \n"
     ]
    }
   ],
   "source": [
    "# Python code for the Grade\n",
    "# Calculator program in action\n",
    "\n",
    "# Creating a dictionary which\n",
    "# consists of the student name,\n",
    "# assignment result test results\n",
    "# and their respective lab results\n",
    "\n",
    "# 1. Jack's dictionary\n",
    "jack = { \"name\":\"Jack Frost\",\n",
    "        \"assignment\" : [80, 50, 40, 20],\n",
    "        \"test\" : [75, 75],\n",
    "        \"lab\" : [78.20, 77.20]\n",
    "    }\n",
    "\n",
    "# 2. James's dictionary\n",
    "james = { \"name\":\"James Potter\",\n",
    "        \"assignment\" : [82, 56, 44, 30],\n",
    "        \"test\" : [80, 80],\n",
    "        \"lab\" : [67.90, 78.72]\n",
    "        }\n",
    "\n",
    "# 3. Dylan's dictionary\n",
    "dylan = { \"name\" : \"Dylan Rhodes\",\n",
    "        \"assignment\" : [77, 82, 23, 39],\n",
    "        \"test\" : [78, 77],\n",
    "        \"lab\" : [80, 80]\n",
    "        }\n",
    "\n",
    "# 4. Jessica's dictionary\n",
    "jess = { \"name\" : \"Jessica Stone\",\n",
    "        \"assignment\" : [67, 55, 77, 21],\n",
    "        \"test\" : [40, 50],\n",
    "        \"lab\" : [69, 44.56]\n",
    "    }\n",
    "\n",
    "# 5. Tom's dictionary\n",
    "tom = { \"name\" : \"Tom Hanks\",\n",
    "        \"assignment\" : [29, 89, 60, 56],\n",
    "        \"test\" : [65, 56],\n",
    "        \"lab\" : [50, 40.6]\n",
    "    }\n",
    "\n",
    "# Function calculates average\n",
    "def get_average(marks):\n",
    "    total_sum = sum(marks)\n",
    "    total_sum = float(total_sum)\n",
    "    return total_sum / len(marks)\n",
    "\n",
    "# Function calculates total average\n",
    "def calculate_total_average(students):\n",
    "    assignment = get_average(students[\"assignment\"])\n",
    "    test = get_average(students[\"test\"])\n",
    "    lab = get_average(students[\"lab\"])\n",
    "\n",
    "    # Return the result based\n",
    "    # on weightage supplied\n",
    "    # 10 % from assignments\n",
    "    # 70 % from test\n",
    "    # 20 % from lab-works\n",
    "    return (0.1 * assignment +\n",
    "            0.7 * test + 0.2 * lab)\n",
    "\n",
    "\n",
    "# Calculate letter grade of each student\n",
    "def assign_letter_grade(score):\n",
    "    if score >= 90: return \"A\"\n",
    "    elif score >= 80: return \"B\"\n",
    "    elif score >= 70: return \"C\"\n",
    "    elif score >= 60: return \"D\"\n",
    "    else : return \"E\"\n",
    "\n",
    "# Function to calculate the total\n",
    "# average marks of the whole class\n",
    "def class_average_is(student_list):\n",
    "    result_list = []\n",
    "\n",
    "    for student in student_list:\n",
    "        stud_avg = calculate_total_average(student)\n",
    "        result_list.append(stud_avg)\n",
    "        return get_average(result_list)\n",
    "\n",
    "# Student list consisting the\n",
    "# dictionary of all students\n",
    "students = [jack, james, dylan, jess, tom]\n",
    "\n",
    "# Iterate through the students list\n",
    "# and calculate their respective\n",
    "# average marks and letter grade\n",
    "for i in students :\n",
    "    print(i[\"name\"])\n",
    "    print(\"=+=+=+=+=+=+=+=+=+=+=+=+=+=+=+=+=+=+=+=\")\n",
    "    print(\"Average marks of %s is : %s \" %(i[\"name\"],\n",
    "                        calculate_total_average(i)))\n",
    "\n",
    "    print(\"Letter Grade of %s is : %s\" %(i[\"name\"],\n",
    "    assign_letter_grade(calculate_total_average(i))))\n",
    "\n",
    "    print()\n",
    "\n",
    "\n",
    "# Calculate the average of whole class\n",
    "class_av = class_average_is(students)\n",
    "\n",
    "print( \"Class Average is %s\" %(class_av))\n",
    "print(\"Letter Grade of the class is %s \"\n",
    "        %(assign_letter_grade(class_av)))\n"
   ]
  },
  {
   "cell_type": "markdown",
   "id": "aad21352",
   "metadata": {},
   "source": [
    "### 10. Write a Python Programme that will Insert items at the beginning in OrderedDict\n",
    "\n",
    "Examples:\n",
    "\n",
    "Input: original_dict = {'a':1, 'b':2}\n",
    "\n",
    "       item to be inserted ('c', 3)\n",
    "\n",
    "Output:  {'c':3, 'a':1, 'b':2}\n"
   ]
  },
  {
   "cell_type": "code",
   "execution_count": 11,
   "id": "0890637e",
   "metadata": {},
   "outputs": [
    {
     "name": "stdout",
     "output_type": "stream",
     "text": [
      "Resultant Dictionary : OrderedDict([('manjeet', '3'), ('akshat', '1'), ('nikhil', '2')])\n"
     ]
    }
   ],
   "source": [
    "# Python code to demonstrate\n",
    "# insertion of items in beginning of ordered dict\n",
    "from collections import OrderedDict\n",
    "\n",
    "# initialising ordered_dict\n",
    "iniordered_dict = OrderedDict([('akshat', '1'), ('nikhil', '2')])\n",
    "\n",
    "# inserting items in starting of dict\n",
    "iniordered_dict.update({'manjeet':'3'})\n",
    "iniordered_dict.move_to_end('manjeet', last = False)\n",
    "\n",
    "# print result\n",
    "print (\"Resultant Dictionary : \"+str(iniordered_dict))\n"
   ]
  }
 ],
 "metadata": {
  "kernelspec": {
   "display_name": "Python 3 (ipykernel)",
   "language": "python",
   "name": "python3"
  },
  "language_info": {
   "codemirror_mode": {
    "name": "ipython",
    "version": 3
   },
   "file_extension": ".py",
   "mimetype": "text/x-python",
   "name": "python",
   "nbconvert_exporter": "python",
   "pygments_lexer": "ipython3",
   "version": "3.9.7"
  }
 },
 "nbformat": 4,
 "nbformat_minor": 5
}
