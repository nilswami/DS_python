{
 "cells": [
  {
   "cell_type": "markdown",
   "id": "9c55aaa4",
   "metadata": {},
   "source": [
    "### 1. Write a Python Programme for Removing Dictionary Key Words\n"
   ]
  },
  {
   "cell_type": "code",
   "execution_count": 1,
   "id": "45fd779e",
   "metadata": {},
   "outputs": [
    {
     "name": "stdout",
     "output_type": "stream",
     "text": [
      "The original string is : Learnbay is best for Students\n",
      "The string after replace : Learnbay is  for Students\n"
     ]
    }
   ],
   "source": [
    "# Python3 code to demonstrate working of\n",
    "# Remove Dictionary Key Words\n",
    "# Using split() + loop + replace()\n",
    "\n",
    "# initializing string\n",
    "test_str = 'Learnbay is best for Students'\n",
    "\n",
    "# printing original string\n",
    "print(\"The original string is : \" + str(test_str))\n",
    "\n",
    "# initializing Dictionary\n",
    "test_dict = {'Student' : 1, 'best': 6}\n",
    "\n",
    "# Remove Dictionary Key Words\n",
    "# Using split() + loop + replace()\n",
    "for key in test_dict:\n",
    "    if key in test_str.split(' '):\n",
    "        test_str = test_str.replace(key, \"\")\n",
    "\n",
    "# printing result\n",
    "print(\"The string after replace : \" + str(test_str))"
   ]
  },
  {
   "cell_type": "markdown",
   "id": "91688a42",
   "metadata": {},
   "source": [
    "### 2. Write a Python code for Removing all duplicate words from a given sentence\n",
    "\n",
    "Example: \n",
    " \n",
    "\n",
    "Input : 'Python is great and Java is also great'\n",
    "\n",
    "Output : Python is great and Java also"
   ]
  },
  {
   "cell_type": "code",
   "execution_count": 2,
   "id": "8b695083",
   "metadata": {},
   "outputs": [
    {
     "name": "stdout",
     "output_type": "stream",
     "text": [
      "Python is great and Java also\n"
     ]
    }
   ],
   "source": [
    "from collections import Counter\n",
    "\n",
    "def remov_duplicates(input):\n",
    "\n",
    "        # split input string separated by space\n",
    "    input = input.split(\" \")\n",
    "\n",
    "    # now create dictionary using counter method\n",
    "    # which will have strings as key and their\n",
    "    # frequencies as value\n",
    "    UniqW = Counter(input)\n",
    "\n",
    "    # joins two adjacent elements in iterable way\n",
    "    s = \" \".join(UniqW.keys())\n",
    "    print (s)\n",
    "\n",
    "# Driver program\n",
    "if __name__ == \"__main__\":\n",
    "    input = 'Python is great and Java is also great'\n",
    "    remov_duplicates(input)\n"
   ]
  },
  {
   "cell_type": "markdown",
   "id": "65b20e0d",
   "metadata": {},
   "source": [
    "### 3. Write a Python program for Removing duplicate values across Dictionary Values\n",
    "\n",
    "Example:\n",
    "\n",
    "Input : test_dict = {‘Manjeet’: [1], ‘Akash’: [1, 8, 9]}\n",
    "\n",
    "Output : {‘Manjeet’: [], ‘Akash’: [8, 9]}"
   ]
  },
  {
   "cell_type": "code",
   "execution_count": 3,
   "id": "c74fbcfd",
   "metadata": {},
   "outputs": [
    {
     "name": "stdout",
     "output_type": "stream",
     "text": [
      "The original dictionary : {'Manjeet': [1, 4, 5, 6], 'Akash': [1, 8, 9], 'Nikhil': [10, 22, 4], 'Akshat': [5, 11, 22]}\n",
      "Uncommon elements records : {'Manjeet': [6], 'Akash': [8, 9], 'Nikhil': [10], 'Akshat': [11]}\n"
     ]
    }
   ],
   "source": [
    "# Python3 code to demonstrate working of\n",
    "# Remove duplicate values across Dictionary Values\n",
    "# Using Counter() + list comprehension\n",
    "from collections import Counter\n",
    "\n",
    "# initializing dictionary\n",
    "test_dict = {'Manjeet' : [1, 4, 5, 6],\n",
    "            'Akash' : [1, 8, 9],\n",
    "            'Nikhil': [10, 22, 4],\n",
    "            'Akshat': [5, 11, 22]}\n",
    "\n",
    "# printing original dictionary\n",
    "print(\"The original dictionary : \" + str(test_dict))\n",
    "\n",
    "# Remove duplicate values across Dictionary Values\n",
    "# Using Counter() + list comprehension\n",
    "cnt = Counter()\n",
    "for idx in test_dict.values():\n",
    "    cnt.update(idx)\n",
    "res = {idx: [key for key in j if cnt[key] == 1]\n",
    "            for idx, j in test_dict.items()}\n",
    "\n",
    "# printing result\n",
    "print(\"Uncommon elements records : \" + str(res))\n"
   ]
  },
  {
   "cell_type": "markdown",
   "id": "4504119a",
   "metadata": {},
   "source": [
    "### 4. Create a Python Dictionary to find mirror characters in a string\n",
    "\n",
    "Example:\n",
    "\n",
    "Input : N = 3\n",
    "\n",
    "        paradox\n",
    "\n",
    "Output : paizwlc\n",
    "\n",
    "We mirror characters from position 3 to end."
   ]
  },
  {
   "cell_type": "code",
   "execution_count": 4,
   "id": "3a8f8f09",
   "metadata": {},
   "outputs": [
    {
     "name": "stdout",
     "output_type": "stream",
     "text": [
      "paizwlc\n"
     ]
    }
   ],
   "source": [
    "# function to mirror characters of a string\n",
    "\n",
    "def mirrorChars(input,k):\n",
    "\n",
    "    # create dictionary\n",
    "    original = 'abcdefghijklmnopqrstuvwxyz'\n",
    "    reverse = 'zyxwvutsrqponmlkjihgfedcba'\n",
    "    dictChars = dict(zip(original,reverse))\n",
    "\n",
    "    # separate out string after length k to change\n",
    "    # characters in mirror\n",
    "    prefix = input[0:k-1]\n",
    "    suffix = input[k-1:]\n",
    "    mirror = ''\n",
    "\n",
    "    # change into mirror\n",
    "    for i in range(0,len(suffix)):\n",
    "        mirror = mirror + dictChars[suffix[i]]\n",
    "\n",
    "    # concat prefix and mirrored part\n",
    "    print (prefix+mirror)\n",
    "\n",
    "    # Driver program\n",
    "if __name__ == \"__main__\":\n",
    "    input = 'paradox'\n",
    "    k = 3\n",
    "    mirrorChars(input,k)"
   ]
  },
  {
   "cell_type": "markdown",
   "id": "af1711e7",
   "metadata": {},
   "source": [
    "### 5. Write a Python Programme for Counting the frequencies in a list using dictionary\n",
    "\n",
    "Example: \n",
    " \n",
    "\n",
    "Input : [1, 1, 1, 5, 5, 3, 1, 3, 3, 1,\n",
    "                  4, 4, 4, 2, 2, 2, 2]\n",
    "                  \n",
    "Output : 1 : 5\n",
    "         2 : 4\n",
    "         3 : 3\n",
    "         4 : 3\n",
    "         5 : 2\n",
    "         \n",
    "Explanation : Here 1 occurs 5 times, 2 \n",
    "              occurs 4 times and so on...\n"
   ]
  },
  {
   "cell_type": "code",
   "execution_count": 14,
   "id": "e5ee1f73",
   "metadata": {},
   "outputs": [
    {
     "name": "stdout",
     "output_type": "stream",
     "text": [
      " 1 :  5\n",
      " 5 :  2\n",
      " 3 :  3\n",
      " 4 :  3\n",
      " 2 :  4\n"
     ]
    }
   ],
   "source": [
    "# Python program to count the frequency of\n",
    "# elements in a list using a dictionary\n",
    "\n",
    "def CountFrequency(my_list):\n",
    "\n",
    "    # Creating an empty dictionary\n",
    "    freq = {}\n",
    "    for item in my_list:\n",
    "        if (item in freq):\n",
    "            freq[item] += 1\n",
    "        else:\n",
    "            freq[item] = 1\n",
    "\n",
    "    for key, value in freq.items():\n",
    "        print (\"% d : % d\"%(key, value))\n",
    "\n",
    "# Driver function\n",
    "if __name__ == \"__main__\":\n",
    "    my_list =[1, 1, 1, 5, 5, 3, 1, 3, 3, 1, 4, 4, 4, 2, 2, 2, 2]\n",
    "\n",
    "    CountFrequency(my_list)"
   ]
  },
  {
   "cell_type": "markdown",
   "id": "7b8d7546",
   "metadata": {},
   "source": [
    "### 6. Create a Dictionary in Python for finding mean of all the values present.\n",
    "\n",
    "Example:\n",
    "\n",
    "Input : test_dict = {“Learnbay” : 4, “is” : 4, “Best” : 4, “for” : 4, “Student” : 4}\n",
    "\n",
    "Output : 7.0"
   ]
  },
  {
   "cell_type": "code",
   "execution_count": 6,
   "id": "6f8b6cbe",
   "metadata": {},
   "outputs": [
    {
     "name": "stdout",
     "output_type": "stream",
     "text": [
      "The original dictionary is : {'Learnbay': 4, 'is': 7, 'Best': 8, 'for': 6, 'Student': 10}\n",
      "The computed mean : 7.0\n"
     ]
    }
   ],
   "source": [
    "# Python3 code to demonstrate working of\n",
    "# Dictionary Values Mean\n",
    "# Using loop + len()\n",
    "\n",
    "# initializing dictionary\n",
    "test_dict = {\"Learnbay\" : 4, \"is\" : 7, \"Best\" : 8, \"for\" : 6, \"Student\" : 10}\n",
    "\n",
    "# printing original dictionary\n",
    "print(\"The original dictionary is : \" + str(test_dict))\n",
    "\n",
    "# loop to sum all values\n",
    "res = 0\n",
    "for val in test_dict.values():\n",
    "\tres += val\n",
    "\n",
    "# using len() to get total keys for mean computation\n",
    "res = res / len(test_dict)\n",
    "\n",
    "# printing result\n",
    "print(\"The computed mean : \" + str(res))"
   ]
  },
  {
   "cell_type": "markdown",
   "id": "c65ab08e",
   "metadata": {},
   "source": [
    "### 7. Write a counter and dictionary intersection example In Python. Make a string using deletion and rearrangement\n",
    "\n",
    "Example:\n",
    "\n",
    "Input : s1 = Learnbay\n",
    "\n",
    "      : s2 = dnaKfleaddf\n",
    "      \n",
    "Output : Not Possible"
   ]
  },
  {
   "cell_type": "code",
   "execution_count": 11,
   "id": "87c953d4",
   "metadata": {},
   "outputs": [
    {
     "name": "stdout",
     "output_type": "stream",
     "text": [
      "Not Possible\n"
     ]
    }
   ],
   "source": [
    "# Python code to find if we can make first string\n",
    "# from second by deleting some characters from\n",
    "# second and rearranging remaining characters.\n",
    "from collections import Counter\n",
    "\n",
    "def makeString(str1,str2):\n",
    "\n",
    "    # convert both strings into dictionaries\n",
    "    # output will be like str1=\"aabbcc\",\n",
    "    # dict1={'a':2,'b':2,'c':2}\n",
    "    # str2 = 'abbbcc', dict2={'a':1,'b':3,'c':2}\n",
    "    dict1 = Counter(str1)\n",
    "    dict2 = Counter(str2)\n",
    "\n",
    "    # take intersection of two dictionries\n",
    "    # output will be result = {'a':1,'b':2,'c':2}\n",
    "    result = dict1 & dict2\n",
    "\n",
    "    # compare resultant dictionary with first\n",
    "    # dictionary comparison first compares keys\n",
    "    # and then compares their corresponding values\n",
    "    return result == dict1\n",
    "\n",
    "# Driver program\n",
    "if __name__ == \"__main__\":\n",
    "    str1 = 'Learnbay'\n",
    "    str2 = 'dnaKfleaddf'\n",
    "    if (makeString(str1,str2)==True):\n",
    "        print(\"Possible\")\n",
    "    else:\n",
    "        print(\"Not Possible\")"
   ]
  },
  {
   "cell_type": "markdown",
   "id": "c30fc426",
   "metadata": {},
   "source": [
    "### 8. Create a Python dictionary, set and counter to check if frequencies can become same\n",
    "\n",
    "Example:\n",
    "\n",
    "Input  : str = “xxxyyzzt”\n",
    "\n",
    "Output : No\n",
    "\n",
    "We can remove character ’y’ from above \n",
    "string to make the frequency of each \n",
    "character same. \n"
   ]
  },
  {
   "cell_type": "code",
   "execution_count": 15,
   "id": "938e81f1",
   "metadata": {},
   "outputs": [
    {
     "name": "stdout",
     "output_type": "stream",
     "text": [
      "No\n"
     ]
    }
   ],
   "source": [
    "# Function to Check if frequency of all characters\n",
    "# can become same by one removal\n",
    "from collections import Counter\n",
    "\n",
    "def allSame(input):\n",
    "    \n",
    "    # calculate frequency of each character\n",
    "    # and convert string into dictionary\n",
    "    dict=Counter(input)\n",
    "\n",
    "    # now get list of all values and push it\n",
    "    # in set\n",
    "    same = list(set(dict.values()))\n",
    "\n",
    "    if len(same)>2:\n",
    "        print('No')\n",
    "    elif len (same)==2 and same[1]-same[0]>1:\n",
    "        print('No')\n",
    "    else:\n",
    "        print('Yes')\n",
    "\n",
    "    \n",
    "    # now check if frequency of all characters\n",
    "    # can become same\n",
    "\n",
    "# Driver program\n",
    "if __name__ == \"__main__\":\n",
    "    input = 'xxxyyzzt'\n",
    "    allSame(input)"
   ]
  },
  {
   "cell_type": "markdown",
   "id": "b404ac24",
   "metadata": {},
   "source": [
    "### 9. Write a code to print all Possible Words using given characters in Python\n",
    "\n",
    "Example: \n",
    "\n",
    "Input : Dict = [\"go\",\"bat\",\"me\",\"eat\",\"goal\",\"boy\", \"run\"]\n",
    "\n",
    "        arr = ['e','o','b', 'a','m','g', 'l']\n",
    "        \n",
    "Output : me, goal. "
   ]
  },
  {
   "cell_type": "code",
   "execution_count": 6,
   "id": "27a32f3c",
   "metadata": {},
   "outputs": [
    {
     "name": "stdout",
     "output_type": "stream",
     "text": [
      "me\n",
      "goal\n"
     ]
    }
   ],
   "source": [
    "# Function to print words which can be created\n",
    "# using given set of characters\n",
    "\n",
    "\n",
    "\n",
    "def charCount(word):\n",
    "    dict = {}\n",
    "    for i in word:\n",
    "        dict[i] = dict.get(i, 0) + 1\n",
    "    return dict\n",
    "\n",
    "\n",
    "def possible_words(lwords, charSet):\n",
    "    for word in lwords:\n",
    "        flag = 1\n",
    "        chars = charCount(word)\n",
    "        for key in chars:\n",
    "            if key not in charSet:\n",
    "                flag = 0\n",
    "            else:\n",
    "                if charSet.count(key) != chars[key]:\n",
    "                    flag = 0\n",
    "        if flag == 1:\n",
    "            print(word)\n",
    "\n",
    "if __name__ == \"__main__\":\n",
    "    input = ['goo', 'bat', 'me', 'eat', 'goal', 'boy', 'run']\n",
    "    charSet = ['e', 'o', 'b', 'a', 'm', 'g', 'l']\n",
    "    possible_words(input, charSet)"
   ]
  },
  {
   "cell_type": "markdown",
   "id": "580835cc",
   "metadata": {},
   "source": [
    "### 10. Write a Python code for finding Maximum record value key in dictionary"
   ]
  },
  {
   "cell_type": "code",
   "execution_count": 5,
   "id": "0414164e",
   "metadata": {},
   "outputs": [
    {
     "name": "stdout",
     "output_type": "stream",
     "text": [
      "The original dictionary is : {'Learnbay': {'Manjeet': 5, 'Himani': 10}, 'is': {'Manjeet': 8, 'Himani': 9}, 'best': {'Manjeet': 10, 'Himani': 15}}\n",
      "The required key is : best\n"
     ]
    }
   ],
   "source": [
    "# Python3 code to demonstrate working of\n",
    "# Maximum record value key in dictionary\n",
    "# Using loop\n",
    "\n",
    "# initializing dictionary\n",
    "test_dict = {'Learnbay' : {'Manjeet' : 5, 'Himani' : 10},\n",
    "            'is' : {'Manjeet' : 8, 'Himani' : 9},\n",
    "            'best' : {'Manjeet' : 10, 'Himani' : 15}}\n",
    "\n",
    "# printing original dictionary\n",
    "print(\"The original dictionary is : \" + str(test_dict))\n",
    "\n",
    "# initializing search key\n",
    "key = 'Himani'\n",
    "\n",
    "# Maximum record value key in dictionary\n",
    "# Using loop\n",
    "res = None\n",
    "res_max = 0\n",
    "for sub in test_dict:\n",
    "    if test_dict[sub][key] > res_max:\n",
    "        res_max = test_dict[sub][key]\n",
    "        res = sub\n",
    "\n",
    "# printing result\n",
    "print(\"The required key is : \" + str(res))"
   ]
  },
  {
   "cell_type": "markdown",
   "id": "1c763a74",
   "metadata": {},
   "source": [
    "### 11. Write a Python Programme for Extracting values of Particular Key in Nested Values\n",
    "\n",
    "Example:\n",
    "\n",
    "Input : test_dict = {‘Learnbay’ : {“a” : 7, “b” : 9, “c” : 12}, ‘is’ : {“a” : 15, “b” : 19, “c” : 20}, ‘best’ :{“a” : 5, “b” : 10, “c” : 2}}, temp = “b”\n",
    "\n",
    "Output : [9, 10, 19]\n",
    "\n",
    "Explanation : All values of “b” key are extracted."
   ]
  },
  {
   "cell_type": "code",
   "execution_count": 8,
   "id": "22d3e379",
   "metadata": {},
   "outputs": [
    {
     "name": "stdout",
     "output_type": "stream",
     "text": [
      "The original dictionary is : {'Learnbay': {'a': 7, 'b': 9, 'c': 12}, 'is': {'a': 15, 'b': 19, 'c': 20}, 'best': {'a': 5, 'b': 10, 'c': 2}}\n",
      "The extracted values : [12, 20, 2]\n"
     ]
    }
   ],
   "source": [
    "# Python3 code to demonstrate working of\n",
    "# Extract values of Particular Key in Nested Values\n",
    "# Using list comprehension\n",
    "\n",
    "# initializing dictionary\n",
    "test_dict = {'Learnbay' : {\"a\" : 7, \"b\" : 9, \"c\" : 12},\n",
    "            'is' : {\"a\" : 15, \"b\" : 19, \"c\" : 20},\n",
    "            'best' :{\"a\" : 5, \"b\" : 10, \"c\" : 2}}\n",
    "\n",
    "# printing original dictionary\n",
    "print(\"The original dictionary is : \" + str(test_dict))\n",
    "\n",
    "# initializing key\n",
    "temp = \"c\"\n",
    "\n",
    "# using item() to extract key value pair as whole\n",
    "res = [val[temp] for key, val in test_dict.items() if temp in val]\n",
    "\n",
    "# printing result\n",
    "print(\"The extracted values : \" + str(res))"
   ]
  },
  {
   "cell_type": "code",
   "execution_count": null,
   "id": "f7495ada",
   "metadata": {},
   "outputs": [],
   "source": []
  }
 ],
 "metadata": {
  "kernelspec": {
   "display_name": "Python 3 (ipykernel)",
   "language": "python",
   "name": "python3"
  },
  "language_info": {
   "codemirror_mode": {
    "name": "ipython",
    "version": 3
   },
   "file_extension": ".py",
   "mimetype": "text/x-python",
   "name": "python",
   "nbconvert_exporter": "python",
   "pygments_lexer": "ipython3",
   "version": "3.9.7"
  }
 },
 "nbformat": 4,
 "nbformat_minor": 5
}
