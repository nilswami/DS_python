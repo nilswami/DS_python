{
 "cells": [
  {
   "cell_type": "markdown",
   "id": "30f8eaf6",
   "metadata": {},
   "source": [
    "### 1. Write a Python program to print a specified list after removing the 0th, 4th and 5th elements. \n",
    "\n",
    "Example:\n",
    "\n",
    "Input : ['Red', 'Green', 'White', 'Black', 'Pink', 'Yellow']\n",
    "\n",
    "Output :  ['Green', 'White', 'Black']"
   ]
  },
  {
   "cell_type": "code",
   "execution_count": 1,
   "id": "8f5b0c90",
   "metadata": {},
   "outputs": [
    {
     "name": "stdout",
     "output_type": "stream",
     "text": [
      "['Green', 'White', 'Black']\n"
     ]
    }
   ],
   "source": [
    "color = ['Red', 'Green', 'White', 'Black', 'Pink', 'Yellow']\n",
    "color = [x for (i,x) in enumerate(color) if i not in (0,4,5)]\n",
    "print(color)"
   ]
  },
  {
   "cell_type": "markdown",
   "id": "91ac5156",
   "metadata": {},
   "source": [
    "###  2. Write a Python function that takes two lists and returns True if they have at least one common member."
   ]
  },
  {
   "cell_type": "code",
   "execution_count": 2,
   "id": "ffda8eb4",
   "metadata": {},
   "outputs": [
    {
     "name": "stdout",
     "output_type": "stream",
     "text": [
      "True\n",
      "None\n"
     ]
    }
   ],
   "source": [
    "def common_data(list1, list2):\n",
    "     result = False\n",
    "     for x in list1:\n",
    "         for y in list2:\n",
    "             if x == y:\n",
    "                 result = True\n",
    "                 return result\n",
    "print(common_data([1,2,3,4,5], [5,6,7,8,9]))\n",
    "print(common_data([1,2,3,4,5], [6,7,8,9]))"
   ]
  },
  {
   "cell_type": "markdown",
   "id": "06debfb9",
   "metadata": {},
   "source": [
    "### 3. Write a Python program to shuffle and print a specified list. \n",
    "\n",
    "Example:\n",
    "\n",
    "Input : ['Red', 'Green', 'White', 'Black', 'Pink', 'Yellow']\n",
    "\n",
    "Output:  ['Red', 'Black', 'Green', 'White', 'Pink', 'Yellow']\n"
   ]
  },
  {
   "cell_type": "code",
   "execution_count": 3,
   "id": "fd8ee87c",
   "metadata": {
    "scrolled": true
   },
   "outputs": [
    {
     "name": "stdout",
     "output_type": "stream",
     "text": [
      "['Red', 'Black', 'Yellow', 'Green', 'Pink', 'White']\n"
     ]
    }
   ],
   "source": [
    "from random import shuffle\n",
    "color = ['Red', 'Green', 'White', 'Black', 'Pink', 'Yellow']\n",
    "shuffle(color)\n",
    "print(color)"
   ]
  },
  {
   "cell_type": "markdown",
   "id": "d5ada086",
   "metadata": {},
   "source": [
    "### 4. Write a Python program to generate and print a list except for the first 5 elements, where the values are square of numbers between 1 and 30 (both included). \n",
    "\n",
    "Example:\n",
    "\n",
    "Input :  i in range(1,31)\n",
    "\n",
    "Output : [36, 49, 64, 81, 100, 121, 144, 169, 196, 225, 256, 289, 324, 361, 400, 441, 484, 529, 576, 625, 676, 729, 784, 841, 900]"
   ]
  },
  {
   "cell_type": "code",
   "execution_count": 4,
   "id": "9ce5ac55",
   "metadata": {},
   "outputs": [
    {
     "name": "stdout",
     "output_type": "stream",
     "text": [
      "[36, 49, 64, 81, 100, 121, 144, 169, 196, 225, 256, 289, 324, 361, 400, 441, 484, 529, 576, 625, 676, 729, 784, 841, 900]\n"
     ]
    }
   ],
   "source": [
    "def printValues():\n",
    "    l = list()\n",
    "    for i in range(1,31):\n",
    "        l.append(i**2)\n",
    "    print(l[5:])\n",
    "printValues()"
   ]
  },
  {
   "cell_type": "markdown",
   "id": "05ce1a47",
   "metadata": {},
   "source": [
    "### 5. Write a Python program to get the difference between the two lists. \n",
    "\n",
    "Example:\n",
    "\n",
    "Input: list1 = [1, 3, 5, 7, 9]\n",
    "\n",
    "       list2=[1, 2, 4, 6, 7, 8]\n",
    "\n",
    "Output: [9, 3, 5, 8, 2, 4, 6]"
   ]
  },
  {
   "cell_type": "code",
   "execution_count": 5,
   "id": "21b7a55c",
   "metadata": {},
   "outputs": [
    {
     "name": "stdout",
     "output_type": "stream",
     "text": [
      "[9, 3, 5, 8, 2, 4, 6]\n"
     ]
    }
   ],
   "source": [
    "list1 = [1, 3, 5, 7, 9]\n",
    "list2=[1, 2, 4, 6, 7, 8]\n",
    "diff_list1_list2 = list(set(list1) - set(list2))\n",
    "diff_list2_list1 = list(set(list2) - set(list1))\n",
    "total_diff = diff_list1_list2 + diff_list2_list1\n",
    "print(total_diff)"
   ]
  },
  {
   "cell_type": "markdown",
   "id": "039005ee",
   "metadata": {},
   "source": [
    "### 6. Write a Python program to convert a list of characters into a string. \n",
    "\n",
    "Example:\n",
    "\n",
    "Input : ['a', 'b', 'c', 'd']\n",
    "\n",
    "Output : abcd"
   ]
  },
  {
   "cell_type": "code",
   "execution_count": 6,
   "id": "2d047fa9",
   "metadata": {},
   "outputs": [
    {
     "name": "stdout",
     "output_type": "stream",
     "text": [
      "abcd\n"
     ]
    }
   ],
   "source": [
    "s = ['a', 'b', 'c', 'd']\n",
    "str1 = ''.join(s)\n",
    "print(str1)"
   ]
  },
  {
   "cell_type": "markdown",
   "id": "74347430",
   "metadata": {},
   "source": [
    "### 7. Write a Python program to flatten a shallow list.\n",
    "\n",
    "Example:\n",
    "\n",
    "Input : [[2,4,3],[1,5,6], [9], [7,9,0]]\n",
    "\n",
    "Output : [2, 4, 3, 1, 5, 6, 9, 7, 9, 0]"
   ]
  },
  {
   "cell_type": "code",
   "execution_count": 7,
   "id": "c2f893dd",
   "metadata": {},
   "outputs": [
    {
     "name": "stdout",
     "output_type": "stream",
     "text": [
      "[2, 4, 3, 1, 5, 6, 9, 7, 9, 0]\n"
     ]
    }
   ],
   "source": [
    "import itertools\n",
    "original_list = [[2,4,3],[1,5,6], [9], [7,9,0]]\n",
    "new_merged_list = list(itertools.chain(*original_list))\n",
    "print(new_merged_list)"
   ]
  },
  {
   "cell_type": "markdown",
   "id": "6aa2ddb9",
   "metadata": {},
   "source": [
    "### 8. Write a Python program to select an item randomly from a list. \n",
    "\n",
    "Example:\n",
    "\n",
    "Input : [2, 3, 4, 7, 9, 11, 15] \n",
    "\n",
    "Output : 7"
   ]
  },
  {
   "cell_type": "code",
   "execution_count": 8,
   "id": "a13399fa",
   "metadata": {},
   "outputs": [
    {
     "name": "stdout",
     "output_type": "stream",
     "text": [
      "15\n"
     ]
    }
   ],
   "source": [
    "from random import choice\n",
    "def random_element(lst):\n",
    "  return choice(lst) \n",
    "print(random_element([2, 3, 4, 7, 9, 11, 15]))"
   ]
  },
  {
   "cell_type": "markdown",
   "id": "66fb438b",
   "metadata": {},
   "source": [
    "### 9. Write a python program to check whether two lists are circularly identical.\n",
    "\n",
    "Example:\n",
    "\n",
    "Input : list1 = [10, 10, 0, 0, 10]\n",
    "\n",
    "        list2 = [10, 10, 10, 0, 0]\n",
    "\n",
    "        list3 = [1, 10, 10, 0, 0]\n",
    "\n",
    "Output : Compare list1 and list2\n",
    "\n",
    "         True\n",
    "\n",
    "        Compare list1 and list3\n",
    "\n",
    "        False"
   ]
  },
  {
   "cell_type": "code",
   "execution_count": 9,
   "id": "55b2d717",
   "metadata": {},
   "outputs": [
    {
     "name": "stdout",
     "output_type": "stream",
     "text": [
      "Compare list1 and list2\n",
      "True\n",
      "Compare list1 and list3\n",
      "False\n"
     ]
    }
   ],
   "source": [
    "list1 = [10, 10, 0, 0, 10]\n",
    "list2 = [10, 10, 10, 0, 0]\n",
    "list3 = [1, 10, 10, 0, 0]\n",
    "\n",
    "print('Compare list1 and list2')\n",
    "print(' '.join(map(str, list2)) in ' '.join(map(str, list1 * 2)))\n",
    "print('Compare list1 and list3')\n",
    "print(' '.join(map(str, list3)) in ' '.join(map(str, list1 * 2)))"
   ]
  },
  {
   "cell_type": "markdown",
   "id": "7d74efe7",
   "metadata": {},
   "source": [
    "### 10. Write a Python program to find the second largest number in a list.\n",
    "\n",
    "Example:\n",
    "\n",
    "Input : [1,2,3,4,4]\n",
    "\n",
    "        [1, 1, 1, 0, 0, 0, 2, -2, -2]\n",
    "        \n",
    "        [2,2]\n",
    "        \n",
    "        [1]\n",
    "\n",
    "\n",
    "Output : 3\n",
    "\n",
    "         1\n",
    "         \n",
    "        None\n",
    "        \n",
    "        None\n"
   ]
  },
  {
   "cell_type": "code",
   "execution_count": 10,
   "id": "b5802de2",
   "metadata": {},
   "outputs": [
    {
     "name": "stdout",
     "output_type": "stream",
     "text": [
      "3\n",
      "1\n",
      "None\n",
      "None\n"
     ]
    }
   ],
   "source": [
    "def second_largest(numbers):\n",
    "  if (len(numbers)<2):\n",
    "    return\n",
    "  if ((len(numbers)==2)  and (numbers[0] == numbers[1]) ):\n",
    "    return\n",
    "  dup_items = set()\n",
    "  uniq_items = []\n",
    "  for x in numbers:\n",
    "    if x not in dup_items:\n",
    "      uniq_items.append(x)\n",
    "      dup_items.add(x)\n",
    "  uniq_items.sort()    \n",
    "  return  uniq_items[-2]   \n",
    "print(second_largest([1,2,3,4,4]))\n",
    "print(second_largest([1, 1, 1, 0, 0, 0, 2, -2, -2]))\n",
    "print(second_largest([2,2]))\n",
    "print(second_largest([1]))\n"
   ]
  },
  {
   "cell_type": "code",
   "execution_count": null,
   "id": "37ce1945",
   "metadata": {},
   "outputs": [],
   "source": []
  }
 ],
 "metadata": {
  "kernelspec": {
   "display_name": "Python 3 (ipykernel)",
   "language": "python",
   "name": "python3"
  },
  "language_info": {
   "codemirror_mode": {
    "name": "ipython",
    "version": 3
   },
   "file_extension": ".py",
   "mimetype": "text/x-python",
   "name": "python",
   "nbconvert_exporter": "python",
   "pygments_lexer": "ipython3",
   "version": "3.9.7"
  }
 },
 "nbformat": 4,
 "nbformat_minor": 5
}
