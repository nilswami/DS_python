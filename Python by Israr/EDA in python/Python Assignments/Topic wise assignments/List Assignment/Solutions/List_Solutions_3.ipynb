{
 "cells": [
  {
   "cell_type": "markdown",
   "id": "3e9d9b58",
   "metadata": {},
   "source": [
    "### 1. Write a Python program to get the frequency of the elements in a list.\n",
    "\n",
    "Example:\n",
    "\n",
    "Input : [10,10,10,10,20,20,20,20,40,40,50,50,30]\n",
    "\n",
    "Output : Original List :  [10, 10, 10, 10, 20, 20, 20, 20, 40, 40, 50, 50, 30]\n",
    "\n",
    "        Frequency of the elements in the List :  Counter({10: 4, 20: 4, 40: 2, 50: 2, 30: 1})"
   ]
  },
  {
   "cell_type": "code",
   "execution_count": 1,
   "id": "48934d95",
   "metadata": {},
   "outputs": [
    {
     "name": "stdout",
     "output_type": "stream",
     "text": [
      "Original List :  [10, 10, 10, 10, 20, 20, 20, 20, 40, 40, 50, 50, 30]\n",
      "Frequency of the elements in the List :  Counter({10: 4, 20: 4, 40: 2, 50: 2, 30: 1})\n"
     ]
    }
   ],
   "source": [
    "import collections\n",
    "my_list = [10,10,10,10,20,20,20,20,40,40,50,50,30]\n",
    "print(\"Original List : \",my_list)\n",
    "ctr = collections.Counter(my_list)\n",
    "print(\"Frequency of the elements in the List : \",ctr)"
   ]
  },
  {
   "cell_type": "markdown",
   "id": "9774b49b",
   "metadata": {},
   "source": [
    "### 2. Write a Python program to check whether a list contains a sublist. \n",
    "\n",
    "Example:\n",
    "\n",
    "Input : a = [2,4,3,5,7]\n",
    "\n",
    "        b = [4,3]\n",
    "        \n",
    "        c = [3,7]\n",
    "\n",
    "Output : True \n",
    "\n",
    "         False"
   ]
  },
  {
   "cell_type": "code",
   "execution_count": 6,
   "id": "e48faf5c",
   "metadata": {},
   "outputs": [
    {
     "name": "stdout",
     "output_type": "stream",
     "text": [
      "True\n",
      "False\n"
     ]
    }
   ],
   "source": [
    "\n",
    "def is_Sublist(l, s):\n",
    "    sub_set = False\n",
    "    if s == []:\n",
    "        sub_set = True\n",
    "    elif s == l:\n",
    "        sub_set = True\n",
    "    elif len(s) > len(l):\n",
    "        sub_set = False\n",
    "\n",
    "    else:\n",
    "        for i in range(len(l)):\n",
    "            if l[i] == s[0]:\n",
    "                n = 1\n",
    "                while (n < len(s)) and (l[i+n] == s[n]):\n",
    "                    n += 1\n",
    "\n",
    "                if n == len(s):\n",
    "                    sub_set = True\n",
    "\n",
    "    return sub_set\n",
    "\n",
    "a = [2,4,3,5,7]\n",
    "b = [4,3]\n",
    "c = [3,7]\n",
    "print(is_Sublist(a, b))\n",
    "print(is_Sublist(a, c))\n"
   ]
  },
  {
   "cell_type": "markdown",
   "id": "a4bcc4d7",
   "metadata": {},
   "source": [
    "### 3. Write a Python program to get variable unique identification number or string. \n",
    "\n",
    "Example:\n",
    "\n",
    "Input : x = 100\n",
    "\n",
    "Output : 15308cb55d0\n",
    "\n",
    "        1530dad5bf0\n"
   ]
  },
  {
   "cell_type": "code",
   "execution_count": 11,
   "id": "9f8d3117",
   "metadata": {},
   "outputs": [
    {
     "name": "stdout",
     "output_type": "stream",
     "text": [
      "15308cb55d0\n",
      "1530dad5bf0\n"
     ]
    }
   ],
   "source": [
    "x = 100\n",
    "print(format(id(x), 'x'))\n",
    "s = 'Learnbay'\n",
    "print(format(id(s), 'x')) "
   ]
  },
  {
   "cell_type": "markdown",
   "id": "87fb1e9b",
   "metadata": {},
   "source": [
    "### 4. Write a Python program to find common items from two lists.\n",
    "\n",
    "Example:\n",
    "\n",
    "Input : color1 = \"Red\", \"Green\", \"Orange\", \"White\"\n",
    "\n",
    "        color2 = \"Black\", \"Green\", \"White\", \"Pink\"\n",
    "\n",
    "\n",
    "Output : {'White', 'Green'}\n"
   ]
  },
  {
   "cell_type": "code",
   "execution_count": 13,
   "id": "f447eafb",
   "metadata": {
    "scrolled": true
   },
   "outputs": [
    {
     "name": "stdout",
     "output_type": "stream",
     "text": [
      "{'White', 'Green'}\n"
     ]
    }
   ],
   "source": [
    "color1 = \"Red\", \"Green\", \"Orange\", \"White\"\n",
    "color2 = \"Black\", \"Green\", \"White\", \"Pink\"\n",
    "print(set(color1) & set(color2))"
   ]
  },
  {
   "cell_type": "markdown",
   "id": "bdd1f930",
   "metadata": {},
   "source": [
    "### 5. Write a Python program to convert a list of multiple integers into a single integer.\n",
    "\n",
    "Example:\n",
    "\n",
    "Input : [11, 33, 50]\n",
    "\n",
    "Output : 113350"
   ]
  },
  {
   "cell_type": "code",
   "execution_count": 14,
   "id": "a7011068",
   "metadata": {},
   "outputs": [
    {
     "name": "stdout",
     "output_type": "stream",
     "text": [
      "Original List:  [11, 33, 50]\n",
      "Single Integer:  113350\n"
     ]
    }
   ],
   "source": [
    "L = [11, 33, 50]\n",
    "print(\"Original List: \",L)\n",
    "x = int(\"\".join(map(str, L)))\n",
    "print(\"Single Integer: \",x)"
   ]
  },
  {
   "cell_type": "markdown",
   "id": "97d795f0",
   "metadata": {},
   "source": [
    "### 6. Write a Python program to find missing and additional values in two lists.\n",
    "\n",
    "Example:\n",
    "\n",
    "Input : Missing values in second list: b,a,c\n",
    "\n",
    "        Additional values in second list: g,h\n",
    "\n",
    "\n",
    "Output : Missing values in second list:  c,b,a\n",
    "\n",
    "         Additional values in second list:  h,g\n"
   ]
  },
  {
   "cell_type": "code",
   "execution_count": 15,
   "id": "4e58012c",
   "metadata": {},
   "outputs": [
    {
     "name": "stdout",
     "output_type": "stream",
     "text": [
      "Missing values in second list:  c,b,a\n",
      "Additional values in second list:  h,g\n"
     ]
    }
   ],
   "source": [
    "list1 = ['a','b','c','d','e','f']\n",
    "list2 = ['d','e','f','g','h']\n",
    "print('Missing values in second list: ', ','.join(set(list1).difference(list2)))\n",
    "print('Additional values in second list: ', ','.join(set(list2).difference(list1)))"
   ]
  },
  {
   "cell_type": "markdown",
   "id": "90e242f6",
   "metadata": {},
   "source": [
    "### 7. Write a Python program to convert a pair of values into a sorted unique array.\n",
    "\n",
    "Example:\n",
    "\n",
    "Input : [(1, 2), (3, 4), (1, 2), (5, 6), (7, 8), (1, 2), (3, 4), (3, 4),\n",
    "\n",
    "         (7, 8), (9, 10)]\n",
    "\n",
    "Output : [1, 2, 3, 4, 5, 6, 7, 8, 9, 10]"
   ]
  },
  {
   "cell_type": "code",
   "execution_count": 18,
   "id": "1232f80a",
   "metadata": {},
   "outputs": [
    {
     "name": "stdout",
     "output_type": "stream",
     "text": [
      "Original List:  [(1, 2), (3, 4), (1, 2), (5, 6), (7, 8), (1, 2), (3, 4), (3, 4), (7, 8), (9, 10)]\n",
      "Sorted Unique Data: [1, 2, 3, 4, 5, 6, 7, 8, 9, 10]\n"
     ]
    }
   ],
   "source": [
    "L = [(1, 2), (3, 4), (1, 2), (5, 6), (7, 8), (1, 2), (3, 4), (3, 4),\n",
    " (7, 8), (9, 10)]\n",
    "print(\"Original List: \", L)\n",
    "print(\"Sorted Unique Data:\",sorted(set().union(*L)))"
   ]
  },
  {
   "cell_type": "markdown",
   "id": "d9c4706a",
   "metadata": {},
   "source": [
    "### 8. Write a Python program to insert an element before each element of a list.\n",
    "\n",
    "Example:\n",
    "\n",
    "Input : ['Red', 'Green', 'Black']\n",
    "        \n",
    "        \n",
    "\n",
    "Output :  ['c', 'Red', 'c', 'Green', 'c', 'Black']"
   ]
  },
  {
   "cell_type": "code",
   "execution_count": 20,
   "id": "6ef23da7",
   "metadata": {},
   "outputs": [
    {
     "name": "stdout",
     "output_type": "stream",
     "text": [
      "Original List:  ['Red', 'Green', 'Black']\n",
      "Original List:  ['c', 'Red', 'c', 'Green', 'c', 'Black']\n"
     ]
    }
   ],
   "source": [
    "color = ['Red', 'Green', 'Black']\n",
    "print(\"Original List: \",color)\n",
    "color = [v for elt in color for v in ('c', elt)]\n",
    "print(\"Original List: \",color)"
   ]
  },
  {
   "cell_type": "markdown",
   "id": "ad9b1673",
   "metadata": {},
   "source": [
    "### 9. Write a Python program to sort a list of nested dictionaries.\n",
    "\n",
    "Example:\n",
    "\n",
    "Input :  [{'key': {'subkey': 1}}, {'key': {'subkey': 10}}, {'key': {'subkey': 5}}]\n",
    "\n",
    "Output : [{'key': {'subkey': 10}}, {'key': {'subkey': 5}}, {'key': {'subkey': 1}}]"
   ]
  },
  {
   "cell_type": "code",
   "execution_count": 22,
   "id": "f50811c3",
   "metadata": {},
   "outputs": [
    {
     "name": "stdout",
     "output_type": "stream",
     "text": [
      "Original List: \n",
      "[{'key': {'subkey': 1}}, {'key': {'subkey': 10}}, {'key': {'subkey': 5}}]\n",
      "Sorted List: \n",
      "[{'key': {'subkey': 10}}, {'key': {'subkey': 5}}, {'key': {'subkey': 1}}]\n"
     ]
    }
   ],
   "source": [
    "my_list = [{'key': {'subkey': 1}}, {'key': {'subkey': 10}}, {'key': {'subkey': 5}}]\n",
    "print(\"Original List: \")\n",
    "print(my_list)\n",
    "my_list.sort(key=lambda e: e['key']['subkey'], reverse=True)\n",
    "print(\"Sorted List: \")\n",
    "print(my_list)"
   ]
  },
  {
   "cell_type": "markdown",
   "id": "2d0a2de0",
   "metadata": {},
   "source": [
    "### 10. Write a Python program to compute the difference between two lists. \n",
    "\n",
    "Example:\n",
    "\n",
    "Input : [\"red\", \"orange\", \"green\", \"blue\", \"white\"], [\"black\", \"yellow\", \"green\", \"blue\"]\n",
    "\n",
    "Output : Color1-Color2: ['white', 'orange', 'red']\n",
    "\n",
    "            Color2-Color1: ['black', 'yellow']"
   ]
  },
  {
   "cell_type": "code",
   "execution_count": 1,
   "id": "62b80459",
   "metadata": {},
   "outputs": [
    {
     "name": "stdout",
     "output_type": "stream",
     "text": [
      "Color1-Color2:  ['red', 'orange', 'white']\n",
      "Color2-Color1:  ['black', 'yellow']\n"
     ]
    }
   ],
   "source": [
    "from collections import Counter\n",
    "color1 = [\"red\", \"orange\", \"green\", \"blue\", \"white\"]\n",
    "color2 = [\"black\", \"yellow\", \"green\", \"blue\"]\n",
    "counter1 = Counter(color1)\n",
    "counter2 = Counter(color2)\n",
    "print(\"Color1-Color2: \",list(counter1 - counter2))\n",
    "print(\"Color2-Color1: \",list(counter2 - counter1))"
   ]
  },
  {
   "cell_type": "code",
   "execution_count": null,
   "id": "791e45ed",
   "metadata": {},
   "outputs": [],
   "source": []
  }
 ],
 "metadata": {
  "kernelspec": {
   "display_name": "Python 3 (ipykernel)",
   "language": "python",
   "name": "python3"
  },
  "language_info": {
   "codemirror_mode": {
    "name": "ipython",
    "version": 3
   },
   "file_extension": ".py",
   "mimetype": "text/x-python",
   "name": "python",
   "nbconvert_exporter": "python",
   "pygments_lexer": "ipython3",
   "version": "3.9.7"
  }
 },
 "nbformat": 4,
 "nbformat_minor": 5
}
