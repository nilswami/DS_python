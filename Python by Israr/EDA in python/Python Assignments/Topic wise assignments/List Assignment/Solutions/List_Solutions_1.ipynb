{
 "cells": [
  {
   "cell_type": "markdown",
   "id": "97c229c6",
   "metadata": {},
   "source": [
    "### 1. Write a Python program to sum all the items in a list.\n",
    "\n",
    "Example:\n",
    "\n",
    "Input : 1,2,-8\n",
    "\n",
    "Output : -5\n"
   ]
  },
  {
   "cell_type": "code",
   "execution_count": 1,
   "id": "33c49e6d",
   "metadata": {},
   "outputs": [
    {
     "name": "stdout",
     "output_type": "stream",
     "text": [
      "-5\n"
     ]
    }
   ],
   "source": [
    "def sum_list(items):\n",
    "    sum_numbers = 0\n",
    "    for x in items:\n",
    "        sum_numbers += x\n",
    "    return sum_numbers\n",
    "print(sum_list([1,2,-8]))"
   ]
  },
  {
   "cell_type": "markdown",
   "id": "5b025e5c",
   "metadata": {},
   "source": [
    "###  2. Write a Python program to multiply all the items in a list.\n",
    "\n",
    "Example:\n",
    "\n",
    "Input : 1,2,-8\n",
    "\n",
    "Output : -16"
   ]
  },
  {
   "cell_type": "code",
   "execution_count": 2,
   "id": "613655b7",
   "metadata": {},
   "outputs": [
    {
     "name": "stdout",
     "output_type": "stream",
     "text": [
      "-16\n"
     ]
    }
   ],
   "source": [
    "def multiply_list(items):\n",
    "    tot = 1\n",
    "    for x in items:\n",
    "        tot *= x\n",
    "    return tot\n",
    "print(multiply_list([1,2,-8]))"
   ]
  },
  {
   "cell_type": "markdown",
   "id": "ddb44a9a",
   "metadata": {},
   "source": [
    "### 3. Write a Python program to get the largest number from a list. \n",
    "\n",
    "Example:\n",
    "\n",
    "Input : 1, 2, -8, 0\n",
    "\n",
    "Output : 2"
   ]
  },
  {
   "cell_type": "code",
   "execution_count": 3,
   "id": "aff6bc4e",
   "metadata": {},
   "outputs": [
    {
     "name": "stdout",
     "output_type": "stream",
     "text": [
      "2\n"
     ]
    }
   ],
   "source": [
    "def max_num_in_list( list ):\n",
    "    max = list[ 0 ]\n",
    "    for a in list:\n",
    "        if a > max:\n",
    "            max = a\n",
    "    return max\n",
    "print(max_num_in_list([1, 2, -8, 0]))"
   ]
  },
  {
   "cell_type": "markdown",
   "id": "0f0bc94f",
   "metadata": {},
   "source": [
    "### 4. Write a Python program to get the smallest number from a list. \n",
    "\n",
    "Example:\n",
    "\n",
    "Input : 1, 2, -8, 0\n",
    "\n",
    "Output : -8\n"
   ]
  },
  {
   "cell_type": "code",
   "execution_count": 4,
   "id": "dd4c94ed",
   "metadata": {},
   "outputs": [
    {
     "name": "stdout",
     "output_type": "stream",
     "text": [
      "-8\n"
     ]
    }
   ],
   "source": [
    "def smallest_num_in_list( list ):\n",
    "    min = list[ 0 ]\n",
    "    for a in list:\n",
    "        if a < min:\n",
    "            min = a\n",
    "    return min\n",
    "print(smallest_num_in_list([1, 2, -8, 0]))"
   ]
  },
  {
   "cell_type": "markdown",
   "id": "75a24553",
   "metadata": {},
   "source": [
    "### 5. Write a Python program to count the number of strings where the string length is 2 or more and the first and last character are same from a given list of strings. Go to the editor\n",
    "\n",
    "Example:\n",
    "\n",
    "Input : ['abc', 'xyz', 'aba', '1221']\n",
    "\n",
    "Output : 2"
   ]
  },
  {
   "cell_type": "code",
   "execution_count": 5,
   "id": "f30e50d6",
   "metadata": {},
   "outputs": [
    {
     "name": "stdout",
     "output_type": "stream",
     "text": [
      "2\n"
     ]
    }
   ],
   "source": [
    "def match_words(words):\n",
    "  ctr = 0\n",
    "\n",
    "  for word in words:\n",
    "    if len(word) > 1 and word[0] == word[-1]:\n",
    "      ctr += 1\n",
    "  return ctr\n",
    "\n",
    "print(match_words(['abc', 'xyz', 'aba', '1221']))\n"
   ]
  },
  {
   "cell_type": "markdown",
   "id": "4218d932",
   "metadata": {},
   "source": [
    "### 6. Write a Python program to get a list, sorted in increasing order by the last element in each tuple from a given list of non-empty tuples. Go to the editor\n",
    "\n",
    "Example:\n",
    "\n",
    "Input : [(2, 5), (1, 2), (4, 4), (2, 3), (2, 1)]\n",
    "\n",
    "Output : [(2, 1), (1, 2), (2, 3), (4, 4), (2, 5)]\n"
   ]
  },
  {
   "cell_type": "code",
   "execution_count": 6,
   "id": "04c596cf",
   "metadata": {},
   "outputs": [
    {
     "name": "stdout",
     "output_type": "stream",
     "text": [
      "[(2, 1), (1, 2), (2, 3), (4, 4), (2, 5)]\n"
     ]
    }
   ],
   "source": [
    "def last(n): return n[-1]\n",
    "\n",
    "def sort_list_last(tuples):\n",
    "  return sorted(tuples, key=last)\n",
    "\n",
    "print(sort_list_last([(2, 5), (1, 2), (4, 4), (2, 3), (2, 1)]))"
   ]
  },
  {
   "cell_type": "markdown",
   "id": "dff6bbb0",
   "metadata": {},
   "source": [
    "### 7. Write a Python program to remove duplicates from a list. Go to the editor\n",
    "\n",
    "Example:\n",
    "\n",
    "Input : 10,20,30,20,10,50,60,40,80,50,40\n",
    "\n",
    "Output: 40, 10, 80, 50, 20, 60, 30\n"
   ]
  },
  {
   "cell_type": "code",
   "execution_count": 1,
   "id": "d574e115",
   "metadata": {},
   "outputs": [
    {
     "name": "stdout",
     "output_type": "stream",
     "text": [
      "{40, 10, 80, 50, 20, 60, 30}\n"
     ]
    }
   ],
   "source": [
    "a = [10,20,30,20,10,50,60,40,80,50,40]\n",
    "\n",
    "dup_items = set()\n",
    "uniq_items = []\n",
    "for x in a:\n",
    "    if x not in dup_items:\n",
    "        uniq_items.append(x)\n",
    "        dup_items.add(x)\n",
    "\n",
    "print(dup_items)"
   ]
  },
  {
   "cell_type": "markdown",
   "id": "62d2b092",
   "metadata": {},
   "source": [
    "### 8. Write a Python program to check a list is empty or not. \n",
    "\n",
    "Example:\n",
    "\n",
    "Input: []\n",
    "\n",
    "Output: (\"List is empty\")"
   ]
  },
  {
   "cell_type": "code",
   "execution_count": 3,
   "id": "190af1bc",
   "metadata": {},
   "outputs": [
    {
     "name": "stdout",
     "output_type": "stream",
     "text": [
      "List is empty\n"
     ]
    }
   ],
   "source": [
    "l = []\n",
    "if not l:\n",
    "  print(\"List is empty\")\n",
    "  "
   ]
  },
  {
   "cell_type": "markdown",
   "id": "8c87f784",
   "metadata": {},
   "source": [
    "### 9. Write a Python program to clone or copy a list.\n",
    "\n",
    "Example:\n",
    "\n",
    "Input : 10, 22, 44, 23, 4\n",
    "\n",
    "Output : [10, 22, 44, 23, 4]\n",
    "\n",
    "        [10, 22, 44, 23, 4]"
   ]
  },
  {
   "cell_type": "code",
   "execution_count": 5,
   "id": "85330fb9",
   "metadata": {},
   "outputs": [
    {
     "name": "stdout",
     "output_type": "stream",
     "text": [
      "[10, 22, 44, 23, 4]\n",
      "[10, 22, 44, 23, 4]\n"
     ]
    }
   ],
   "source": [
    "original_list = [10, 22, 44, 23, 4]\n",
    "new_list = list(original_list)\n",
    "print(original_list)\n",
    "print(new_list)"
   ]
  },
  {
   "cell_type": "markdown",
   "id": "5fb4ad3e",
   "metadata": {},
   "source": [
    "### 10. Write a Python program to find the list of words that are longer than n from a given list of words.\n",
    "\n",
    "Example:\n",
    "\n",
    "Input : \"Learnbay Data Science\"\n",
    "\n",
    "Output: ['Learnbay', 'Data', 'Science']\n"
   ]
  },
  {
   "cell_type": "code",
   "execution_count": 8,
   "id": "a35af199",
   "metadata": {
    "scrolled": true
   },
   "outputs": [
    {
     "name": "stdout",
     "output_type": "stream",
     "text": [
      "['Learnbay', 'Data', 'Science']\n"
     ]
    }
   ],
   "source": [
    "def long_words(n, str):\n",
    "    word_len = []\n",
    "    txt = str.split(\" \")\n",
    "    for x in txt:\n",
    "        if len(x) > n:\n",
    "            word_len.append(x)\n",
    "    return word_len\t\n",
    "print(long_words(3, \"Learnbay Data Science\"))"
   ]
  },
  {
   "cell_type": "code",
   "execution_count": null,
   "id": "771aca1c",
   "metadata": {},
   "outputs": [],
   "source": []
  }
 ],
 "metadata": {
  "kernelspec": {
   "display_name": "Python 3 (ipykernel)",
   "language": "python",
   "name": "python3"
  },
  "language_info": {
   "codemirror_mode": {
    "name": "ipython",
    "version": 3
   },
   "file_extension": ".py",
   "mimetype": "text/x-python",
   "name": "python",
   "nbconvert_exporter": "python",
   "pygments_lexer": "ipython3",
   "version": "3.9.7"
  }
 },
 "nbformat": 4,
 "nbformat_minor": 5
}
