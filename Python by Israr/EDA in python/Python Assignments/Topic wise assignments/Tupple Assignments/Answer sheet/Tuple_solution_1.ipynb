{
 "cells": [
  {
   "cell_type": "markdown",
   "id": "fba30ec0",
   "metadata": {},
   "source": [
    "### 1. Write a Python Proramme to Find the size of a Tuple\n"
   ]
  },
  {
   "cell_type": "code",
   "execution_count": 2,
   "id": "f20e1e7e",
   "metadata": {},
   "outputs": [
    {
     "name": "stdout",
     "output_type": "stream",
     "text": [
      "Size of Tuple1: 88bytes\n",
      "Size of Tuple2: 88bytes\n",
      "Size of Tuple3: 72bytes\n"
     ]
    }
   ],
   "source": [
    "import sys\n",
    "\n",
    "# sample Tuples\n",
    "Tuple1 = (\"A\", 1, \"B\", 2, \"C\", 3)\n",
    "Tuple2 = (\"Student1\", \"Raju\", \"Student2\", \"Nikhil\", \"Student3\", \"Deepanshu\")\n",
    "Tuple3 = ((1, \"Lion\"), ( 2, \"Tiger\"), (3, \"Fox\"), (4, \"Wolf\"))\n",
    "\n",
    "# print the sizes of sample Tuples\n",
    "print(\"Size of Tuple1: \" + str(sys.getsizeof(Tuple1)) + \"bytes\")\n",
    "print(\"Size of Tuple2: \" + str(sys.getsizeof(Tuple2)) + \"bytes\")\n",
    "print(\"Size of Tuple3: \" + str(sys.getsizeof(Tuple3)) + \"bytes\")\n"
   ]
  },
  {
   "cell_type": "markdown",
   "id": "750ef820",
   "metadata": {},
   "source": [
    "### 2. Write a Python Programme to find Maximum and Minimum K elements in Tuple\n",
    "\n",
    "Example:\n",
    "\n",
    "Input : test_tup = (5, 20, 3, 7, 6, 8), k = 2\n",
    "\n",
    "Output : (3, 5, 8, 20)"
   ]
  },
  {
   "cell_type": "code",
   "execution_count": 4,
   "id": "203476f0",
   "metadata": {},
   "outputs": [
    {
     "name": "stdout",
     "output_type": "stream",
     "text": [
      "The original tuple is : (5, 20, 3, 7, 6, 8)\n",
      "The extracted values : (3, 5, 8, 20)\n"
     ]
    }
   ],
   "source": [
    "# Python3 code to demonstrate working of\n",
    "# Maximum and Minimum K elements in Tuple\n",
    "# Using sorted() + loop\n",
    "\n",
    "# initializing tuple\n",
    "test_tup = (5, 20, 3, 7, 6, 8)\n",
    "\n",
    "# printing original tuple\n",
    "print(\"The original tuple is : \" + str(test_tup))\n",
    "\n",
    "# initializing K\n",
    "K = 2\n",
    "\n",
    "# Maximum and Minimum K elements in Tuple\n",
    "# Using sorted() + loop\n",
    "res = []\n",
    "test_tup = list(sorted(test_tup))\n",
    "\n",
    "for idx, val in enumerate(test_tup):\n",
    "    if idx < K or idx >= len(test_tup) - K:\n",
    "        res.append(val)\n",
    "res = tuple(res)\n",
    "\n",
    "# printing result\n",
    "print(\"The extracted values : \" + str(res))"
   ]
  },
  {
   "cell_type": "markdown",
   "id": "3fdba186",
   "metadata": {},
   "source": [
    "### 3. Write a Python program to create a list of tuples from given list having number and its cube in each tuple.\n",
    "\n",
    "Example:\n",
    "\n",
    "Input: list = [1, 2, 5, 6]\n",
    "\n",
    "Output: [(1, 1), (2, 8), (5, 125), (6, 216)]"
   ]
  },
  {
   "cell_type": "code",
   "execution_count": 5,
   "id": "b7654329",
   "metadata": {},
   "outputs": [
    {
     "name": "stdout",
     "output_type": "stream",
     "text": [
      "[(1, 1), (2, 8), (5, 125), (6, 216)]\n"
     ]
    }
   ],
   "source": [
    "# Python program to create a list of tuples\n",
    "# from given list having number and\n",
    "# its cube in each tuple\n",
    "\n",
    "# creating a list\n",
    "list1 = [1, 2, 5, 6]\n",
    "\n",
    "# using list comprehension to iterate each\n",
    "# values in list and create a tuple as specified\n",
    "res = [(val, pow(val, 3)) for val in list1]\n",
    "\n",
    "# print the result\n",
    "print(res)"
   ]
  },
  {
   "cell_type": "markdown",
   "id": "7d6b3dda",
   "metadata": {},
   "source": [
    "### 4. Write a Python Program for Adding Tuple to List and vice – versa.\n"
   ]
  },
  {
   "cell_type": "code",
   "execution_count": 6,
   "id": "5bfb4be2",
   "metadata": {},
   "outputs": [
    {
     "name": "stdout",
     "output_type": "stream",
     "text": [
      "The original list is : [5, 6, 7]\n",
      "The container after addition : [5, 6, 7, 9, 10]\n"
     ]
    }
   ],
   "source": [
    "# Python3 code to demonstrate working of\n",
    "# Adding Tuple to List and vice - versa\n",
    "# Using += operator (list + tuple)\n",
    "\n",
    "# initializing list\n",
    "test_list = [5, 6, 7]\n",
    "\n",
    "# printing original list\n",
    "print(\"The original list is : \" + str(test_list))\n",
    "\n",
    "# initializing tuple\n",
    "test_tup = (9, 10)\n",
    "\n",
    "# Adding Tuple to List and vice - versa\n",
    "# Using += operator (list + tuple)\n",
    "test_list += test_tup\n",
    "\n",
    "# printing result\n",
    "print(\"The container after addition : \" + str(test_list))"
   ]
  },
  {
   "cell_type": "markdown",
   "id": "af055652",
   "metadata": {},
   "source": [
    "### 5. Write a Python Program for Summation of tuple elements.\n"
   ]
  },
  {
   "cell_type": "code",
   "execution_count": 7,
   "id": "f8390ec7",
   "metadata": {},
   "outputs": [
    {
     "name": "stdout",
     "output_type": "stream",
     "text": [
      "The original tuple is : (7, 8, 9, 1, 10, 7)\n",
      "The summation of tuple elements are : 42\n"
     ]
    }
   ],
   "source": [
    "# Python3 code to demonstrate working of\n",
    "# Tuple summation\n",
    "# Using list() + sum()\n",
    "\n",
    "# initializing tup\n",
    "test_tup = (7, 8, 9, 1, 10, 7)\n",
    "\n",
    "# printing original tuple\n",
    "print(\"The original tuple is : \" + str(test_tup))\n",
    "\n",
    "# Tuple elements inversions\n",
    "# Using list() + sum()\n",
    "res = sum(list(test_tup))\n",
    "\n",
    "# printing result\n",
    "print(\"The summation of tuple elements are : \" + str(res))"
   ]
  },
  {
   "cell_type": "markdown",
   "id": "972afac9",
   "metadata": {},
   "source": [
    "### 6. Write a Python Program for performing Modulo of tuple elements."
   ]
  },
  {
   "cell_type": "code",
   "execution_count": 8,
   "id": "6454f9b5",
   "metadata": {},
   "outputs": [
    {
     "name": "stdout",
     "output_type": "stream",
     "text": [
      "The original tuple 1 : (10, 4, 5, 6)\n",
      "The original tuple 2 : (5, 6, 7, 5)\n",
      "The modulus tuple : (0, 4, 5, 1)\n"
     ]
    }
   ],
   "source": [
    "# Python3 code to demonstrate working of\n",
    "# Tuple modulo\n",
    "# using zip() + generator expression\n",
    "\n",
    "# initialize tuples\n",
    "test_tup1 = (10, 4, 5, 6)\n",
    "test_tup2 = (5, 6, 7, 5)\n",
    "\n",
    "# printing original tuples\n",
    "print(\"The original tuple 1 : \" + str(test_tup1))\n",
    "print(\"The original tuple 2 : \" + str(test_tup2))\n",
    "\n",
    "# Tuple modulo\n",
    "# using zip() + generator expression\n",
    "res = tuple(ele1 % ele2 for ele1, ele2 in zip(test_tup1, test_tup2))\n",
    "\n",
    "# printing result\n",
    "print(\"The modulus tuple : \" + str(res))"
   ]
  },
  {
   "cell_type": "markdown",
   "id": "87970761",
   "metadata": {},
   "source": [
    "### 7. Write a Python Program for performing Row-wise element Addition in Tuple Matrix\n",
    "\n",
    "Example:\n",
    "\n",
    "Input :\n",
    "\n",
    "test_list = [[('Learnbay', 3), ('is', 3)], [('best', 1)], [('for', 5), ('Student', 1)]]\n",
    "\n",
    "cus_eles = [6, 7, 8]\n",
    "\n",
    "Output : [[('Learnbay', 3, 6), ('is', 3, 6)], [('best', 1, 7)], [('for', 5, 8), ('Student', 1, 8)]]"
   ]
  },
  {
   "cell_type": "code",
   "execution_count": null,
   "id": "d61499e2",
   "metadata": {},
   "outputs": [],
   "source": [
    "# Python3 code to demonstrate working of\n",
    "# Row-wise element Addition in Tuple Matrix\n",
    "# Using enumerate() + list comprehension\n",
    "\n",
    "# initializing list\n",
    "test_list = [[('Learnbay', 3), ('is', 3)], [('best', 1)], [('for', 5), ('Student', 1)]]\n",
    "\n",
    "# printing original list\n",
    "print(\"The original list is : \" + str(test_list))\n",
    "\n",
    "# initializing Custom eles\n",
    "cus_eles = [6, 7, 8]\n",
    "\n",
    "# Row-wise element Addition in Tuple Matrix\n",
    "# Using enumerate() + list comprehension\n",
    "res = [[sub + (cus_eles[idx], ) for sub in val] for idx, val in enumerate(test_list)]\n",
    "\n",
    "# printing result\n",
    "print(\"The matrix after row elements addition : \" + str(res))"
   ]
  },
  {
   "cell_type": "markdown",
   "id": "4be6bd9c",
   "metadata": {},
   "source": [
    "### 8. Write a Python Program to Update each element in tuple list\n"
   ]
  },
  {
   "cell_type": "code",
   "execution_count": 11,
   "id": "f347bc12",
   "metadata": {},
   "outputs": [
    {
     "name": "stdout",
     "output_type": "stream",
     "text": [
      "The original list : [(1, 3, 4), (2, 4, 6), (3, 8, 1)]\n",
      "List after bulk update : [(5, 7, 8), (6, 8, 10), (7, 12, 5)]\n"
     ]
    }
   ],
   "source": [
    "# Python3 code to demonstrate working of\n",
    "# Update each element in tuple list\n",
    "# Using list comprehension\n",
    "\n",
    "# initialize list\n",
    "test_list = [(1, 3, 4), (2, 4, 6), (3, 8, 1)]\n",
    "\n",
    "# printing original list\n",
    "print(\"The original list : \" + str(test_list))\n",
    "\n",
    "# initialize add element\n",
    "add_ele = 4\n",
    "\n",
    "# Update each element in tuple list\n",
    "# Using list comprehension\n",
    "res = [tuple(j + add_ele for j in sub ) for sub in test_list]\n",
    "\n",
    "# printing result\n",
    "print(\"List after bulk update : \" + str(res))"
   ]
  },
  {
   "cell_type": "markdown",
   "id": "71dd2dd0",
   "metadata": {},
   "source": [
    "### 9. Write a Python Program to Multiply Adjacent elements"
   ]
  },
  {
   "cell_type": "code",
   "execution_count": 12,
   "id": "5f070ec7",
   "metadata": {},
   "outputs": [
    {
     "name": "stdout",
     "output_type": "stream",
     "text": [
      "The original tuple : (1, 5, 7, 8, 10)\n",
      "Resultant tuple after multiplication : (5, 35, 56, 80)\n"
     ]
    }
   ],
   "source": [
    "# Python3 code to demonstrate working of\n",
    "# Adjacent element multiplication\n",
    "# using zip() + generator expression + tuple\n",
    "\n",
    "# initialize tuple\n",
    "test_tup = (1, 5, 7, 8, 10)\n",
    "\n",
    "# printing original tuple\n",
    "print(\"The original tuple : \" + str(test_tup))\n",
    "\n",
    "# Adjacent element multiplication\n",
    "# using zip() + generator expression + tuple\n",
    "res = tuple(i * j for i, j in zip(test_tup, test_tup[1:]))\n",
    "\n",
    "# printing result\n",
    "print(\"Resultant tuple after multiplication : \" + str(res))"
   ]
  },
  {
   "cell_type": "markdown",
   "id": "7800c1d4",
   "metadata": {},
   "source": [
    "### 10. Write a Python Program for Joining Tuples if having similar initial element.\n",
    "\n",
    "Example: \n",
    "\n",
    "Input : test_list = [(5, 6), (5, 7), (6, 8), (6, 10), (7, 13)]\n",
    "    \n",
    "Output : [(5, 6, 7), (6, 8, 10), (7, 13)]"
   ]
  },
  {
   "cell_type": "code",
   "execution_count": 15,
   "id": "85f7a3f5",
   "metadata": {},
   "outputs": [
    {
     "name": "stdout",
     "output_type": "stream",
     "text": [
      "The original list is : [(5, 6), (5, 7), (6, 8), (6, 10), (7, 13)]\n",
      "The extracted elements : [(5, 6, 7), (6, 8, 10), (7, 13)]\n"
     ]
    }
   ],
   "source": [
    "# Python3 code to demonstrate working of\n",
    "# Join Tuples if similar initial element\n",
    "# Using loop\n",
    "\n",
    "# initializing list\n",
    "test_list = [(5, 6), (5, 7), (6, 8), (6, 10), (7, 13)]\n",
    "\n",
    "# printing original list\n",
    "print(\"The original list is : \" + str(test_list))\n",
    "\n",
    "# Join Tuples if similar initial element\n",
    "# Using loop\n",
    "res = []\n",
    "for sub in test_list:\n",
    "    if res and res[-1][0] == sub[0]:\n",
    "        res[-1].extend(sub[1:])\n",
    "    else:\n",
    "        res.append([ele for ele in sub])\n",
    "res = list(map(tuple, res))\n",
    "\n",
    "# printing result\n",
    "print(\"The extracted elements : \" + str(res))"
   ]
  },
  {
   "cell_type": "code",
   "execution_count": null,
   "id": "dfadd6ae",
   "metadata": {},
   "outputs": [],
   "source": []
  }
 ],
 "metadata": {
  "kernelspec": {
   "display_name": "Python 3 (ipykernel)",
   "language": "python",
   "name": "python3"
  },
  "language_info": {
   "codemirror_mode": {
    "name": "ipython",
    "version": 3
   },
   "file_extension": ".py",
   "mimetype": "text/x-python",
   "name": "python",
   "nbconvert_exporter": "python",
   "pygments_lexer": "ipython3",
   "version": "3.9.7"
  }
 },
 "nbformat": 4,
 "nbformat_minor": 5
}
