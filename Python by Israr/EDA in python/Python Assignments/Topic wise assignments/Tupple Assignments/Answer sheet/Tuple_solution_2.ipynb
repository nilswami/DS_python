{
 "cells": [
  {
   "cell_type": "markdown",
   "id": "1e47882f",
   "metadata": {},
   "source": [
    "### 1. Write a Python Program for extracting All pair combinations of 2 tuples.\n",
    "\n",
    "Example:\n",
    "\n",
    "Input : test_tuple1 = (4, 5),\n",
    "\n",
    "        test_tuple2 = (7, 8)\n",
    "\n",
    "Output : [(4, 7), (4, 8), (5, 7), (5, 8), (7, 4), (7, 5), (8, 4), (8, 5)]"
   ]
  },
  {
   "cell_type": "code",
   "execution_count": 1,
   "id": "f159942a",
   "metadata": {},
   "outputs": [
    {
     "name": "stdout",
     "output_type": "stream",
     "text": [
      "The original tuple 1 : (4, 5)\n",
      "The original tuple 2 : (7, 8)\n",
      "The filtered tuple : [(4, 7), (4, 8), (5, 7), (5, 8), (7, 4), (7, 5), (8, 4), (8, 5)]\n"
     ]
    }
   ],
   "source": [
    "# Python3 code to demonstrate working of\n",
    "# All pair combinations of 2 tuples\n",
    "# Using list comprehension\n",
    "\n",
    "# initializing tuples\n",
    "test_tuple1 = (4, 5)\n",
    "test_tuple2 = (7, 8)\n",
    "\n",
    "# printing original tuples\n",
    "print(\"The original tuple 1 : \" + str(test_tuple1))\n",
    "print(\"The original tuple 2 : \" + str(test_tuple2))\n",
    "\n",
    "# All pair combinations of 2 tuples\n",
    "# Using list comprehension\n",
    "res = [(a, b) for a in test_tuple1 for b in test_tuple2]\n",
    "res = res + [(a, b) for a in test_tuple2 for b in test_tuple1]\n",
    "\n",
    "# printing result\n",
    "print(\"The filtered tuple : \" + str(res))"
   ]
  },
  {
   "cell_type": "markdown",
   "id": "4a7749aa",
   "metadata": {},
   "source": [
    "### 2. Write a Python Program for Removing Tuples of Length K.\n",
    "\n",
    "Example:\n",
    "\n",
    "Input : test_list = [(4, 5), (4, ), (8, 6, 7), (1, ), (3, 4, 6, 7)], K = 1\n",
    "\n",
    "Output : [(4, 5), (8, 6, 7), (3, 4, 6, 7)]"
   ]
  },
  {
   "cell_type": "code",
   "execution_count": 2,
   "id": "e37f497c",
   "metadata": {},
   "outputs": [
    {
     "name": "stdout",
     "output_type": "stream",
     "text": [
      "The original list : [(4, 5), (4,), (8, 6, 7), (1,), (3, 4, 6, 7)]\n",
      "Filtered list : [(4, 5), (8, 6, 7), (3, 4, 6, 7)]\n"
     ]
    }
   ],
   "source": [
    "# Python3 code to demonstrate working of\n",
    "# Remove Tuples of Length K\n",
    "# Using list comprehension\n",
    "\n",
    "# initializing list\n",
    "test_list = [(4, 5), (4, ), (8, 6, 7), (1, ), (3, 4, 6, 7)]\n",
    "\n",
    "# printing original list\n",
    "print(\"The original list : \" + str(test_list))\n",
    "\n",
    "# initializing K\n",
    "K = 1\n",
    "\n",
    "# 1 liner to perform task\n",
    "# filter just lengths other than K\n",
    "# len() used to compute length\n",
    "res = [ele for ele in test_list if len(ele) != K]\n",
    "\n",
    "# printing result\n",
    "print(\"Filtered list : \" + str(res))"
   ]
  },
  {
   "cell_type": "markdown",
   "id": "87981ae4",
   "metadata": {},
   "source": [
    "### 3. Write a Python Program for Removing Tuples from the List having every element as None.\n",
    "\n",
    "Example:\n",
    "\n",
    "Input : test_list = [(None, 2), (None, None), (3, 4), (12, 3), (None, )] \n",
    "\n",
    "Output : [(None, 2), (3, 4), (12, 3)]\n",
    "\n",
    "Explanation : All None tuples are removed."
   ]
  },
  {
   "cell_type": "code",
   "execution_count": 3,
   "id": "ba57374f",
   "metadata": {},
   "outputs": [
    {
     "name": "stdout",
     "output_type": "stream",
     "text": [
      "The original list is : [(None, 2), (None, None), (3, 4), (12, 3), (None,)]\n",
      "Removed None Tuples : [(None, 2), (3, 4), (12, 3)]\n"
     ]
    }
   ],
   "source": [
    "# Python3 code to demonstrate working of\n",
    "# Remove None Tuples from List\n",
    "# Using all() + list comprehension\n",
    "\n",
    "# initializing list\n",
    "test_list = [(None, 2), (None, None), (3, 4), (12, 3), (None, )]\n",
    "\n",
    "# printing original list\n",
    "print(\"The original list is : \" + str(test_list))\n",
    "\n",
    "# negating result for discarding all None Tuples\n",
    "res = [sub for sub in test_list if not all(ele == None for ele in sub)]\n",
    "\n",
    "# printing result\n",
    "print(\"Removed None Tuples : \" + str(res))"
   ]
  },
  {
   "cell_type": "markdown",
   "id": "cbf93ed8",
   "metadata": {},
   "source": [
    "### 4. Write a Python program to sort a list of tuples by second Item.\n",
    "\n",
    "Example:\n",
    "\n",
    "Input : [('for', 24), ('is', 10), ('Student', 28),\n",
    "    ('Learnbay', 5), ('portal', 20), ('a', 15)]\n",
    "\n",
    "Output : [('Learnbay', 5), ('is', 10), ('a', 15), ('portal', 20), ('for', 24), ('Student', 28)]"
   ]
  },
  {
   "cell_type": "code",
   "execution_count": 6,
   "id": "0377240d",
   "metadata": {},
   "outputs": [
    {
     "name": "stdout",
     "output_type": "stream",
     "text": [
      "[('Learnbay', 5), ('is', 10), ('a', 15), ('portal', 20), ('for', 24), ('Student', 28)]\n"
     ]
    }
   ],
   "source": [
    "# Python program to sort a list of tuples by the second Item\n",
    "\n",
    "# Function to sort the list of tuples by its second item\n",
    "def Sort_Tuple(tup):\n",
    "    \n",
    "    # getting length of list of tuples\n",
    "    lst = len(tup)\n",
    "    for i in range(0, lst):\n",
    "        \n",
    "        for j in range(0, lst-i-1):\n",
    "            if (tup[j][1] > tup[j + 1][1]):\n",
    "                temp = tup[j]\n",
    "                tup[j]= tup[j + 1]\n",
    "                tup[j + 1]= temp\n",
    "    return tup\n",
    "\n",
    "# Driver Code\n",
    "tup =[('for', 24), ('is', 10), ('Student', 28),\n",
    "    ('Learnbay', 5), ('portal', 20), ('a', 15)]\n",
    "\n",
    "print(Sort_Tuple(tup))"
   ]
  },
  {
   "cell_type": "markdown",
   "id": "06f5f57c",
   "metadata": {},
   "source": [
    "### 5. Write a Python Program to Sort Tuples by Total digits\n",
    "\n",
    "Examples:\n",
    "\n",
    "Input : test_list = [(3, 4, 6, 723), (1, 2), (12345,), (134, 234, 34)] \n",
    "\n",
    "Output : [(1, 2), (12345,), (3, 4, 6, 723), (134, 234, 34)] "
   ]
  },
  {
   "cell_type": "code",
   "execution_count": 8,
   "id": "6a23c3fe",
   "metadata": {},
   "outputs": [
    {
     "name": "stdout",
     "output_type": "stream",
     "text": [
      "The original list is : [(3, 4, 6, 723), (1, 2), (12345,), (134, 234, 34)]\n",
      "Sorted tuples : [(1, 2), (12345,), (3, 4, 6, 723), (134, 234, 34)]\n"
     ]
    }
   ],
   "source": [
    "# Python3 code to demonstrate working of\n",
    "# Sort Tuples by Total digits\n",
    "# Using sort() + len() + sum()\n",
    "\n",
    "def count_digs(tup):\n",
    "    \n",
    "    # gets total digits in tuples\n",
    "    return sum([len(str(ele)) for ele in tup ])\n",
    "\n",
    "# initializing list\n",
    "test_list = [(3, 4, 6, 723), (1, 2), (12345,), (134, 234, 34)]\n",
    "\n",
    "# printing original list\n",
    "print(\"The original list is : \" + str(test_list))\n",
    "\n",
    "# performing sort\n",
    "test_list.sort(key = count_digs)\n",
    "\n",
    "# printing result\n",
    "print(\"Sorted tuples : \" + str(test_list))"
   ]
  },
  {
   "cell_type": "markdown",
   "id": "50df92b1",
   "metadata": {},
   "source": [
    "### 6. Write a Python Program to find Elements frequency in Tuple.\n",
    "\n",
    "Example:\n",
    "\n",
    "Input : test_tup = (4, 5, 4, 5, 6, 6, 5, 5, 4)\n",
    "\n",
    "Output : {4: 3, 5: 4, 6: 2} "
   ]
  },
  {
   "cell_type": "code",
   "execution_count": 9,
   "id": "9b24429a",
   "metadata": {},
   "outputs": [
    {
     "name": "stdout",
     "output_type": "stream",
     "text": [
      "The original tuple is : (4, 5, 4, 5, 6, 6, 5, 5, 4)\n",
      "Tuple elements frequency is : {4: 3, 5: 4, 6: 2}\n"
     ]
    }
   ],
   "source": [
    "# Python3 code to demonstrate working of\n",
    "# Elements frequency in Tuple\n",
    "# Using defaultdict()\n",
    "from collections import defaultdict\n",
    "\n",
    "# initializing tuple\n",
    "test_tup = (4, 5, 4, 5, 6, 6, 5, 5, 4)\n",
    "\n",
    "# printing original tuple\n",
    "print(\"The original tuple is : \" + str(test_tup))\n",
    "\n",
    "res = defaultdict(int)\n",
    "for ele in test_tup:\n",
    "\n",
    "    # incrementing frequency\n",
    "    res[ele] += 1\n",
    "\n",
    "# printing result\n",
    "print(\"Tuple elements frequency is : \" + str(dict(res)))"
   ]
  },
  {
   "cell_type": "markdown",
   "id": "49f1d1ac",
   "metadata": {},
   "source": [
    "### 7. Write a Python Program to Filter Range Length Tuples.\n"
   ]
  },
  {
   "cell_type": "code",
   "execution_count": 11,
   "id": "e5c7861c",
   "metadata": {},
   "outputs": [
    {
     "name": "stdout",
     "output_type": "stream",
     "text": [
      "The original list is : [(4,), (5, 6), (2, 3, 5), (5, 6, 8, 2), (5, 9)]\n",
      "The tuple list after filtering range records : [(5, 6), (2, 3, 5), (5, 9)]\n"
     ]
    }
   ],
   "source": [
    "# Python3 code to demonstrate working of\n",
    "# Filter Range Length Tuples\n",
    "# Using list comprehension + len()\n",
    "\n",
    "# Initializing list\n",
    "test_list = [(4, ), (5, 6), (2, 3, 5), (5, 6, 8, 2), (5, 9)]\n",
    "\n",
    "# printing original list\n",
    "print(\"The original list is : \" + str(test_list))\n",
    "\n",
    "# Initializing desired lengths\n",
    "i, j = 2, 3\n",
    "\n",
    "# Filter Range Length Tuples\n",
    "# Using list comprehension + len()\n",
    "res = [sub for sub in test_list if len(sub) >= i and len(sub) <= j]\n",
    "\n",
    "# printing result\n",
    "print(\"The tuple list after filtering range records : \" + str(res))"
   ]
  },
  {
   "cell_type": "markdown",
   "id": "fa87ee12",
   "metadata": {},
   "source": [
    "### 8. Write a Python Program for Assigning Frequency to Tuples.\n",
    "\n",
    "Example:\n",
    "\n",
    "Input : test_list = [(6, 5, 8), (2, 7), (6, 5, 8), (6, 5, 8), (9, ), (2, 7)]\n",
    "\n",
    "Output : [(6, 5, 8, 3), (2, 7, 2), (9, 1)]"
   ]
  },
  {
   "cell_type": "code",
   "execution_count": 12,
   "id": "a086084d",
   "metadata": {},
   "outputs": [
    {
     "name": "stdout",
     "output_type": "stream",
     "text": [
      "The original list is : [(6, 5, 8), (2, 7), (6, 5, 8), (6, 5, 8), (9,), (2, 7)]\n",
      "Frequency Tuple list : [(6, 5, 8, 3), (2, 7, 2), (9, 1)]\n"
     ]
    }
   ],
   "source": [
    "# Python3 code to demonstrate working of\n",
    "# Assign Frequency to Tuples\n",
    "# Using Counter() + items() + * operator + list comprehension\n",
    "from collections import Counter\n",
    "\n",
    "# initializing list\n",
    "test_list = [(6, 5, 8), (2, 7), (6, 5, 8), (6, 5, 8), (9, ), (2, 7)]\n",
    "\n",
    "# printing original list\n",
    "print(\"The original list is : \" + str(test_list))\n",
    "\n",
    "# one-liner to solve problem\n",
    "# assign Frequency as last element of tuple\n",
    "res = [(*key, val) for key, val in Counter(test_list).items()]\n",
    "\n",
    "# printing results\n",
    "print(\"Frequency Tuple list : \" + str(res))"
   ]
  },
  {
   "cell_type": "markdown",
   "id": "136d0403",
   "metadata": {},
   "source": [
    "### 9. Write a Python Program to find Records with Value at K index."
   ]
  },
  {
   "cell_type": "code",
   "execution_count": 1,
   "id": "3a6d7464",
   "metadata": {},
   "outputs": [
    {
     "name": "stdout",
     "output_type": "stream",
     "text": [
      "The original list is : [(3, 1, 5), (1, 3, 6), (2, 5, 7), (5, 2, 8), (6, 3, 0)]\n",
      "The tuples of element at Kth position : [(1, 3, 6), (6, 3, 0)]\n"
     ]
    }
   ],
   "source": [
    "# Python3 code to demonstrate working of\n",
    "# Records with Value at K index\n",
    "# Using loop\n",
    "\n",
    "# initialize list\n",
    "test_list = [(3, 1, 5), (1, 3, 6), (2, 5, 7), (5, 2, 8), (6, 3, 0)]\n",
    "\n",
    "# printing original list\n",
    "print(\"The original list is : \" + str(test_list))\n",
    "\n",
    "# initialize ele\n",
    "ele = 3\n",
    "\n",
    "# initialize K\n",
    "K = 1\n",
    "\n",
    "# Records with Value at K index\n",
    "# Using loop\n",
    "# using y for K = 1\n",
    "res = []\n",
    "for x, y, z in test_list:\n",
    "    if y == ele:\n",
    "        res.append((x, y, z))\n",
    "\n",
    "# printing result\n",
    "print(\"The tuples of element at Kth position : \" + str(res))"
   ]
  },
  {
   "cell_type": "markdown",
   "id": "c43d5fb9",
   "metadata": {},
   "source": [
    "### 10. Write a Python Program to Test if tuple is distinct."
   ]
  },
  {
   "cell_type": "code",
   "execution_count": 18,
   "id": "4ba58f89",
   "metadata": {},
   "outputs": [
    {
     "name": "stdout",
     "output_type": "stream",
     "text": [
      "The original tuple is : (1, 4, 5, 6, 1, 4)\n",
      "Is tuple distinct ? : False\n"
     ]
    }
   ],
   "source": [
    "# Python3 code to demonstrate working of\n",
    "# Test if tuple is distinct\n",
    "# Using loop\n",
    "\n",
    "# initialize tuple\n",
    "test_tup = (1, 4, 5, 6, 1, 4)\n",
    "\n",
    "# printing original tuple\n",
    "print(\"The original tuple is : \" + str(test_tup))\n",
    "\n",
    "# Test if tuple is distinct\n",
    "# Using loop\n",
    "res = True\n",
    "temp = set()\n",
    "for ele in test_tup:\n",
    "    if ele in temp:\n",
    "        res = False\n",
    "        break\n",
    "    temp.add(ele)\n",
    "\n",
    "# printing result\n",
    "print(\"Is tuple distinct ? : \" + str(res))"
   ]
  },
  {
   "cell_type": "code",
   "execution_count": null,
   "id": "922570d3",
   "metadata": {},
   "outputs": [],
   "source": [
    "    "
   ]
  }
 ],
 "metadata": {
  "kernelspec": {
   "display_name": "Python 3 (ipykernel)",
   "language": "python",
   "name": "python3"
  },
  "language_info": {
   "codemirror_mode": {
    "name": "ipython",
    "version": 3
   },
   "file_extension": ".py",
   "mimetype": "text/x-python",
   "name": "python",
   "nbconvert_exporter": "python",
   "pygments_lexer": "ipython3",
   "version": "3.9.7"
  }
 },
 "nbformat": 4,
 "nbformat_minor": 5
}
