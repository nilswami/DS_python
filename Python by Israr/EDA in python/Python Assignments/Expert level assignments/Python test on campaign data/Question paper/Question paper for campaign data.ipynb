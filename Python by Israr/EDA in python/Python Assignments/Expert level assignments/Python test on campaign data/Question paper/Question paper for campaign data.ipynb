{
 "cells": [
  {
   "cell_type": "code",
   "execution_count": null,
   "id": "b99c911e",
   "metadata": {},
   "outputs": [],
   "source": [
    "# Import all the necessary libraries"
   ]
  },
  {
   "cell_type": "code",
   "execution_count": null,
   "id": "97ff9eb0",
   "metadata": {},
   "outputs": [],
   "source": [
    "# There are 2 pages in the campaign data (Table1, Table 2) import both of these sheets."
   ]
  },
  {
   "cell_type": "code",
   "execution_count": null,
   "id": "a801dc02",
   "metadata": {},
   "outputs": [],
   "source": [
    "# Merge these two sheets on ?"
   ]
  },
  {
   "cell_type": "markdown",
   "id": "94d18eae",
   "metadata": {},
   "source": [
    "## Find out the top 5 months in terms of impressions"
   ]
  },
  {
   "cell_type": "code",
   "execution_count": null,
   "id": "374ee468",
   "metadata": {},
   "outputs": [],
   "source": [
    "# Here we need to find months, but we have date column, We need to seperate months from years, and save it in a new column."
   ]
  },
  {
   "cell_type": "code",
   "execution_count": null,
   "id": "a948c358",
   "metadata": {},
   "outputs": [],
   "source": [
    "# Use for loop to to seperate metric if it is impressions and sum up the value of that impression."
   ]
  },
  {
   "cell_type": "code",
   "execution_count": null,
   "id": "e4710578",
   "metadata": {},
   "outputs": [],
   "source": [
    "# The value which weget is not sorted, Sort the values in the decending form.\n",
    "# You'll get the top 5 months in terms of impressions"
   ]
  },
  {
   "cell_type": "markdown",
   "id": "3499b12a",
   "metadata": {},
   "source": [
    "## Which model has maximum impressions?"
   ]
  },
  {
   "cell_type": "code",
   "execution_count": null,
   "id": "e6fcc78d",
   "metadata": {},
   "outputs": [],
   "source": []
  },
  {
   "cell_type": "markdown",
   "id": "2e2f81aa",
   "metadata": {},
   "source": [
    "## Find out the top 3 campaigns in terms of impressions for every message type"
   ]
  },
  {
   "cell_type": "code",
   "execution_count": null,
   "id": "7973e328",
   "metadata": {},
   "outputs": [],
   "source": []
  },
  {
   "cell_type": "markdown",
   "id": "05608325",
   "metadata": {},
   "source": [
    "## Does the campaign with maximum impressions also have maximum clicks?"
   ]
  },
  {
   "cell_type": "code",
   "execution_count": null,
   "id": "d1cc105c",
   "metadata": {},
   "outputs": [],
   "source": []
  },
  {
   "cell_type": "markdown",
   "id": "1ee8f4ec",
   "metadata": {},
   "source": [
    "## Find out the top 3 campaigns in terms of CPM (CPM stands for cost per mile which means cost per 1000 impressions. CPM = total media cost/total impressions * 1000)"
   ]
  },
  {
   "cell_type": "code",
   "execution_count": null,
   "id": "6a76de1c",
   "metadata": {},
   "outputs": [],
   "source": []
  },
  {
   "cell_type": "markdown",
   "id": "b19ee103",
   "metadata": {},
   "source": [
    "## What is the monthly average media cost for different media types?"
   ]
  },
  {
   "cell_type": "code",
   "execution_count": null,
   "id": "0a4e1483",
   "metadata": {},
   "outputs": [],
   "source": []
  },
  {
   "cell_type": "markdown",
   "id": "17f9bdc8",
   "metadata": {},
   "source": [
    "## Which media type is more expensive in terms of CPM?"
   ]
  },
  {
   "cell_type": "code",
   "execution_count": null,
   "id": "23df683a",
   "metadata": {},
   "outputs": [],
   "source": []
  },
  {
   "cell_type": "markdown",
   "id": "5ae599d2",
   "metadata": {},
   "source": [
    "## When would you use a Pie chart, a Bar chart and a Line Chart? Use the given dataset and provide an example for each type of chart."
   ]
  },
  {
   "cell_type": "code",
   "execution_count": null,
   "id": "cdb839d1",
   "metadata": {},
   "outputs": [],
   "source": []
  },
  {
   "cell_type": "code",
   "execution_count": null,
   "id": "f49b2c74",
   "metadata": {},
   "outputs": [],
   "source": []
  }
 ],
 "metadata": {
  "kernelspec": {
   "display_name": "Python 3 (ipykernel)",
   "language": "python",
   "name": "python3"
  },
  "language_info": {
   "codemirror_mode": {
    "name": "ipython",
    "version": 3
   },
   "file_extension": ".py",
   "mimetype": "text/x-python",
   "name": "python",
   "nbconvert_exporter": "python",
   "pygments_lexer": "ipython3",
   "version": "3.9.7"
  }
 },
 "nbformat": 4,
 "nbformat_minor": 5
}
