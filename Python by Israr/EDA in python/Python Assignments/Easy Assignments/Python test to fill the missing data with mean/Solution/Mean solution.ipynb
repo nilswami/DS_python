{
 "cells": [
  {
   "cell_type": "code",
   "execution_count": 1,
   "id": "8245387f",
   "metadata": {},
   "outputs": [],
   "source": [
    "import numpy as np\n",
    "import pandas as pd\n",
    "import csv"
   ]
  },
  {
   "cell_type": "code",
   "execution_count": 2,
   "id": "e2b5fea2",
   "metadata": {},
   "outputs": [],
   "source": [
    "# Creating a dataframe \n",
    "dframe = pd.DataFrame({\n",
    "    \"Col1\":[1,2,3,np.nan,4], \n",
    "    \"Col2\":[2,np.nan,5,6,4], \n",
    "    \"Col3\":[np.nan,7,np.nan,9,6], \n",
    "    \"Col4\":[1,np.nan,np.nan,6,7]})"
   ]
  },
  {
   "cell_type": "markdown",
   "id": "77d40743",
   "metadata": {},
   "source": [
    "## 1. Create a CSV file named \"output.csv\" from this above given dataframe."
   ]
  },
  {
   "cell_type": "code",
   "execution_count": 5,
   "id": "f90e45d1",
   "metadata": {},
   "outputs": [],
   "source": [
    "# Here we use to_csv() function to create an new file and flush the dframe to it\n",
    "dframe.to_csv(\"output.csv\",index = False)\n",
    "# Remember to keep index as false or else an extra column will be create. "
   ]
  },
  {
   "cell_type": "code",
   "execution_count": 6,
   "id": "67249dcc",
   "metadata": {},
   "outputs": [
    {
     "data": {
      "text/html": [
       "<div>\n",
       "<style scoped>\n",
       "    .dataframe tbody tr th:only-of-type {\n",
       "        vertical-align: middle;\n",
       "    }\n",
       "\n",
       "    .dataframe tbody tr th {\n",
       "        vertical-align: top;\n",
       "    }\n",
       "\n",
       "    .dataframe thead th {\n",
       "        text-align: right;\n",
       "    }\n",
       "</style>\n",
       "<table border=\"1\" class=\"dataframe\">\n",
       "  <thead>\n",
       "    <tr style=\"text-align: right;\">\n",
       "      <th></th>\n",
       "      <th>Col1</th>\n",
       "      <th>Col2</th>\n",
       "      <th>Col3</th>\n",
       "      <th>Col4</th>\n",
       "    </tr>\n",
       "  </thead>\n",
       "  <tbody>\n",
       "    <tr>\n",
       "      <th>0</th>\n",
       "      <td>1.0</td>\n",
       "      <td>2.0</td>\n",
       "      <td>NaN</td>\n",
       "      <td>1.0</td>\n",
       "    </tr>\n",
       "    <tr>\n",
       "      <th>1</th>\n",
       "      <td>2.0</td>\n",
       "      <td>NaN</td>\n",
       "      <td>7.0</td>\n",
       "      <td>NaN</td>\n",
       "    </tr>\n",
       "    <tr>\n",
       "      <th>2</th>\n",
       "      <td>3.0</td>\n",
       "      <td>5.0</td>\n",
       "      <td>NaN</td>\n",
       "      <td>NaN</td>\n",
       "    </tr>\n",
       "    <tr>\n",
       "      <th>3</th>\n",
       "      <td>NaN</td>\n",
       "      <td>6.0</td>\n",
       "      <td>9.0</td>\n",
       "      <td>6.0</td>\n",
       "    </tr>\n",
       "    <tr>\n",
       "      <th>4</th>\n",
       "      <td>4.0</td>\n",
       "      <td>4.0</td>\n",
       "      <td>6.0</td>\n",
       "      <td>7.0</td>\n",
       "    </tr>\n",
       "  </tbody>\n",
       "</table>\n",
       "</div>"
      ],
      "text/plain": [
       "   Col1  Col2  Col3  Col4\n",
       "0   1.0   2.0   NaN   1.0\n",
       "1   2.0   NaN   7.0   NaN\n",
       "2   3.0   5.0   NaN   NaN\n",
       "3   NaN   6.0   9.0   6.0\n",
       "4   4.0   4.0   6.0   7.0"
      ]
     },
     "execution_count": 6,
     "metadata": {},
     "output_type": "execute_result"
    }
   ],
   "source": [
    "# Lets load the data as df and work on it\n",
    "df = pd.read_csv(\"output.csv\")\n",
    "df.head()"
   ]
  },
  {
   "cell_type": "markdown",
   "id": "e513de97",
   "metadata": {},
   "source": [
    "## 2. Replace all the missing values with the mean for that column with output rounded upto 3 digits."
   ]
  },
  {
   "cell_type": "code",
   "execution_count": 12,
   "id": "b724b86e",
   "metadata": {},
   "outputs": [
    {
     "data": {
      "text/html": [
       "<div>\n",
       "<style scoped>\n",
       "    .dataframe tbody tr th:only-of-type {\n",
       "        vertical-align: middle;\n",
       "    }\n",
       "\n",
       "    .dataframe tbody tr th {\n",
       "        vertical-align: top;\n",
       "    }\n",
       "\n",
       "    .dataframe thead th {\n",
       "        text-align: right;\n",
       "    }\n",
       "</style>\n",
       "<table border=\"1\" class=\"dataframe\">\n",
       "  <thead>\n",
       "    <tr style=\"text-align: right;\">\n",
       "      <th></th>\n",
       "      <th>Col1</th>\n",
       "      <th>Col2</th>\n",
       "      <th>Col3</th>\n",
       "      <th>Col4</th>\n",
       "    </tr>\n",
       "  </thead>\n",
       "  <tbody>\n",
       "    <tr>\n",
       "      <th>0</th>\n",
       "      <td>1.0</td>\n",
       "      <td>2.00</td>\n",
       "      <td>7.333333</td>\n",
       "      <td>1.000000</td>\n",
       "    </tr>\n",
       "    <tr>\n",
       "      <th>1</th>\n",
       "      <td>2.0</td>\n",
       "      <td>4.25</td>\n",
       "      <td>7.000000</td>\n",
       "      <td>4.666667</td>\n",
       "    </tr>\n",
       "    <tr>\n",
       "      <th>2</th>\n",
       "      <td>3.0</td>\n",
       "      <td>5.00</td>\n",
       "      <td>7.333333</td>\n",
       "      <td>4.666667</td>\n",
       "    </tr>\n",
       "    <tr>\n",
       "      <th>3</th>\n",
       "      <td>2.5</td>\n",
       "      <td>6.00</td>\n",
       "      <td>9.000000</td>\n",
       "      <td>6.000000</td>\n",
       "    </tr>\n",
       "    <tr>\n",
       "      <th>4</th>\n",
       "      <td>4.0</td>\n",
       "      <td>4.00</td>\n",
       "      <td>6.000000</td>\n",
       "      <td>7.000000</td>\n",
       "    </tr>\n",
       "  </tbody>\n",
       "</table>\n",
       "</div>"
      ],
      "text/plain": [
       "   Col1  Col2      Col3      Col4\n",
       "0   1.0  2.00  7.333333  1.000000\n",
       "1   2.0  4.25  7.000000  4.666667\n",
       "2   3.0  5.00  7.333333  4.666667\n",
       "3   2.5  6.00  9.000000  6.000000\n",
       "4   4.0  4.00  6.000000  7.000000"
      ]
     },
     "execution_count": 12,
     "metadata": {},
     "output_type": "execute_result"
    }
   ],
   "source": [
    "# In python we can directly fill the values with .fillna() \n",
    "# Or else we can even get the mean of all the values and then replace the nan. \n",
    "df.fillna(df.mean(),inplace = True)\n",
    "df"
   ]
  },
  {
   "cell_type": "code",
   "execution_count": 17,
   "id": "e6b57e59",
   "metadata": {},
   "outputs": [
    {
     "name": "stdout",
     "output_type": "stream",
     "text": [
      "   Col1  Col2   Col3   Col4\n",
      "0   1.0  2.00  7.333  1.000\n",
      "1   2.0  4.25  7.000  4.667\n",
      "2   3.0  5.00  7.333  4.667\n",
      "3   2.5  6.00  9.000  6.000\n",
      "4   4.0  4.00  6.000  7.000\n"
     ]
    }
   ],
   "source": [
    "# round() gives ur the round off of an digit, here I have given ndigit as 3 because I need 3 values\n",
    "# Similarly if I wanted 2 I just need tol change the ndigit value.\n",
    "print(round(df,ndigits = 3))"
   ]
  },
  {
   "cell_type": "code",
   "execution_count": null,
   "id": "4634b9fd",
   "metadata": {},
   "outputs": [],
   "source": []
  },
  {
   "cell_type": "code",
   "execution_count": null,
   "id": "c450afd0",
   "metadata": {},
   "outputs": [],
   "source": []
  }
 ],
 "metadata": {
  "kernelspec": {
   "display_name": "Python 3 (ipykernel)",
   "language": "python",
   "name": "python3"
  },
  "language_info": {
   "codemirror_mode": {
    "name": "ipython",
    "version": 3
   },
   "file_extension": ".py",
   "mimetype": "text/x-python",
   "name": "python",
   "nbconvert_exporter": "python",
   "pygments_lexer": "ipython3",
   "version": "3.9.7"
  }
 },
 "nbformat": 4,
 "nbformat_minor": 5
}
