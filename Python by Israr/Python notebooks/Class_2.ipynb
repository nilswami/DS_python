{
 "cells": [
  {
   "cell_type": "markdown",
   "id": "bc35c15c",
   "metadata": {},
   "source": [
    "* cd - change the directory\n",
    "* ls - Its used to list all the files in the directory\n",
    "* cd .. - Its used to go back to the previous directory\n",
    "* exit() - Its used to exit from the code area"
   ]
  },
  {
   "cell_type": "markdown",
   "id": "76ac830e",
   "metadata": {},
   "source": [
    "# Data Types \n",
    "\n",
    "There are two types of data types \n",
    "\n",
    "1. Fundamental data types\n",
    "\n",
    "\n",
    "* int - any value without a decimal point eg -100, 99 , 56\n",
    "* float - any value with a decimal point eg -100.999 , 99.123 , 56.98\n",
    "* Complex - any numbers that can be written in the form of a+bj a = real, b = img\n",
    "* None\n",
    "* Boolean - True/False\n",
    "* String - anything written inside '_' , \"_\", '''_''' and \"\"\"__\"\"\"\n",
    "\n",
    "2. Derived data types\n",
    "\n",
    "* List []\n",
    "* Tuple ()\n",
    "* Set {}\n",
    "* Dic {key:value}"
   ]
  },
  {
   "cell_type": "markdown",
   "id": "11e3904b",
   "metadata": {},
   "source": [
    "# Integer data types\n",
    "- any value without a decimal point eg -100, 99 , 56"
   ]
  },
  {
   "cell_type": "code",
   "execution_count": 1,
   "id": "b3077c8c",
   "metadata": {},
   "outputs": [
    {
     "name": "stdout",
     "output_type": "stream",
     "text": [
      "10\n",
      "<class 'int'>\n"
     ]
    }
   ],
   "source": [
    "a = 10\n",
    "print(a)\n",
    "print(type(a))"
   ]
  },
  {
   "cell_type": "code",
   "execution_count": 2,
   "id": "86c67881",
   "metadata": {},
   "outputs": [
    {
     "ename": "SyntaxError",
     "evalue": "invalid syntax (3977446017.py, line 3)",
     "output_type": "error",
     "traceback": [
      "\u001b[1;36m  Input \u001b[1;32mIn [2]\u001b[1;36m\u001b[0m\n\u001b[1;33m    1. Arithmetic operations [- , + , * , /(Float value), %(modulo) , //(Floor division), ** (exponent)]\u001b[0m\n\u001b[1;37m       ^\u001b[0m\n\u001b[1;31mSyntaxError\u001b[0m\u001b[1;31m:\u001b[0m invalid syntax\n"
     ]
    }
   ],
   "source": [
    "# Types of operation we can perform on integer\n",
    "\n",
    "1. Arithmetic operations [- , + , * , /(Float value), %(modulo) , //(Floor division), ** (exponent)]\n",
    "2. Comparision operators [ >, <, >= , <= ]"
   ]
  },
  {
   "cell_type": "code",
   "execution_count": null,
   "id": "f19f8e49",
   "metadata": {},
   "outputs": [],
   "source": [
    "a = 40.8\n",
    "b = 12\n",
    "print(a//b)  # Value 3.4"
   ]
  },
  {
   "cell_type": "code",
   "execution_count": null,
   "id": "0d697f56",
   "metadata": {},
   "outputs": [],
   "source": [
    "# Floor Division\n",
    "\n",
    "11/3\n",
    "floor             celing \n",
    "    3     3.6       4\n",
    "    \n",
    "Output will be 3\n",
    "\n",
    "\n",
    "a = 40.8\n",
    "b = 12\n",
    "print(a//b)  # Value 3.4\n",
    "\n",
    "floor             celing \n",
    "    3     3.4       4"
   ]
  },
  {
   "cell_type": "code",
   "execution_count": null,
   "id": "46dc66ea",
   "metadata": {},
   "outputs": [],
   "source": [
    "a = 4\n",
    "b = 1/2\n",
    "print(a**b)"
   ]
  },
  {
   "cell_type": "code",
   "execution_count": null,
   "id": "13af127c",
   "metadata": {},
   "outputs": [],
   "source": [
    "# Comparision operators [ >, <, >= , <= ]\n",
    "\n",
    "- It always returns the boolean value\n",
    "- It can be performed on int and float\n",
    "- It can be performed on str and str\n",
    "- Cannot perform on complex data type\n",
    "- Cannot perform on None data types"
   ]
  },
  {
   "cell_type": "code",
   "execution_count": null,
   "id": "d8c58159",
   "metadata": {},
   "outputs": [],
   "source": [
    "a = 44\n",
    "b = 20.6\n",
    "\n",
    "print(a < b)"
   ]
  },
  {
   "cell_type": "code",
   "execution_count": null,
   "id": "e240b8e7",
   "metadata": {},
   "outputs": [],
   "source": [
    "a = 'python'\n",
    "b = 'pythoN'\n",
    "\n",
    "print(a < b)"
   ]
  },
  {
   "cell_type": "code",
   "execution_count": null,
   "id": "1cc42685",
   "metadata": {},
   "outputs": [],
   "source": [
    "ASCII"
   ]
  },
  {
   "cell_type": "code",
   "execution_count": null,
   "id": "20d2e0fc",
   "metadata": {},
   "outputs": [],
   "source": [
    "small p ----> 112\n",
    "capital P ----> 80"
   ]
  },
  {
   "cell_type": "code",
   "execution_count": null,
   "id": "a58c1450",
   "metadata": {},
   "outputs": [],
   "source": [
    "n -----> 110\n",
    "N -----> 78"
   ]
  },
  {
   "cell_type": "code",
   "execution_count": null,
   "id": "f8391779",
   "metadata": {},
   "outputs": [],
   "source": [
    "ord('N')"
   ]
  },
  {
   "cell_type": "code",
   "execution_count": null,
   "id": "3c4c61e9",
   "metadata": {},
   "outputs": [],
   "source": [
    "chr(112)"
   ]
  },
  {
   "cell_type": "code",
   "execution_count": null,
   "id": "278a080e",
   "metadata": {},
   "outputs": [],
   "source": [
    "print('A' <= chr(65))"
   ]
  },
  {
   "cell_type": "code",
   "execution_count": null,
   "id": "9781f279",
   "metadata": {},
   "outputs": [],
   "source": [
    "a = 10+96j\n",
    "b = 11+98j\n",
    "print(a<b)"
   ]
  },
  {
   "cell_type": "code",
   "execution_count": null,
   "id": "c6485bdd",
   "metadata": {},
   "outputs": [],
   "source": [
    "a = None\n",
    "b = None\n",
    "print(a<b)"
   ]
  },
  {
   "cell_type": "code",
   "execution_count": null,
   "id": "82edd09b",
   "metadata": {},
   "outputs": [],
   "source": [
    "# Equality Operators [ == , != ]\n",
    "\n",
    "a = None\n",
    "b = None\n",
    "print(a == b)"
   ]
  },
  {
   "cell_type": "code",
   "execution_count": null,
   "id": "7f473435",
   "metadata": {},
   "outputs": [],
   "source": [
    "a = 10+96j\n",
    "b = 10+96j\n",
    "print(a == b)"
   ]
  },
  {
   "cell_type": "code",
   "execution_count": null,
   "id": "75df643b",
   "metadata": {},
   "outputs": [],
   "source": [
    "a = 44\n",
    "b = 20.6\n",
    "\n",
    "print(a != b)"
   ]
  },
  {
   "cell_type": "code",
   "execution_count": null,
   "id": "29ca32e4",
   "metadata": {},
   "outputs": [],
   "source": [
    "a = 'python'\n",
    "b = 'pythoN'\n",
    "\n",
    "print(a == b)"
   ]
  },
  {
   "cell_type": "code",
   "execution_count": null,
   "id": "deb5fab0",
   "metadata": {},
   "outputs": [],
   "source": [
    "print( 65 == ord('a'))"
   ]
  },
  {
   "cell_type": "code",
   "execution_count": null,
   "id": "3a1b01db",
   "metadata": {},
   "outputs": [],
   "source": [
    "print((100//2 + 44) == 99)\n",
    "\n",
    "# 100 // 2 = 50\n",
    "# 50+44 = 94 \n",
    "# is 94 equal to 99?"
   ]
  },
  {
   "cell_type": "code",
   "execution_count": null,
   "id": "4d7adc34",
   "metadata": {},
   "outputs": [],
   "source": [
    "print(ord('z') + 10 == 65)"
   ]
  },
  {
   "cell_type": "code",
   "execution_count": null,
   "id": "1e0ed153",
   "metadata": {},
   "outputs": [],
   "source": [
    "# print(dir(__builtins__))"
   ]
  },
  {
   "cell_type": "code",
   "execution_count": null,
   "id": "45566d8a",
   "metadata": {},
   "outputs": [],
   "source": [
    "# Operator precendence\n",
    "# Logical Operators"
   ]
  },
  {
   "cell_type": "code",
   "execution_count": null,
   "id": "748ac6d0",
   "metadata": {},
   "outputs": [],
   "source": [
    "a = 10\n",
    "b = 20\n",
    "c = 10\n",
    "\n",
    "print(id(a))\n",
    "print(id(b))\n",
    "print(id(c))\n",
    "#print(d)"
   ]
  },
  {
   "cell_type": "code",
   "execution_count": null,
   "id": "04b6829e",
   "metadata": {},
   "outputs": [],
   "source": []
  },
  {
   "cell_type": "code",
   "execution_count": null,
   "id": "383b6948",
   "metadata": {},
   "outputs": [],
   "source": []
  },
  {
   "cell_type": "code",
   "execution_count": null,
   "id": "8448a19e",
   "metadata": {},
   "outputs": [],
   "source": []
  },
  {
   "cell_type": "code",
   "execution_count": null,
   "id": "41928f93",
   "metadata": {},
   "outputs": [],
   "source": []
  },
  {
   "cell_type": "code",
   "execution_count": null,
   "id": "3201dae3",
   "metadata": {},
   "outputs": [],
   "source": []
  }
 ],
 "metadata": {
  "kernelspec": {
   "display_name": "Python 3 (ipykernel)",
   "language": "python",
   "name": "python3"
  },
  "language_info": {
   "codemirror_mode": {
    "name": "ipython",
    "version": 3
   },
   "file_extension": ".py",
   "mimetype": "text/x-python",
   "name": "python",
   "nbconvert_exporter": "python",
   "pygments_lexer": "ipython3",
   "version": "3.9.12"
  }
 },
 "nbformat": 4,
 "nbformat_minor": 5
}
