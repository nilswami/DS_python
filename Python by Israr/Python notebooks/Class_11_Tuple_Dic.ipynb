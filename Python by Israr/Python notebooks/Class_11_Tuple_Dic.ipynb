{
 "cells": [
  {
   "cell_type": "markdown",
   "id": "ee2a3ca3",
   "metadata": {},
   "source": [
    "# Tuple"
   ]
  },
  {
   "cell_type": "markdown",
   "id": "20dab8c5",
   "metadata": {},
   "source": [
    "- tupl anythong written inside () and the elements are sep by commas "
   ]
  },
  {
   "cell_type": "code",
   "execution_count": 1,
   "id": "73a90282",
   "metadata": {},
   "outputs": [
    {
     "name": "stdout",
     "output_type": "stream",
     "text": [
      "(1, 2, 3, 4) <class 'tuple'>\n"
     ]
    }
   ],
   "source": [
    "a = (1,2,3,4)\n",
    "print(a,type(a))"
   ]
  },
  {
   "cell_type": "markdown",
   "id": "08c0b7b0",
   "metadata": {},
   "source": [
    "# Creating a tuple\n",
    "1. When you alrady know the elements\n",
    "2. By taking useer inputs\n",
    "3. type casting"
   ]
  },
  {
   "cell_type": "code",
   "execution_count": 3,
   "id": "c766bb4c",
   "metadata": {},
   "outputs": [
    {
     "name": "stdout",
     "output_type": "stream",
     "text": [
      "(1, 2, 3, 4, 5) <class 'tuple'>\n",
      "('s', 't', 'r') <class 'tuple'>\n"
     ]
    }
   ],
   "source": [
    "# 1. When you alrady know the elements\n",
    "# 3. Type casting\n",
    "a = (1,2,3,4,5)\n",
    "b = tuple('str')\n",
    "print(a, type(a))\n",
    "print((b) , type(b))"
   ]
  },
  {
   "cell_type": "code",
   "execution_count": 5,
   "id": "8966465c",
   "metadata": {},
   "outputs": [
    {
     "name": "stdout",
     "output_type": "stream",
     "text": [
      "Please enter the tuple  : (1,2,3,4,5)\n",
      "(1, 2, 3, 4, 5) <class 'tuple'>\n"
     ]
    }
   ],
   "source": [
    "# 2. Taking input\n",
    "tup = eval(input(\"Please enter the tuple  : \"))\n",
    "print(tup, type(tup))"
   ]
  },
  {
   "cell_type": "code",
   "execution_count": 8,
   "id": "ad16c08f",
   "metadata": {},
   "outputs": [
    {
     "name": "stdout",
     "output_type": "stream",
     "text": [
      "Please enter the tuple  : 12345\n",
      "('1', '2', '3', '4', '5') <class 'tuple'>\n"
     ]
    }
   ],
   "source": [
    "# 2. Taking input\n",
    "tup = tuple(input(\"Please enter the tuple  : \"))\n",
    "print(tup, type(tup))"
   ]
  },
  {
   "cell_type": "code",
   "execution_count": 12,
   "id": "b0f110dc",
   "metadata": {},
   "outputs": [
    {
     "name": "stdout",
     "output_type": "stream",
     "text": [
      "('python', None, False, 1, 1, 1.2, (1+8j)) <class 'tuple'>\n"
     ]
    }
   ],
   "source": [
    "a = 'python', None,False, 1,1,1.2,1+8j\n",
    "print(a, type(a))"
   ]
  },
  {
   "cell_type": "code",
   "execution_count": null,
   "id": "888eb1fc",
   "metadata": {},
   "outputs": [],
   "source": [
    "# Properties of tuple\n",
    "- Sequence data type\n",
    "- +ve and -ve is supported\n",
    "- can hold any data type\n",
    "- immutable\n",
    "- allows duplication\n",
    "- basic op - slicing, indexing, concatination, repetation, Identity, Membership "
   ]
  },
  {
   "cell_type": "code",
   "execution_count": 14,
   "id": "ea75df2f",
   "metadata": {},
   "outputs": [
    {
     "name": "stdout",
     "output_type": "stream",
     "text": [
      "3\n",
      "3\n"
     ]
    }
   ],
   "source": [
    "# Indexing\n",
    "a = (1,2,3,4,5)\n",
    "print(a[2])\n",
    "print(a[-3])"
   ]
  },
  {
   "cell_type": "code",
   "execution_count": 16,
   "id": "e4c9de59",
   "metadata": {},
   "outputs": [
    {
     "name": "stdout",
     "output_type": "stream",
     "text": [
      "(3, 4)\n",
      "(3, 4)\n",
      "(4, 3)\n"
     ]
    }
   ],
   "source": [
    "# Slicing \n",
    "a = (1,2,3,4,5)\n",
    "print(a[2:4])\n",
    "print(a[-3:-1])\n",
    "print(a[-2:-4:-1])"
   ]
  },
  {
   "cell_type": "code",
   "execution_count": null,
   "id": "83821405",
   "metadata": {},
   "outputs": [],
   "source": [
    "#  can hold any data type\n",
    "\n",
    "a = 'python', None,False, 1,1,1.2,1+8j\n",
    "print(a, type(a))"
   ]
  },
  {
   "cell_type": "code",
   "execution_count": 17,
   "id": "9c3da558",
   "metadata": {},
   "outputs": [
    {
     "ename": "TypeError",
     "evalue": "'tuple' object does not support item assignment",
     "output_type": "error",
     "traceback": [
      "\u001b[1;31m---------------------------------------------------------------------------\u001b[0m",
      "\u001b[1;31mTypeError\u001b[0m                                 Traceback (most recent call last)",
      "Input \u001b[1;32mIn [17]\u001b[0m, in \u001b[0;36m<cell line: 3>\u001b[1;34m()\u001b[0m\n\u001b[0;32m      1\u001b[0m \u001b[38;5;66;03m# immutable\u001b[39;00m\n\u001b[0;32m      2\u001b[0m a \u001b[38;5;241m=\u001b[39m (\u001b[38;5;241m1\u001b[39m,\u001b[38;5;241m2\u001b[39m,\u001b[38;5;241m3\u001b[39m,\u001b[38;5;241m4\u001b[39m,\u001b[38;5;241m5\u001b[39m)\n\u001b[1;32m----> 3\u001b[0m a[\u001b[38;5;241m0\u001b[39m]\u001b[38;5;241m=\u001b[39m \u001b[38;5;241m4\u001b[39m\n",
      "\u001b[1;31mTypeError\u001b[0m: 'tuple' object does not support item assignment"
     ]
    }
   ],
   "source": [
    "# immutable\n",
    "a = (1,2,3,4,5)\n",
    "a[0]= 4"
   ]
  },
  {
   "cell_type": "code",
   "execution_count": 18,
   "id": "836ece57",
   "metadata": {},
   "outputs": [
    {
     "name": "stdout",
     "output_type": "stream",
     "text": [
      "('python', None, False, 'python', 1, 1, 1.2, (1+8j)) <class 'tuple'>\n"
     ]
    }
   ],
   "source": [
    "# allows duplication\n",
    "a = 'python', None,False,'python', 1,1,1.2,1+8j\n",
    "print(a, type(a))"
   ]
  },
  {
   "cell_type": "code",
   "execution_count": 19,
   "id": "5af4876b",
   "metadata": {},
   "outputs": [
    {
     "name": "stdout",
     "output_type": "stream",
     "text": [
      "(1, 2, 3, 4, 5, 6, 7, 8, 9, 10)\n"
     ]
    }
   ],
   "source": [
    "# concatination\n",
    "a = (1,2,3,4,5)\n",
    "b = (6,7,8,9,10)\n",
    "# op +\n",
    "print(a+b)"
   ]
  },
  {
   "cell_type": "code",
   "execution_count": 20,
   "id": "07903d14",
   "metadata": {},
   "outputs": [
    {
     "name": "stdout",
     "output_type": "stream",
     "text": [
      "(1, 2, 3, 4, 5, 1, 2, 3, 4, 5)\n"
     ]
    }
   ],
   "source": [
    "# repetation\n",
    "# op *\n",
    "# one value should be int and another a tuple\n",
    "a = (1,2,3,4,5)\n",
    "print(a*2)"
   ]
  },
  {
   "cell_type": "code",
   "execution_count": 23,
   "id": "84d3f260",
   "metadata": {},
   "outputs": [
    {
     "name": "stdout",
     "output_type": "stream",
     "text": [
      "2243648636864\n",
      "2243648488048\n",
      "True\n"
     ]
    }
   ],
   "source": [
    "# Identity\n",
    "# Op - is and is not\n",
    "# always return bool \n",
    "a = (1,2,3,4,5)\n",
    "b = (6,7,8,9,10)\n",
    "print(id(a))\n",
    "print(id(b))\n",
    "print( a is not b) # If the ID is same or not\n"
   ]
  },
  {
   "cell_type": "code",
   "execution_count": 22,
   "id": "8f63afe9",
   "metadata": {},
   "outputs": [
    {
     "name": "stdout",
     "output_type": "stream",
     "text": [
      "2243648488048\n",
      "2243620249664\n",
      "False\n"
     ]
    }
   ],
   "source": [
    "a = (1,2,3,4,5)\n",
    "b = (1,2,3,4,5)\n",
    "print(id(a))\n",
    "print(id(b))\n",
    "print( a is b)"
   ]
  },
  {
   "cell_type": "code",
   "execution_count": 24,
   "id": "de360b85",
   "metadata": {},
   "outputs": [
    {
     "name": "stdout",
     "output_type": "stream",
     "text": [
      "2243532450128\n",
      "2243532450128\n",
      "False\n"
     ]
    }
   ],
   "source": [
    "a = (1,2,3,4,5)\n",
    "b = (1,2,3,4,5)\n",
    "print(id(a[1]))\n",
    "print(id(b[1]))\n",
    "print( a is b)"
   ]
  },
  {
   "cell_type": "code",
   "execution_count": 27,
   "id": "b70116b5",
   "metadata": {},
   "outputs": [
    {
     "name": "stdout",
     "output_type": "stream",
     "text": [
      "False\n"
     ]
    }
   ],
   "source": [
    "# Membership\n",
    "# op - in and not in \n",
    "# always returns the bool values\n",
    "a = (1,2,3,4,5)\n",
    "print(1 not in a)"
   ]
  },
  {
   "cell_type": "code",
   "execution_count": 28,
   "id": "4e8f6484",
   "metadata": {},
   "outputs": [
    {
     "name": "stdout",
     "output_type": "stream",
     "text": [
      "['__add__', '__class__', '__class_getitem__', '__contains__', '__delattr__', '__dir__', '__doc__', '__eq__', '__format__', '__ge__', '__getattribute__', '__getitem__', '__getnewargs__', '__gt__', '__hash__', '__init__', '__init_subclass__', '__iter__', '__le__', '__len__', '__lt__', '__mul__', '__ne__', '__new__', '__reduce__', '__reduce_ex__', '__repr__', '__rmul__', '__setattr__', '__sizeof__', '__str__', '__subclasshook__', 'count', 'index']\n"
     ]
    }
   ],
   "source": [
    "print(dir(tuple))"
   ]
  },
  {
   "cell_type": "code",
   "execution_count": 31,
   "id": "200b6072",
   "metadata": {},
   "outputs": [
    {
     "name": "stdout",
     "output_type": "stream",
     "text": [
      "2\n"
     ]
    }
   ],
   "source": [
    "# Count\n",
    "a = (1,2,3,4,5,6,6,6,6,6,6,6,'str','str')\n",
    "print(a.count('str'))"
   ]
  },
  {
   "cell_type": "code",
   "execution_count": 34,
   "id": "b03309c4",
   "metadata": {},
   "outputs": [
    {
     "name": "stdout",
     "output_type": "stream",
     "text": [
      "12\n"
     ]
    }
   ],
   "source": [
    "# Index\n",
    "# +ve index values as the output\n",
    "a = (1,2,3,4,5,6,6,6,6,6,6,6,'str','str')\n",
    "\n",
    "print(a.index('str'))"
   ]
  },
  {
   "cell_type": "code",
   "execution_count": 36,
   "id": "8960087e",
   "metadata": {},
   "outputs": [
    {
     "name": "stdout",
     "output_type": "stream",
     "text": [
      "5\n"
     ]
    }
   ],
   "source": [
    "# \n",
    "a = (1,2,3,4,5)\n",
    "\n",
    "print(len(a))"
   ]
  },
  {
   "cell_type": "code",
   "execution_count": 37,
   "id": "5d8a411b",
   "metadata": {},
   "outputs": [
    {
     "name": "stdout",
     "output_type": "stream",
     "text": [
      "(1, 2, 3, 4, 5, 6)\n"
     ]
    }
   ],
   "source": [
    "# Tuple packing and inpacing\n",
    "\n",
    "# Tuple packing - assigning mulple values in a single variable\n",
    "a = 1,2,3,4,5,6\n",
    "print(a)\n"
   ]
  },
  {
   "cell_type": "code",
   "execution_count": 50,
   "id": "b371975c",
   "metadata": {},
   "outputs": [
    {
     "name": "stdout",
     "output_type": "stream",
     "text": [
      "(1, 1, 13) <class 'tuple'>\n",
      "(3, 4, 5, 6)\n",
      "(7, 8, 9)\n"
     ]
    }
   ],
   "source": [
    "# Tuple unpacking\n",
    "a,b,c = (1,1,13,),(3,4,5,6),(7,8,9,)\n",
    "print(a, type(a))\n",
    "print(b)\n",
    "print(c)\n",
    "\n"
   ]
  },
  {
   "cell_type": "code",
   "execution_count": 42,
   "id": "bfdc51c0",
   "metadata": {},
   "outputs": [
    {
     "name": "stdout",
     "output_type": "stream",
     "text": [
      "(1, 2) <class 'tuple'>\n",
      "2\n",
      "3\n"
     ]
    }
   ],
   "source": [
    "# Tuple unpacking\n",
    "a,b,c = (1,2),2,3\n",
    "print(a, type(a))\n",
    "print(b)\n",
    "print(c)"
   ]
  },
  {
   "cell_type": "code",
   "execution_count": 49,
   "id": "387335fe",
   "metadata": {},
   "outputs": [
    {
     "name": "stdout",
     "output_type": "stream",
     "text": [
      "(1,) <class 'tuple'>\n"
     ]
    }
   ],
   "source": [
    "a = 1,\n",
    "print(a, type(a))"
   ]
  },
  {
   "cell_type": "code",
   "execution_count": 59,
   "id": "354e6146",
   "metadata": {},
   "outputs": [
    {
     "name": "stdout",
     "output_type": "stream",
     "text": [
      "(1, 2, 3, 4) <class 'tuple'>\n",
      "(1, 2, 3, 4)\n",
      "(1, 2, 3, 4)\n",
      "(4, 5, 6, 7)\n",
      "((1, 2, 3, 4), (1, 2, 3, 4), (1, 2, 3, 4), (4, 5, 6, 7)) <class 'tuple'>\n"
     ]
    }
   ],
   "source": [
    "\n",
    "l = ((1,2,3,4),(1,2,3,4),(1,2,3,4),(4,5,6,7)) \n",
    "\n",
    "var = (a,b,c,d)\n",
    "var = l\n",
    "print(a,type(a))\n",
    "print(b)\n",
    "print(c)\n",
    "print(d)\n",
    "\n",
    "print(var, type(var))"
   ]
  },
  {
   "cell_type": "markdown",
   "id": "6b183274",
   "metadata": {},
   "source": [
    "# Dictionary\n",
    "\n",
    "* Key and value\n",
    "* {}"
   ]
  },
  {
   "cell_type": "code",
   "execution_count": 60,
   "id": "158abc6f",
   "metadata": {},
   "outputs": [
    {
     "name": "stdout",
     "output_type": "stream",
     "text": [
      "60000\n"
     ]
    }
   ],
   "source": [
    "a = ['israr', 25, 60000]\n",
    "\n",
    "print(a[-1])"
   ]
  },
  {
   "cell_type": "code",
   "execution_count": 61,
   "id": "e1bc7da9",
   "metadata": {},
   "outputs": [
    {
     "name": "stdout",
     "output_type": "stream",
     "text": [
      "25\n"
     ]
    }
   ],
   "source": [
    "a = ['israr', 25, 25]\n",
    "\n",
    "print(a[-2])"
   ]
  },
  {
   "cell_type": "code",
   "execution_count": null,
   "id": "5465abe8",
   "metadata": {},
   "outputs": [],
   "source": [
    "emp_data = {'age': 25 , \"Salary\": 25 , \"name\":'israr'}"
   ]
  },
  {
   "cell_type": "markdown",
   "id": "56148c1b",
   "metadata": {},
   "source": [
    "# Properties of dic\n",
    "* It is a collection of key and value pair\n",
    "* value is also called as item\n",
    "* Key and value are seperated by (:)\n",
    "* Key cannot be mutable(Key is immutable)\n",
    "* Value can be anything(mutable/immutable)\n",
    "* all the items are into curly brackets and sep by comas\n",
    "* Its not a seq data type hence no indexing, slicing, concatination, repetation (dup)\n",
    "* membership op are only possible on keys \n",
    "* indentity operators are possible\n",
    "* Its is mutable"
   ]
  },
  {
   "cell_type": "code",
   "execution_count": 69,
   "id": "fb1ce82c",
   "metadata": {},
   "outputs": [
    {
     "data": {
      "text/plain": [
       "{(1, 2, 3, 4): (1, 2, 3, 4), 'Salary': 25, 'name': 'israr'}"
      ]
     },
     "execution_count": 69,
     "metadata": {},
     "output_type": "execute_result"
    }
   ],
   "source": [
    "emp_data = {'age': (1,2,3,4) , \"Salary\": 25 , \"name\":'israr'}\n",
    "emp_data"
   ]
  },
  {
   "cell_type": "code",
   "execution_count": null,
   "id": "5a271ede",
   "metadata": {},
   "outputs": [],
   "source": [
    "# How dic are created"
   ]
  },
  {
   "cell_type": "code",
   "execution_count": 70,
   "id": "0ca152f8",
   "metadata": {},
   "outputs": [
    {
     "name": "stdout",
     "output_type": "stream",
     "text": [
      "dict_keys(['emp1', 'emp2'])\n"
     ]
    }
   ],
   "source": [
    "# If you already know the values\n",
    "emp_data = {\"emp1\":{'age': 25 , \"Salary\": 25 , \"name\":'israr'}, \n",
    "            \"emp2\":{'age': 25 , \"Salary\": 25 , \"name\":'Purnendu'}}\n",
    "print(emp_data.keys())"
   ]
  },
  {
   "cell_type": "code",
   "execution_count": 72,
   "id": "43cc769b",
   "metadata": {},
   "outputs": [
    {
     "name": "stdout",
     "output_type": "stream",
     "text": [
      "enter the dic  :{1:2}\n",
      "{1: 2} <class 'dict'>\n"
     ]
    }
   ],
   "source": [
    "# Taking the input\n",
    "data = eval(input('enter the dic  :'))\n",
    "\n",
    "print(data, type(data))"
   ]
  },
  {
   "cell_type": "code",
   "execution_count": 79,
   "id": "ea266efc",
   "metadata": {},
   "outputs": [
    {
     "name": "stdout",
     "output_type": "stream",
     "text": [
      "{1: 'a', 2: 'b', 3: 'c', 4: 'e', 5: 'r'} <class 'dict'>\n"
     ]
    }
   ],
   "source": [
    "# Type casting\n",
    "a = dict([(1,'a'),[2,'b'],[3,'c'],[4,'e'],[5,'r']])\n",
    "print(a, type(a))"
   ]
  },
  {
   "cell_type": "code",
   "execution_count": null,
   "id": "3589a8bf",
   "metadata": {},
   "outputs": [],
   "source": [
    "# Zip function\n",
    "\n",
    "synatax zip(iter1,iter2)"
   ]
  },
  {
   "cell_type": "code",
   "execution_count": 90,
   "id": "a3d7d478",
   "metadata": {},
   "outputs": [
    {
     "data": {
      "text/plain": [
       "{'age': 25, 'salary': 25000, 'name': 'israr'}"
      ]
     },
     "execution_count": 90,
     "metadata": {},
     "output_type": "execute_result"
    }
   ],
   "source": [
    "a = ['age','salary','name']\n",
    "b = [25,25000,'israr',45]\n",
    "\n",
    "dict(zip(a,b))"
   ]
  },
  {
   "cell_type": "code",
   "execution_count": null,
   "id": "72783d7b",
   "metadata": {},
   "outputs": [],
   "source": [
    " >>> list(zip('abcdefg', range(3), range(4)))\n",
    "   [('a', 0, 0), ('b', 1, 1), ('c', 2, 2)]"
   ]
  },
  {
   "cell_type": "code",
   "execution_count": null,
   "id": "4296394d",
   "metadata": {},
   "outputs": [],
   "source": [
    "# It is a collection of key and value pair\n",
    "# value is also called as item\n",
    "# Key and value are seperated by (:)\n",
    "\n",
    "\n",
    "emp_data = {\"emp1\":{'age': 25 , \"Salary\": 25 , \"name\":'israr'}, \n",
    "            \"emp2\":{'age': 25 , \"Salary\": 25 , \"name\":'Purnendu'}}\n"
   ]
  },
  {
   "cell_type": "code",
   "execution_count": 107,
   "id": "6e85ebdf",
   "metadata": {},
   "outputs": [
    {
     "data": {
      "text/plain": [
       "{(8+6j): {'age': 25, 'Salary': 25, 'name': 'israr'},\n",
       " 'emp2': {'age': 25, 'Salary': 25, 'name': 'Purnendu'}}"
      ]
     },
     "execution_count": 107,
     "metadata": {},
     "output_type": "execute_result"
    }
   ],
   "source": [
    "# Key is immutable\n",
    "\n",
    "emp_data = {8+6j:{'age': 25 , \"Salary\": 25 , \"name\":'israr'}, \n",
    "            \"emp2\":{'age': 25 , \"Salary\": 25 , \"name\":'Purnendu'}}\n",
    "\n",
    "\n",
    "emp_data"
   ]
  },
  {
   "cell_type": "code",
   "execution_count": 99,
   "id": "00b35062",
   "metadata": {},
   "outputs": [
    {
     "data": {
      "text/plain": [
       "{'emp1': {'age': 25, 'Salary': 25, 'name': 'israr'},\n",
       " 'emp2': {'age': 25, 'Salary': 25, 'name': 'Purnendu'}}"
      ]
     },
     "execution_count": 99,
     "metadata": {},
     "output_type": "execute_result"
    }
   ],
   "source": [
    "# Key cannot be duplicated whereas value can be\n",
    "emp_data = {\"emp1\":{'age': 25 , \"Salary\": 25 , \"name\":'israr'}, \n",
    "            \"emp2\":{'age': 25 , \"Salary\": 25 , \"name\":'Purnendu'}}\n",
    "\n",
    "\n",
    "emp_data"
   ]
  },
  {
   "cell_type": "code",
   "execution_count": 102,
   "id": "2390e2a7",
   "metadata": {},
   "outputs": [
    {
     "data": {
      "text/plain": [
       "{'emp1': {'age': 56, 'Salary': 25, 'name': 'israr'},\n",
       " 'emp2': {'age': 25, 'Salary': 25, 'name': 'amitesh'},\n",
       " 'emp3': {'age': 25, 'Salary': 25, 'name': 'amitesh'}}"
      ]
     },
     "execution_count": 102,
     "metadata": {},
     "output_type": "execute_result"
    }
   ],
   "source": [
    "emp_data = {\"emp1\":{'age': 56 , \"Salary\": 25 , \"name\":'israr'}, \n",
    "            \"emp2\":{'age': 25 , \"Salary\": 25 , \"name\":'amitesh'},\n",
    "            'emp3':{'age': 25 , \"Salary\": 25 , \"name\":'amitesh'}}\n",
    "emp_data"
   ]
  },
  {
   "cell_type": "markdown",
   "id": "1c18d9f0",
   "metadata": {},
   "source": [
    "Keys can be\n",
    "* int \n",
    "* float\n",
    "* string\n",
    "* tuple\n",
    "* Bool\n",
    "* None\n",
    "* Complex\n",
    "\n",
    "Values can be anything\n"
   ]
  },
  {
   "cell_type": "code",
   "execution_count": 116,
   "id": "3de36768",
   "metadata": {},
   "outputs": [],
   "source": [
    "# Its not a seq data type hence no indexing, slicing, concatination, repetation (dup)\n",
    "\n",
    "emp_data = {\"emp1\":{'age': 56 , \"Salary\": 25 , \"name\":'israr'}, \n",
    "            \"emp2\":{'age': 25 , \"Salary\": 25 , \"name\":'amitesh'},\n",
    "            'emp3':{'age': 25 , \"Salary\": 25 , \"name\":'amitesh'}}\n",
    "\n",
    "emp_data1 = {\"emp1\":{'age': 56 , \"Salary\": 25 , \"name\":'israr'}, \n",
    "            \"emp2\":{'age': 25 , \"Salary\": 25 , \"name\":'amitesh'},\n",
    "            'emp3':{'age': 25 , \"Salary\": 25 , \"name\":'amitesh'}}"
   ]
  },
  {
   "cell_type": "code",
   "execution_count": 113,
   "id": "4319e0b0",
   "metadata": {},
   "outputs": [
    {
     "ename": "KeyError",
     "evalue": "0",
     "output_type": "error",
     "traceback": [
      "\u001b[1;31m---------------------------------------------------------------------------\u001b[0m",
      "\u001b[1;31mKeyError\u001b[0m                                  Traceback (most recent call last)",
      "Input \u001b[1;32mIn [113]\u001b[0m, in \u001b[0;36m<cell line: 2>\u001b[1;34m()\u001b[0m\n\u001b[0;32m      1\u001b[0m \u001b[38;5;66;03m# Indexing\u001b[39;00m\n\u001b[1;32m----> 2\u001b[0m \u001b[43memp_data\u001b[49m\u001b[43m[\u001b[49m\u001b[38;5;241;43m0\u001b[39;49m\u001b[43m]\u001b[49m\n",
      "\u001b[1;31mKeyError\u001b[0m: 0"
     ]
    }
   ],
   "source": [
    "# Indexing\n",
    "emp_data[0]"
   ]
  },
  {
   "cell_type": "code",
   "execution_count": 114,
   "id": "74647eaf",
   "metadata": {},
   "outputs": [
    {
     "ename": "TypeError",
     "evalue": "unhashable type: 'slice'",
     "output_type": "error",
     "traceback": [
      "\u001b[1;31m---------------------------------------------------------------------------\u001b[0m",
      "\u001b[1;31mTypeError\u001b[0m                                 Traceback (most recent call last)",
      "Input \u001b[1;32mIn [114]\u001b[0m, in \u001b[0;36m<cell line: 3>\u001b[1;34m()\u001b[0m\n\u001b[0;32m      1\u001b[0m \u001b[38;5;66;03m# Slicing\u001b[39;00m\n\u001b[1;32m----> 3\u001b[0m \u001b[43memp_data\u001b[49m\u001b[43m[\u001b[49m\u001b[38;5;241;43m0\u001b[39;49m\u001b[43m:\u001b[49m\u001b[38;5;241;43m1\u001b[39;49m\u001b[43m]\u001b[49m\n",
      "\u001b[1;31mTypeError\u001b[0m: unhashable type: 'slice'"
     ]
    }
   ],
   "source": [
    "# Slicing\n",
    "\n",
    "emp_data[0:1]"
   ]
  },
  {
   "cell_type": "code",
   "execution_count": 117,
   "id": "ebd26c3a",
   "metadata": {},
   "outputs": [
    {
     "ename": "TypeError",
     "evalue": "unsupported operand type(s) for +: 'dict' and 'dict'",
     "output_type": "error",
     "traceback": [
      "\u001b[1;31m---------------------------------------------------------------------------\u001b[0m",
      "\u001b[1;31mTypeError\u001b[0m                                 Traceback (most recent call last)",
      "Input \u001b[1;32mIn [117]\u001b[0m, in \u001b[0;36m<cell line: 2>\u001b[1;34m()\u001b[0m\n\u001b[0;32m      1\u001b[0m \u001b[38;5;66;03m# Concatination\u001b[39;00m\n\u001b[1;32m----> 2\u001b[0m \u001b[43memp_data\u001b[49m\u001b[43m \u001b[49m\u001b[38;5;241;43m+\u001b[39;49m\u001b[43m \u001b[49m\u001b[43memp_data1\u001b[49m\n",
      "\u001b[1;31mTypeError\u001b[0m: unsupported operand type(s) for +: 'dict' and 'dict'"
     ]
    }
   ],
   "source": [
    "# Concatination\n",
    "emp_data + emp_data1"
   ]
  },
  {
   "cell_type": "code",
   "execution_count": 118,
   "id": "f4f43edd",
   "metadata": {},
   "outputs": [
    {
     "ename": "TypeError",
     "evalue": "unsupported operand type(s) for *: 'dict' and 'int'",
     "output_type": "error",
     "traceback": [
      "\u001b[1;31m---------------------------------------------------------------------------\u001b[0m",
      "\u001b[1;31mTypeError\u001b[0m                                 Traceback (most recent call last)",
      "Input \u001b[1;32mIn [118]\u001b[0m, in \u001b[0;36m<cell line: 3>\u001b[1;34m()\u001b[0m\n\u001b[0;32m      1\u001b[0m \u001b[38;5;66;03m# repetation\u001b[39;00m\n\u001b[1;32m----> 3\u001b[0m \u001b[43memp_data\u001b[49m\u001b[38;5;241;43m*\u001b[39;49m\u001b[38;5;241;43m2\u001b[39;49m\n",
      "\u001b[1;31mTypeError\u001b[0m: unsupported operand type(s) for *: 'dict' and 'int'"
     ]
    }
   ],
   "source": [
    "# repetation\n",
    "\n",
    "emp_data*2"
   ]
  },
  {
   "cell_type": "code",
   "execution_count": 120,
   "id": "1cf24b07",
   "metadata": {},
   "outputs": [
    {
     "name": "stdout",
     "output_type": "stream",
     "text": [
      "2243650019584\n",
      "2243650020672\n",
      "False\n"
     ]
    }
   ],
   "source": [
    "# Identity\n",
    "\n",
    "a = {1:'a'}\n",
    "b = {1:'b'}\n",
    "\n",
    "print(id(a))\n",
    "print(id(b))\n",
    "\n",
    "print(a is b)"
   ]
  },
  {
   "cell_type": "code",
   "execution_count": null,
   "id": "5cda5aab",
   "metadata": {},
   "outputs": [],
   "source": [
    "# membership op\n",
    "# membership op are only possible on keys \n"
   ]
  },
  {
   "cell_type": "code",
   "execution_count": 124,
   "id": "6320c668",
   "metadata": {},
   "outputs": [
    {
     "data": {
      "text/plain": [
       "{'emp1': {'age': 56, 'Salary': 25, 'name': 'israr'},\n",
       " 'emp2': {'age': 25, 'Salary': 25, 'name': 'amitesh'},\n",
       " 'emp3': {'age': 25, 'Salary': 25, 'name': 'amitesh'}}"
      ]
     },
     "execution_count": 124,
     "metadata": {},
     "output_type": "execute_result"
    }
   ],
   "source": [
    "emp_data = {\"emp1\":{'age': 56 , \"Salary\": 25 , \"name\":'israr'}, \n",
    "            \"emp2\":{'age': 25 , \"Salary\": 25 , \"name\":'amitesh'},\n",
    "            'emp3':{'age': 25 , \"Salary\": 25 , \"name\":'amitesh'}}\n",
    "emp_data"
   ]
  },
  {
   "cell_type": "code",
   "execution_count": 123,
   "id": "3d9f0654",
   "metadata": {},
   "outputs": [
    {
     "name": "stdout",
     "output_type": "stream",
     "text": [
      "False\n"
     ]
    }
   ],
   "source": [
    "print(56 in emp_data)"
   ]
  },
  {
   "cell_type": "code",
   "execution_count": 129,
   "id": "e5375a7c",
   "metadata": {},
   "outputs": [],
   "source": [
    "emp_data = {\"emp1\":{'age': 56 , \"Salary\": 25 , \"name\":'israr'}, \n",
    "            \"emp2\":{'age': 25 , \"Salary\": 25 , \"name\":'amitesh'}, #hsetima\n",
    "            'emp3':{'age': 25 , \"Salary\": 25 , \"name\":'Purnendu'}}"
   ]
  },
  {
   "cell_type": "code",
   "execution_count": 127,
   "id": "3d4306fd",
   "metadata": {},
   "outputs": [
    {
     "data": {
      "text/plain": [
       "dict_keys(['age', 'Salary', 'name'])"
      ]
     },
     "execution_count": 127,
     "metadata": {},
     "output_type": "execute_result"
    }
   ],
   "source": [
    "# a[][]\n",
    "\n",
    "emp_data['emp1'].keys()"
   ]
  },
  {
   "cell_type": "code",
   "execution_count": 128,
   "id": "8d3c552a",
   "metadata": {},
   "outputs": [
    {
     "data": {
      "text/plain": [
       "'israr'"
      ]
     },
     "execution_count": 128,
     "metadata": {},
     "output_type": "execute_result"
    }
   ],
   "source": [
    "emp_data['emp1']['name']"
   ]
  },
  {
   "cell_type": "code",
   "execution_count": 130,
   "id": "08562d03",
   "metadata": {},
   "outputs": [
    {
     "data": {
      "text/plain": [
       "'hsetima'"
      ]
     },
     "execution_count": 130,
     "metadata": {},
     "output_type": "execute_result"
    }
   ],
   "source": [
    "emp_data['emp2']['name'][::-1]"
   ]
  },
  {
   "cell_type": "code",
   "execution_count": 131,
   "id": "04fdab02",
   "metadata": {},
   "outputs": [],
   "source": [
    "emp_data = {\"emp1\":{'age': 56 , \"Salary\": 23 , \"name\":'israr'}, \n",
    "            \"emp2\":{'age': 25 , \"Salary\": 27 , \"name\":'amitesh'}, \n",
    "            'emp3':{'age': 25 , \"Salary\": 28 , \"name\":'Purnendu'},\n",
    "            'emp4':{'age': 25 , \"Salary\": 30 , \"name\":'Purnendu'}}"
   ]
  },
  {
   "cell_type": "code",
   "execution_count": null,
   "id": "85c28b0b",
   "metadata": {},
   "outputs": [],
   "source": [
    "# Extact emp whose salary is >25"
   ]
  },
  {
   "cell_type": "code",
   "execution_count": null,
   "id": "d51984fc",
   "metadata": {},
   "outputs": [],
   "source": []
  },
  {
   "cell_type": "code",
   "execution_count": null,
   "id": "1f8d51c1",
   "metadata": {},
   "outputs": [],
   "source": []
  },
  {
   "cell_type": "code",
   "execution_count": null,
   "id": "36c12ad7",
   "metadata": {},
   "outputs": [],
   "source": []
  },
  {
   "cell_type": "code",
   "execution_count": null,
   "id": "bcaedd6c",
   "metadata": {},
   "outputs": [],
   "source": []
  }
 ],
 "metadata": {
  "kernelspec": {
   "display_name": "Python 3 (ipykernel)",
   "language": "python",
   "name": "python3"
  },
  "language_info": {
   "codemirror_mode": {
    "name": "ipython",
    "version": 3
   },
   "file_extension": ".py",
   "mimetype": "text/x-python",
   "name": "python",
   "nbconvert_exporter": "python",
   "pygments_lexer": "ipython3",
   "version": "3.9.12"
  }
 },
 "nbformat": 4,
 "nbformat_minor": 5
}
