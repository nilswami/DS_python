{
 "cells": [
  {
   "cell_type": "code",
   "execution_count": null,
   "id": "0f2a2244",
   "metadata": {},
   "outputs": [],
   "source": [
    "# Logical operators\n",
    "\n",
    "\n",
    "# And\n",
    "True and True -----> True\n",
    "False and True-----> False \n",
    "True and False -----> False \n",
    "False and True -----> False\n",
    "\n",
    "# or \n",
    "\n",
    "True or True ----> True\n",
    "False or True ----> True\n",
    "\n",
    "\n",
    "# Not \n",
    "\n",
    "True ---> False \n",
    "False -----> True"
   ]
  },
  {
   "cell_type": "code",
   "execution_count": 1,
   "id": "5d0c5d93",
   "metadata": {},
   "outputs": [
    {
     "name": "stdout",
     "output_type": "stream",
     "text": [
      "False\n"
     ]
    }
   ],
   "source": [
    "print(True and False)"
   ]
  },
  {
   "cell_type": "code",
   "execution_count": 2,
   "id": "b4376e52",
   "metadata": {},
   "outputs": [
    {
     "name": "stdout",
     "output_type": "stream",
     "text": [
      "True\n"
     ]
    }
   ],
   "source": [
    "print(True or False )"
   ]
  },
  {
   "cell_type": "code",
   "execution_count": 3,
   "id": "6b82bbe3",
   "metadata": {},
   "outputs": [
    {
     "name": "stdout",
     "output_type": "stream",
     "text": [
      "True\n"
     ]
    }
   ],
   "source": [
    "print( not False)"
   ]
  },
  {
   "cell_type": "code",
   "execution_count": 6,
   "id": "9a36a738",
   "metadata": {},
   "outputs": [
    {
     "name": "stdout",
     "output_type": "stream",
     "text": [
      "False\n",
      "False\n"
     ]
    }
   ],
   "source": [
    "print((10<20) and (10==20))\n",
    "\n",
    "# 10<20 ---- True\n",
    "# 10 == 20 ---- False\n",
    "print(True and False)"
   ]
  },
  {
   "cell_type": "code",
   "execution_count": 12,
   "id": "57d55269",
   "metadata": {},
   "outputs": [
    {
     "name": "stdout",
     "output_type": "stream",
     "text": [
      "0\n"
     ]
    }
   ],
   "source": [
    "print(10 and 20)"
   ]
  },
  {
   "cell_type": "code",
   "execution_count": 10,
   "id": "f4f4d0ae",
   "metadata": {},
   "outputs": [
    {
     "data": {
      "text/plain": [
       "False"
      ]
     },
     "execution_count": 10,
     "metadata": {},
     "output_type": "execute_result"
    }
   ],
   "source": [
    "bool(10)"
   ]
  },
  {
   "cell_type": "code",
   "execution_count": 9,
   "id": "e40b895b",
   "metadata": {},
   "outputs": [
    {
     "data": {
      "text/plain": [
       "True"
      ]
     },
     "execution_count": 9,
     "metadata": {},
     "output_type": "execute_result"
    }
   ],
   "source": [
    "bool(20)"
   ]
  },
  {
   "cell_type": "code",
   "execution_count": null,
   "id": "5251a109",
   "metadata": {},
   "outputs": [],
   "source": [
    "# There is a small deviation\n",
    "* A and B are values\n",
    "* A and B ----> Result will be A if A is False else B\n",
    "* A or B ----> result will be A if A is True else B"
   ]
  },
  {
   "cell_type": "markdown",
   "id": "9e8203b9",
   "metadata": {},
   "source": [
    "* int - 0 is always False rest is True\n",
    "* Float - 0.0 is always false and the rest is True\n",
    "* String - '' is always false rest all is True\n",
    "* Complex - 0+0j is always False rest all is True"
   ]
  },
  {
   "cell_type": "code",
   "execution_count": 13,
   "id": "0018bf58",
   "metadata": {},
   "outputs": [
    {
     "name": "stdout",
     "output_type": "stream",
     "text": [
      "10\n"
     ]
    }
   ],
   "source": [
    "A = 5 #----> True\n",
    "B = 10 #----->True\n",
    "\n",
    "\n",
    "print(A and B)"
   ]
  },
  {
   "cell_type": "code",
   "execution_count": 14,
   "id": "491ff6a4",
   "metadata": {},
   "outputs": [
    {
     "name": "stdout",
     "output_type": "stream",
     "text": [
      "0\n"
     ]
    }
   ],
   "source": [
    "A = 0 #----> False\n",
    "B = 10 #----->True\n",
    "\n",
    "print(A and B)"
   ]
  },
  {
   "cell_type": "code",
   "execution_count": 27,
   "id": "5c0221a6",
   "metadata": {},
   "outputs": [
    {
     "name": "stdout",
     "output_type": "stream",
     "text": [
      "0\n"
     ]
    }
   ],
   "source": [
    "A = 1 #----> True\n",
    "B = 0 #----->False\n",
    "\n",
    "print(A and B)\n",
    "\n",
    "# A is True hence the result is B"
   ]
  },
  {
   "cell_type": "code",
   "execution_count": 16,
   "id": "6ae3fb86",
   "metadata": {},
   "outputs": [
    {
     "name": "stdout",
     "output_type": "stream",
     "text": [
      "5\n"
     ]
    }
   ],
   "source": [
    "A = 5 #----> True\n",
    "B = 10 #----->True\n",
    "\n",
    "\n",
    "print(A or B)"
   ]
  },
  {
   "cell_type": "code",
   "execution_count": 17,
   "id": "294e6727",
   "metadata": {},
   "outputs": [
    {
     "name": "stdout",
     "output_type": "stream",
     "text": [
      "1\n"
     ]
    }
   ],
   "source": [
    "# # There is a small deviation\n",
    "# * A and B are values\n",
    "# * A and B ----> Result will be A if A is False else B\n",
    "# * A or B ----> result will be A if A is True else B\n",
    "\n",
    "A = 1 #----> True\n",
    "B = 20 #----->True\n",
    "\n",
    "print(A or B)"
   ]
  },
  {
   "cell_type": "code",
   "execution_count": 19,
   "id": "0f361683",
   "metadata": {},
   "outputs": [
    {
     "name": "stdout",
     "output_type": "stream",
     "text": [
      "1.1\n"
     ]
    }
   ],
   "source": [
    "\n",
    "A = 1.1 #----> True\n",
    "B = 20 #----->True\n",
    "\n",
    "print(A or B)\n",
    "\n",
    "# A is True then the result will be A"
   ]
  },
  {
   "cell_type": "code",
   "execution_count": 18,
   "id": "82420753",
   "metadata": {},
   "outputs": [
    {
     "data": {
      "text/plain": [
       "True"
      ]
     },
     "execution_count": 18,
     "metadata": {},
     "output_type": "execute_result"
    }
   ],
   "source": [
    "bool(1.1)"
   ]
  },
  {
   "cell_type": "code",
   "execution_count": 20,
   "id": "21743775",
   "metadata": {},
   "outputs": [
    {
     "name": "stdout",
     "output_type": "stream",
     "text": [
      "0.0\n"
     ]
    }
   ],
   "source": [
    "# * A or B ----> result will be A if A is True else B\n",
    "A = 0 #----> False \n",
    "B = 0.0 #----->False\n",
    "\n",
    "print(A or B)\n",
    "\n",
    "# A is False then the rsult is B"
   ]
  },
  {
   "cell_type": "code",
   "execution_count": 22,
   "id": "a877d73a",
   "metadata": {},
   "outputs": [
    {
     "name": "stdout",
     "output_type": "stream",
     "text": [
      "0\n"
     ]
    }
   ],
   "source": [
    "A = '0' #----> True \n",
    "B = 10 #----->True\n",
    "\n",
    "print(A or B)\n",
    "# A is True then the result is A"
   ]
  },
  {
   "cell_type": "code",
   "execution_count": 25,
   "id": "ab3843a1",
   "metadata": {},
   "outputs": [
    {
     "data": {
      "text/plain": [
       "False"
      ]
     },
     "execution_count": 25,
     "metadata": {},
     "output_type": "execute_result"
    }
   ],
   "source": [
    "bool('')"
   ]
  },
  {
   "cell_type": "markdown",
   "id": "11987036",
   "metadata": {},
   "source": [
    "# # There is a small deviation\n",
    "# * A and B are values\n",
    "# * A and B ----> Result will be A if A is False else B\n",
    "# * A or B ----> result will be A if A is True else B"
   ]
  },
  {
   "cell_type": "code",
   "execution_count": 28,
   "id": "adcad310",
   "metadata": {},
   "outputs": [
    {
     "name": "stdout",
     "output_type": "stream",
     "text": [
      "True\n"
     ]
    }
   ],
   "source": [
    "A = (5>2) #----> True\n",
    "B = (66<87) #------> True\n",
    "\n",
    "\n",
    "\n",
    "print(A and B)\n",
    "\n",
    "# print(True and True)"
   ]
  },
  {
   "cell_type": "code",
   "execution_count": 31,
   "id": "261ebe09",
   "metadata": {},
   "outputs": [
    {
     "name": "stdout",
     "output_type": "stream",
     "text": [
      "(1+0j)\n"
     ]
    }
   ],
   "source": [
    "# * A or B ----> result will be A if A is True else B\n",
    "A = 1+0j #----> True\n",
    "B = 20 #----->True\n",
    "\n",
    "print(A or B)\n",
    "\n",
    "# print(True or True)\n",
    "# A is True hence the result will be A"
   ]
  },
  {
   "cell_type": "code",
   "execution_count": 29,
   "id": "4614c5b7",
   "metadata": {},
   "outputs": [
    {
     "data": {
      "text/plain": [
       "True"
      ]
     },
     "execution_count": 29,
     "metadata": {},
     "output_type": "execute_result"
    }
   ],
   "source": [
    "bool(1+0j)"
   ]
  },
  {
   "cell_type": "code",
   "execution_count": null,
   "id": "4bb251ef",
   "metadata": {},
   "outputs": [],
   "source": [
    "# Bitwise operations\n",
    "* &(bitwise and )\n",
    "* ^(Bitwise xor)\n",
    "* << Left shift \n",
    "* >> right shift\n",
    "* ~ ( Bitwsise not)\n",
    "* | (bitwise or)"
   ]
  },
  {
   "cell_type": "code",
   "execution_count": 36,
   "id": "300fa368",
   "metadata": {},
   "outputs": [
    {
     "name": "stdout",
     "output_type": "stream",
     "text": [
      "0\n"
     ]
    }
   ],
   "source": [
    "# & \n",
    "# It converts the numberical values to binary\n",
    "# We use and operation \n",
    "# It converts binary to numerical\n",
    "\n",
    "x = 10 #-----> binary 1010\n",
    "y = 4 #------> binary 100\n",
    "print(x&y)"
   ]
  },
  {
   "cell_type": "code",
   "execution_count": null,
   "id": "65508d6e",
   "metadata": {},
   "outputs": [],
   "source": [
    "1   0   1   0\n",
    "0   1   0   0\n",
    "\n",
    "0   0   0    0 ------> 0"
   ]
  },
  {
   "cell_type": "code",
   "execution_count": 32,
   "id": "9145ff11",
   "metadata": {},
   "outputs": [
    {
     "name": "stdout",
     "output_type": "stream",
     "text": [
      "0b1010\n"
     ]
    }
   ],
   "source": [
    "print(bin(10))"
   ]
  },
  {
   "cell_type": "code",
   "execution_count": 33,
   "id": "7b62ae06",
   "metadata": {},
   "outputs": [
    {
     "name": "stdout",
     "output_type": "stream",
     "text": [
      "0b100\n"
     ]
    }
   ],
   "source": [
    "print(bin(4))"
   ]
  },
  {
   "cell_type": "code",
   "execution_count": 34,
   "id": "fc064cba",
   "metadata": {},
   "outputs": [
    {
     "name": "stdout",
     "output_type": "stream",
     "text": [
      "0\n"
     ]
    }
   ],
   "source": [
    "print(0b0000)"
   ]
  },
  {
   "cell_type": "code",
   "execution_count": 35,
   "id": "2b8e9c5b",
   "metadata": {},
   "outputs": [
    {
     "name": "stdout",
     "output_type": "stream",
     "text": [
      "10\n"
     ]
    }
   ],
   "source": [
    "print(0b1010)"
   ]
  },
  {
   "cell_type": "code",
   "execution_count": 40,
   "id": "c42af383",
   "metadata": {},
   "outputs": [
    {
     "name": "stdout",
     "output_type": "stream",
     "text": [
      "6\n"
     ]
    }
   ],
   "source": [
    "x = 6 #-----> binary 0110\n",
    "y = 15 #------> binary 1111\n",
    "print(x&y)"
   ]
  },
  {
   "cell_type": "code",
   "execution_count": 37,
   "id": "4b5faeb6",
   "metadata": {},
   "outputs": [
    {
     "name": "stdout",
     "output_type": "stream",
     "text": [
      "0b110\n"
     ]
    }
   ],
   "source": [
    "print(bin(6))"
   ]
  },
  {
   "cell_type": "code",
   "execution_count": 38,
   "id": "f244fcc8",
   "metadata": {},
   "outputs": [
    {
     "name": "stdout",
     "output_type": "stream",
     "text": [
      "0b1111\n"
     ]
    }
   ],
   "source": [
    "print(bin(15))"
   ]
  },
  {
   "cell_type": "code",
   "execution_count": null,
   "id": "abac9c05",
   "metadata": {},
   "outputs": [],
   "source": [
    "0   1   1  0\n",
    "1   1   1  1\n",
    "\n",
    "0   1   1   0-----> 6"
   ]
  },
  {
   "cell_type": "code",
   "execution_count": 39,
   "id": "96043697",
   "metadata": {},
   "outputs": [
    {
     "name": "stdout",
     "output_type": "stream",
     "text": [
      "6\n"
     ]
    }
   ],
   "source": [
    "print(0b0110)"
   ]
  },
  {
   "cell_type": "code",
   "execution_count": 41,
   "id": "80c782fe",
   "metadata": {},
   "outputs": [
    {
     "name": "stdout",
     "output_type": "stream",
     "text": [
      "20\n"
     ]
    }
   ],
   "source": [
    "# ^\n",
    "\n",
    "x = 44   # binary 101100\n",
    "y = 56    # binary 111000\n",
    "print(x^y)"
   ]
  },
  {
   "cell_type": "code",
   "execution_count": null,
   "id": "b297ef10",
   "metadata": {},
   "outputs": [],
   "source": [
    "1  0  1  1  0  0\n",
    "1  1  1  0  0  0\n",
    "\n",
    "0  1  0  1   0  0   ------> 20"
   ]
  },
  {
   "cell_type": "code",
   "execution_count": 42,
   "id": "eb020967",
   "metadata": {},
   "outputs": [
    {
     "name": "stdout",
     "output_type": "stream",
     "text": [
      "80\n"
     ]
    }
   ],
   "source": [
    "# << Left shift   ---- A*(2**n)\n",
    "\n",
    "A = 20\n",
    "print(A<<2)\n",
    "\n",
    "# 2**2 = 4\n",
    "# 20*4  =80"
   ]
  },
  {
   "cell_type": "code",
   "execution_count": 43,
   "id": "3f1a819a",
   "metadata": {},
   "outputs": [
    {
     "name": "stdout",
     "output_type": "stream",
     "text": [
      "240\n"
     ]
    }
   ],
   "source": [
    "y = 15\n",
    "print(y<<4)\n",
    "\n",
    "# 2**4 = 16\n",
    "# 15*16  = 240"
   ]
  },
  {
   "cell_type": "code",
   "execution_count": 44,
   "id": "69bc0f14",
   "metadata": {},
   "outputs": [
    {
     "name": "stdout",
     "output_type": "stream",
     "text": [
      "5\n"
     ]
    }
   ],
   "source": [
    "# >> Bitwise shift right ------ A // (2**n)\n",
    "\n",
    "x = 20\n",
    "print(x>>2)\n",
    "\n",
    "# 2**2  = 4\n",
    "# 20 // (4)   = 5  (5.0)"
   ]
  },
  {
   "cell_type": "code",
   "execution_count": 45,
   "id": "e835d403",
   "metadata": {},
   "outputs": [
    {
     "name": "stdout",
     "output_type": "stream",
     "text": [
      "1\n"
     ]
    }
   ],
   "source": [
    "x = 20\n",
    "\n",
    "print(x>>4)\n",
    "\n",
    "# 2**4 = 16\n",
    "# 20 / (16)  =  1 (1.25) \n"
   ]
  },
  {
   "cell_type": "code",
   "execution_count": 51,
   "id": "8aa76f13",
   "metadata": {},
   "outputs": [
    {
     "name": "stdout",
     "output_type": "stream",
     "text": [
      "98\n"
     ]
    }
   ],
   "source": [
    "# ~ -----> \n",
    "# It adds 1 to variable\n",
    "# It reverts the sign of it  \n",
    "a = -99\n",
    "print(~a)"
   ]
  },
  {
   "cell_type": "code",
   "execution_count": 47,
   "id": "d5350f40",
   "metadata": {},
   "outputs": [
    {
     "name": "stdout",
     "output_type": "stream",
     "text": [
      "0\n"
     ]
    }
   ],
   "source": [
    "a = -1\n",
    "print(~a)"
   ]
  },
  {
   "cell_type": "code",
   "execution_count": 48,
   "id": "fc0dded7",
   "metadata": {},
   "outputs": [
    {
     "name": "stdout",
     "output_type": "stream",
     "text": [
      "100\n"
     ]
    }
   ],
   "source": [
    "a = -101\n",
    "print(~a)"
   ]
  },
  {
   "cell_type": "code",
   "execution_count": 50,
   "id": "bb4651b4",
   "metadata": {},
   "outputs": [
    {
     "name": "stdout",
     "output_type": "stream",
     "text": [
      "30\n"
     ]
    }
   ],
   "source": [
    "# bitwise or(|)\n",
    "x = 10  # binary 1010\n",
    "y = 20  # binary 10100\n",
    "print(x | y)"
   ]
  },
  {
   "cell_type": "code",
   "execution_count": null,
   "id": "47011429",
   "metadata": {},
   "outputs": [],
   "source": [
    "0   1   0   1  0\n",
    "1   0   1   0  0\n",
    "\n",
    "1    1    1    1  0  ---> 30"
   ]
  },
  {
   "cell_type": "code",
   "execution_count": null,
   "id": "1395d015",
   "metadata": {},
   "outputs": [],
   "source": [
    "# Assignment operators \n",
    "= "
   ]
  },
  {
   "cell_type": "code",
   "execution_count": 60,
   "id": "b7e47eaf",
   "metadata": {},
   "outputs": [
    {
     "name": "stdout",
     "output_type": "stream",
     "text": [
      "7\n"
     ]
    }
   ],
   "source": [
    "x = 5  #-----> 5\n",
    "x += 2  # -----> 2\n",
    "print(x)"
   ]
  },
  {
   "cell_type": "code",
   "execution_count": 61,
   "id": "fae37185",
   "metadata": {},
   "outputs": [
    {
     "name": "stdout",
     "output_type": "stream",
     "text": [
      "3\n"
     ]
    }
   ],
   "source": [
    "x = 5  #-----> 5\n",
    "x -= 2  # -----> 2\n",
    "print(x)"
   ]
  },
  {
   "cell_type": "code",
   "execution_count": 62,
   "id": "063f01d1",
   "metadata": {},
   "outputs": [
    {
     "name": "stdout",
     "output_type": "stream",
     "text": [
      "2.5\n"
     ]
    }
   ],
   "source": [
    "x = 5  #-----> 5\n",
    "x /= 2  # -----> 2\n",
    "print(x)"
   ]
  },
  {
   "cell_type": "code",
   "execution_count": 63,
   "id": "76cea6a2",
   "metadata": {},
   "outputs": [
    {
     "name": "stdout",
     "output_type": "stream",
     "text": [
      "2\n"
     ]
    }
   ],
   "source": [
    "x = 5  #-----> 5\n",
    "x //= 2  # -----> 2\n",
    "print(x)"
   ]
  },
  {
   "cell_type": "code",
   "execution_count": 64,
   "id": "6f424a91",
   "metadata": {},
   "outputs": [
    {
     "name": "stdout",
     "output_type": "stream",
     "text": [
      "25\n"
     ]
    }
   ],
   "source": [
    "x = 5  #-----> 5\n",
    "x **= 2  # -----> 2\n",
    "print(x)"
   ]
  },
  {
   "cell_type": "code",
   "execution_count": 65,
   "id": "ac6345c6",
   "metadata": {},
   "outputs": [
    {
     "name": "stdout",
     "output_type": "stream",
     "text": [
      "10\n"
     ]
    }
   ],
   "source": [
    "x = 5  #-----> 5\n",
    "x *= 2  # -----> 2\n",
    "print(x)"
   ]
  },
  {
   "cell_type": "code",
   "execution_count": null,
   "id": "a09e7dd7",
   "metadata": {},
   "outputs": [],
   "source": [
    "# Identity operators"
   ]
  },
  {
   "cell_type": "code",
   "execution_count": null,
   "id": "3e80400d",
   "metadata": {},
   "outputs": [],
   "source": [
    "is and is not\n",
    "- tells us if the memory location of two variable is same or not\n",
    "- Always return True or False \n",
    "- \n",
    "\n",
    "rules\n",
    "- int -5 to 256\n",
    "- None \n",
    "- True and False \n",
    "- strings = A-Z, a-b , num and _  \n",
    "\n",
    "\n",
    "will not work for \n",
    "- float\n",
    "- complex"
   ]
  },
  {
   "cell_type": "code",
   "execution_count": 68,
   "id": "0307f6e8",
   "metadata": {},
   "outputs": [
    {
     "name": "stdout",
     "output_type": "stream",
     "text": [
      "1924818233936\n",
      "1924818233936\n",
      "True\n"
     ]
    }
   ],
   "source": [
    "a = 10\n",
    "b = 10\n",
    "\n",
    "print(id(a))\n",
    "print(id(b))\n",
    "print(a is b)"
   ]
  },
  {
   "cell_type": "code",
   "execution_count": 69,
   "id": "1fb5732b",
   "metadata": {},
   "outputs": [
    {
     "name": "stdout",
     "output_type": "stream",
     "text": [
      "1924818233936\n",
      "1924818425616\n",
      "False\n"
     ]
    }
   ],
   "source": [
    "a = 10\n",
    "b = 110\n",
    "\n",
    "print(id(a))\n",
    "print(id(b))\n",
    "print(a is b)"
   ]
  },
  {
   "cell_type": "code",
   "execution_count": 70,
   "id": "c26f89ea",
   "metadata": {},
   "outputs": [
    {
     "name": "stdout",
     "output_type": "stream",
     "text": [
      "1924818233936\n",
      "1924818425616\n",
      "True\n"
     ]
    }
   ],
   "source": [
    "a = 10\n",
    "b = 110\n",
    "\n",
    "print(id(a))\n",
    "print(id(b))\n",
    "print(a is not b)"
   ]
  },
  {
   "cell_type": "code",
   "execution_count": 71,
   "id": "3d79d4ae",
   "metadata": {},
   "outputs": [
    {
     "name": "stdout",
     "output_type": "stream",
     "text": [
      "1924818233936\n",
      "1924929231344\n",
      "False\n"
     ]
    }
   ],
   "source": [
    "a = 10\n",
    "b = 10.2\n",
    "\n",
    "print(id(a))\n",
    "print(id(b))\n",
    "print(a is b)"
   ]
  },
  {
   "cell_type": "code",
   "execution_count": 72,
   "id": "e6b7bce3",
   "metadata": {},
   "outputs": [
    {
     "name": "stdout",
     "output_type": "stream",
     "text": [
      "1924929230256\n",
      "1924929231440\n",
      "False\n"
     ]
    }
   ],
   "source": [
    "a = 10.2\n",
    "b = 10.2\n",
    "\n",
    "print(id(a))\n",
    "print(id(b))\n",
    "print(a is b)"
   ]
  },
  {
   "cell_type": "code",
   "execution_count": null,
   "id": "0331d96c",
   "metadata": {},
   "outputs": [],
   "source": [
    "#0 - 1   ----> infinite"
   ]
  },
  {
   "cell_type": "code",
   "execution_count": 74,
   "id": "b315ae29",
   "metadata": {},
   "outputs": [
    {
     "name": "stdout",
     "output_type": "stream",
     "text": [
      "1924929230992\n",
      "1924929231184\n",
      "False\n"
     ]
    }
   ],
   "source": [
    "a = 300\n",
    "b = 300\n",
    "\n",
    "# int -5 to 256\n",
    "# pixel values 0 - 255\n",
    "\n",
    "print(id(a))\n",
    "print(id(b))\n",
    "print(a is b)"
   ]
  },
  {
   "cell_type": "code",
   "execution_count": 75,
   "id": "6399584c",
   "metadata": {},
   "outputs": [
    {
     "name": "stdout",
     "output_type": "stream",
     "text": [
      "1924929231888\n",
      "1924929231696\n",
      "False\n"
     ]
    }
   ],
   "source": [
    "a = 257\n",
    "b = 257\n",
    "\n",
    "print(id(a))\n",
    "print(id(b))\n",
    "print(a is b)"
   ]
  },
  {
   "cell_type": "code",
   "execution_count": 87,
   "id": "8d137540",
   "metadata": {},
   "outputs": [
    {
     "name": "stdout",
     "output_type": "stream",
     "text": [
      "1924929646000\n",
      "1924929646000\n",
      "True\n"
     ]
    }
   ],
   "source": [
    "a = 'abc_'\n",
    "b = 'abc_'\n",
    "\n",
    "print(id(a))\n",
    "print(id(b))\n",
    "print(a is b)"
   ]
  },
  {
   "cell_type": "code",
   "execution_count": 90,
   "id": "2034bcf0",
   "metadata": {},
   "outputs": [
    {
     "name": "stdout",
     "output_type": "stream",
     "text": [
      "140708311652456\n",
      "140708311652456\n",
      "True\n"
     ]
    }
   ],
   "source": [
    "a = True\n",
    "b = True\n",
    "\n",
    "print(id(a))\n",
    "print(id(b))\n",
    "print(a is b)"
   ]
  },
  {
   "cell_type": "code",
   "execution_count": null,
   "id": "8e51c161",
   "metadata": {},
   "outputs": [],
   "source": []
  }
 ],
 "metadata": {
  "kernelspec": {
   "display_name": "Python 3 (ipykernel)",
   "language": "python",
   "name": "python3"
  },
  "language_info": {
   "codemirror_mode": {
    "name": "ipython",
    "version": 3
   },
   "file_extension": ".py",
   "mimetype": "text/x-python",
   "name": "python",
   "nbconvert_exporter": "python",
   "pygments_lexer": "ipython3",
   "version": "3.9.12"
  }
 },
 "nbformat": 4,
 "nbformat_minor": 5
}
