{
 "cells": [
  {
   "cell_type": "markdown",
   "id": "bd203b96",
   "metadata": {},
   "source": [
    "# Anything that can be written inside a '..' , \"..\" , '''...''', \"\"\"..\"\"\""
   ]
  },
  {
   "cell_type": "code",
   "execution_count": 3,
   "id": "7b2d3755",
   "metadata": {},
   "outputs": [
    {
     "name": "stdout",
     "output_type": "stream",
     "text": [
      "11 <class 'str'>\n"
     ]
    }
   ],
   "source": [
    "a = '11'\n",
    "print(a , type(a))"
   ]
  },
  {
   "cell_type": "code",
   "execution_count": 4,
   "id": "b2320e8c",
   "metadata": {},
   "outputs": [
    {
     "name": "stdout",
     "output_type": "stream",
     "text": [
      "Python\n",
      "Python\n",
      "Python\n"
     ]
    }
   ],
   "source": [
    "a = 'Python' # \n",
    "b = \"Python\" #\n",
    "c = '''Python'''\n",
    "\n",
    "print(a)\n",
    "print(b)\n",
    "print(c)"
   ]
  },
  {
   "cell_type": "code",
   "execution_count": 5,
   "id": "4c5ceac0",
   "metadata": {},
   "outputs": [
    {
     "ename": "SyntaxError",
     "evalue": "invalid syntax (3631662671.py, line 1)",
     "output_type": "error",
     "traceback": [
      "\u001b[1;36m  Input \u001b[1;32mIn [5]\u001b[1;36m\u001b[0m\n\u001b[1;33m    a = 'this is an python's class'\u001b[0m\n\u001b[1;37m                           ^\u001b[0m\n\u001b[1;31mSyntaxError\u001b[0m\u001b[1;31m:\u001b[0m invalid syntax\n"
     ]
    }
   ],
   "source": [
    "a = 'this is an python's class'"
   ]
  },
  {
   "cell_type": "code",
   "execution_count": 7,
   "id": "535a0301",
   "metadata": {},
   "outputs": [
    {
     "name": "stdout",
     "output_type": "stream",
     "text": [
      "this is an python's class\n"
     ]
    }
   ],
   "source": [
    "a = \"this is an python's class\"\n",
    "print(a)"
   ]
  },
  {
   "cell_type": "code",
   "execution_count": 8,
   "id": "cd414083",
   "metadata": {},
   "outputs": [
    {
     "ename": "SyntaxError",
     "evalue": "EOL while scanning string literal (3032933239.py, line 1)",
     "output_type": "error",
     "traceback": [
      "\u001b[1;36m  Input \u001b[1;32mIn [8]\u001b[1;36m\u001b[0m\n\u001b[1;33m    a = \"this is an\u001b[0m\n\u001b[1;37m                    ^\u001b[0m\n\u001b[1;31mSyntaxError\u001b[0m\u001b[1;31m:\u001b[0m EOL while scanning string literal\n"
     ]
    }
   ],
   "source": [
    "a = \"this is an \n",
    "python's class\"\n",
    "\n",
    "print(a)"
   ]
  },
  {
   "cell_type": "code",
   "execution_count": 9,
   "id": "5c8b97ba",
   "metadata": {},
   "outputs": [
    {
     "name": "stdout",
     "output_type": "stream",
     "text": [
      "this is an \n",
      "python's class\n"
     ]
    }
   ],
   "source": [
    "a = '''this is an \n",
    "python's class'''\n",
    "\n",
    "print(a)"
   ]
  },
  {
   "cell_type": "code",
   "execution_count": 10,
   "id": "f8305b41",
   "metadata": {},
   "outputs": [
    {
     "name": "stdout",
     "output_type": "stream",
     "text": [
      "2228187203696\n"
     ]
    }
   ],
   "source": [
    "a = 'python'\n",
    "print(id(a))"
   ]
  },
  {
   "cell_type": "code",
   "execution_count": 11,
   "id": "2ef7a9ba",
   "metadata": {},
   "outputs": [
    {
     "name": "stdout",
     "output_type": "stream",
     "text": [
      "2228145035568\n"
     ]
    }
   ],
   "source": [
    "a = 'python'\n",
    "print(id(a[2]))"
   ]
  },
  {
   "cell_type": "code",
   "execution_count": 12,
   "id": "834bc968",
   "metadata": {},
   "outputs": [
    {
     "name": "stdout",
     "output_type": "stream",
     "text": [
      "n\n"
     ]
    }
   ],
   "source": [
    "# +ve indexing\n",
    "\n",
    "a = 'python'\n",
    "print(a[5])"
   ]
  },
  {
   "cell_type": "code",
   "execution_count": 13,
   "id": "deebe3c0",
   "metadata": {},
   "outputs": [
    {
     "name": "stdout",
     "output_type": "stream",
     "text": [
      "n\n"
     ]
    }
   ],
   "source": [
    "# -ve indexing\n",
    "\n",
    "a = 'python'\n",
    "print(a[-1])"
   ]
  },
  {
   "cell_type": "code",
   "execution_count": 14,
   "id": "c10c5832",
   "metadata": {},
   "outputs": [
    {
     "name": "stdout",
     "output_type": "stream",
     "text": [
      "2228145035568\n",
      "2228145035568\n"
     ]
    }
   ],
   "source": [
    "# +ve indexing\n",
    "\n",
    "a = 'python'\n",
    "b = 'cython'\n",
    "\n",
    "print(id(a[2]))\n",
    "print(id(b[2]))"
   ]
  },
  {
   "cell_type": "code",
   "execution_count": 19,
   "id": "0fc6822e",
   "metadata": {},
   "outputs": [
    {
     "name": "stdout",
     "output_type": "stream",
     "text": [
      "2228144794672\n",
      "2228145045616\n"
     ]
    }
   ],
   "source": [
    "# -ve indexing\n",
    "\n",
    "a = 'python'\n",
    "b = 'cython'\n",
    "\n",
    "print(id(a[-6]))\n",
    "print(id(b[-6]))"
   ]
  },
  {
   "cell_type": "code",
   "execution_count": 22,
   "id": "1b84c531",
   "metadata": {},
   "outputs": [
    {
     "name": "stdout",
     "output_type": "stream",
     "text": [
      "2228230719088\n",
      "2228230175344\n"
     ]
    }
   ],
   "source": [
    "\n",
    "\n",
    "a = 'python_1.2'\n",
    "b = 'python_1.2'\n",
    "\n",
    "print(id(a))\n",
    "print(id(b))"
   ]
  },
  {
   "cell_type": "markdown",
   "id": "3569ac4b",
   "metadata": {},
   "source": [
    "# String properties\n",
    "1. Indexing is possible\n",
    "2. Slicing"
   ]
  },
  {
   "cell_type": "code",
   "execution_count": 26,
   "id": "ba9ce8c9",
   "metadata": {},
   "outputs": [
    {
     "name": "stdout",
     "output_type": "stream",
     "text": [
      "el\n"
     ]
    }
   ],
   "source": [
    "a = \"Leonel messi\"\n",
    "print(a[4:6])"
   ]
  },
  {
   "cell_type": "code",
   "execution_count": 27,
   "id": "ddc9cc41",
   "metadata": {},
   "outputs": [
    {
     "name": "stdout",
     "output_type": "stream",
     "text": [
      "ess\n"
     ]
    }
   ],
   "source": [
    "# Extarct ess from the string using positive\n",
    "print(a[8:11])"
   ]
  },
  {
   "cell_type": "code",
   "execution_count": null,
   "id": "99a33f42",
   "metadata": {},
   "outputs": [],
   "source": [
    "a = \"Leonel messi\"\n",
    "# Extarct ess from the string using negative\n",
    "print(a[:11])"
   ]
  },
  {
   "cell_type": "code",
   "execution_count": 31,
   "id": "767883b1",
   "metadata": {},
   "outputs": [
    {
     "name": "stdout",
     "output_type": "stream",
     "text": [
      "2015\n",
      "2015\n",
      "07\n"
     ]
    }
   ],
   "source": [
    "a = \"2015-07-12\"\n",
    "#Year \n",
    "print(a[0:4])# +ve indexing\n",
    "print(a[-10:-6]) # -ve indexing \n",
    "\n",
    "# Month\n",
    "print(a[-5:-3]) # Using -ve indexing\n"
   ]
  },
  {
   "cell_type": "code",
   "execution_count": 37,
   "id": "8dfa0650",
   "metadata": {},
   "outputs": [
    {
     "name": "stdout",
     "output_type": "stream",
     "text": [
      "em leno\n"
     ]
    }
   ],
   "source": [
    "a = \"Leonel messi\"\n",
    "print(a[8:1:-1])"
   ]
  },
  {
   "cell_type": "code",
   "execution_count": 40,
   "id": "76d8bb01",
   "metadata": {},
   "outputs": [
    {
     "name": "stdout",
     "output_type": "stream",
     "text": [
      "issem\n"
     ]
    }
   ],
   "source": [
    "# Give me Messi in reverse, issem\n",
    "a = \"Leonel messi\"\n",
    "print(a[-1:-6:-1])"
   ]
  },
  {
   "cell_type": "code",
   "execution_count": null,
   "id": "624035b4",
   "metadata": {},
   "outputs": [],
   "source": [
    "a = \"Leonel messi\"\n",
    "print(a[-1:-6:-1])"
   ]
  },
  {
   "cell_type": "code",
   "execution_count": 46,
   "id": "6cfa6278",
   "metadata": {},
   "outputs": [
    {
     "name": "stdout",
     "output_type": "stream",
     "text": [
      "no\n"
     ]
    }
   ],
   "source": [
    "a = 'python'\n",
    "print(a[-1:-3:-1])"
   ]
  },
  {
   "cell_type": "code",
   "execution_count": null,
   "id": "7c6c3e7b",
   "metadata": {},
   "outputs": [],
   "source": [
    "#NO >>>>>-ve in and "
   ]
  },
  {
   "cell_type": "code",
   "execution_count": 45,
   "id": "277070d8",
   "metadata": {},
   "outputs": [
    {
     "name": "stdout",
     "output_type": "stream",
     "text": [
      "py\n"
     ]
    }
   ],
   "source": [
    "a = 'python'\n",
    "print(a[0:-4])"
   ]
  },
  {
   "cell_type": "code",
   "execution_count": 66,
   "id": "2b28de16",
   "metadata": {},
   "outputs": [
    {
     "name": "stdout",
     "output_type": "stream",
     "text": [
      "Leonel messi\n",
      "Leonel messi\n"
     ]
    }
   ],
   "source": [
    "a = \"Leonel messi\"\n",
    "#print(a[1:11:3])\n",
    "print(a[0:len(a)])\n",
    "print(a[:len(a)])\n"
   ]
  },
  {
   "cell_type": "code",
   "execution_count": null,
   "id": "2b9d846b",
   "metadata": {},
   "outputs": [],
   "source": [
    "a = \"2015-07-12\"\n"
   ]
  }
 ],
 "metadata": {
  "kernelspec": {
   "display_name": "Python 3 (ipykernel)",
   "language": "python",
   "name": "python3"
  },
  "language_info": {
   "codemirror_mode": {
    "name": "ipython",
    "version": 3
   },
   "file_extension": ".py",
   "mimetype": "text/x-python",
   "name": "python",
   "nbconvert_exporter": "python",
   "pygments_lexer": "ipython3",
   "version": "3.9.12"
  }
 },
 "nbformat": 4,
 "nbformat_minor": 5
}
