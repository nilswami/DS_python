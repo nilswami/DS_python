{
 "cells": [
  {
   "cell_type": "markdown",
   "id": "b3cf8ed6",
   "metadata": {},
   "source": [
    "# For Loop\n",
    "for is done for fixed iteration\n",
    "Syntax:\n",
    "    for var in iteration:\n",
    "        stat -1 \n",
    "        stat -2"
   ]
  },
  {
   "cell_type": "code",
   "execution_count": 1,
   "id": "d716f0c3",
   "metadata": {},
   "outputs": [
    {
     "name": "stdout",
     "output_type": "stream",
     "text": [
      "Hi\n",
      "Hi\n",
      "Hi\n",
      "Hi\n",
      "Hi\n",
      "Hi\n"
     ]
    }
   ],
   "source": [
    "a = 'python'\n",
    "for i in a:\n",
    "    print('Hi')"
   ]
  },
  {
   "cell_type": "code",
   "execution_count": null,
   "id": "6c52d485",
   "metadata": {},
   "outputs": [],
   "source": [
    "# While loop\n",
    "\n",
    "- If we do not know the iteration\n",
    "\n",
    "\n",
    "syntax\n",
    "1 - Initilization\n",
    "2 - condition checking\n",
    "3 - inc/dec"
   ]
  },
  {
   "cell_type": "code",
   "execution_count": 2,
   "id": "a3afd992",
   "metadata": {},
   "outputs": [
    {
     "name": "stdout",
     "output_type": "stream",
     "text": [
      "statement\n",
      "statement\n",
      "statement\n",
      "statement\n",
      "statement\n",
      "statement\n",
      "statement\n",
      "statement\n",
      "statement\n",
      "statement\n"
     ]
    }
   ],
   "source": [
    "i = 0 # Initilization\n",
    "while i < 10: # condition\n",
    "    print('statement')\n",
    "#    i+=1 # inc/dec"
   ]
  },
  {
   "cell_type": "code",
   "execution_count": null,
   "id": "0e269fd9",
   "metadata": {},
   "outputs": [],
   "source": [
    "i = 0 # Initilization\n",
    "while i < 10: # condition\n",
    "    print('statement')"
   ]
  },
  {
   "cell_type": "code",
   "execution_count": 18,
   "id": "4684ed14",
   "metadata": {},
   "outputs": [
    {
     "name": "stdout",
     "output_type": "stream",
     "text": [
      "p\n",
      "yy\n",
      "ttt\n",
      "hhhh\n",
      "ooooo\n",
      "nnnnnn\n"
     ]
    }
   ],
   "source": [
    "# Display \n",
    "# p\n",
    "# yy\n",
    "# ttt\n",
    "# hhhh\n",
    "# ooooo\n",
    "# nnnnnn\n",
    "a = 'python'\n",
    "print(a[0]*1)\n",
    "print(a[1]*2)\n",
    "print(a[2]*3)\n",
    "print(a[3]*4)\n",
    "print(a[4]*5)\n",
    "print(a[5]*6)\n",
    "\n",
    "# For loop\n",
    "\n",
    "for i in range(len(a)):\n",
    "    print(a[i]*(i+1))\n",
    "# While loop\n",
    "i = 0\n",
    "while i < len(a):\n",
    "    print(a[i]*(i+1))\n",
    "    i +=1"
   ]
  },
  {
   "cell_type": "code",
   "execution_count": 29,
   "id": "fdb2c63e",
   "metadata": {},
   "outputs": [
    {
     "name": "stdout",
     "output_type": "stream",
     "text": [
      "p\n",
      "yy\n",
      "ttt\n",
      "hhhh\n",
      "ooooo\n",
      "nnnnnn\n"
     ]
    }
   ],
   "source": [
    "# for i in range(len(a)):\n",
    "#     print(a[i]*(i+1))\n",
    "    \n",
    "# iteration 1 \n",
    "#     i = 1\n",
    "# iter 2 \n",
    "#     i = 2\n",
    "# iter 3 \n",
    "#     i = 3\n",
    "# iter 4 \n",
    "#     i = 4\n",
    "# iter 5 \n",
    "#     i = 5\n",
    "for i in range(6): \n",
    "    print(a[i]*(i+1))\n",
    "    \n",
    "# p --> 0 +1 --> 1 \n",
    "# y ---> 1  ---> 2\n",
    "# t ---> 2 --->3\n",
    "# h ---> 3 --->4\n",
    "# o ---> 4 --->5\n",
    "# n --->5 ---->6\n"
   ]
  },
  {
   "cell_type": "code",
   "execution_count": 35,
   "id": "b4dc52f5",
   "metadata": {},
   "outputs": [
    {
     "name": "stdout",
     "output_type": "stream",
     "text": [
      "p\n",
      "yy\n",
      "ttt\n",
      "hhhh\n",
      "ooooo\n",
      "nnnnnn\n"
     ]
    }
   ],
   "source": [
    "i = 0 #\n",
    "while i < 6:# \n",
    "    print(a[i]*(i+1))\n",
    "    i += 1"
   ]
  },
  {
   "cell_type": "code",
   "execution_count": 24,
   "id": "20dfb7ad",
   "metadata": {},
   "outputs": [
    {
     "name": "stdout",
     "output_type": "stream",
     "text": [
      "6\n"
     ]
    }
   ],
   "source": [
    "print(len(a))"
   ]
  },
  {
   "cell_type": "markdown",
   "id": "96a3bd25",
   "metadata": {},
   "source": [
    "# Break \n",
    "\n",
    "* Its used to break out from the loop"
   ]
  },
  {
   "cell_type": "code",
   "execution_count": 41,
   "id": "52d9676d",
   "metadata": {},
   "outputs": [
    {
     "name": "stdout",
     "output_type": "stream",
     "text": [
      "0\n",
      "1\n",
      "2\n"
     ]
    }
   ],
   "source": [
    "for i in range(9):\n",
    "    if i >= 3:\n",
    "        break\n",
    "    print(i)"
   ]
  },
  {
   "cell_type": "code",
   "execution_count": 39,
   "id": "9c2060ac",
   "metadata": {},
   "outputs": [
    {
     "name": "stdout",
     "output_type": "stream",
     "text": [
      "p\n",
      "yy\n",
      "ttt\n",
      "hhhh\n"
     ]
    }
   ],
   "source": [
    "i = 0 #\n",
    "while i < 6:# \n",
    "    if i >= 3:\n",
    "        break\n",
    "    print(a[i]*(i+1))\n",
    "    i += 1"
   ]
  },
  {
   "cell_type": "code",
   "execution_count": null,
   "id": "03f896cd",
   "metadata": {},
   "outputs": [],
   "source": [
    "# Continue statement \n",
    "* It is used to end the current iteration and execute the next one"
   ]
  },
  {
   "cell_type": "code",
   "execution_count": 43,
   "id": "446a5b92",
   "metadata": {},
   "outputs": [
    {
     "name": "stdout",
     "output_type": "stream",
     "text": [
      "0\n",
      "1\n",
      "2\n",
      "4\n",
      "5\n",
      "6\n",
      "7\n",
      "8\n"
     ]
    }
   ],
   "source": [
    "for i in range(9):\n",
    "    if i == 3:\n",
    "        continue\n",
    "    print(i)"
   ]
  },
  {
   "cell_type": "code",
   "execution_count": 45,
   "id": "6c160c68",
   "metadata": {},
   "outputs": [
    {
     "name": "stdout",
     "output_type": "stream",
     "text": [
      "0\n",
      "1\n",
      "2\n"
     ]
    }
   ],
   "source": [
    "for i in range(9):\n",
    "    if i == 3:\n",
    "        break\n",
    "    print(i)"
   ]
  },
  {
   "cell_type": "code",
   "execution_count": 51,
   "id": "00a318db",
   "metadata": {},
   "outputs": [
    {
     "name": "stdout",
     "output_type": "stream",
     "text": [
      "purnendu\n",
      "yamini\n",
      "amitesh\n",
      "anil\n"
     ]
    }
   ],
   "source": [
    "a = ['purnendu', 'yamini', 'srimanta', 'amitesh', 'anil']\n",
    "for i in range(len(a)):\n",
    "    if a[i] == 'srimanta':\n",
    "        continue\n",
    "    print(a[i])"
   ]
  },
  {
   "cell_type": "code",
   "execution_count": 52,
   "id": "93fe062b",
   "metadata": {},
   "outputs": [
    {
     "name": "stdout",
     "output_type": "stream",
     "text": [
      "purnendu\n",
      "yamini\n"
     ]
    }
   ],
   "source": [
    "a = ['purnendu', 'yamini', 'srimanta', 'amitesh', 'anil']\n",
    "for i in range(len(a)):\n",
    "    if a[i] == 'srimanta':\n",
    "        break\n",
    "    print(a[i])"
   ]
  },
  {
   "cell_type": "code",
   "execution_count": null,
   "id": "9fe80ba3",
   "metadata": {},
   "outputs": [],
   "source": [
    "# nnnnnn\n",
    "# ooooo\n",
    "# hhhh\n",
    "# ttt\n",
    "# p"
   ]
  },
  {
   "cell_type": "code",
   "execution_count": 62,
   "id": "d204da92",
   "metadata": {},
   "outputs": [
    {
     "name": "stdout",
     "output_type": "stream",
     "text": [
      "nnnnnn\n",
      "ooooo\n",
      "hhhh\n",
      "ttt\n",
      "p\n"
     ]
    }
   ],
   "source": [
    "# for loop\n",
    "# print(a[5]*1)\n",
    "# print(a[4]*2)\n",
    "# print(a[3]*3) \n",
    "# print(a[2]*4)\n",
    "# print(a[1]*5) continue\n",
    "# print(a[0]*6)\n",
    "\n",
    "a = 'python'\n",
    "for i in range(len(a),0,-1):\n",
    "    if a[i-1] == 'y':\n",
    "        continue\n",
    "    print(a[i-1]*i)\n",
    "    "
   ]
  },
  {
   "cell_type": "code",
   "execution_count": 74,
   "id": "99c392f3",
   "metadata": {},
   "outputs": [
    {
     "name": "stdout",
     "output_type": "stream",
     "text": [
      "nnnnnn\n",
      "ooooo\n",
      "hhhh\n"
     ]
    }
   ],
   "source": [
    "# While skkip tt\n",
    "a = 'python'\n",
    "i = len(a)\n",
    "while i > 0:\n",
    "    if a[i-1]== 't':\n",
    "        break   \n",
    "    print(a[i-1]*i)\n",
    "    i = i-1"
   ]
  },
  {
   "cell_type": "code",
   "execution_count": 82,
   "id": "9dd6cec0",
   "metadata": {},
   "outputs": [
    {
     "name": "stdout",
     "output_type": "stream",
     "text": [
      "nnnnnn\n",
      "ooooo\n",
      "hhhh\n",
      "yy\n",
      "p\n"
     ]
    }
   ],
   "source": [
    "# While skkip tt\n",
    "a = 'python'\n",
    "i = len(a)\n",
    "while i > 0:\n",
    "    if i == 3:\n",
    "        i = i-1\n",
    "        continue   \n",
    "    print(a[i-1]*i)\n",
    "    i = i-1"
   ]
  },
  {
   "cell_type": "code",
   "execution_count": 90,
   "id": "ef4989b1",
   "metadata": {},
   "outputs": [],
   "source": [
    "a='Python'\n",
    "i= 0\n",
    "while i > 6:\n",
    "    if a[i-1]=='y':\n",
    "#        i=i+1\n",
    "        continue\n",
    "    print(a[i-1]*i)\n",
    "    i=i+1\n"
   ]
  },
  {
   "cell_type": "code",
   "execution_count": 91,
   "id": "ce9c6c07",
   "metadata": {},
   "outputs": [],
   "source": [
    "a='Python'\n",
    "i= 0\n",
    "while i > 6:\n",
    "    if a[i-1]=='y':\n",
    "#        i=i+1\n",
    "        continue\n",
    "    print(a[i-1]*i)\n",
    "    i=i+1"
   ]
  },
  {
   "cell_type": "code",
   "execution_count": null,
   "id": "b8e3b9fa",
   "metadata": {},
   "outputs": [],
   "source": []
  }
 ],
 "metadata": {
  "kernelspec": {
   "display_name": "Python 3 (ipykernel)",
   "language": "python",
   "name": "python3"
  },
  "language_info": {
   "codemirror_mode": {
    "name": "ipython",
    "version": 3
   },
   "file_extension": ".py",
   "mimetype": "text/x-python",
   "name": "python",
   "nbconvert_exporter": "python",
   "pygments_lexer": "ipython3",
   "version": "3.9.12"
  }
 },
 "nbformat": 4,
 "nbformat_minor": 5
}
