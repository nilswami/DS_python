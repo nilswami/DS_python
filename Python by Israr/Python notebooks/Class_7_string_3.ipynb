{
 "cells": [
  {
   "cell_type": "code",
   "execution_count": null,
   "id": "715d1690",
   "metadata": {},
   "outputs": [],
   "source": []
  },
  {
   "cell_type": "code",
   "execution_count": 2,
   "id": "8e14b190",
   "metadata": {},
   "outputs": [
    {
     "name": "stdout",
     "output_type": "stream",
     "text": [
      "<class 'int'>\n"
     ]
    }
   ],
   "source": [
    "a = int('1')\n",
    "print(type(a))"
   ]
  },
  {
   "cell_type": "code",
   "execution_count": 6,
   "id": "ea95e7ed",
   "metadata": {},
   "outputs": [
    {
     "name": "stdout",
     "output_type": "stream",
     "text": [
      "1632715645296\n",
      "1632715645424\n",
      "1632643467312\n",
      "1632643467312\n"
     ]
    }
   ],
   "source": [
    "a = 'python@'\n",
    "b = 'python@'\n",
    "print(id(a))\n",
    "print(id(b))\n",
    "print(id(a[6]))\n",
    "print(id(b[6]))"
   ]
  },
  {
   "cell_type": "markdown",
   "id": "af7530d5",
   "metadata": {},
   "source": [
    "# Special and Escape characters "
   ]
  },
  {
   "cell_type": "code",
   "execution_count": 7,
   "id": "f8c1a3f8",
   "metadata": {},
   "outputs": [
    {
     "name": "stdout",
     "output_type": "stream",
     "text": [
      "Hello\n",
      "world\n"
     ]
    }
   ],
   "source": [
    "# \\n ------> new line\n",
    "print('Hello\\nworld')"
   ]
  },
  {
   "cell_type": "code",
   "execution_count": 9,
   "id": "51e45feb",
   "metadata": {},
   "outputs": [
    {
     "name": "stdout",
     "output_type": "stream",
     "text": [
      "Hello\\nworld\n"
     ]
    }
   ],
   "source": [
    "# Backslash =----> escape character\n",
    "print('Hello\\\\nworld')"
   ]
  },
  {
   "cell_type": "code",
   "execution_count": 11,
   "id": "32ec0409",
   "metadata": {},
   "outputs": [
    {
     "data": {
      "text/plain": [
       "\"this is python's class\""
      ]
     },
     "execution_count": 11,
     "metadata": {},
     "output_type": "execute_result"
    }
   ],
   "source": [
    "a = 'this is python\\'s class'\n",
    "a"
   ]
  },
  {
   "cell_type": "code",
   "execution_count": 12,
   "id": "73b2c6ad",
   "metadata": {},
   "outputs": [
    {
     "data": {
      "text/plain": [
       "'this is python\"s class'"
      ]
     },
     "execution_count": 12,
     "metadata": {},
     "output_type": "execute_result"
    }
   ],
   "source": [
    "a = \"this is python\\\"s class\"\n",
    "a"
   ]
  },
  {
   "cell_type": "code",
   "execution_count": 15,
   "id": "4f6f10d0",
   "metadata": {},
   "outputs": [
    {
     "name": "stdout",
     "output_type": "stream",
     "text": [
      "abc\\ndef\n"
     ]
    }
   ],
   "source": [
    "print('abc\\\\ndef')"
   ]
  },
  {
   "cell_type": "code",
   "execution_count": 20,
   "id": "974f028f",
   "metadata": {},
   "outputs": [
    {
     "name": "stdout",
     "output_type": "stream",
     "text": [
      "Learnbay\bpython\n"
     ]
    }
   ],
   "source": [
    "# \\b ----> Backspace ----> It deletes the previous charachter\n",
    "\n",
    "print('Learnbay\\bpython')"
   ]
  },
  {
   "cell_type": "code",
   "execution_count": 25,
   "id": "93d7b1fe",
   "metadata": {},
   "outputs": [
    {
     "name": "stdout",
     "output_type": "stream",
     "text": [
      "learnbay\bpython\n"
     ]
    }
   ],
   "source": [
    "a = 'learnbay\\bpython'\n",
    "print(a)"
   ]
  },
  {
   "cell_type": "code",
   "execution_count": 28,
   "id": "0be5aff1",
   "metadata": {},
   "outputs": [
    {
     "name": "stdout",
     "output_type": "stream",
     "text": [
      "ab\bdef\n"
     ]
    }
   ],
   "source": [
    "print('ab' + '\\b' + 'def') # adef"
   ]
  },
  {
   "cell_type": "code",
   "execution_count": 37,
   "id": "12a5a30d",
   "metadata": {},
   "outputs": [
    {
     "name": "stdout",
     "output_type": "stream",
     "text": [
      "11111\r",
      "2222222222\n"
     ]
    }
   ],
   "source": [
    "# \\r ---> carraige return - moves all the character after the cr to the begining of the string while overwriting the same character\n",
    "\n",
    "str_1 = '11111\\r2222222222'\n",
    "print(str_1)\n"
   ]
  },
  {
   "cell_type": "code",
   "execution_count": 38,
   "id": "789687cc",
   "metadata": {},
   "outputs": [
    {
     "name": "stdout",
     "output_type": "stream",
     "text": [
      "hello\r",
      "Indian\n"
     ]
    }
   ],
   "source": [
    "a = 'hello\\rIndian' # 5 \\r 6\n",
    "print(a)"
   ]
  },
  {
   "cell_type": "code",
   "execution_count": 43,
   "id": "2a47d394",
   "metadata": {},
   "outputs": [
    {
     "name": "stdout",
     "output_type": "stream",
     "text": [
      "hello\tworld\n"
     ]
    }
   ],
   "source": [
    "# \\t ----> tab (4 space)\n",
    "print('hello\\tworld')"
   ]
  },
  {
   "cell_type": "code",
   "execution_count": 42,
   "id": "9034ef28",
   "metadata": {},
   "outputs": [
    {
     "name": "stdout",
     "output_type": "stream",
     "text": [
      "hello\\tworld\n"
     ]
    }
   ],
   "source": [
    "print('hello\\\\tworld')"
   ]
  },
  {
   "cell_type": "code",
   "execution_count": 48,
   "id": "35279e01",
   "metadata": {},
   "outputs": [
    {
     "name": "stdout",
     "output_type": "stream",
     "text": [
      "123\\n456\n"
     ]
    }
   ],
   "source": [
    "# r ---> rawstring\n",
    "#a = '123\\456'\n",
    "print(r'123\\n456')"
   ]
  },
  {
   "cell_type": "code",
   "execution_count": 50,
   "id": "a28cb76e",
   "metadata": {},
   "outputs": [
    {
     "name": "stdout",
     "output_type": "stream",
     "text": [
      "False\n",
      "False\n",
      "False\n",
      "False\n",
      "True\n",
      "**********************\n",
      "True\n",
      "False\n",
      "False\n",
      "False\n",
      "False\n"
     ]
    }
   ],
   "source": [
    "s1 ='abc'\n",
    "s2 ='123Abc'\n",
    "s3 = '*'\n",
    "s4 = '112'\n",
    "s5 = 'ABC'\n",
    "\n",
    "# isupper - returns trueif all the char is uppercase else false\n",
    "print(s1.isupper()) # False\n",
    "print(s2.isupper()) # False\n",
    "print(s3.isupper()) # False \n",
    "print(s4.isupper()) # False\n",
    "print(s5.isupper()) # True\n",
    "\n",
    "print('**********************')\n",
    "\n",
    "# islower - returns True if all the char is lower case else false\n",
    "print(s1.islower()) # True\n",
    "print(s2.islower()) # False\n",
    "print(s3.islower()) # False \n",
    "print(s4.islower()) # False\n",
    "print(s5.islower()) # False\n"
   ]
  },
  {
   "cell_type": "code",
   "execution_count": 55,
   "id": "567df33d",
   "metadata": {},
   "outputs": [
    {
     "name": "stdout",
     "output_type": "stream",
     "text": [
      "False\n",
      "True\n",
      "False\n",
      "False\n",
      "False\n",
      "True\n"
     ]
    }
   ],
   "source": [
    "s1 ='abc'\n",
    "s2 ='123Abc'\n",
    "s3 = '*'\n",
    "s4 = '112'\n",
    "s5 = 'ABC'\n",
    "s6= 'Hello World'\n",
    "\n",
    "# istitle - returns True if all the char is title case else false\n",
    "print(s1.istitle()) # False\n",
    "print(s2.istitle()) # True\n",
    "print(s3.istitle()) # False \n",
    "print(s4.istitle()) # False\n",
    "print(s5.istitle()) # False\n",
    "print(s6.istitle()) # True"
   ]
  },
  {
   "cell_type": "markdown",
   "id": "c62dc6f4",
   "metadata": {},
   "source": [
    "# strip , lstrip, rstrip\n",
    "* It removes the character specified from the end"
   ]
  },
  {
   "cell_type": "code",
   "execution_count": 66,
   "id": "65f4d1ab",
   "metadata": {},
   "outputs": [
    {
     "name": "stdout",
     "output_type": "stream",
     "text": [
      "My name is python and i love cooding\n"
     ]
    }
   ],
   "source": [
    "# It only removes values from the starting and the ending\n",
    "my_str = '*******My name is python and i love cooding******'\n",
    "print(my_str.strip('')) #' '"
   ]
  },
  {
   "cell_type": "code",
   "execution_count": 58,
   "id": "c60dfe15",
   "metadata": {},
   "outputs": [
    {
     "name": "stdout",
     "output_type": "stream",
     "text": [
      "Hello World\n"
     ]
    }
   ],
   "source": [
    "print('   Hello World   '.strip())"
   ]
  },
  {
   "cell_type": "code",
   "execution_count": 59,
   "id": "dd8262cb",
   "metadata": {},
   "outputs": [
    {
     "name": "stdout",
     "output_type": "stream",
     "text": [
      "123456\n"
     ]
    }
   ],
   "source": [
    "print('   123456   '.strip())"
   ]
  },
  {
   "cell_type": "code",
   "execution_count": 60,
   "id": "e2812bdd",
   "metadata": {},
   "outputs": [
    {
     "name": "stdout",
     "output_type": "stream",
     "text": [
      "My name is python and i love cooding      \n"
     ]
    }
   ],
   "source": [
    "my_str = '       My name is python and i love cooding      '\n",
    "print(my_str.lstrip()) #' '"
   ]
  },
  {
   "cell_type": "code",
   "execution_count": 61,
   "id": "b67ad1c4",
   "metadata": {},
   "outputs": [
    {
     "name": "stdout",
     "output_type": "stream",
     "text": [
      "       My name is python and i love cooding\n"
     ]
    }
   ],
   "source": [
    "my_str = '       My name is python and i love cooding      '\n",
    "print(my_str.rstrip()) #' '"
   ]
  },
  {
   "cell_type": "code",
   "execution_count": 73,
   "id": "0833c162",
   "metadata": {},
   "outputs": [
    {
     "name": "stdout",
     "output_type": "stream",
     "text": [
      "Please enter the mail ID   : hello     world\n",
      "Please enter the password  :python\n",
      "Incorrect info\n"
     ]
    }
   ],
   "source": [
    "username = input(\"Please enter the mail ID   : \")\n",
    "password = input('Please enter the password  :')\n",
    "\n",
    "if username.strip('*') == 'hello world' and password.strip('**')== 'python':\n",
    "    print('Logged IN ')\n",
    "else: print('Incorrect info')"
   ]
  },
  {
   "cell_type": "code",
   "execution_count": 78,
   "id": "57454c5e",
   "metadata": {},
   "outputs": [
    {
     "name": "stdout",
     "output_type": "stream",
     "text": [
      "   ******Hello World*****   \n"
     ]
    }
   ],
   "source": [
    "print('   ******Hello World*****   '.strip('*'))"
   ]
  },
  {
   "cell_type": "code",
   "execution_count": 79,
   "id": "62cc1b59",
   "metadata": {},
   "outputs": [
    {
     "name": "stdout",
     "output_type": "stream",
     "text": [
      "3\n"
     ]
    }
   ],
   "source": [
    "# Count() ---> count the number of specified charecter repeated in the string\n",
    "my_str = 'My name is python and i love cooding'\n",
    "print(my_str.count('is'))"
   ]
  },
  {
   "cell_type": "code",
   "execution_count": 93,
   "id": "7ad4ec4d",
   "metadata": {},
   "outputs": [
    {
     "name": "stdout",
     "output_type": "stream",
     "text": [
      "22\n",
      "33\n",
      "3\n",
      "34\n"
     ]
    }
   ],
   "source": [
    "# Find, rfind , index , rindex \n",
    "# Always performs +ve indexing\n",
    "\n",
    "# find() - finds the index from l - r\n",
    "my_str = 'My name is python and i love cooding'\n",
    "print(my_str.find('i'))\n",
    "\n",
    "# rfind() - finds the index from R -L\n",
    "my_str = 'My name is python and i love cooding'\n",
    "print(my_str.rfind('i'))\n",
    "\n",
    "# index() finds the index from  L - R\n",
    "my_str = 'My name is python and i love cooding'\n",
    "print(my_str.index('n'))\n",
    "\n",
    "# rindex - finds the index from R - L\n",
    "my_str = 'My name is python and i love cooding'\n",
    "print(my_str.rindex('n'))"
   ]
  },
  {
   "cell_type": "code",
   "execution_count": 92,
   "id": "49b566a4",
   "metadata": {},
   "outputs": [
    {
     "name": "stdout",
     "output_type": "stream",
     "text": [
      "-1\n"
     ]
    },
    {
     "ename": "ValueError",
     "evalue": "substring not found",
     "output_type": "error",
     "traceback": [
      "\u001b[1;31m---------------------------------------------------------------------------\u001b[0m",
      "\u001b[1;31mValueError\u001b[0m                                Traceback (most recent call last)",
      "Input \u001b[1;32mIn [92]\u001b[0m, in \u001b[0;36m<cell line: 7>\u001b[1;34m()\u001b[0m\n\u001b[0;32m      4\u001b[0m \u001b[38;5;28mprint\u001b[39m(my_str\u001b[38;5;241m.\u001b[39mfind(\u001b[38;5;124m'\u001b[39m\u001b[38;5;124misrar\u001b[39m\u001b[38;5;124m'\u001b[39m))\n\u001b[0;32m      6\u001b[0m my_str \u001b[38;5;241m=\u001b[39m \u001b[38;5;124m'\u001b[39m\u001b[38;5;124mMy name is python and i love cooding\u001b[39m\u001b[38;5;124m'\u001b[39m\n\u001b[1;32m----> 7\u001b[0m \u001b[38;5;28mprint\u001b[39m(\u001b[43mmy_str\u001b[49m\u001b[38;5;241;43m.\u001b[39;49m\u001b[43mindex\u001b[49m\u001b[43m(\u001b[49m\u001b[38;5;124;43m'\u001b[39;49m\u001b[38;5;124;43misrar\u001b[39;49m\u001b[38;5;124;43m'\u001b[39;49m\u001b[43m)\u001b[49m)\n",
      "\u001b[1;31mValueError\u001b[0m: substring not found"
     ]
    }
   ],
   "source": [
    "# Difference between inddex and find\n",
    "\n",
    "my_str = 'My name is python and i love cooding'\n",
    "print(my_str.find('israr'))\n",
    "\n",
    "my_str = 'My name is python and i love cooding'\n",
    "print(my_str.index('israr'))"
   ]
  },
  {
   "cell_type": "code",
   "execution_count": 94,
   "id": "d6f296a2",
   "metadata": {},
   "outputs": [
    {
     "name": "stdout",
     "output_type": "stream",
     "text": [
      "-1\n"
     ]
    },
    {
     "ename": "ValueError",
     "evalue": "substring not found",
     "output_type": "error",
     "traceback": [
      "\u001b[1;31m---------------------------------------------------------------------------\u001b[0m",
      "\u001b[1;31mValueError\u001b[0m                                Traceback (most recent call last)",
      "Input \u001b[1;32mIn [94]\u001b[0m, in \u001b[0;36m<cell line: 7>\u001b[1;34m()\u001b[0m\n\u001b[0;32m      4\u001b[0m \u001b[38;5;28mprint\u001b[39m(my_str\u001b[38;5;241m.\u001b[39mrfind(\u001b[38;5;124m'\u001b[39m\u001b[38;5;124misrar\u001b[39m\u001b[38;5;124m'\u001b[39m))\n\u001b[0;32m      6\u001b[0m my_str \u001b[38;5;241m=\u001b[39m \u001b[38;5;124m'\u001b[39m\u001b[38;5;124mMy name is python and i love cooding\u001b[39m\u001b[38;5;124m'\u001b[39m\n\u001b[1;32m----> 7\u001b[0m \u001b[38;5;28mprint\u001b[39m(\u001b[43mmy_str\u001b[49m\u001b[38;5;241;43m.\u001b[39;49m\u001b[43mrindex\u001b[49m\u001b[43m(\u001b[49m\u001b[38;5;124;43m'\u001b[39;49m\u001b[38;5;124;43misrar\u001b[39;49m\u001b[38;5;124;43m'\u001b[39;49m\u001b[43m)\u001b[49m)\n",
      "\u001b[1;31mValueError\u001b[0m: substring not found"
     ]
    }
   ],
   "source": [
    "# Difference between inddex and find\n",
    "\n",
    "my_str = 'My name is python and i love cooding'\n",
    "print(my_str.rfind('israr'))\n",
    "\n",
    "my_str = 'My name is python and i love cooding'\n",
    "print(my_str.rindex('israr'))"
   ]
  },
  {
   "cell_type": "code",
   "execution_count": 102,
   "id": "0141eb43",
   "metadata": {},
   "outputs": [
    {
     "name": "stdout",
     "output_type": "stream",
     "text": [
      "python**************\n",
      "** python \n"
     ]
    }
   ],
   "source": [
    "# ljust(left adjustment) , rjust (right adjustment)\n",
    "# It is a\n",
    "my_str = 'python'\n",
    "print(my_str.ljust(20,'*'))\n",
    "\n",
    "my_str = ' python '\n",
    "print(my_str.rjust(10,'*'))\n"
   ]
  },
  {
   "cell_type": "code",
   "execution_count": 103,
   "id": "3bebb148",
   "metadata": {},
   "outputs": [
    {
     "name": "stdout",
     "output_type": "stream",
     "text": [
      "My name is java and i love cooding\n",
      "My name ts python and t love coodtng\n"
     ]
    }
   ],
   "source": [
    "# Replace \n",
    "my_str = 'My name is python and i love cooding'\n",
    "print(my_str.replace('python' , 'java'))\n",
    "\n",
    "my_str = 'My name is python and i love cooding'\n",
    "print(my_str.replace('i' , 't'))"
   ]
  },
  {
   "cell_type": "code",
   "execution_count": null,
   "id": "c41c6706",
   "metadata": {},
   "outputs": [],
   "source": [
    "# Split \n",
    "# Join"
   ]
  },
  {
   "cell_type": "code",
   "execution_count": null,
   "id": "e921a111",
   "metadata": {},
   "outputs": [],
   "source": []
  },
  {
   "cell_type": "code",
   "execution_count": null,
   "id": "9b203d6f",
   "metadata": {},
   "outputs": [],
   "source": []
  },
  {
   "cell_type": "code",
   "execution_count": null,
   "id": "d64f680a",
   "metadata": {},
   "outputs": [],
   "source": []
  }
 ],
 "metadata": {
  "kernelspec": {
   "display_name": "Python 3 (ipykernel)",
   "language": "python",
   "name": "python3"
  },
  "language_info": {
   "codemirror_mode": {
    "name": "ipython",
    "version": 3
   },
   "file_extension": ".py",
   "mimetype": "text/x-python",
   "name": "python",
   "nbconvert_exporter": "python",
   "pygments_lexer": "ipython3",
   "version": "3.9.12"
  }
 },
 "nbformat": 4,
 "nbformat_minor": 5
}
