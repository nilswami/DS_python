{
 "cells": [
  {
   "cell_type": "markdown",
   "id": "27707e5a",
   "metadata": {},
   "source": [
    "# Pass - "
   ]
  },
  {
   "cell_type": "code",
   "execution_count": 53,
   "id": "4c800a9b",
   "metadata": {},
   "outputs": [
    {
     "name": "stdout",
     "output_type": "stream",
     "text": [
      "b\n",
      "c\n",
      "d\n",
      "e\n"
     ]
    }
   ],
   "source": [
    "li = ['a', 'b', 'c','a', 'd','a', 'e']\n",
    "# Extract all elements except 'a'\n",
    "for i in li:\n",
    "    if (i == 'a'):\n",
    "        pass\n",
    "    else:\n",
    "        print(i)"
   ]
  },
  {
   "cell_type": "code",
   "execution_count": 10,
   "id": "bc1015a4",
   "metadata": {},
   "outputs": [],
   "source": [
    "def even_odd():\n",
    "    pass"
   ]
  },
  {
   "cell_type": "code",
   "execution_count": 12,
   "id": "f876fa35",
   "metadata": {},
   "outputs": [],
   "source": [
    "number = 5.5\n",
    "if number>0:\n",
    "    pass"
   ]
  },
  {
   "cell_type": "code",
   "execution_count": null,
   "id": "a577910f",
   "metadata": {},
   "outputs": [],
   "source": [
    "# return"
   ]
  },
  {
   "cell_type": "code",
   "execution_count": 38,
   "id": "5f736070",
   "metadata": {},
   "outputs": [],
   "source": [
    "def sum1(a,b):\n",
    "    c = a+b\n",
    "    return c"
   ]
  },
  {
   "cell_type": "code",
   "execution_count": 39,
   "id": "717907c1",
   "metadata": {},
   "outputs": [],
   "source": [
    "d = sum1(10,20)"
   ]
  },
  {
   "cell_type": "code",
   "execution_count": 40,
   "id": "39edfda4",
   "metadata": {},
   "outputs": [
    {
     "name": "stdout",
     "output_type": "stream",
     "text": [
      "30\n"
     ]
    }
   ],
   "source": [
    "print(d)"
   ]
  },
  {
   "cell_type": "code",
   "execution_count": 48,
   "id": "652de487",
   "metadata": {},
   "outputs": [
    {
     "name": "stdout",
     "output_type": "stream",
     "text": [
      "10\n",
      "30\n",
      "20\n"
     ]
    }
   ],
   "source": [
    "a = 10\n",
    "b = 20\n",
    "def sum1(a,b):\n",
    "    c = a+b\n",
    "    return c\n",
    "c = sum1(10, 20)    \n",
    "print(a)\n",
    "print(c)\n",
    "print(b)"
   ]
  },
  {
   "cell_type": "code",
   "execution_count": 51,
   "id": "bb7862fc",
   "metadata": {},
   "outputs": [
    {
     "name": "stdout",
     "output_type": "stream",
     "text": [
      "[2, 4, 6, 8, 10]\n"
     ]
    }
   ],
   "source": [
    "# Write a funtion to return a list of even numbers from a list\n",
    "# [1,2,3,4,5,6,7,8,9,10]\n",
    "\n",
    "a = [1,2,3,4,5,6,7,8,9,10]\n",
    "def even(a):\n",
    "    elist = []\n",
    "    for i in a:\n",
    "        if i%2 == 0:\n",
    "            elist.append(i)\n",
    "    else:\n",
    "        return elist\n",
    "\n",
    "x = even(a)\n",
    "print(x)"
   ]
  },
  {
   "cell_type": "code",
   "execution_count": 55,
   "id": "11d48a90",
   "metadata": {},
   "outputs": [],
   "source": [
    "# Recursive function - function calling itself \n",
    "def fact(num):\n",
    "    if num == 0:\n",
    "        return 1\n",
    "    else: return num*fact(num-1)"
   ]
  },
  {
   "cell_type": "code",
   "execution_count": 56,
   "id": "b3d69562",
   "metadata": {},
   "outputs": [
    {
     "data": {
      "text/plain": [
       "120"
      ]
     },
     "execution_count": 56,
     "metadata": {},
     "output_type": "execute_result"
    }
   ],
   "source": [
    "fact(5)"
   ]
  },
  {
   "cell_type": "code",
   "execution_count": null,
   "id": "7d515d5e",
   "metadata": {},
   "outputs": [],
   "source": [
    "# Lamda - anonymous function (function without a name) \n",
    "\n",
    "- syntax\n",
    "lambda arg : expression \n",
    "# Lambda take n number od arg but only one expression"
   ]
  },
  {
   "cell_type": "code",
   "execution_count": 57,
   "id": "38471db4",
   "metadata": {},
   "outputs": [
    {
     "data": {
      "text/plain": [
       "15"
      ]
     },
     "execution_count": 57,
     "metadata": {},
     "output_type": "execute_result"
    }
   ],
   "source": [
    "def add(a):\n",
    "    return a+10\n",
    "\n",
    "add(5)"
   ]
  },
  {
   "cell_type": "code",
   "execution_count": 68,
   "id": "17bd1b13",
   "metadata": {},
   "outputs": [],
   "source": [
    "x = (lambda a,b: a+10 )"
   ]
  },
  {
   "cell_type": "code",
   "execution_count": 72,
   "id": "2bc98f2f",
   "metadata": {},
   "outputs": [],
   "source": [
    "# \n",
    "x = (lambda x:'even' if x%2 == 0 else 'odd')"
   ]
  },
  {
   "cell_type": "code",
   "execution_count": 73,
   "id": "8f5f0447",
   "metadata": {},
   "outputs": [
    {
     "data": {
      "text/plain": [
       "'even'"
      ]
     },
     "execution_count": 73,
     "metadata": {},
     "output_type": "execute_result"
    }
   ],
   "source": [
    "x(6)"
   ]
  },
  {
   "cell_type": "code",
   "execution_count": 75,
   "id": "088d91f0",
   "metadata": {},
   "outputs": [
    {
     "data": {
      "text/plain": [
       "'odd'"
      ]
     },
     "execution_count": 75,
     "metadata": {},
     "output_type": "execute_result"
    }
   ],
   "source": [
    "x(9)"
   ]
  },
  {
   "cell_type": "code",
   "execution_count": 79,
   "id": "dd63d263",
   "metadata": {},
   "outputs": [
    {
     "data": {
      "text/plain": [
       "['2014', '2015', '2016', '2017']"
      ]
     },
     "execution_count": 79,
     "metadata": {},
     "output_type": "execute_result"
    }
   ],
   "source": [
    "# function to extract year\n",
    "\n",
    "li = ['2014-07-31', '2015-07-31' , '2016-07-31', '2017-07-31'] \n",
    "elist =[]\n",
    "# Function\n",
    "def ext_month(li):\n",
    "    for i in li:\n",
    "         elist.append(i[0:4])\n",
    "    return elist\n",
    "\n",
    "ext_month(li)"
   ]
  },
  {
   "cell_type": "code",
   "execution_count": 76,
   "id": "0e5a9144",
   "metadata": {},
   "outputs": [
    {
     "data": {
      "text/plain": [
       "'2015'"
      ]
     },
     "execution_count": 76,
     "metadata": {},
     "output_type": "execute_result"
    }
   ],
   "source": [
    "a = '2015-07-31'\n",
    "a[0:4]"
   ]
  },
  {
   "cell_type": "markdown",
   "id": "d1c9fefd",
   "metadata": {},
   "source": [
    "# map \n",
    "The map function takes 2 areguments \n",
    "1. function name\n",
    "2. a seq or iteable \n",
    "\n",
    "syntax map(funbction name, iter)"
   ]
  },
  {
   "cell_type": "code",
   "execution_count": 85,
   "id": "d5d2b215",
   "metadata": {},
   "outputs": [
    {
     "name": "stdout",
     "output_type": "stream",
     "text": [
      "[2014, 2015, 2016, 2017]\n"
     ]
    }
   ],
   "source": [
    "# map\n",
    "x = ['2014-07-31', '2015-07-31' , '2016-07-31', '2017-07-31'] \n",
    "y = map(lambda x: int(x[:4]),x)\n",
    "print(list(y))"
   ]
  },
  {
   "cell_type": "code",
   "execution_count": 88,
   "id": "018085f7",
   "metadata": {},
   "outputs": [
    {
     "data": {
      "text/plain": [
       "['2014', '2015', '2016', '2017']"
      ]
     },
     "execution_count": 88,
     "metadata": {},
     "output_type": "execute_result"
    }
   ],
   "source": [
    "x = lambda list_1:[i[:4] for i in list_1]\n",
    "x(['2014-07-31', '2015-07-31' , '2016-07-31', '2017-07-31'])"
   ]
  },
  {
   "cell_type": "code",
   "execution_count": null,
   "id": "d742ea38",
   "metadata": {},
   "outputs": [],
   "source": [
    "lambda arg : expression "
   ]
  },
  {
   "cell_type": "code",
   "execution_count": 90,
   "id": "83c5ba26",
   "metadata": {},
   "outputs": [
    {
     "name": "stdout",
     "output_type": "stream",
     "text": [
      "['2014', '2015', '2016', '2017']\n"
     ]
    }
   ],
   "source": [
    "li = ['2014-07-31', '2015-07-31' , '2016-07-31', '2017-07-31'] \n",
    "y = lambda a: [i[:4] for i in a]\n",
    "print(y(li))"
   ]
  },
  {
   "cell_type": "code",
   "execution_count": 93,
   "id": "13fe8e2b",
   "metadata": {},
   "outputs": [],
   "source": [
    "tem_cel = [0 , 22 , 32 , 40 , 50]\n",
    "tem_far = []\n",
    "# (9/5)*T +32\n",
    "def tem_convert(T):\n",
    "    return (9/5)*T +32"
   ]
  },
  {
   "cell_type": "code",
   "execution_count": 100,
   "id": "88ef6a71",
   "metadata": {},
   "outputs": [
    {
     "data": {
      "text/plain": [
       "[32.0, 71.6, 89.6, 104.0, 122.0]"
      ]
     },
     "execution_count": 100,
     "metadata": {},
     "output_type": "execute_result"
    }
   ],
   "source": [
    "list(map(tem_convert, tem_cel))"
   ]
  },
  {
   "cell_type": "code",
   "execution_count": 103,
   "id": "65c6499c",
   "metadata": {},
   "outputs": [
    {
     "name": "stdout",
     "output_type": "stream",
     "text": [
      "['akzelxw', 'elum', 'akbar.caakaterasu', 'akarui.kibuno', 'ajsparkchick', 'ajmeia', 'ajhnstn87', 'ailuvzhoko4', 'ailuvzhoko3', 'ailuvzhoko2', 'ailuvzhoko', 'aillensiquioco', 'ahmovic_ines', 'ahmed_g300', 'ahmadjazlan', 'ahmad_ridho19']\n"
     ]
    }
   ],
   "source": [
    "lst = ['akzelxw@hotmail.com',\n",
    "'elum@gmail.com',\n",
    "'akbar.caakaterasu@gmail.com',\n",
    "'akarui.kibuno@gmail.com',\n",
    "'ajsparkchick@hotmail.com',\n",
    "'ajmeia@yahoo.com',\n",
    "'ajhnstn87@gmail.com',\n",
    "'ailuvzhoko4@hotmail.com',\n",
    "'ailuvzhoko3@hotmail.com',\n",
    "'ailuvzhoko2@hotmail.com',\n",
    "'ailuvzhoko@hotmail.com',\n",
    "'aillensiquioco@aol.com',\n",
    "'ahmovic_ines@hotmail.com',\n",
    "'ahmed_g300@yahoo.com',\n",
    "'ahmadjazlan@gmail.com',\n",
    "'ahmad_ridho19@yahoo.com']\n",
    "\n",
    "user_name = []\n",
    "for i in lst:\n",
    "    user_name.append(i.split('@')[0])\n",
    "print(user_name)"
   ]
  },
  {
   "cell_type": "code",
   "execution_count": 106,
   "id": "2b0eed09",
   "metadata": {},
   "outputs": [
    {
     "data": {
      "text/plain": [
       "['akzelxw',\n",
       " 'elum',\n",
       " 'akbar.caakaterasu',\n",
       " 'akarui.kibuno',\n",
       " 'ajsparkchick',\n",
       " 'ajmeia',\n",
       " 'ajhnstn87',\n",
       " 'ailuvzhoko4',\n",
       " 'ailuvzhoko3',\n",
       " 'ailuvzhoko2',\n",
       " 'ailuvzhoko',\n",
       " 'aillensiquioco',\n",
       " 'ahmovic_ines',\n",
       " 'ahmed_g300',\n",
       " 'ahmadjazlan',\n",
       " 'ahmad_ridho19']"
      ]
     },
     "execution_count": 106,
     "metadata": {},
     "output_type": "execute_result"
    }
   ],
   "source": [
    "lst = ['akzelxw@hotmail.com',\n",
    "'elum@gmail.com',\n",
    "'akbar.caakaterasu@gmail.com',\n",
    "'akarui.kibuno@gmail.com',\n",
    "'ajsparkchick@hotmail.com',\n",
    "'ajmeia@yahoo.com',\n",
    "'ajhnstn87@gmail.com',\n",
    "'ailuvzhoko4@hotmail.com',\n",
    "'ailuvzhoko3@hotmail.com',\n",
    "'ailuvzhoko2@hotmail.com',\n",
    "'ailuvzhoko@hotmail.com',\n",
    "'aillensiquioco@aol.com',\n",
    "'ahmovic_ines@hotmail.com',\n",
    "'ahmed_g300@yahoo.com',\n",
    "'ahmadjazlan@gmail.com',\n",
    "'ahmad_ridho19@yahoo.com']\n",
    "\n",
    "def user_name(a):\n",
    "    user_name = []\n",
    "    for i in a:\n",
    "        user_name.append(i.split('@')[0])\n",
    "    return user_name\n",
    "user_name(lst)"
   ]
  },
  {
   "cell_type": "code",
   "execution_count": 110,
   "id": "7db70094",
   "metadata": {},
   "outputs": [
    {
     "name": "stdout",
     "output_type": "stream",
     "text": [
      "['akzelxw', 'elum', 'akbar.caakaterasu', 'akarui.kibuno', 'ajsparkchick', 'ajmeia', 'ajhnstn87', 'ailuvzhoko4', 'ailuvzhoko3', 'ailuvzhoko2', 'ailuvzhoko', 'aillensiquioco', 'ahmovic_ines', 'ahmed_g300', 'ahmadjazlan', 'ahmad_ridho19']\n"
     ]
    }
   ],
   "source": [
    "lst = ['akzelxw@hotmail.com',\n",
    "'elum@gmail.com',\n",
    "'akbar.caakaterasu@gmail.com',\n",
    "'akarui.kibuno@gmail.com',\n",
    "'ajsparkchick@hotmail.com',\n",
    "'ajmeia@yahoo.com',\n",
    "'ajhnstn87@gmail.com',\n",
    "'ailuvzhoko4@hotmail.com',\n",
    "'ailuvzhoko3@hotmail.com',\n",
    "'ailuvzhoko2@hotmail.com',\n",
    "'ailuvzhoko@hotmail.com',\n",
    "'aillensiquioco@aol.com',\n",
    "'ahmovic_ines@hotmail.com',\n",
    "'ahmed_g300@yahoo.com',\n",
    "'ahmadjazlan@gmail.com',\n",
    "'ahmad_ridho19@yahoo.com']\n",
    "\n",
    "y = list(map(lambda x: x.split('@')[0] , lst))\n",
    "print(y)"
   ]
  },
  {
   "cell_type": "code",
   "execution_count": 114,
   "id": "86160cc2",
   "metadata": {},
   "outputs": [
    {
     "name": "stdout",
     "output_type": "stream",
     "text": [
      "['akzelxw', 'elum', 'akbar.caakaterasu', 'akarui.kibuno', 'ajsparkchick', 'ajmeia', 'ajhnstn87', 'ailuvzhoko4', 'ailuvzhoko3', 'ailuvzhoko2', 'ailuvzhoko', 'aillensiquioco', 'ahmovic_ines', 'ahmed_g300', 'ahmadjazlan', 'ahmad_ridho19']\n"
     ]
    }
   ],
   "source": [
    "lst = ['akzelxw@hotmail.com',\n",
    "'elum@gmail.com',\n",
    "'akbar.caakaterasu@gmail.com',\n",
    "'akarui.kibuno@gmail.com',\n",
    "'ajsparkchick@hotmail.com',\n",
    "'ajmeia@yahoo.com',\n",
    "'ajhnstn87@gmail.com',\n",
    "'ailuvzhoko4@hotmail.com',\n",
    "'ailuvzhoko3@hotmail.com',\n",
    "'ailuvzhoko2@hotmail.com',\n",
    "'ailuvzhoko@hotmail.com',\n",
    "'aillensiquioco@aol.com',\n",
    "'ahmovic_ines@hotmail.com',\n",
    "'ahmed_g300@yahoo.com',\n",
    "'ahmadjazlan@gmail.com',\n",
    "'ahmad_ridho19@yahoo.com']\n",
    "\n",
    "\n",
    "y = list(map(lambda a: a.split('@')[0],lst))\n",
    "print(y)\n"
   ]
  },
  {
   "cell_type": "code",
   "execution_count": 112,
   "id": "20425b05",
   "metadata": {},
   "outputs": [
    {
     "data": {
      "text/plain": [
       "'akzelxw'"
      ]
     },
     "execution_count": 112,
     "metadata": {},
     "output_type": "execute_result"
    }
   ],
   "source": [
    "y('akzelxw@hotmail.com')"
   ]
  },
  {
   "cell_type": "code",
   "execution_count": null,
   "id": "32577d0e",
   "metadata": {},
   "outputs": [],
   "source": [
    "# Reduce \n",
    "1. function \n",
    "2. iterables \n",
    "\n",
    "aggre, sum, min, max, avg"
   ]
  },
  {
   "cell_type": "code",
   "execution_count": 115,
   "id": "74afe10c",
   "metadata": {},
   "outputs": [
    {
     "name": "stdout",
     "output_type": "stream",
     "text": [
      "['ArithmeticError', 'AssertionError', 'AttributeError', 'BaseException', 'BlockingIOError', 'BrokenPipeError', 'BufferError', 'BytesWarning', 'ChildProcessError', 'ConnectionAbortedError', 'ConnectionError', 'ConnectionRefusedError', 'ConnectionResetError', 'DeprecationWarning', 'EOFError', 'Ellipsis', 'EnvironmentError', 'Exception', 'False', 'FileExistsError', 'FileNotFoundError', 'FloatingPointError', 'FutureWarning', 'GeneratorExit', 'IOError', 'ImportError', 'ImportWarning', 'IndentationError', 'IndexError', 'InterruptedError', 'IsADirectoryError', 'KeyError', 'KeyboardInterrupt', 'LookupError', 'MemoryError', 'ModuleNotFoundError', 'NameError', 'None', 'NotADirectoryError', 'NotImplemented', 'NotImplementedError', 'OSError', 'OverflowError', 'PendingDeprecationWarning', 'PermissionError', 'ProcessLookupError', 'RecursionError', 'ReferenceError', 'ResourceWarning', 'RuntimeError', 'RuntimeWarning', 'StopAsyncIteration', 'StopIteration', 'SyntaxError', 'SyntaxWarning', 'SystemError', 'SystemExit', 'TabError', 'TimeoutError', 'True', 'TypeError', 'UnboundLocalError', 'UnicodeDecodeError', 'UnicodeEncodeError', 'UnicodeError', 'UnicodeTranslateError', 'UnicodeWarning', 'UserWarning', 'ValueError', 'Warning', 'WindowsError', 'ZeroDivisionError', '__IPYTHON__', '__build_class__', '__debug__', '__doc__', '__import__', '__loader__', '__name__', '__package__', '__spec__', 'abs', 'all', 'any', 'ascii', 'bin', 'bool', 'breakpoint', 'bytearray', 'bytes', 'callable', 'chr', 'classmethod', 'compile', 'complex', 'copyright', 'credits', 'delattr', 'dict', 'dir', 'display', 'divmod', 'enumerate', 'eval', 'exec', 'execfile', 'filter', 'float', 'format', 'frozenset', 'get_ipython', 'getattr', 'globals', 'hasattr', 'hash', 'help', 'hex', 'id', 'input', 'int', 'isinstance', 'issubclass', 'iter', 'len', 'license', 'list', 'locals', 'map', 'max', 'memoryview', 'min', 'next', 'object', 'oct', 'open', 'ord', 'pow', 'print', 'property', 'range', 'repr', 'reversed', 'round', 'runfile', 'set', 'setattr', 'slice', 'sorted', 'staticmethod', 'str', 'sum', 'super', 'tuple', 'type', 'vars', 'zip']\n"
     ]
    }
   ],
   "source": [
    "print(dir(__builtins__))"
   ]
  },
  {
   "cell_type": "code",
   "execution_count": 116,
   "id": "0a315830",
   "metadata": {},
   "outputs": [],
   "source": [
    "from functools import reduce"
   ]
  },
  {
   "cell_type": "code",
   "execution_count": 117,
   "id": "2a5f570b",
   "metadata": {},
   "outputs": [
    {
     "data": {
      "text/plain": [
       "15"
      ]
     },
     "execution_count": 117,
     "metadata": {},
     "output_type": "execute_result"
    }
   ],
   "source": [
    "a = [1,2,3,4,5]  #15\n",
    "reduce(lambda a,b: a+b , a)"
   ]
  },
  {
   "cell_type": "markdown",
   "id": "581b59d2",
   "metadata": {},
   "source": [
    "[1,2,3,4,5] # a = 1 , b = 2\n",
    "[3,3,4,5]# a =3 , b = 3 \n",
    "[6,4,5] # a = 6 , b = 4 \n",
    "[10,5] # a = 10 , b = 5\n",
    "[15] #a =15 , b "
   ]
  },
  {
   "cell_type": "code",
   "execution_count": 118,
   "id": "b44de6fe",
   "metadata": {},
   "outputs": [
    {
     "data": {
      "text/plain": [
       "987"
      ]
     },
     "execution_count": 118,
     "metadata": {},
     "output_type": "execute_result"
    }
   ],
   "source": [
    "a = [1,400,676,100,5,6,987,8,9]  #15\n",
    "reduce(lambda a,b: a if a>b else b , a)"
   ]
  },
  {
   "cell_type": "markdown",
   "id": "4f2ea91c",
   "metadata": {},
   "source": [
    "[1,400,676,100,5,6,987,8,9] # a = 1, b = 400  ---->b\n",
    "[400,676,100,5,6,987,8,9] # a = 400 , b = 676 ----> b\n",
    "[676,100,5,6,987,8,9] # a = 676 , b = 100 ----> a\n",
    "[676,5,6,987,8,9] # a = 676 , b = 5---> a\n",
    "[676,6,987,8,9]# a = 676 , b = 6 ---> a\n"
   ]
  },
  {
   "cell_type": "markdown",
   "id": "f6e121c5",
   "metadata": {},
   "source": [
    "# filter\n",
    "1. function name \n",
    "2. iterable\n",
    "Input is in bool\n"
   ]
  },
  {
   "cell_type": "code",
   "execution_count": 122,
   "id": "585a474a",
   "metadata": {},
   "outputs": [
    {
     "name": "stdout",
     "output_type": "stream",
     "text": [
      "elum@gmail.com\n",
      "akbar.caakaterasu@gmail.com\n",
      "akarui.kibuno@gmail.com\n",
      "ajhnstn87@gmail.com\n",
      "ahmadjazlan@gmail.com\n"
     ]
    }
   ],
   "source": [
    "lst = ['akzelxw@hotmail.com',\n",
    "'elum@gmail.com',\n",
    "'akbar.caakaterasu@gmail.com',\n",
    "'akarui.kibuno@gmail.com',\n",
    "'ajsparkchick@hotmail.com',\n",
    "'ajmeia@yahoo.com',\n",
    "'ajhnstn87@gmail.com',\n",
    "'ailuvzhoko4@hotmail.com',\n",
    "'ailuvzhoko3@hotmail.com',\n",
    "'ailuvzhoko2@hotmail.com',\n",
    "'ailuvzhoko@hotmail.com',\n",
    "'aillensiquioco@aol.com',\n",
    "'ahmovic_ines@hotmail.com',\n",
    "'ahmed_g300@yahoo.com',\n",
    "'ahmadjazlan@gmail.com',\n",
    "'ahmad_ridho19@yahoo.com']\n",
    "\n",
    "for i in lst:\n",
    "    if i.find('@gmail.com') != -1:\n",
    "        print(i)"
   ]
  },
  {
   "cell_type": "code",
   "execution_count": 130,
   "id": "eb9c080d",
   "metadata": {},
   "outputs": [
    {
     "data": {
      "text/plain": [
       "['elum@gmail.com',\n",
       " 'akbar.caakaterasu@gmail.com',\n",
       " 'akarui.kibuno@gmail.com',\n",
       " 'ajhnstn87@gmail.com',\n",
       " 'ahmadjazlan@gmail.com']"
      ]
     },
     "execution_count": 130,
     "metadata": {},
     "output_type": "execute_result"
    }
   ],
   "source": [
    "lst = ['akzelxw@hotmail.com',\n",
    "'elum@gmail.com',\n",
    "'akbar.caakaterasu@gmail.com',\n",
    "'akarui.kibuno@gmail.com',\n",
    "'ajsparkchick@hotmail.com',\n",
    "'ajmeia@yahoo.com',\n",
    "'ajhnstn87@gmail.com',\n",
    "'ailuvzhoko4@hotmail.com',\n",
    "'ailuvzhoko3@hotmail.com',\n",
    "'ailuvzhoko2@hotmail.com',\n",
    "'ailuvzhoko@hotmail.com',\n",
    "'aillensiquioco@aol.com',\n",
    "'ahmovic_ines@hotmail.com',\n",
    "'ahmed_g300@yahoo.com',\n",
    "'ahmadjazlan@gmail.com',\n",
    "'ahmad_ridho19@yahoo.com']\n",
    "\n",
    "a = list(filter(lambda x: '@gmail.com' in x , lst))\n",
    "a"
   ]
  },
  {
   "cell_type": "code",
   "execution_count": 131,
   "id": "7679e130",
   "metadata": {},
   "outputs": [
    {
     "data": {
      "text/plain": [
       "[None,\n",
       " 'elum@gmail.com',\n",
       " 'akbar.caakaterasu@gmail.com',\n",
       " 'akarui.kibuno@gmail.com',\n",
       " None,\n",
       " None,\n",
       " 'ajhnstn87@gmail.com',\n",
       " None,\n",
       " None,\n",
       " None,\n",
       " None,\n",
       " None,\n",
       " None,\n",
       " None,\n",
       " 'ahmadjazlan@gmail.com',\n",
       " None]"
      ]
     },
     "execution_count": 131,
     "metadata": {},
     "output_type": "execute_result"
    }
   ],
   "source": [
    "list(map(lambda email : email if email.split('@')[1] == 'gmail.com' else None,lst))"
   ]
  },
  {
   "cell_type": "code",
   "execution_count": null,
   "id": "34140244",
   "metadata": {},
   "outputs": [],
   "source": []
  },
  {
   "cell_type": "code",
   "execution_count": null,
   "id": "ad50f865",
   "metadata": {},
   "outputs": [],
   "source": []
  },
  {
   "cell_type": "code",
   "execution_count": null,
   "id": "1c3403fa",
   "metadata": {},
   "outputs": [],
   "source": []
  },
  {
   "cell_type": "code",
   "execution_count": null,
   "id": "011ceb70",
   "metadata": {},
   "outputs": [],
   "source": []
  },
  {
   "cell_type": "code",
   "execution_count": null,
   "id": "e55c6bf9",
   "metadata": {},
   "outputs": [],
   "source": []
  }
 ],
 "metadata": {
  "kernelspec": {
   "display_name": "Python 3 (ipykernel)",
   "language": "python",
   "name": "python3"
  },
  "language_info": {
   "codemirror_mode": {
    "name": "ipython",
    "version": 3
   },
   "file_extension": ".py",
   "mimetype": "text/x-python",
   "name": "python",
   "nbconvert_exporter": "python",
   "pygments_lexer": "ipython3",
   "version": "3.9.12"
  }
 },
 "nbformat": 4,
 "nbformat_minor": 5
}
