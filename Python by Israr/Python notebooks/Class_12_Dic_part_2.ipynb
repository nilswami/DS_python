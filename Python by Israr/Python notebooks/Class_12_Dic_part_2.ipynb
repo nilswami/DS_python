{
 "cells": [
  {
   "cell_type": "code",
   "execution_count": 3,
   "id": "0ccc804f",
   "metadata": {},
   "outputs": [],
   "source": [
    "emp_data = {\"emp1\":{'age': 56 , \"Salary\": 23 , \"name\":'israr'}, \n",
    "            \"emp2\":{'age': 25 , \"Salary\": 27 , \"name\":'amitesh'}, \n",
    "            'emp3':{'age': 25 , \"Salary\": 28 , \"name\":'Purnendu'},\n",
    "            'emp4':{'age': 25 , \"Salary\": 30 , \"name\":'Anil'}}"
   ]
  },
  {
   "cell_type": "code",
   "execution_count": 5,
   "id": "a9420990",
   "metadata": {},
   "outputs": [
    {
     "name": "stdout",
     "output_type": "stream",
     "text": [
      "amitesh\n",
      "Purnendu\n",
      "Anil\n"
     ]
    }
   ],
   "source": [
    "# Extact emp whose salary is >25\n",
    "for i in emp_data:\n",
    "    if emp_data[i]['Salary'] > 25:\n",
    "        print(emp_data[i]['name'])\n",
    "# amitesh\n",
    "# purnendu\n",
    "# Anil"
   ]
  },
  {
   "cell_type": "code",
   "execution_count": 14,
   "id": "fb2005e1",
   "metadata": {},
   "outputs": [
    {
     "name": "stdout",
     "output_type": "stream",
     "text": [
      "amitesh\n",
      "Purnendu\n",
      "Anil\n"
     ]
    }
   ],
   "source": [
    "for i in emp_data:\n",
    "    if emp_data[i]['Salary'] > 25:\n",
    "        print(emp_data[i]['name'])\n",
    "    "
   ]
  },
  {
   "cell_type": "code",
   "execution_count": 11,
   "id": "c3ba187c",
   "metadata": {},
   "outputs": [
    {
     "data": {
      "text/plain": [
       "23"
      ]
     },
     "execution_count": 11,
     "metadata": {},
     "output_type": "execute_result"
    }
   ],
   "source": [
    "emp_data['emp1']['Salary']"
   ]
  },
  {
   "cell_type": "markdown",
   "id": "484a7564",
   "metadata": {},
   "source": [
    "# Update the dic\n",
    "* If key is present - The existing will be modified\n",
    "* If key is not present - It will add the keys\n"
   ]
  },
  {
   "cell_type": "code",
   "execution_count": 15,
   "id": "b963a128",
   "metadata": {},
   "outputs": [
    {
     "data": {
      "text/plain": [
       "{'emp1': {'age': 56, 'Salary': 23, 'name': 'israr'},\n",
       " 'emp2': {'age': 25, 'Salary': 27, 'name': 'amitesh'},\n",
       " 'emp3': {'age': 25, 'Salary': 28, 'name': 'Purnendu'},\n",
       " 'emp4': {'age': 26, 'Salary': 90, 'name': 'Kalyani'}}"
      ]
     },
     "execution_count": 15,
     "metadata": {},
     "output_type": "execute_result"
    }
   ],
   "source": [
    "# If the key is present\n",
    "\n",
    "emp_data = {\"emp1\":{'age': 56 , \"Salary\": 23 , \"name\":'israr'}, \n",
    "            \"emp2\":{'age': 25 , \"Salary\": 27 , \"name\":'amitesh'}, \n",
    "            'emp3':{'age': 25 , \"Salary\": 28 , \"name\":'Purnendu'},\n",
    "            'emp4':{'age': 25 , \"Salary\": 30 , \"name\":'Anil'}}\n",
    "\n",
    "emp_data['emp4'] = {'age': 26 , \"Salary\": 90 , \"name\":'Kalyani'}\n",
    "emp_data"
   ]
  },
  {
   "cell_type": "code",
   "execution_count": 16,
   "id": "8080658b",
   "metadata": {},
   "outputs": [
    {
     "data": {
      "text/plain": [
       "{'emp1': {'age': 56, 'Salary': 23, 'name': 'israr'},\n",
       " 'emp2': {'age': 25, 'Salary': 27, 'name': 'amitesh'},\n",
       " 'emp3': {'age': 25, 'Salary': 28, 'name': 'Purnendu'},\n",
       " 'emp4': {'age': 26, 'Salary': 90, 'name': 'Kalyani'}}"
      ]
     },
     "execution_count": 16,
     "metadata": {},
     "output_type": "execute_result"
    }
   ],
   "source": [
    "# If the key is not present\n",
    "emp_data = {\"emp1\":{'age': 56 , \"Salary\": 23 , \"name\":'israr'}, \n",
    "            \"emp2\":{'age': 25 , \"Salary\": 27 , \"name\":'amitesh'}, \n",
    "            'emp3':{'age': 25 , \"Salary\": 28 , \"name\":'Purnendu'}}\n",
    "\n",
    "emp_data['emp4'] = {'age': 26 , \"Salary\": 90 , \"name\":'Kalyani'}\n",
    "emp_data"
   ]
  },
  {
   "cell_type": "code",
   "execution_count": 17,
   "id": "54ceb3ef",
   "metadata": {},
   "outputs": [
    {
     "name": "stdout",
     "output_type": "stream",
     "text": [
      "['__class__', '__class_getitem__', '__contains__', '__delattr__', '__delitem__', '__dir__', '__doc__', '__eq__', '__format__', '__ge__', '__getattribute__', '__getitem__', '__gt__', '__hash__', '__init__', '__init_subclass__', '__ior__', '__iter__', '__le__', '__len__', '__lt__', '__ne__', '__new__', '__or__', '__reduce__', '__reduce_ex__', '__repr__', '__reversed__', '__ror__', '__setattr__', '__setitem__', '__sizeof__', '__str__', '__subclasshook__', 'clear', 'copy', 'fromkeys', 'get', 'items', 'keys', 'pop', 'popitem', 'setdefault', 'update', 'values']\n"
     ]
    }
   ],
   "source": [
    "print(dir(dict))"
   ]
  },
  {
   "cell_type": "markdown",
   "id": "285087dd",
   "metadata": {},
   "source": [
    "# Methods in dic"
   ]
  },
  {
   "cell_type": "markdown",
   "id": "fccec026",
   "metadata": {},
   "source": [
    "# Methods to add and acces the elements from the dic\n",
    "\n",
    "* Get \n",
    "* Setdefault\n",
    "* Update"
   ]
  },
  {
   "cell_type": "code",
   "execution_count": 32,
   "id": "14c1fe22",
   "metadata": {},
   "outputs": [
    {
     "name": "stdout",
     "output_type": "stream",
     "text": [
      "{'age': 25, 'Salary': 27, 'name': 'amitesh'}\n"
     ]
    },
    {
     "data": {
      "text/plain": [
       "{'emp1': {'age': 56, 'Salary': 23, 'name': 'israr'},\n",
       " 'emp2': {'age': 25, 'Salary': 27, 'name': 'amitesh'},\n",
       " 'emp3': {'age': 25, 'Salary': 28, 'name': 'Purnendu'}}"
      ]
     },
     "execution_count": 32,
     "metadata": {},
     "output_type": "execute_result"
    }
   ],
   "source": [
    "# get - If the key is present it'll give you the values\n",
    "\n",
    "emp_data = {\"emp1\":{'age': 56 , \"Salary\": 23 , \"name\":'israr'}, \n",
    "            \"emp2\":{'age': 25 , \"Salary\": 27 , \"name\":'amitesh'}, \n",
    "            'emp3':{'age': 25 , \"Salary\": 28 , \"name\":'Purnendu'}}\n",
    "\n",
    "print(emp_data.get('emp2','Hi'))\n",
    "emp_data"
   ]
  },
  {
   "cell_type": "code",
   "execution_count": 30,
   "id": "0fcf761f",
   "metadata": {},
   "outputs": [
    {
     "name": "stdout",
     "output_type": "stream",
     "text": [
      "None\n"
     ]
    },
    {
     "data": {
      "text/plain": [
       "{'emp1': {'age': 56, 'Salary': 23, 'name': 'israr'},\n",
       " 'emp2': {'age': 25, 'Salary': 27, 'name': 'amitesh'},\n",
       " 'emp3': {'age': 25, 'Salary': 28, 'name': 'Purnendu'}}"
      ]
     },
     "execution_count": 30,
     "metadata": {},
     "output_type": "execute_result"
    }
   ],
   "source": [
    "emp_data = {\"emp1\":{'age': 56 , \"Salary\": 23 , \"name\":'israr'}, \n",
    "            \"emp2\":{'age': 25 , \"Salary\": 27 , \"name\":'amitesh'}, \n",
    "            'emp3':{'age': 25 , \"Salary\": 28 , \"name\":'Purnendu'}}\n",
    "\n",
    "print(emp_data.get('emp7'))\n",
    "emp_data"
   ]
  },
  {
   "cell_type": "code",
   "execution_count": 31,
   "id": "339c3130",
   "metadata": {},
   "outputs": [
    {
     "name": "stdout",
     "output_type": "stream",
     "text": [
      "Error\n"
     ]
    },
    {
     "data": {
      "text/plain": [
       "{'emp1': {'age': 56, 'Salary': 23, 'name': 'israr'},\n",
       " 'emp2': {'age': 25, 'Salary': 27, 'name': 'amitesh'},\n",
       " 'emp3': {'age': 25, 'Salary': 28, 'name': 'Purnendu'}}"
      ]
     },
     "execution_count": 31,
     "metadata": {},
     "output_type": "execute_result"
    }
   ],
   "source": [
    "# If key is not present it'll give you None , It can be customised\n",
    "\n",
    "emp_data = {\"emp1\":{'age': 56 , \"Salary\": 23 , \"name\":'israr'}, \n",
    "            \"emp2\":{'age': 25 , \"Salary\": 27 , \"name\":'amitesh'}, \n",
    "            'emp3':{'age': 25 , \"Salary\": 28 , \"name\":'Purnendu'}}\n",
    "\n",
    "print(emp_data.get('emp7',\"Error\"))\n",
    "emp_data"
   ]
  },
  {
   "cell_type": "code",
   "execution_count": 27,
   "id": "79faaee6",
   "metadata": {},
   "outputs": [
    {
     "name": "stdout",
     "output_type": "stream",
     "text": [
      "{'age': 25, 'Salary': 28, 'name': 'Purnendu'}\n"
     ]
    },
    {
     "data": {
      "text/plain": [
       "{'emp1': {'age': 56, 'Salary': 23, 'name': 'israr'},\n",
       " 'emp2': {'age': 25, 'Salary': 27, 'name': 'amitesh'},\n",
       " 'emp3': {'age': 25, 'Salary': 28, 'name': 'Purnendu'}}"
      ]
     },
     "execution_count": 27,
     "metadata": {},
     "output_type": "execute_result"
    }
   ],
   "source": [
    "# Setdefault\n",
    "\n",
    "emp_data = {\"emp1\":{'age': 56 , \"Salary\": 23 , \"name\":'israr'}, \n",
    "            \"emp2\":{'age': 25 , \"Salary\": 27 , \"name\":'amitesh'}, \n",
    "            'emp3':{'age': 25 , \"Salary\": 28 , \"name\":'Purnendu'}}\n",
    "\n",
    "print(emp_data.setdefault('emp3'))\n",
    "emp_data"
   ]
  },
  {
   "cell_type": "code",
   "execution_count": 28,
   "id": "a5e8aeb9",
   "metadata": {},
   "outputs": [
    {
     "name": "stdout",
     "output_type": "stream",
     "text": [
      "None\n"
     ]
    },
    {
     "data": {
      "text/plain": [
       "{'emp1': {'age': 56, 'Salary': 23, 'name': 'israr'},\n",
       " 'emp2': {'age': 25, 'Salary': 27, 'name': 'amitesh'},\n",
       " 'emp3': {'age': 25, 'Salary': 28, 'name': 'Purnendu'},\n",
       " 'emp10': None}"
      ]
     },
     "execution_count": 28,
     "metadata": {},
     "output_type": "execute_result"
    }
   ],
   "source": [
    "# Setdefault\n",
    "\n",
    "emp_data = {\"emp1\":{'age': 56 , \"Salary\": 23 , \"name\":'israr'}, \n",
    "            \"emp2\":{'age': 25 , \"Salary\": 27 , \"name\":'amitesh'}, \n",
    "            'emp3':{'age': 25 , \"Salary\": 28 , \"name\":'Purnendu'}}\n",
    "\n",
    "print(emp_data.setdefault('emp10'))\n",
    "emp_data"
   ]
  },
  {
   "cell_type": "code",
   "execution_count": 29,
   "id": "7a46ebda",
   "metadata": {},
   "outputs": [
    {
     "name": "stdout",
     "output_type": "stream",
     "text": [
      "Key is not present\n"
     ]
    },
    {
     "data": {
      "text/plain": [
       "{'emp1': {'age': 56, 'Salary': 23, 'name': 'israr'},\n",
       " 'emp2': {'age': 25, 'Salary': 27, 'name': 'amitesh'},\n",
       " 'emp3': {'age': 25, 'Salary': 28, 'name': 'Purnendu'},\n",
       " 'emp10': 'Key is not present'}"
      ]
     },
     "execution_count": 29,
     "metadata": {},
     "output_type": "execute_result"
    }
   ],
   "source": [
    "emp_data = {\"emp1\":{'age': 56 , \"Salary\": 23 , \"name\":'israr'}, \n",
    "            \"emp2\":{'age': 25 , \"Salary\": 27 , \"name\":'amitesh'}, \n",
    "            'emp3':{'age': 25 , \"Salary\": 28 , \"name\":'Purnendu'}}\n",
    "\n",
    "print(emp_data.setdefault('emp10', \"Key is not present\"))\n",
    "emp_data"
   ]
  },
  {
   "cell_type": "code",
   "execution_count": 33,
   "id": "8233548b",
   "metadata": {},
   "outputs": [
    {
     "name": "stdout",
     "output_type": "stream",
     "text": [
      "{'age': 25, 'Salary': 28, 'name': 'anil'}\n"
     ]
    },
    {
     "data": {
      "text/plain": [
       "{'emp1': {'age': 56, 'Salary': 23, 'name': 'israr'},\n",
       " 'emp2': {'age': 25, 'Salary': 27, 'name': 'amitesh'},\n",
       " 'emp3': {'age': 25, 'Salary': 28, 'name': 'Purnendu'},\n",
       " 'emp4': {'age': 25, 'Salary': 28, 'name': 'anil'}}"
      ]
     },
     "execution_count": 33,
     "metadata": {},
     "output_type": "execute_result"
    }
   ],
   "source": [
    "emp_data = {\"emp1\":{'age': 56 , \"Salary\": 23 , \"name\":'israr'}, \n",
    "            \"emp2\":{'age': 25 , \"Salary\": 27 , \"name\":'amitesh'}, \n",
    "            'emp3':{'age': 25 , \"Salary\": 28 , \"name\":'Purnendu'}}\n",
    "\n",
    "print(emp_data.setdefault('emp4', {'age': 25 , \"Salary\": 28 , \"name\":'anil'}))\n",
    "emp_data"
   ]
  },
  {
   "cell_type": "code",
   "execution_count": 34,
   "id": "843702b3",
   "metadata": {},
   "outputs": [
    {
     "name": "stdout",
     "output_type": "stream",
     "text": [
      "{'age': 25, 'Salary': 28, 'name': 'Purnendu'}\n"
     ]
    },
    {
     "data": {
      "text/plain": [
       "{'emp1': {'age': 56, 'Salary': 23, 'name': 'israr'},\n",
       " 'emp2': {'age': 25, 'Salary': 27, 'name': 'amitesh'},\n",
       " 'emp3': {'age': 25, 'Salary': 28, 'name': 'Purnendu'}}"
      ]
     },
     "execution_count": 34,
     "metadata": {},
     "output_type": "execute_result"
    }
   ],
   "source": [
    "emp_data = {\"emp1\":{'age': 56 , \"Salary\": 23 , \"name\":'israr'}, \n",
    "            \"emp2\":{'age': 25 , \"Salary\": 27 , \"name\":'amitesh'}, \n",
    "            'emp3':{'age': 25 , \"Salary\": 28 , \"name\":'Purnendu'}}\n",
    "\n",
    "print(emp_data.setdefault('emp3', {'age': 24 , \"Salary\": 30 , \"name\":'anil'}))\n",
    "emp_data"
   ]
  },
  {
   "cell_type": "code",
   "execution_count": 56,
   "id": "004f2e50",
   "metadata": {},
   "outputs": [
    {
     "name": "stdout",
     "output_type": "stream",
     "text": [
      "None\n"
     ]
    },
    {
     "data": {
      "text/plain": [
       "{'emp1': {'age': 56, 'Salary': 23, 'name': 'israr'},\n",
       " 'emp2': {'age': 25, 'Salary': 27, 'name': 'amitesh'},\n",
       " 'emp3': {'age': 25, 'Salary': 28, 'name': 'Purnendu'},\n",
       " 'emp4': {'age': 56, 'Salary': 23, 'name': 'israr'}}"
      ]
     },
     "execution_count": 56,
     "metadata": {},
     "output_type": "execute_result"
    }
   ],
   "source": [
    "# Update\n",
    "emp_data = {\"emp1\":{'age': 56 , \"Salary\": 23 , \"name\":'israr'}, \n",
    "            \"emp2\":{'age': 25 , \"Salary\": 27 , \"name\":'amitesh'}, \n",
    "            'emp3':{'age': 25 , \"Salary\": 28 , \"name\":'Purnendu'}}\n",
    "\n",
    "emp_data1 = {\"emp4\":{'age': 56 , \"Salary\": 23 , \"name\":'israr'}}\n",
    "\n",
    "print(emp_data.update(emp_data1))\n",
    "emp_data"
   ]
  },
  {
   "cell_type": "code",
   "execution_count": 41,
   "id": "fbd4cb33",
   "metadata": {},
   "outputs": [
    {
     "data": {
      "text/plain": [
       "[1, 2, 3, 4, [5, 6, 7, 9]]"
      ]
     },
     "execution_count": 41,
     "metadata": {},
     "output_type": "execute_result"
    }
   ],
   "source": [
    "a = [1,2,3,4]\n",
    "b = [5,6,7,9]\n",
    "a.append(b)\n",
    "a"
   ]
  },
  {
   "cell_type": "code",
   "execution_count": 47,
   "id": "3682e3c3",
   "metadata": {},
   "outputs": [
    {
     "name": "stdout",
     "output_type": "stream",
     "text": [
      "[1, 2, 3, 4]\n",
      "[1, 2, 3, 4, 5, 6, 7, 9]\n"
     ]
    }
   ],
   "source": [
    "a = [1,2,3,4]\n",
    "b = [5,6,7,9]\n",
    "\n",
    "c = a+b\n",
    "print(a)\n",
    "print(c)"
   ]
  },
  {
   "cell_type": "code",
   "execution_count": 50,
   "id": "517c1415",
   "metadata": {},
   "outputs": [
    {
     "name": "stdout",
     "output_type": "stream",
     "text": [
      "[1, 2, 3, 4, 5, 6, 7, 9]\n"
     ]
    }
   ],
   "source": [
    "a = [1,2,3,4]\n",
    "b = [5,6,7,9]\n",
    "a.extend(b)\n",
    "print(a)"
   ]
  },
  {
   "cell_type": "code",
   "execution_count": 51,
   "id": "25448cfc",
   "metadata": {},
   "outputs": [
    {
     "data": {
      "text/plain": [
       "[1, 2, 3, 4, 5, 6, 7, 9]"
      ]
     },
     "execution_count": 51,
     "metadata": {},
     "output_type": "execute_result"
    }
   ],
   "source": [
    "a"
   ]
  },
  {
   "cell_type": "code",
   "execution_count": 53,
   "id": "4e27b504",
   "metadata": {},
   "outputs": [
    {
     "data": {
      "text/plain": [
       "{'emp1': {'age': 56, 'Salary': 23, 'name': 'israr'},\n",
       " 'emp2': {'age': 25, 'Salary': 27, 'name': 'amitesh'},\n",
       " 'emp3': {'age': 25, 'Salary': 28, 'name': 'Purnendu'},\n",
       " 'emp4': {'age': 56, 'Salary': 23, 'name': 'israr'}}"
      ]
     },
     "execution_count": 53,
     "metadata": {},
     "output_type": "execute_result"
    }
   ],
   "source": [
    "emp_data"
   ]
  },
  {
   "cell_type": "markdown",
   "id": "9f7ac964",
   "metadata": {},
   "source": [
    "# Methods to remove the elements from the dic\n",
    "* pop\n",
    "* popitem\n"
   ]
  },
  {
   "cell_type": "code",
   "execution_count": 57,
   "id": "b937c481",
   "metadata": {},
   "outputs": [
    {
     "name": "stdout",
     "output_type": "stream",
     "text": [
      "['__class__', '__class_getitem__', '__contains__', '__delattr__', '__delitem__', '__dir__', '__doc__', '__eq__', '__format__', '__ge__', '__getattribute__', '__getitem__', '__gt__', '__hash__', '__init__', '__init_subclass__', '__ior__', '__iter__', '__le__', '__len__', '__lt__', '__ne__', '__new__', '__or__', '__reduce__', '__reduce_ex__', '__repr__', '__reversed__', '__ror__', '__setattr__', '__setitem__', '__sizeof__', '__str__', '__subclasshook__', 'clear', 'copy', 'fromkeys', 'get', 'items', 'keys', 'pop', 'popitem', 'setdefault', 'update', 'values']\n"
     ]
    }
   ],
   "source": [
    "print(dir(dict))"
   ]
  },
  {
   "cell_type": "code",
   "execution_count": 58,
   "id": "df0cd03f",
   "metadata": {},
   "outputs": [
    {
     "name": "stdout",
     "output_type": "stream",
     "text": [
      "{'age': 25, 'Salary': 28, 'name': 'Purnendu'}\n"
     ]
    },
    {
     "data": {
      "text/plain": [
       "{'emp1': {'age': 56, 'Salary': 23, 'name': 'israr'},\n",
       " 'emp2': {'age': 25, 'Salary': 27, 'name': 'amitesh'}}"
      ]
     },
     "execution_count": 58,
     "metadata": {},
     "output_type": "execute_result"
    }
   ],
   "source": [
    "# Pop If the key is present\n",
    "emp_data = {\"emp1\":{'age': 56 , \"Salary\": 23 , \"name\":'israr'}, \n",
    "            \"emp2\":{'age': 25 , \"Salary\": 27 , \"name\":'amitesh'}, \n",
    "            'emp3':{'age': 25 , \"Salary\": 28 , \"name\":'Purnendu'}}\n",
    "\n",
    "print(emp_data.pop('emp3'))\n",
    "emp_data"
   ]
  },
  {
   "cell_type": "code",
   "execution_count": 60,
   "id": "99eedb93",
   "metadata": {},
   "outputs": [
    {
     "ename": "KeyError",
     "evalue": "'emp4'",
     "output_type": "error",
     "traceback": [
      "\u001b[1;31m---------------------------------------------------------------------------\u001b[0m",
      "\u001b[1;31mKeyError\u001b[0m                                  Traceback (most recent call last)",
      "Input \u001b[1;32mIn [60]\u001b[0m, in \u001b[0;36m<cell line: 5>\u001b[1;34m()\u001b[0m\n\u001b[0;32m      1\u001b[0m emp_data \u001b[38;5;241m=\u001b[39m {\u001b[38;5;124m\"\u001b[39m\u001b[38;5;124memp1\u001b[39m\u001b[38;5;124m\"\u001b[39m:{\u001b[38;5;124m'\u001b[39m\u001b[38;5;124mage\u001b[39m\u001b[38;5;124m'\u001b[39m: \u001b[38;5;241m56\u001b[39m , \u001b[38;5;124m\"\u001b[39m\u001b[38;5;124mSalary\u001b[39m\u001b[38;5;124m\"\u001b[39m: \u001b[38;5;241m23\u001b[39m , \u001b[38;5;124m\"\u001b[39m\u001b[38;5;124mname\u001b[39m\u001b[38;5;124m\"\u001b[39m:\u001b[38;5;124m'\u001b[39m\u001b[38;5;124misrar\u001b[39m\u001b[38;5;124m'\u001b[39m}, \n\u001b[0;32m      2\u001b[0m             \u001b[38;5;124m\"\u001b[39m\u001b[38;5;124memp2\u001b[39m\u001b[38;5;124m\"\u001b[39m:{\u001b[38;5;124m'\u001b[39m\u001b[38;5;124mage\u001b[39m\u001b[38;5;124m'\u001b[39m: \u001b[38;5;241m25\u001b[39m , \u001b[38;5;124m\"\u001b[39m\u001b[38;5;124mSalary\u001b[39m\u001b[38;5;124m\"\u001b[39m: \u001b[38;5;241m27\u001b[39m , \u001b[38;5;124m\"\u001b[39m\u001b[38;5;124mname\u001b[39m\u001b[38;5;124m\"\u001b[39m:\u001b[38;5;124m'\u001b[39m\u001b[38;5;124mamitesh\u001b[39m\u001b[38;5;124m'\u001b[39m}, \n\u001b[0;32m      3\u001b[0m             \u001b[38;5;124m'\u001b[39m\u001b[38;5;124memp3\u001b[39m\u001b[38;5;124m'\u001b[39m:{\u001b[38;5;124m'\u001b[39m\u001b[38;5;124mage\u001b[39m\u001b[38;5;124m'\u001b[39m: \u001b[38;5;241m25\u001b[39m , \u001b[38;5;124m\"\u001b[39m\u001b[38;5;124mSalary\u001b[39m\u001b[38;5;124m\"\u001b[39m: \u001b[38;5;241m28\u001b[39m , \u001b[38;5;124m\"\u001b[39m\u001b[38;5;124mname\u001b[39m\u001b[38;5;124m\"\u001b[39m:\u001b[38;5;124m'\u001b[39m\u001b[38;5;124mPurnendu\u001b[39m\u001b[38;5;124m'\u001b[39m}}\n\u001b[1;32m----> 5\u001b[0m \u001b[38;5;28mprint\u001b[39m(\u001b[43memp_data\u001b[49m\u001b[38;5;241;43m.\u001b[39;49m\u001b[43mpop\u001b[49m\u001b[43m(\u001b[49m\u001b[38;5;124;43m'\u001b[39;49m\u001b[38;5;124;43memp4\u001b[39;49m\u001b[38;5;124;43m'\u001b[39;49m\u001b[43m)\u001b[49m)\n\u001b[0;32m      6\u001b[0m emp_data\n",
      "\u001b[1;31mKeyError\u001b[0m: 'emp4'"
     ]
    }
   ],
   "source": [
    "# Pop If the key is not present\n",
    "\n",
    "emp_data = {\"emp1\":{'age': 56 , \"Salary\": 23 , \"name\":'israr'}, \n",
    "            \"emp2\":{'age': 25 , \"Salary\": 27 , \"name\":'amitesh'}, \n",
    "            'emp3':{'age': 25 , \"Salary\": 28 , \"name\":'Purnendu'}}\n",
    "\n",
    "print(emp_data.pop('emp4'))\n",
    "emp_data"
   ]
  },
  {
   "cell_type": "code",
   "execution_count": 64,
   "id": "abcf7546",
   "metadata": {},
   "outputs": [
    {
     "name": "stdout",
     "output_type": "stream",
     "text": [
      "('emp3', {'age': 25, 'Salary': 28, 'name': 'Purnendu'})\n"
     ]
    },
    {
     "data": {
      "text/plain": [
       "{'emp1': {'age': 56, 'Salary': 23, 'name': 'israr'},\n",
       " 'emp2': {'age': 25, 'Salary': 27, 'name': 'amitesh'}}"
      ]
     },
     "execution_count": 64,
     "metadata": {},
     "output_type": "execute_result"
    }
   ],
   "source": [
    "# Popitem \n",
    "emp_data = {\"emp1\":{'age': 56 , \"Salary\": 23 , \"name\":'israr'}, \n",
    "            \"emp2\":{'age': 25 , \"Salary\": 27 , \"name\":'amitesh'}, \n",
    "            'emp3':{'age': 25 , \"Salary\": 28 , \"name\":'Purnendu'}}\n",
    "\n",
    "print(emp_data.popitem())\n",
    "emp_data"
   ]
  },
  {
   "cell_type": "code",
   "execution_count": 65,
   "id": "f3b33975",
   "metadata": {},
   "outputs": [
    {
     "ename": "KeyError",
     "evalue": "'popitem(): dictionary is empty'",
     "output_type": "error",
     "traceback": [
      "\u001b[1;31m---------------------------------------------------------------------------\u001b[0m",
      "\u001b[1;31mKeyError\u001b[0m                                  Traceback (most recent call last)",
      "Input \u001b[1;32mIn [65]\u001b[0m, in \u001b[0;36m<cell line: 4>\u001b[1;34m()\u001b[0m\n\u001b[0;32m      1\u001b[0m \u001b[38;5;66;03m# Popitem \u001b[39;00m\n\u001b[0;32m      2\u001b[0m emp_data \u001b[38;5;241m=\u001b[39m {}\n\u001b[1;32m----> 4\u001b[0m \u001b[38;5;28mprint\u001b[39m(\u001b[43memp_data\u001b[49m\u001b[38;5;241;43m.\u001b[39;49m\u001b[43mpopitem\u001b[49m\u001b[43m(\u001b[49m\u001b[43m)\u001b[49m)\n\u001b[0;32m      5\u001b[0m emp_data\n",
      "\u001b[1;31mKeyError\u001b[0m: 'popitem(): dictionary is empty'"
     ]
    }
   ],
   "source": [
    "# Popitem \n",
    "emp_data = {}\n",
    "\n",
    "print(emp_data.popitem())\n",
    "emp_data"
   ]
  },
  {
   "cell_type": "code",
   "execution_count": 66,
   "id": "b8c64a43",
   "metadata": {},
   "outputs": [
    {
     "name": "stdout",
     "output_type": "stream",
     "text": [
      "dict_keys(['emp1', 'emp2', 'emp3'])\n"
     ]
    }
   ],
   "source": [
    "# method to check the keys\n",
    "\n",
    "emp_data = {\"emp1\":{'age': 56 , \"Salary\": 23 , \"name\":'israr'}, \n",
    "            \"emp2\":{'age': 25 , \"Salary\": 27 , \"name\":'amitesh'}, \n",
    "            'emp3':{'age': 25 , \"Salary\": 28 , \"name\":'Purnendu'}}\n",
    "\n",
    "print(emp_data.keys())"
   ]
  },
  {
   "cell_type": "code",
   "execution_count": 68,
   "id": "2d0a113a",
   "metadata": {},
   "outputs": [
    {
     "name": "stdout",
     "output_type": "stream",
     "text": [
      "dict_keys(['emp1', 'emp2', 'emp3'])\n"
     ]
    }
   ],
   "source": [
    "emp_data = {\"emp1\":{'age': 56 , \"Salary\": 23 , \"name\":'israr'}, \n",
    "            \"emp2\":{'age': 25 , \"Salary\": 27 , \"name\":'amitesh'}, \n",
    "            'emp3':{'age': 25 , \"Salary\": 28 , \"name\":'Purnendu'}}\n",
    "\n",
    "print(emp_data.keys())"
   ]
  },
  {
   "cell_type": "code",
   "execution_count": 70,
   "id": "85226133",
   "metadata": {},
   "outputs": [
    {
     "data": {
      "text/plain": [
       "dict_keys(['age', 'Salary', 'name'])"
      ]
     },
     "execution_count": 70,
     "metadata": {},
     "output_type": "execute_result"
    }
   ],
   "source": [
    "emp_data['emp1'].keys()"
   ]
  },
  {
   "cell_type": "code",
   "execution_count": 79,
   "id": "50149daf",
   "metadata": {},
   "outputs": [
    {
     "name": "stdout",
     "output_type": "stream",
     "text": [
      "dict_values([{'age': 56, 'Salary': 23, 'name': 'israr'}, {'age': 25, 'Salary': 27, 'name': 'amitesh'}, {'age': 25, 'Salary': 28, 'name': 'Purnendu'}])\n"
     ]
    }
   ],
   "source": [
    "# method to check the value\n",
    "\n",
    "emp_data = {\"emp1\":{'age': 56 , \"Salary\": 23 , \"name\":'israr'}, \n",
    "            \"emp2\":{'age': 25 , \"Salary\": 27 , \"name\":'amitesh'}, \n",
    "            'emp3':{'age': 25 , \"Salary\": 28 , \"name\":'Purnendu'}}\n",
    "\n",
    "print(emp_data.values())"
   ]
  },
  {
   "cell_type": "code",
   "execution_count": 93,
   "id": "42ef7af0",
   "metadata": {},
   "outputs": [
    {
     "data": {
      "text/plain": [
       "dict_values([25, 28, 'Purnendu'])"
      ]
     },
     "execution_count": 93,
     "metadata": {},
     "output_type": "execute_result"
    }
   ],
   "source": [
    "emp_data = {\"emp1\":{'age': 56 , \"Salary\": 23 , \"name\":'israr'}, \n",
    "            \"emp2\":{'age': 25 , \"Salary\": 27 , \"name\":'amitesh'}, \n",
    "            'emp3':{'age': 25 , \"Salary\": 28 , \"name\":'Purnendu'}}\n",
    "\n",
    "emp_data['emp3'].values()"
   ]
  },
  {
   "cell_type": "code",
   "execution_count": 102,
   "id": "5178974a",
   "metadata": {},
   "outputs": [
    {
     "name": "stdout",
     "output_type": "stream",
     "text": [
      "dict_items([('age', 56), ('Salary', 23), ('name', 'israr')])\n"
     ]
    }
   ],
   "source": [
    "# method to check the items\n",
    "\n",
    "emp_data = {\"emp1\":{'age': 56 , \"Salary\": 23 , \"name\":'israr'}, \n",
    "            \"emp2\":{'age': 25 , \"Salary\": 27 , \"name\":'amitesh'}, \n",
    "            'emp3':{'age': 25 , \"Salary\": 28 , \"name\":'Purnendu'}}\n",
    "\n",
    "print(emp_data['emp1'].items())"
   ]
  },
  {
   "cell_type": "code",
   "execution_count": 103,
   "id": "0c4e24b8",
   "metadata": {},
   "outputs": [
    {
     "name": "stdout",
     "output_type": "stream",
     "text": [
      "56\n",
      "23\n",
      "israr\n"
     ]
    }
   ],
   "source": [
    "for j,i in emp_data['emp1'].items():\n",
    "    print(i)\n",
    "#    print(j)"
   ]
  },
  {
   "cell_type": "code",
   "execution_count": 106,
   "id": "ead46438",
   "metadata": {},
   "outputs": [
    {
     "name": "stdout",
     "output_type": "stream",
     "text": [
      "emp1\n",
      "{'age': 56, 'Salary': 23, 'name': 'israr'}\n",
      "emp2\n",
      "{'age': 25, 'Salary': 27, 'name': 'amitesh'}\n",
      "emp3\n",
      "{'age': 25, 'Salary': 28, 'name': 'Purnendu'}\n"
     ]
    }
   ],
   "source": [
    "for i,j in emp_data.items():\n",
    "    print(i)\n",
    "    print(j)"
   ]
  },
  {
   "cell_type": "code",
   "execution_count": null,
   "id": "c466ee98",
   "metadata": {},
   "outputs": [],
   "source": [
    "print(dir(dict))"
   ]
  },
  {
   "cell_type": "code",
   "execution_count": 110,
   "id": "789b3472",
   "metadata": {},
   "outputs": [
    {
     "name": "stdout",
     "output_type": "stream",
     "text": [
      "dict_keys(['age', 'Salary', 'name'])\n",
      "dict_keys(['asd', 'sdf', 'name'])\n",
      "dict_keys(['fdgdf', 'dfgd', 'name'])\n"
     ]
    }
   ],
   "source": [
    "# method to check the items\n",
    "\n",
    "emp_data = {\"emp1\":{'age': 56 , \"Salary\": 23 , \"name\":'israr'}, \n",
    "            \"emp2\":{'asd': 25 , \"sdf\": 27 , \"name\":'amitesh'}, \n",
    "            'emp3':{'fdgdf': 25 , \"dfgd\": 28 , \"name\":'Purnendu'}}\n",
    "\n",
    "# print(emp_data['emp1'].items())\n",
    "\n",
    "for i,j in emp_data.items():\n",
    "    print(j.keys())"
   ]
  },
  {
   "cell_type": "code",
   "execution_count": null,
   "id": "8b45d381",
   "metadata": {},
   "outputs": [],
   "source": [
    "# Dict compres\n",
    "emp_data = {\"emp1\":{'age': 56 , \"Salary\": 23 , \"name\":'israr'}, \n",
    "            \"emp2\":{'asd': 25 , \"sdf\": 27 , \"name\":'amitesh'}, \n",
    "            'emp3':{'fdgdf': 25 , \"dfgd\": 28 , \"name\":'Purnendu'}}\n",
    "\n",
    "emp_data{}"
   ]
  },
  {
   "cell_type": "code",
   "execution_count": 112,
   "id": "1ed12f81",
   "metadata": {},
   "outputs": [
    {
     "name": "stdout",
     "output_type": "stream",
     "text": [
      "('emp1', {'age': 56, 'Salary': 23, 'name': 'israr'})\n",
      "('emp2', {'asd': 25, 'sdf': 27, 'name': 'amitesh'})\n",
      "('emp3', {'fdgdf': 25, 'dfgd': 28, 'name': 'Purnendu'})\n"
     ]
    }
   ],
   "source": [
    "emp_data = {\"emp1\":{'age': 56 , \"Salary\": 23 , \"name\":'israr'}, \n",
    "            \"emp2\":{'asd': 25 , \"sdf\": 27 , \"name\":'amitesh'}, \n",
    "            'emp3':{'fdgdf': 25 , \"dfgd\": 28 , \"name\":'Purnendu'}}\n",
    "\n",
    "# print(emp_data['emp1'].items())\n",
    "\n",
    "for i in emp_data.items():\n",
    "    print(i)"
   ]
  },
  {
   "cell_type": "code",
   "execution_count": null,
   "id": "ff87cd48",
   "metadata": {},
   "outputs": [],
   "source": [
    "# Syntax\n",
    "\n",
    "#{Key:value for var in iterable if condition}\n",
    "\n"
   ]
  },
  {
   "cell_type": "code",
   "execution_count": 115,
   "id": "60abb657",
   "metadata": {},
   "outputs": [
    {
     "data": {
      "text/plain": [
       "{}"
      ]
     },
     "execution_count": 115,
     "metadata": {},
     "output_type": "execute_result"
    }
   ],
   "source": [
    "# clear()\n",
    "emp_data.clear()\n",
    "emp_data"
   ]
  },
  {
   "cell_type": "code",
   "execution_count": 116,
   "id": "2cd5eb47",
   "metadata": {},
   "outputs": [],
   "source": [
    "del emp_data"
   ]
  },
  {
   "cell_type": "code",
   "execution_count": 117,
   "id": "43750564",
   "metadata": {},
   "outputs": [
    {
     "ename": "NameError",
     "evalue": "name 'emp_data' is not defined",
     "output_type": "error",
     "traceback": [
      "\u001b[1;31m---------------------------------------------------------------------------\u001b[0m",
      "\u001b[1;31mNameError\u001b[0m                                 Traceback (most recent call last)",
      "Input \u001b[1;32mIn [117]\u001b[0m, in \u001b[0;36m<cell line: 1>\u001b[1;34m()\u001b[0m\n\u001b[1;32m----> 1\u001b[0m \u001b[43memp_data\u001b[49m\n",
      "\u001b[1;31mNameError\u001b[0m: name 'emp_data' is not defined"
     ]
    }
   ],
   "source": [
    "emp_data"
   ]
  },
  {
   "cell_type": "code",
   "execution_count": 118,
   "id": "8770ea4e",
   "metadata": {},
   "outputs": [
    {
     "name": "stdout",
     "output_type": "stream",
     "text": [
      "5 40\n",
      "25 140\n",
      "40 180\n"
     ]
    }
   ],
   "source": [
    "for i,j in [(1,2),(5,7),(8,9)]:\n",
    "    print(i*5 , j *20)\n",
    "    \n",
    "# 5 40\n",
    "# 25 140\n",
    "# 40 180"
   ]
  },
  {
   "cell_type": "code",
   "execution_count": 119,
   "id": "37c5230f",
   "metadata": {},
   "outputs": [
    {
     "name": "stdout",
     "output_type": "stream",
     "text": [
      "['__class__', '__class_getitem__', '__contains__', '__delattr__', '__delitem__', '__dir__', '__doc__', '__eq__', '__format__', '__ge__', '__getattribute__', '__getitem__', '__gt__', '__hash__', '__init__', '__init_subclass__', '__ior__', '__iter__', '__le__', '__len__', '__lt__', '__ne__', '__new__', '__or__', '__reduce__', '__reduce_ex__', '__repr__', '__reversed__', '__ror__', '__setattr__', '__setitem__', '__sizeof__', '__str__', '__subclasshook__', 'clear', 'copy', 'fromkeys', 'get', 'items', 'keys', 'pop', 'popitem', 'setdefault', 'update', 'values']\n"
     ]
    }
   ],
   "source": [
    "print(dir(dict))"
   ]
  },
  {
   "cell_type": "code",
   "execution_count": 120,
   "id": "8ff111c1",
   "metadata": {},
   "outputs": [
    {
     "data": {
      "text/plain": [
       "{1: None, 2: None, 3: None, 4: None, 5: None}"
      ]
     },
     "execution_count": 120,
     "metadata": {},
     "output_type": "execute_result"
    }
   ],
   "source": [
    "# fromkeys - Create a new dic  with keys and default value is none\n",
    "d2 = dict.fromkeys([1,2,3,4,5])\n",
    "d2"
   ]
  },
  {
   "cell_type": "code",
   "execution_count": 125,
   "id": "0ec89e6e",
   "metadata": {},
   "outputs": [
    {
     "data": {
      "text/plain": [
       "{1: ['i', 'e', 'q', 'a', 'd'],\n",
       " 2: ['i', 'e', 'q', 'a', 'd'],\n",
       " 3: ['i', 'e', 'q', 'a', 'd'],\n",
       " 4: ['i', 'e', 'q', 'a', 'd'],\n",
       " 5: ['i', 'e', 'q', 'a', 'd']}"
      ]
     },
     "execution_count": 125,
     "metadata": {},
     "output_type": "execute_result"
    }
   ],
   "source": [
    "d2 = dict.fromkeys([1,2,3,4,5],['i','e','q','a','d'])\n",
    "d2\n",
    "\n",
    "# 1:23 "
   ]
  },
  {
   "cell_type": "code",
   "execution_count": 124,
   "id": "f2892415",
   "metadata": {},
   "outputs": [
    {
     "data": {
      "text/plain": [
       "{1: (1, 2, 3), 2: (1, 2, 3), 3: (1, 2, 3), 4: (1, 2, 3), 5: 10}"
      ]
     },
     "execution_count": 124,
     "metadata": {},
     "output_type": "execute_result"
    }
   ],
   "source": [
    "d2[5] = 10\n",
    "d2"
   ]
  },
  {
   "cell_type": "code",
   "execution_count": 129,
   "id": "79a0ce14",
   "metadata": {},
   "outputs": [
    {
     "name": "stdout",
     "output_type": "stream",
     "text": [
      "{1: 4, 5: 14, 8: 18}\n"
     ]
    }
   ],
   "source": [
    "# Syntax\n",
    "\n",
    "#{Key:value for var in iterable if condition}\n",
    "\n",
    "a = {i:j*2 for i,j in [(1,2),(5,7),(8,9)]}\n",
    "print(a)"
   ]
  },
  {
   "cell_type": "code",
   "execution_count": 130,
   "id": "a7e94a0d",
   "metadata": {},
   "outputs": [
    {
     "data": {
      "text/plain": [
       "{1: 2, 2: 4, 3: 6}"
      ]
     },
     "execution_count": 130,
     "metadata": {},
     "output_type": "execute_result"
    }
   ],
   "source": [
    "a = {i:i*2 for i in [1,2,3]}\n",
    "a"
   ]
  },
  {
   "cell_type": "code",
   "execution_count": null,
   "id": "978888d7",
   "metadata": {},
   "outputs": [],
   "source": [
    "for iter 1 i = 1"
   ]
  },
  {
   "cell_type": "code",
   "execution_count": 131,
   "id": "51952672",
   "metadata": {},
   "outputs": [],
   "source": [
    "# Range \n",
    "* Start is inclusive\n",
    "* stop is exclisive\n",
    "\n",
    "* By defalt it'll start from 0\n",
    "* By default the step is 1"
   ]
  },
  {
   "cell_type": "code",
   "execution_count": 143,
   "id": "374ecbb2",
   "metadata": {},
   "outputs": [
    {
     "data": {
      "text/plain": [
       "[10, 9, 8, 7, 6, 5, 4, 3, 2, 1]"
      ]
     },
     "execution_count": 143,
     "metadata": {},
     "output_type": "execute_result"
    }
   ],
   "source": [
    "# \n",
    "list(range(10,0,-1))"
   ]
  },
  {
   "cell_type": "code",
   "execution_count": 146,
   "id": "e14477bd",
   "metadata": {},
   "outputs": [
    {
     "ename": "TypeError",
     "evalue": "'int' object is not iterable",
     "output_type": "error",
     "traceback": [
      "\u001b[1;31m---------------------------------------------------------------------------\u001b[0m",
      "\u001b[1;31mTypeError\u001b[0m                                 Traceback (most recent call last)",
      "Input \u001b[1;32mIn [146]\u001b[0m, in \u001b[0;36m<cell line: 1>\u001b[1;34m()\u001b[0m\n\u001b[0;32m      1\u001b[0m \u001b[38;5;28;01mfor\u001b[39;00m i \u001b[38;5;129;01min\u001b[39;00m \u001b[38;5;28mrange\u001b[39m(\u001b[38;5;241m1\u001b[39m,\u001b[38;5;241m10\u001b[39m,\u001b[38;5;241m2\u001b[39m):\n\u001b[1;32m----> 2\u001b[0m     \u001b[38;5;28mprint\u001b[39m(\u001b[38;5;28;43mlist\u001b[39;49m\u001b[43m(\u001b[49m\u001b[43mi\u001b[49m\u001b[43m)\u001b[49m)\n",
      "\u001b[1;31mTypeError\u001b[0m: 'int' object is not iterable"
     ]
    }
   ],
   "source": [
    "for i in range(1,10,2):\n",
    "    print(list(i))"
   ]
  },
  {
   "cell_type": "code",
   "execution_count": 145,
   "id": "4baf50e6",
   "metadata": {},
   "outputs": [
    {
     "name": "stdout",
     "output_type": "stream",
     "text": [
      "['__abs__', '__add__', '__and__', '__bool__', '__ceil__', '__class__', '__delattr__', '__dir__', '__divmod__', '__doc__', '__eq__', '__float__', '__floor__', '__floordiv__', '__format__', '__ge__', '__getattribute__', '__getnewargs__', '__gt__', '__hash__', '__index__', '__init__', '__init_subclass__', '__int__', '__invert__', '__le__', '__lshift__', '__lt__', '__mod__', '__mul__', '__ne__', '__neg__', '__new__', '__or__', '__pos__', '__pow__', '__radd__', '__rand__', '__rdivmod__', '__reduce__', '__reduce_ex__', '__repr__', '__rfloordiv__', '__rlshift__', '__rmod__', '__rmul__', '__ror__', '__round__', '__rpow__', '__rrshift__', '__rshift__', '__rsub__', '__rtruediv__', '__rxor__', '__setattr__', '__sizeof__', '__str__', '__sub__', '__subclasshook__', '__truediv__', '__trunc__', '__xor__', 'as_integer_ratio', 'bit_length', 'conjugate', 'denominator', 'from_bytes', 'imag', 'numerator', 'real', 'to_bytes']\n"
     ]
    }
   ],
   "source": [
    "print(dir(int))"
   ]
  },
  {
   "cell_type": "code",
   "execution_count": null,
   "id": "d5a8cccb",
   "metadata": {},
   "outputs": [],
   "source": [
    "# Set, Conditional statement"
   ]
  }
 ],
 "metadata": {
  "kernelspec": {
   "display_name": "Python 3 (ipykernel)",
   "language": "python",
   "name": "python3"
  },
  "language_info": {
   "codemirror_mode": {
    "name": "ipython",
    "version": 3
   },
   "file_extension": ".py",
   "mimetype": "text/x-python",
   "name": "python",
   "nbconvert_exporter": "python",
   "pygments_lexer": "ipython3",
   "version": "3.9.12"
  }
 },
 "nbformat": 4,
 "nbformat_minor": 5
}
