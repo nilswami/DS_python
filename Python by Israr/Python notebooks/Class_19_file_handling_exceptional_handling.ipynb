{
 "cells": [
  {
   "cell_type": "code",
   "execution_count": 6,
   "id": "c66ff0df",
   "metadata": {},
   "outputs": [
    {
     "name": "stdout",
     "output_type": "stream",
     "text": [
      "messi plays for paris\n",
      "ronaldo plays for manu\n",
      "neymar plays form paris\n",
      "xavi is the new coah of barcelona\n",
      "0\n",
      "6\n",
      "plays\n"
     ]
    }
   ],
   "source": [
    "# read(char)\n",
    "f = open('football.txt', 'r')\n",
    "print(f.read())\n",
    "print(f.seek(0))\n",
    "print(f.seek(6))\n",
    "print(f.read(5))"
   ]
  },
  {
   "cell_type": "code",
   "execution_count": 11,
   "id": "cd8e97c1",
   "metadata": {},
   "outputs": [
    {
     "name": "stdout",
     "output_type": "stream",
     "text": [
      "22\n",
      "ronaldo plays for manu\n",
      "\n"
     ]
    }
   ],
   "source": [
    "# read line() \n",
    "f = open('football.txt', 'r')\n",
    "#print(f.read())\n",
    "print(f.seek(22))\n",
    "print(f.readline())"
   ]
  },
  {
   "cell_type": "code",
   "execution_count": 14,
   "id": "b3cafb1e",
   "metadata": {},
   "outputs": [
    {
     "name": "stdout",
     "output_type": "stream",
     "text": [
      "25\n",
      "['aldo plays for manu\\n', 'neymar plays form paris\\n', 'xavi is the new coah of barcelona']\n"
     ]
    }
   ],
   "source": [
    "# readlines() \n",
    "f = open('football.txt', 'r')\n",
    "#print(f.read())\n",
    "print(f.seek(25))\n",
    "print(f.readlines())"
   ]
  },
  {
   "cell_type": "code",
   "execution_count": null,
   "id": "5b8198fe",
   "metadata": {},
   "outputs": [],
   "source": [
    "# Methods to do the operations on write mode"
   ]
  },
  {
   "cell_type": "code",
   "execution_count": 27,
   "id": "0b7795d2",
   "metadata": {},
   "outputs": [
    {
     "name": "stdout",
     "output_type": "stream",
     "text": [
      "0\n",
      "['messi plays for paris\\n', 'ronaldo plays for manu\\n', 'neymar plays form paris\\n', 'xavi is the new coah of barcelona']\n"
     ]
    }
   ],
   "source": [
    "f = open('football_1.txt', 'r')\n",
    "#print(f.read())\n",
    "print(f.seek(0))\n",
    "print(f.readlines())"
   ]
  },
  {
   "cell_type": "markdown",
   "id": "13796a9a",
   "metadata": {},
   "source": [
    "# Task - count the number of char, words, lines from the file\n",
    "\n",
    "Today is the anniversary of the publication of Robert Frost’s iconic \n",
    "poem \"Stopping by Woods on a Snowy Evening,\" a fact that spurred the Literary \n",
    "Hub office into a long conversation about their favorite poems, the most iconic poems \n",
    "written in English, and which poems we should all have already read (or at least be reading next). \n",
    "Turns out, despite frequent (false) claims that poetry is dead and/or irrelevant and/or boring, \n",
    "there are plenty of poems that have sunk deep into our collective consciousness as cultural icons. \n",
    "(What makes a poem iconic? For our purposes here, it’s primarily a matter of cultural ubiquity, \n",
    " though unimpeachable excellence helps any case.) So for those of you who were not present for our \n",
    "epic office argument, I have listed some of them here.\n"
   ]
  },
  {
   "cell_type": "code",
   "execution_count": 42,
   "id": "5ae2862e",
   "metadata": {},
   "outputs": [
    {
     "name": "stdout",
     "output_type": "stream",
     "text": [
      "7\n",
      "130\n",
      "790\n"
     ]
    }
   ],
   "source": [
    "f = open('poem.txt', errors = 'ignore')\n",
    "no_of_lines = len(f.readlines())\n",
    "f.seek(0)\n",
    "no_of_words = len(f.read().split())\n",
    "f.seek(0)\n",
    "no_of_char = len(f.read())\n",
    "\n",
    "print(no_of_lines)\n",
    "print(no_of_words)\n",
    "print(no_of_char)"
   ]
  },
  {
   "cell_type": "code",
   "execution_count": 30,
   "id": "4d099207",
   "metadata": {},
   "outputs": [
    {
     "name": "stdout",
     "output_type": "stream",
     "text": [
      "0\n",
      "messi plays for paris\n",
      "ronaldo plays for manu\n",
      "neymar plays form paris\n",
      "xavi is the new coah of barcelona\n"
     ]
    }
   ],
   "source": [
    "f = open('football_1.txt', 'r')\n",
    "#print(f.read())\n",
    "print(f.seek(0))\n",
    "print(f.read())"
   ]
  },
  {
   "cell_type": "code",
   "execution_count": 46,
   "id": "b3b4f421",
   "metadata": {},
   "outputs": [],
   "source": [
    "# copy the content img1.png \n",
    "with open('logo.png', 'rb') as f:\n",
    "    a = f.read()\n",
    "\n",
    "with open('img1.jpg', 'wb') as f:\n",
    "    f.write(a)"
   ]
  },
  {
   "cell_type": "code",
   "execution_count": null,
   "id": "3435d20e",
   "metadata": {},
   "outputs": [],
   "source": [
    "# Type of errrors\n",
    "\n",
    "1 - complie time error - syntax, IndentationError\n",
    "2 - run time error - devided by zero, type error, name error\n",
    "3 - logical errors - which is made by the user. "
   ]
  },
  {
   "cell_type": "code",
   "execution_count": 60,
   "id": "37a82645",
   "metadata": {},
   "outputs": [
    {
     "name": "stdout",
     "output_type": "stream",
     "text": [
      "['ArithmeticError', 'AssertionError', 'AttributeError', 'BaseException', 'BlockingIOError', 'BrokenPipeError', 'BufferError', 'BytesWarning', 'ChildProcessError', 'ConnectionAbortedError', 'ConnectionError', 'ConnectionRefusedError', 'ConnectionResetError', 'DeprecationWarning', 'EOFError', 'Ellipsis', 'EnvironmentError', 'Exception', 'False', 'FileExistsError', 'FileNotFoundError', 'FloatingPointError', 'FutureWarning', 'GeneratorExit', 'IOError', 'ImportError', 'ImportWarning', 'IndentationError', 'IndexError', 'InterruptedError', 'IsADirectoryError', 'KeyError', 'KeyboardInterrupt', 'LookupError', 'MemoryError', 'ModuleNotFoundError', 'NameError', 'None', 'NotADirectoryError', 'NotImplemented', 'NotImplementedError', 'OSError', 'OverflowError', 'PendingDeprecationWarning', 'PermissionError', 'ProcessLookupError', 'RecursionError', 'ReferenceError', 'ResourceWarning', 'RuntimeError', 'RuntimeWarning', 'StopAsyncIteration', 'StopIteration', 'SyntaxError', 'SyntaxWarning', 'SystemError', 'SystemExit', 'TabError', 'TimeoutError', 'True', 'TypeError', 'UnboundLocalError', 'UnicodeDecodeError', 'UnicodeEncodeError', 'UnicodeError', 'UnicodeTranslateError', 'UnicodeWarning', 'UserWarning', 'ValueError', 'Warning', 'WindowsError', 'ZeroDivisionError', '__IPYTHON__', '__build_class__', '__debug__', '__doc__', '__import__', '__loader__', '__name__', '__package__', '__spec__', 'abs', 'all', 'any', 'ascii', 'bin', 'bool', 'breakpoint', 'bytearray', 'bytes', 'callable', 'chr', 'classmethod', 'compile', 'complex', 'copyright', 'credits', 'delattr', 'dict', 'dir', 'display', 'divmod', 'enumerate', 'eval', 'exec', 'execfile', 'filter', 'float', 'format', 'frozenset', 'get_ipython', 'getattr', 'globals', 'hasattr', 'hash', 'help', 'hex', 'id', 'input', 'int', 'isinstance', 'issubclass', 'iter', 'len', 'license', 'list', 'locals', 'map', 'max', 'memoryview', 'min', 'next', 'object', 'oct', 'open', 'ord', 'pow', 'print', 'property', 'range', 'repr', 'reversed', 'round', 'runfile', 'set', 'setattr', 'slice', 'sorted', 'staticmethod', 'str', 'sum', 'super', 'tuple', 'type', 'vars', 'zip']\n"
     ]
    }
   ],
   "source": [
    "print(dir(__builtins__))"
   ]
  },
  {
   "cell_type": "code",
   "execution_count": null,
   "id": "c1003855",
   "metadata": {},
   "outputs": [],
   "source": [
    "# Keywords that we will be using in Exeptional handling\n",
    "\n",
    "- try\n",
    "- except\n",
    "- else\n",
    "- finally\n",
    "- raise"
   ]
  },
  {
   "cell_type": "code",
   "execution_count": 63,
   "id": "3cd28600",
   "metadata": {},
   "outputs": [
    {
     "name": "stdout",
     "output_type": "stream",
     "text": [
      "enter the number : 20\n",
      "enter the number 2 : 40\n",
      "0.5\n"
     ]
    }
   ],
   "source": [
    "num_1 = int(input('enter the number : '))\n",
    "num_2 = int(input('enter the number 2 : '))\n",
    "\n",
    "print(num_1/num_2)"
   ]
  },
  {
   "cell_type": "code",
   "execution_count": null,
   "id": "afb7ddec",
   "metadata": {},
   "outputs": [],
   "source": [
    "- try - try will work if the code written inside it does not raise any error\n",
    "- except - it will work if there is an error in the try"
   ]
  },
  {
   "cell_type": "code",
   "execution_count": 70,
   "id": "7a58801e",
   "metadata": {},
   "outputs": [
    {
     "name": "stdout",
     "output_type": "stream",
     "text": [
      "enter the number : 'str'\n",
      "enter the number 2 : 30\n",
      "some error\n"
     ]
    }
   ],
   "source": [
    "num_1 = input('enter the number : ')\n",
    "num_2 = int(input('enter the number 2 : '))\n",
    "try:\n",
    "    print(num_1/num_2)\n",
    "except:\n",
    "    print('some error')"
   ]
  },
  {
   "cell_type": "code",
   "execution_count": 1,
   "id": "6c23c8c3",
   "metadata": {},
   "outputs": [
    {
     "name": "stdout",
     "output_type": "stream",
     "text": [
      "enter the number : 30\n",
      "enter the number 2 : 50\n",
      "0.6\n",
      "python\n"
     ]
    }
   ],
   "source": [
    "try:\n",
    "    num_1 = int(input('enter the number : '))\n",
    "    num_2 = int(input('enter the number 2 : '))\n",
    "    print(num_1/num_2)\n",
    "except:\n",
    "    print('some error')\n",
    "print('python')"
   ]
  },
  {
   "cell_type": "code",
   "execution_count": 74,
   "id": "7b1d310c",
   "metadata": {},
   "outputs": [
    {
     "name": "stdout",
     "output_type": "stream",
     "text": [
      "0.5\n"
     ]
    }
   ],
   "source": [
    "a = 10\n",
    "b = 20\n",
    "try:\n",
    "    print(a/b)\n",
    "except: \n",
    "    print('someerror')"
   ]
  },
  {
   "cell_type": "code",
   "execution_count": null,
   "id": "05a5fe27",
   "metadata": {},
   "outputs": [],
   "source": [
    "try:\n",
    "    num_1 = int(input('enter the number : '))\n",
    "    num_2 = int(input('enter the number 2 : '))\n",
    "    print(num_1/num_2)\n",
    "except:\n",
    "    print('some error')\n"
   ]
  },
  {
   "cell_type": "code",
   "execution_count": 1,
   "id": "4b0f1857",
   "metadata": {},
   "outputs": [
    {
     "name": "stdout",
     "output_type": "stream",
     "text": [
      "enter the number : 5\n",
      "enter the number 2 : 0\n"
     ]
    },
    {
     "ename": "ZeroDivisionError",
     "evalue": "division by zero",
     "output_type": "error",
     "traceback": [
      "\u001b[1;31m---------------------------------------------------------------------------\u001b[0m",
      "\u001b[1;31mZeroDivisionError\u001b[0m                         Traceback (most recent call last)",
      "Input \u001b[1;32mIn [1]\u001b[0m, in \u001b[0;36m<cell line: 3>\u001b[1;34m()\u001b[0m\n\u001b[0;32m      5\u001b[0m num_2 \u001b[38;5;241m=\u001b[39m \u001b[38;5;28mint\u001b[39m(\u001b[38;5;28minput\u001b[39m(\u001b[38;5;124m'\u001b[39m\u001b[38;5;124menter the number 2 : \u001b[39m\u001b[38;5;124m'\u001b[39m))\n\u001b[1;32m----> 6\u001b[0m c \u001b[38;5;241m=\u001b[39m \u001b[43mnum_1\u001b[49m\u001b[38;5;241;43m/\u001b[39;49m\u001b[43mnum_2\u001b[49m\n\u001b[0;32m      7\u001b[0m \u001b[38;5;28mprint\u001b[39m(c)\n",
      "\u001b[1;31mZeroDivisionError\u001b[0m: division by zero",
      "\nDuring handling of the above exception, another exception occurred:\n",
      "\u001b[1;31mZeroDivisionError\u001b[0m                         Traceback (most recent call last)",
      "Input \u001b[1;32mIn [1]\u001b[0m, in \u001b[0;36m<cell line: 3>\u001b[1;34m()\u001b[0m\n\u001b[0;32m      7\u001b[0m     \u001b[38;5;28mprint\u001b[39m(c)\n\u001b[0;32m      8\u001b[0m \u001b[38;5;28;01mexcept\u001b[39;00m:\n\u001b[1;32m----> 9\u001b[0m     \u001b[38;5;28mprint\u001b[39m(\u001b[43mnum_1\u001b[49m\u001b[38;5;241;43m/\u001b[39;49m\u001b[43mnum_2\u001b[49m)\n\u001b[0;32m     10\u001b[0m \u001b[38;5;28;01melse\u001b[39;00m: \n\u001b[0;32m     11\u001b[0m     \u001b[38;5;28mprint\u001b[39m(num_1\u001b[38;5;241m+\u001b[39mnum_2)\n",
      "\u001b[1;31mZeroDivisionError\u001b[0m: division by zero"
     ]
    }
   ],
   "source": [
    "# try - except - else\n",
    "\n",
    "try:\n",
    "    num_1 = int(input('enter the number : '))\n",
    "    num_2 = int(input('enter the number 2 : '))\n",
    "    c = num_1/num_2\n",
    "    print(c)\n",
    "except:\n",
    "    print(num_1/num_2)\n",
    "else: \n",
    "    print(num_1+num_2)\n",
    "print('python')"
   ]
  },
  {
   "cell_type": "code",
   "execution_count": null,
   "id": "1afdd894",
   "metadata": {},
   "outputs": [],
   "source": [
    "# try - except - finally\n",
    "\n",
    "finally will be executed if error is reaised or not"
   ]
  },
  {
   "cell_type": "code",
   "execution_count": 6,
   "id": "6ae0fe5f",
   "metadata": {},
   "outputs": [
    {
     "name": "stdout",
     "output_type": "stream",
     "text": [
      "enter the number : 60\n",
      "enter the number 2 : 0\n",
      "hello\n"
     ]
    },
    {
     "ename": "ZeroDivisionError",
     "evalue": "division by zero",
     "output_type": "error",
     "traceback": [
      "\u001b[1;31m---------------------------------------------------------------------------\u001b[0m",
      "\u001b[1;31mZeroDivisionError\u001b[0m                         Traceback (most recent call last)",
      "Input \u001b[1;32mIn [6]\u001b[0m, in \u001b[0;36m<cell line: 1>\u001b[1;34m()\u001b[0m\n\u001b[0;32m      2\u001b[0m     num_1 \u001b[38;5;241m=\u001b[39m \u001b[38;5;28mint\u001b[39m(\u001b[38;5;28minput\u001b[39m(\u001b[38;5;124m'\u001b[39m\u001b[38;5;124menter the number : \u001b[39m\u001b[38;5;124m'\u001b[39m))\n\u001b[0;32m      3\u001b[0m     num_2 \u001b[38;5;241m=\u001b[39m \u001b[38;5;28mint\u001b[39m(\u001b[38;5;28minput\u001b[39m(\u001b[38;5;124m'\u001b[39m\u001b[38;5;124menter the number 2 : \u001b[39m\u001b[38;5;124m'\u001b[39m))\n\u001b[1;32m----> 4\u001b[0m     c \u001b[38;5;241m=\u001b[39m \u001b[43mnum_1\u001b[49m\u001b[38;5;241;43m/\u001b[39;49m\u001b[43mnum_2\u001b[49m\n\u001b[0;32m      5\u001b[0m     \u001b[38;5;28mprint\u001b[39m(c)\n\u001b[0;32m      6\u001b[0m \u001b[38;5;66;03m# except:\u001b[39;00m\n\u001b[0;32m      7\u001b[0m \u001b[38;5;66;03m#     print('some eror')\u001b[39;00m\n\u001b[0;32m      8\u001b[0m \u001b[38;5;28;01mfinally\u001b[39;00m: \n",
      "\u001b[1;31mZeroDivisionError\u001b[0m: division by zero"
     ]
    }
   ],
   "source": [
    "try:\n",
    "    num_1 = int(input('enter the number : '))\n",
    "    num_2 = int(input('enter the number 2 : '))\n",
    "    c = num_1/num_2\n",
    "    print(c)\n",
    "# except:\n",
    "#     print('some eror')\n",
    "finally: \n",
    "    print('hello')\n",
    "print('python')"
   ]
  },
  {
   "cell_type": "code",
   "execution_count": null,
   "id": "7b9ebac4",
   "metadata": {},
   "outputs": [],
   "source": [
    "Showing coding error"
   ]
  },
  {
   "cell_type": "code",
   "execution_count": 7,
   "id": "18ee19ad",
   "metadata": {},
   "outputs": [
    {
     "name": "stdout",
     "output_type": "stream",
     "text": [
      "enter the number : 20\n",
      "enter the number 2 : 0\n",
      "divided by zero\n",
      "division by zero\n",
      "hello\n",
      "python\n"
     ]
    }
   ],
   "source": [
    "# way 1\n",
    "try:\n",
    "    num_1 = int(input('enter the number : '))\n",
    "    num_2 = int(input('enter the number 2 : '))\n",
    "    c = num_1/num_2\n",
    "    print(c)\n",
    "except ZeroDivisionError as e:\n",
    "    print('divided by zero')\n",
    "    print(e)\n",
    "except ValueError as e:\n",
    "#    print('divided by zero')\n",
    "    print(e)\n",
    "finally: \n",
    "    print('hello')\n",
    "print('python')"
   ]
  },
  {
   "cell_type": "code",
   "execution_count": 5,
   "id": "cf15883b",
   "metadata": {},
   "outputs": [
    {
     "name": "stdout",
     "output_type": "stream",
     "text": [
      "['ArithmeticError', 'AssertionError', 'AttributeError', 'BaseException', 'BlockingIOError', 'BrokenPipeError', 'BufferError', 'BytesWarning', 'ChildProcessError', 'ConnectionAbortedError', 'ConnectionError', 'ConnectionRefusedError', 'ConnectionResetError', 'DeprecationWarning', 'EOFError', 'Ellipsis', 'EnvironmentError', 'Exception', 'False', 'FileExistsError', 'FileNotFoundError', 'FloatingPointError', 'FutureWarning', 'GeneratorExit', 'IOError', 'ImportError', 'ImportWarning', 'IndentationError', 'IndexError', 'InterruptedError', 'IsADirectoryError', 'KeyError', 'KeyboardInterrupt', 'LookupError', 'MemoryError', 'ModuleNotFoundError', 'NameError', 'None', 'NotADirectoryError', 'NotImplemented', 'NotImplementedError', 'OSError', 'OverflowError', 'PendingDeprecationWarning', 'PermissionError', 'ProcessLookupError', 'RecursionError', 'ReferenceError', 'ResourceWarning', 'RuntimeError', 'RuntimeWarning', 'StopAsyncIteration', 'StopIteration', 'SyntaxError', 'SyntaxWarning', 'SystemError', 'SystemExit', 'TabError', 'TimeoutError', 'True', 'TypeError', 'UnboundLocalError', 'UnicodeDecodeError', 'UnicodeEncodeError', 'UnicodeError', 'UnicodeTranslateError', 'UnicodeWarning', 'UserWarning', 'ValueError', 'Warning', 'WindowsError', 'ZeroDivisionError', '__IPYTHON__', '__build_class__', '__debug__', '__doc__', '__import__', '__loader__', '__name__', '__package__', '__spec__', 'abs', 'all', 'any', 'ascii', 'bin', 'bool', 'breakpoint', 'bytearray', 'bytes', 'callable', 'chr', 'classmethod', 'compile', 'complex', 'copyright', 'credits', 'delattr', 'dict', 'dir', 'display', 'divmod', 'enumerate', 'eval', 'exec', 'execfile', 'filter', 'float', 'format', 'frozenset', 'get_ipython', 'getattr', 'globals', 'hasattr', 'hash', 'help', 'hex', 'id', 'input', 'int', 'isinstance', 'issubclass', 'iter', 'len', 'license', 'list', 'locals', 'map', 'max', 'memoryview', 'min', 'next', 'object', 'oct', 'open', 'ord', 'pow', 'print', 'property', 'range', 'repr', 'reversed', 'round', 'runfile', 'set', 'setattr', 'slice', 'sorted', 'staticmethod', 'str', 'sum', 'super', 'tuple', 'type', 'vars', 'zip']\n"
     ]
    }
   ],
   "source": [
    "print(dir(__builtins__))"
   ]
  },
  {
   "cell_type": "code",
   "execution_count": 8,
   "id": "c189ce78",
   "metadata": {},
   "outputs": [
    {
     "name": "stdout",
     "output_type": "stream",
     "text": [
      "enter the number : 'str'\n",
      "invalid literal for int() with base 10: \"'str'\"\n",
      "hello\n",
      "python\n"
     ]
    }
   ],
   "source": [
    "# way2 \n",
    "try:\n",
    "    num_1 = int(input('enter the number : '))\n",
    "    num_2 = int(input('enter the number 2 : '))\n",
    "    c = num_1/num_2\n",
    "    print(c)\n",
    "except Exception as e:\n",
    "    print(e)\n",
    "finally: \n",
    "    print('hello')\n",
    "print('python')"
   ]
  },
  {
   "cell_type": "code",
   "execution_count": 15,
   "id": "19520901",
   "metadata": {},
   "outputs": [
    {
     "name": "stdout",
     "output_type": "stream",
     "text": [
      "hello\n"
     ]
    }
   ],
   "source": [
    "# Nested try\n",
    "try:\n",
    "    a = 70\n",
    "    b = 0\n",
    "    try:\n",
    "        print(c/b)\n",
    "    except ZeroDivisionError as e:\n",
    "        print(e)\n",
    "    except:\n",
    "         print('hello')\n",
    "    except Exception as e:\n",
    "         print(e)\n",
    "except TypeError as e:\n",
    "    print(e)\n",
    "    \n",
    "# "
   ]
  },
  {
   "cell_type": "code",
   "execution_count": null,
   "id": "6b9e50ed",
   "metadata": {},
   "outputs": [],
   "source": [
    "# raise \n",
    "this is used to give user defined error\n"
   ]
  },
  {
   "cell_type": "code",
   "execution_count": null,
   "id": "e6e2706e",
   "metadata": {},
   "outputs": [],
   "source": [
    "# Build an basic ATM machine\n"
   ]
  },
  {
   "cell_type": "code",
   "execution_count": null,
   "id": "d97d53f5",
   "metadata": {},
   "outputs": [],
   "source": [
    "# senario 1 - \n",
    "amt = 25000 \n",
    "'amount deposited'"
   ]
  },
  {
   "cell_type": "code",
   "execution_count": null,
   "id": "c571795e",
   "metadata": {},
   "outputs": [],
   "source": [
    "# Senario 2 \n",
    "if the amount is greater than 50000\n",
    "amt = 75000\n",
    "'Please enter the PAN number'\n",
    "if the PAN number is lesser than 7 \n",
    "\"please enter the correct pan number\"\n"
   ]
  },
  {
   "cell_type": "code",
   "execution_count": null,
   "id": "d5b69687",
   "metadata": {},
   "outputs": [],
   "source": [
    "# Senario 3 \n",
    "if the amount is greater than 50000\n",
    "amt = 75000\n",
    "'Please enter the PAN number'\n",
    "if the PAN number is equal to 7\n",
    "\"we will verify and let you know \""
   ]
  },
  {
   "cell_type": "code",
   "execution_count": null,
   "id": "d4998223",
   "metadata": {},
   "outputs": [],
   "source": []
  },
  {
   "cell_type": "code",
   "execution_count": null,
   "id": "78881fd3",
   "metadata": {},
   "outputs": [],
   "source": [
    "# raise - "
   ]
  },
  {
   "cell_type": "code",
   "execution_count": null,
   "id": "fc81b087",
   "metadata": {},
   "outputs": [],
   "source": []
  },
  {
   "cell_type": "code",
   "execution_count": null,
   "id": "ce9f6bf1",
   "metadata": {},
   "outputs": [],
   "source": []
  }
 ],
 "metadata": {
  "kernelspec": {
   "display_name": "Python 3 (ipykernel)",
   "language": "python",
   "name": "python3"
  },
  "language_info": {
   "codemirror_mode": {
    "name": "ipython",
    "version": 3
   },
   "file_extension": ".py",
   "mimetype": "text/x-python",
   "name": "python",
   "nbconvert_exporter": "python",
   "pygments_lexer": "ipython3",
   "version": "3.9.12"
  }
 },
 "nbformat": 4,
 "nbformat_minor": 5
}
