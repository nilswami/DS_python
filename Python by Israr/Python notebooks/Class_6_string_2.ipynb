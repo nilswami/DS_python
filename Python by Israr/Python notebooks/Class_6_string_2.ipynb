{
 "cells": [
  {
   "cell_type": "markdown",
   "id": "8b588523",
   "metadata": {},
   "source": [
    "# Properties of string\n",
    "* String is a sequence data type - It allows +ve and -ve indexing\n",
    "* +ve indexing - It starts from 0, L-R\n",
    "* - ve indexing - It starts from -1, R-L\n",
    "* Indexing - Accessing an single char.\n",
    "* Slicing - Accessing multiple char\n",
    "* Concatination\n",
    "* Repetion\n",
    "* Identity\n",
    "* Membership operators \n",
    "* String is immutable - you cannot change the object"
   ]
  },
  {
   "cell_type": "code",
   "execution_count": 1,
   "id": "2e51d979",
   "metadata": {},
   "outputs": [
    {
     "name": "stdout",
     "output_type": "stream",
     "text": [
      "h\n"
     ]
    }
   ],
   "source": [
    "a = 'python'\n",
    "print(a[3]) # +ve"
   ]
  },
  {
   "cell_type": "code",
   "execution_count": 2,
   "id": "2c32e514",
   "metadata": {},
   "outputs": [
    {
     "name": "stdout",
     "output_type": "stream",
     "text": [
      "h\n"
     ]
    }
   ],
   "source": [
    "a = 'python'\n",
    "print(a[-3]) # -ve"
   ]
  },
  {
   "cell_type": "code",
   "execution_count": 3,
   "id": "0cbd484c",
   "metadata": {},
   "outputs": [
    {
     "name": "stdout",
     "output_type": "stream",
     "text": [
      "ho\n"
     ]
    }
   ],
   "source": [
    "a = 'python'\n",
    "print(a[3:5]) # +ve"
   ]
  },
  {
   "cell_type": "code",
   "execution_count": 4,
   "id": "4aca0459",
   "metadata": {},
   "outputs": [
    {
     "name": "stdout",
     "output_type": "stream",
     "text": [
      "ho\n"
     ]
    }
   ],
   "source": [
    "a = 'python'\n",
    "print(a[-3:-1]) # -ve"
   ]
  },
  {
   "cell_type": "code",
   "execution_count": 5,
   "id": "9a4833df",
   "metadata": {},
   "outputs": [
    {
     "name": "stdout",
     "output_type": "stream",
     "text": [
      "LearnBay\n"
     ]
    }
   ],
   "source": [
    "# Concatination\n",
    "a = 'Learn'\n",
    "b = 'Bay'\n",
    "print(a+b)"
   ]
  },
  {
   "cell_type": "code",
   "execution_count": 11,
   "id": "c19daebd",
   "metadata": {},
   "outputs": [
    {
     "name": "stdout",
     "output_type": "stream",
     "text": [
      "LearnBay\n"
     ]
    }
   ],
   "source": [
    "# Concatination\n",
    "# op > +\n",
    "# Rule > Both should be an string data type\n",
    "a = 'Learn'\n",
    "b = 'Bay'\n",
    "print(a+b)\n",
    "\n"
   ]
  },
  {
   "cell_type": "code",
   "execution_count": 14,
   "id": "34f75ba8",
   "metadata": {},
   "outputs": [
    {
     "name": "stdout",
     "output_type": "stream",
     "text": [
      "LearnBay@264\n"
     ]
    }
   ],
   "source": [
    "a = 'Learn'\n",
    "b = 'Bay'\n",
    "c = '@264'\n",
    "print(a+b+c)"
   ]
  },
  {
   "cell_type": "code",
   "execution_count": 13,
   "id": "d7a60f41",
   "metadata": {},
   "outputs": [
    {
     "name": "stdout",
     "output_type": "stream",
     "text": [
      "3\n"
     ]
    }
   ],
   "source": [
    "a = 2\n",
    "b = 1\n",
    "print(a+b)"
   ]
  },
  {
   "cell_type": "code",
   "execution_count": 15,
   "id": "94cd0e83",
   "metadata": {},
   "outputs": [
    {
     "name": "stdout",
     "output_type": "stream",
     "text": [
      "Learn Bay\n"
     ]
    }
   ],
   "source": [
    "#Learn Bay\n",
    "a = 'Learn'\n",
    "b = 'Bay'\n",
    "c = ' '\n",
    "print(a+c+b)"
   ]
  },
  {
   "cell_type": "code",
   "execution_count": 16,
   "id": "8fe3e46b",
   "metadata": {},
   "outputs": [
    {
     "name": "stdout",
     "output_type": "stream",
     "text": [
      "Learn Bay\n"
     ]
    }
   ],
   "source": [
    "#Learn Bay\n",
    "a = 'Learn'\n",
    "b = 'Bay'\n",
    "\n",
    "print(a+' '+b)"
   ]
  },
  {
   "cell_type": "code",
   "execution_count": 19,
   "id": "c94d651b",
   "metadata": {},
   "outputs": [
    {
     "name": "stdout",
     "output_type": "stream",
     "text": [
      "abcabcabcabcabc\n"
     ]
    }
   ],
   "source": [
    "# Repetion\n",
    "# op ---> *\n",
    "# Rules ----> One value should be an str and another will be an int\n",
    "\n",
    "a = 'abc'\n",
    "print(a*5)"
   ]
  },
  {
   "cell_type": "code",
   "execution_count": 20,
   "id": "673b19a9",
   "metadata": {},
   "outputs": [
    {
     "name": "stdout",
     "output_type": "stream",
     "text": [
      "5555555555\n"
     ]
    }
   ],
   "source": [
    "a = '55'\n",
    "print(a*5)"
   ]
  },
  {
   "cell_type": "code",
   "execution_count": 24,
   "id": "40e14319",
   "metadata": {},
   "outputs": [
    {
     "ename": "TypeError",
     "evalue": "can't multiply sequence by non-int of type 'float'",
     "output_type": "error",
     "traceback": [
      "\u001b[1;31m---------------------------------------------------------------------------\u001b[0m",
      "\u001b[1;31mTypeError\u001b[0m                                 Traceback (most recent call last)",
      "Input \u001b[1;32mIn [24]\u001b[0m, in \u001b[0;36m<cell line: 4>\u001b[1;34m()\u001b[0m\n\u001b[0;32m      2\u001b[0m b \u001b[38;5;241m=\u001b[39m \u001b[38;5;124m'\u001b[39m\u001b[38;5;124mxyz\u001b[39m\u001b[38;5;124m'\u001b[39m\n\u001b[0;32m      3\u001b[0m c \u001b[38;5;241m=\u001b[39m \u001b[38;5;241m2.2\u001b[39m\n\u001b[1;32m----> 4\u001b[0m \u001b[38;5;28mprint\u001b[39m(\u001b[43ma\u001b[49m\u001b[38;5;241;43m*\u001b[39;49m\u001b[43mc\u001b[49m)\n",
      "\u001b[1;31mTypeError\u001b[0m: can't multiply sequence by non-int of type 'float'"
     ]
    }
   ],
   "source": [
    "a = 'abc'\n",
    "b = 'xyz'\n",
    "c = 2.2\n",
    "print(a*c)"
   ]
  },
  {
   "cell_type": "markdown",
   "id": "af74e663",
   "metadata": {},
   "source": [
    "# Identity\n",
    "op - is and is not\n",
    " - Tell is if the adress of two operands is same or not\n",
    " - It always returns the boolean value"
   ]
  },
  {
   "cell_type": "code",
   "execution_count": 25,
   "id": "8cb46d4f",
   "metadata": {},
   "outputs": [
    {
     "name": "stdout",
     "output_type": "stream",
     "text": [
      "True\n"
     ]
    }
   ],
   "source": [
    "a = 'python'\n",
    "b = 'python'\n",
    "print(a is b)"
   ]
  },
  {
   "cell_type": "code",
   "execution_count": 35,
   "id": "8a4dab5c",
   "metadata": {},
   "outputs": [
    {
     "name": "stdout",
     "output_type": "stream",
     "text": [
      "1593993605040\n",
      "1593993604144\n",
      "1593892489584\n",
      "1593892489584\n",
      "False\n"
     ]
    }
   ],
   "source": [
    "a = 'python@'\n",
    "b = 'python@'\n",
    "print(id(a))\n",
    "print(id(b))\n",
    "print(id(a[6]))\n",
    "print(id(b[6]))\n",
    "\n",
    "\n",
    "print(a is b)"
   ]
  },
  {
   "cell_type": "code",
   "execution_count": 41,
   "id": "a23c94b9",
   "metadata": {},
   "outputs": [
    {
     "name": "stdout",
     "output_type": "stream",
     "text": [
      "1593993603760\n",
      "1593993195056\n",
      "False\n"
     ]
    }
   ],
   "source": [
    "a = '@_'\n",
    "b = '@_'\n",
    "print(id(a))\n",
    "print(id(b))\n",
    "# print(id(a[0]))\n",
    "# print(id(b[0]))\n",
    "\n",
    "\n",
    "print(a is b)"
   ]
  },
  {
   "cell_type": "code",
   "execution_count": 42,
   "id": "02792aaf",
   "metadata": {},
   "outputs": [
    {
     "name": "stdout",
     "output_type": "stream",
     "text": [
      "1593993604144\n",
      "1593993604080\n",
      "1593892489584\n",
      "1593892489584\n",
      "True\n"
     ]
    }
   ],
   "source": [
    "a = 'python@'\n",
    "b = 'python@'\n",
    "print(id(a))\n",
    "print(id(b))\n",
    "print(id(a[6]))\n",
    "print(id(b[6]))\n",
    "\n",
    "\n",
    "print(a is not b)"
   ]
  },
  {
   "cell_type": "code",
   "execution_count": 43,
   "id": "c339dfd6",
   "metadata": {},
   "outputs": [
    {
     "name": "stdout",
     "output_type": "stream",
     "text": [
      "True\n"
     ]
    }
   ],
   "source": [
    "# Membership operators \n",
    "# In and not in\n",
    "# Tells if a sub seq is present inside a seq or no\n",
    "# It always returns boolean value\n",
    "a = 'This is a python class'\n",
    "print('class' in a)"
   ]
  },
  {
   "cell_type": "code",
   "execution_count": 44,
   "id": "646ea863",
   "metadata": {},
   "outputs": [
    {
     "name": "stdout",
     "output_type": "stream",
     "text": [
      "False\n"
     ]
    }
   ],
   "source": [
    "a = 'This is a python class'\n",
    "print('class'not in a)"
   ]
  },
  {
   "cell_type": "code",
   "execution_count": 46,
   "id": "cc9c648e",
   "metadata": {},
   "outputs": [
    {
     "name": "stdout",
     "output_type": "stream",
     "text": [
      "True\n"
     ]
    }
   ],
   "source": [
    "a = 'This is a python class'\n",
    "print('class ' not in a)"
   ]
  },
  {
   "cell_type": "code",
   "execution_count": 47,
   "id": "9671af0c",
   "metadata": {},
   "outputs": [
    {
     "name": "stdout",
     "output_type": "stream",
     "text": [
      "True\n"
     ]
    }
   ],
   "source": [
    "a = 'This is a python class'\n",
    "print('on ' in a)"
   ]
  },
  {
   "cell_type": "code",
   "execution_count": 48,
   "id": "e47c4354",
   "metadata": {},
   "outputs": [],
   "source": [
    "# mutable - It means the object can be changed ------> Assignment operation is possible\n",
    "# Immutable - It means the object cannot be changed ------> Assignment operation is not possible"
   ]
  },
  {
   "cell_type": "code",
   "execution_count": 57,
   "id": "946ec228",
   "metadata": {},
   "outputs": [
    {
     "ename": "NameError",
     "evalue": "name 'p' is not defined",
     "output_type": "error",
     "traceback": [
      "\u001b[1;31m---------------------------------------------------------------------------\u001b[0m",
      "\u001b[1;31mNameError\u001b[0m                                 Traceback (most recent call last)",
      "Input \u001b[1;32mIn [57]\u001b[0m, in \u001b[0;36m<cell line: 2>\u001b[1;34m()\u001b[0m\n\u001b[0;32m      1\u001b[0m a \u001b[38;5;241m=\u001b[39m \u001b[38;5;124m'\u001b[39m\u001b[38;5;124mlearnbay\u001b[39m\u001b[38;5;124m'\u001b[39m\n\u001b[1;32m----> 2\u001b[0m a[\u001b[38;5;241m0\u001b[39m] \u001b[38;5;241m=\u001b[39m \u001b[43mp\u001b[49m\n",
      "\u001b[1;31mNameError\u001b[0m: name 'p' is not defined"
     ]
    }
   ],
   "source": [
    "# Strings are immutable\n",
    "\n",
    "a = 'learnbay'\n",
    "a[0] = p"
   ]
  },
  {
   "cell_type": "code",
   "execution_count": 56,
   "id": "08f28237",
   "metadata": {},
   "outputs": [
    {
     "data": {
      "text/plain": [
       "'learnbay'"
      ]
     },
     "execution_count": 56,
     "metadata": {},
     "output_type": "execute_result"
    }
   ],
   "source": [
    "a"
   ]
  },
  {
   "cell_type": "code",
   "execution_count": 51,
   "id": "04a96d79",
   "metadata": {},
   "outputs": [],
   "source": [
    "# String methods "
   ]
  },
  {
   "cell_type": "code",
   "execution_count": 58,
   "id": "288ec465",
   "metadata": {},
   "outputs": [
    {
     "name": "stdout",
     "output_type": "stream",
     "text": [
      "['__add__', '__class__', '__contains__', '__delattr__', '__dir__', '__doc__', '__eq__', '__format__', '__ge__', '__getattribute__', '__getitem__', '__getnewargs__', '__gt__', '__hash__', '__init__', '__init_subclass__', '__iter__', '__le__', '__len__', '__lt__', '__mod__', '__mul__', '__ne__', '__new__', '__reduce__', '__reduce_ex__', '__repr__', '__rmod__', '__rmul__', '__setattr__', '__sizeof__', '__str__', '__subclasshook__', 'capitalize', 'casefold', 'center', 'count', 'encode', 'endswith', 'expandtabs', 'find', 'format', 'format_map', 'index', 'isalnum', 'isalpha', 'isascii', 'isdecimal', 'isdigit', 'isidentifier', 'islower', 'isnumeric', 'isprintable', 'isspace', 'istitle', 'isupper', 'join', 'ljust', 'lower', 'lstrip', 'maketrans', 'partition', 'removeprefix', 'removesuffix', 'replace', 'rfind', 'rindex', 'rjust', 'rpartition', 'rsplit', 'rstrip', 'split', 'splitlines', 'startswith', 'strip', 'swapcase', 'title', 'translate', 'upper', 'zfill']\n"
     ]
    }
   ],
   "source": [
    "print(dir(str))"
   ]
  },
  {
   "cell_type": "code",
   "execution_count": 66,
   "id": "b78942fd",
   "metadata": {},
   "outputs": [
    {
     "name": "stdout",
     "output_type": "stream",
     "text": [
      "This is a python class\n",
      "THIS IS A PYTHON CLASS\n",
      "this is a python class\n",
      "THIS IS A python cLASS\n",
      "This Is A Python Class\n"
     ]
    }
   ],
   "source": [
    "s = 'this is a PYTHON Class'\n",
    "\n",
    "# capitalize -> It capitalises the first letter of the string and lower cases the rest\n",
    "print(s.capitalize())\n",
    "\n",
    "\n",
    "# upper -> It capitalises the entire string to upper case\n",
    "print(s.upper())\n",
    "\n",
    "# upper -> It capitalises the entire string to upper case\n",
    "print(s.lower())\n",
    "\n",
    "# swapcase - \n",
    "print(s.swapcase())\n",
    "# title - converts each words first letter to upper case and rest all to lower case\n",
    "print(s.title())"
   ]
  },
  {
   "cell_type": "code",
   "execution_count": 93,
   "id": "14ad44e5",
   "metadata": {},
   "outputs": [
    {
     "name": "stdout",
     "output_type": "stream",
     "text": [
      "True\n",
      "True\n",
      "True\n"
     ]
    }
   ],
   "source": [
    "# Methods that return boolean values\n",
    "\n",
    "# startswith() - returns true if the string starts with the specified prefix, else false \n",
    "s = 'hello world'\n",
    "print(s.startswith('world', 0,len(s)))\n",
    "\n",
    "# endswith -\n",
    "print(s.endswith('world', 0,11))\n",
    "\n",
    "print(s.endswith('lo',2,5))"
   ]
  },
  {
   "cell_type": "code",
   "execution_count": 98,
   "id": "d95443a1",
   "metadata": {},
   "outputs": [
    {
     "name": "stdout",
     "output_type": "stream",
     "text": [
      "True\n",
      "True\n",
      "False\n",
      "True\n",
      "**********************\n",
      "True\n",
      "False\n",
      "False\n",
      "False\n",
      "**********************\n",
      "False\n",
      "False\n",
      "False\n",
      "True\n",
      "**********************\n",
      "True\n",
      "False\n",
      "False\n",
      "False\n"
     ]
    }
   ],
   "source": [
    "s1 ='abc'\n",
    "s2 ='123abc'\n",
    "s3 = '*'\n",
    "s4 = '112'\n",
    "\n",
    "# isalnum - returns true if string is either alphabet / number / mix of both else false\n",
    "print(s1.isalnum()) # True\n",
    "print(s2.isalnum()) # True\n",
    "print(s3.isalnum()) # False\n",
    "print(s4.isalnum()) # True\n",
    "\n",
    "print('**********************')\n",
    "# isalpha - Returns true if all the char are alphabets else false \n",
    "print(s1.isalpha()) # True\n",
    "print(s2.isalpha()) # False\n",
    "print(s3.isalpha()) # False\n",
    "print(s4.isalpha()) # False\n",
    "\n",
    "s1 ='abc'\n",
    "s2 ='123abc'\n",
    "s3 = '*'\n",
    "s4 = '112'\n",
    "print('**********************')\n",
    "# isnumeric - Returns true if all the char are numbers else false \n",
    "print(s1.isnumeric()) # False\n",
    "print(s2.isnumeric()) # False\n",
    "print(s3.isnumeric()) # False\n",
    "print(s4.isnumeric()) # True\n",
    "\n",
    "print('**********************')\n",
    "# isidentifier - Returns true if the value inside the string is an valid identifier else false\n",
    "print(s1.isidentifier()) # True\n",
    "print(s2.isidentifier()) # False\n",
    "print(s3.isidentifier()) # False\n",
    "print(s4.isidentifier()) # False\n",
    "\n",
    "\n",
    "\n",
    "#     Allowed characters are A-Z , a-z , 0-9 , _\n",
    "\n",
    "#     Not allowed - Special char\n",
    "\n",
    "#     Should not start with number\n",
    "\n",
    "#     Predefined Keywords\n",
    "\n",
    "#     All constants should be in capital letters\n"
   ]
  },
  {
   "cell_type": "code",
   "execution_count": 100,
   "id": "1365c12c",
   "metadata": {},
   "outputs": [
    {
     "name": "stdout",
     "output_type": "stream",
     "text": [
      "**********************\n",
      "True\n",
      "True\n",
      "True\n",
      "True\n",
      "False\n"
     ]
    }
   ],
   "source": [
    "s1 ='abc'\n",
    "s2 ='123abc'\n",
    "s3 = '*'\n",
    "s4 = '112'\n",
    "s5 = 'बहे'\n",
    "print('**********************')\n",
    "\n",
    "# isascii - Returns true if the value inside the string is an present in the ascii table else false\n",
    "print(s1.isascii()) # True\n",
    "print(s2.isascii()) # True\n",
    "print(s3.isascii()) # True\n",
    "print(s4.isascii()) # True\n",
    "print(s5.isascii()) # False"
   ]
  },
  {
   "cell_type": "code",
   "execution_count": null,
   "id": "fe8c08e0",
   "metadata": {},
   "outputs": [],
   "source": []
  },
  {
   "cell_type": "code",
   "execution_count": null,
   "id": "3dd20590",
   "metadata": {},
   "outputs": [],
   "source": []
  },
  {
   "cell_type": "code",
   "execution_count": null,
   "id": "1d27f820",
   "metadata": {},
   "outputs": [],
   "source": []
  }
 ],
 "metadata": {
  "kernelspec": {
   "display_name": "Python 3 (ipykernel)",
   "language": "python",
   "name": "python3"
  },
  "language_info": {
   "codemirror_mode": {
    "name": "ipython",
    "version": 3
   },
   "file_extension": ".py",
   "mimetype": "text/x-python",
   "name": "python",
   "nbconvert_exporter": "python",
   "pygments_lexer": "ipython3",
   "version": "3.9.12"
  }
 },
 "nbformat": 4,
 "nbformat_minor": 5
}
