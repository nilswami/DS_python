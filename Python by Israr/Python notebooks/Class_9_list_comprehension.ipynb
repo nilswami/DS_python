{
 "cells": [
  {
   "cell_type": "code",
   "execution_count": 1,
   "id": "e4a5afbd",
   "metadata": {},
   "outputs": [
    {
     "name": "stdout",
     "output_type": "stream",
     "text": [
      "['__add__', '__class__', '__class_getitem__', '__contains__', '__delattr__', '__delitem__', '__dir__', '__doc__', '__eq__', '__format__', '__ge__', '__getattribute__', '__getitem__', '__gt__', '__hash__', '__iadd__', '__imul__', '__init__', '__init_subclass__', '__iter__', '__le__', '__len__', '__lt__', '__mul__', '__ne__', '__new__', '__reduce__', '__reduce_ex__', '__repr__', '__reversed__', '__rmul__', '__setattr__', '__setitem__', '__sizeof__', '__str__', '__subclasshook__', 'append', 'clear', 'copy', 'count', 'extend', 'index', 'insert', 'pop', 'remove', 'reverse', 'sort']\n"
     ]
    }
   ],
   "source": [
    "print(dir(list))"
   ]
  },
  {
   "cell_type": "markdown",
   "id": "1f4e82bd",
   "metadata": {},
   "source": [
    "# Methods to insert elements in the list\n",
    "* append\n",
    "* extend\n",
    "* insert"
   ]
  },
  {
   "cell_type": "code",
   "execution_count": null,
   "id": "5253fee8",
   "metadata": {},
   "outputs": [],
   "source": [
    "# append\n",
    "- apppends the element at the end of the list\n",
    "- You can enter one element at a time "
   ]
  },
  {
   "cell_type": "code",
   "execution_count": 13,
   "id": "71f8b230",
   "metadata": {},
   "outputs": [
    {
     "name": "stdout",
     "output_type": "stream",
     "text": [
      "None\n"
     ]
    }
   ],
   "source": [
    "l = [10,78,99,10]\n",
    "l.append(5)\n",
    "print(l.append(5))"
   ]
  },
  {
   "cell_type": "code",
   "execution_count": 14,
   "id": "e3d60500",
   "metadata": {},
   "outputs": [
    {
     "data": {
      "text/plain": [
       "[10, 78, 99, 10, 5]"
      ]
     },
     "execution_count": 14,
     "metadata": {},
     "output_type": "execute_result"
    }
   ],
   "source": [
    "l"
   ]
  },
  {
   "cell_type": "code",
   "execution_count": 38,
   "id": "f490fa11",
   "metadata": {},
   "outputs": [
    {
     "name": "stdout",
     "output_type": "stream",
     "text": [
      "None\n"
     ]
    }
   ],
   "source": [
    "l = [10,78,99,10]\n",
    "\n",
    "print(l.append(5))"
   ]
  },
  {
   "cell_type": "code",
   "execution_count": 34,
   "id": "50c82643",
   "metadata": {},
   "outputs": [
    {
     "data": {
      "text/plain": [
       "[10, 78, 99, 10, 5]"
      ]
     },
     "execution_count": 34,
     "metadata": {},
     "output_type": "execute_result"
    }
   ],
   "source": [
    "l"
   ]
  },
  {
   "cell_type": "markdown",
   "id": "5fd6790e",
   "metadata": {},
   "source": [
    "# extend() - joining 2 lists\n",
    "Its similar to concatination but it does not create a new list rather it updates into the existing one\n",
    "- Extend we can join 1 list at a time "
   ]
  },
  {
   "cell_type": "code",
   "execution_count": 58,
   "id": "2ed81fa0",
   "metadata": {},
   "outputs": [
    {
     "name": "stdout",
     "output_type": "stream",
     "text": [
      "None\n"
     ]
    }
   ],
   "source": [
    "# extend\n",
    "a = [1,2,3,4]\n",
    "b = ['python']\n",
    "c = [1,2,3]\n",
    "print(a.extend(b))"
   ]
  },
  {
   "cell_type": "code",
   "execution_count": 59,
   "id": "e3db10d1",
   "metadata": {},
   "outputs": [
    {
     "data": {
      "text/plain": [
       "[1, 2, 3, 4, 'python']"
      ]
     },
     "execution_count": 59,
     "metadata": {},
     "output_type": "execute_result"
    }
   ],
   "source": [
    "a"
   ]
  },
  {
   "cell_type": "code",
   "execution_count": 55,
   "id": "cc3ba51e",
   "metadata": {},
   "outputs": [
    {
     "name": "stdout",
     "output_type": "stream",
     "text": [
      "[1, 2, 3, 4, 4, 5, 6, 7]\n",
      "[1, 2, 3, 4]\n"
     ]
    }
   ],
   "source": [
    "a = [1,2,3,4]\n",
    "b = [4,5,6,7]\n",
    "\n",
    "print(a+b)\n",
    "print(a)"
   ]
  },
  {
   "cell_type": "code",
   "execution_count": null,
   "id": "2a00cb0b",
   "metadata": {},
   "outputs": [],
   "source": [
    "# insert()\n",
    "- insert method inserts the value at a particular index \n",
    "- only One can be inserted at a time\n",
    "\n",
    "syntax ==> list.insert(index, element to be inserted)"
   ]
  },
  {
   "cell_type": "code",
   "execution_count": 62,
   "id": "a9f34a58",
   "metadata": {},
   "outputs": [
    {
     "data": {
      "text/plain": [
       "[1, 2, 10, 3, 4, 5]"
      ]
     },
     "execution_count": 62,
     "metadata": {},
     "output_type": "execute_result"
    }
   ],
   "source": [
    "L1 = [1,2,3,4,5] # 10\n",
    "L1.insert(2, 10)\n",
    "L1"
   ]
  },
  {
   "cell_type": "code",
   "execution_count": 63,
   "id": "65a6b8b3",
   "metadata": {},
   "outputs": [
    {
     "data": {
      "text/plain": [
       "[1, 2, 'string', 3, 4, 5]"
      ]
     },
     "execution_count": 63,
     "metadata": {},
     "output_type": "execute_result"
    }
   ],
   "source": [
    "L1 = [1,2,3,4,5] \n",
    "L1.insert(2, 'string')\n",
    "L1"
   ]
  },
  {
   "cell_type": "markdown",
   "id": "22c392de",
   "metadata": {},
   "source": [
    "# Methods to remove from list\n",
    "* pop\n",
    "* remove"
   ]
  },
  {
   "cell_type": "markdown",
   "id": "2f83f75f",
   "metadata": {},
   "source": [
    "# pop\n",
    "- removes the element by index\n",
    "- Default it removes the last elemnt\n",
    "- It is the only element that returns the value "
   ]
  },
  {
   "cell_type": "code",
   "execution_count": 64,
   "id": "dde8d020",
   "metadata": {},
   "outputs": [
    {
     "name": "stdout",
     "output_type": "stream",
     "text": [
      "4\n"
     ]
    }
   ],
   "source": [
    "l = [1,2,3,4]\n",
    "\n",
    "print(l.pop())"
   ]
  },
  {
   "cell_type": "code",
   "execution_count": 65,
   "id": "baa952d2",
   "metadata": {},
   "outputs": [
    {
     "data": {
      "text/plain": [
       "[1, 2, 3]"
      ]
     },
     "execution_count": 65,
     "metadata": {},
     "output_type": "execute_result"
    }
   ],
   "source": [
    "l"
   ]
  },
  {
   "cell_type": "code",
   "execution_count": 66,
   "id": "bf8af44f",
   "metadata": {},
   "outputs": [
    {
     "name": "stdout",
     "output_type": "stream",
     "text": [
      "2\n"
     ]
    }
   ],
   "source": [
    "l = [1,2,3,4]\n",
    "\n",
    "print(l.pop(1))"
   ]
  },
  {
   "cell_type": "code",
   "execution_count": 67,
   "id": "a004160b",
   "metadata": {},
   "outputs": [
    {
     "data": {
      "text/plain": [
       "[1, 3, 4]"
      ]
     },
     "execution_count": 67,
     "metadata": {},
     "output_type": "execute_result"
    }
   ],
   "source": [
    "l"
   ]
  },
  {
   "cell_type": "code",
   "execution_count": 79,
   "id": "32d1e879",
   "metadata": {},
   "outputs": [
    {
     "name": "stdout",
     "output_type": "stream",
     "text": [
      "python\n"
     ]
    },
    {
     "data": {
      "text/plain": [
       "[1, 2, 3, 5, 6, 7, 8, 9]"
      ]
     },
     "execution_count": 79,
     "metadata": {},
     "output_type": "execute_result"
    }
   ],
   "source": [
    "l = [1,2,3,'python',5,6,7,8,9]\n",
    "\n",
    "print(l.pop(3))\n",
    "l"
   ]
  },
  {
   "cell_type": "markdown",
   "id": "1bd6f2b8",
   "metadata": {},
   "source": [
    "# remove\n",
    "* removes the specified value from the list\n",
    "* removes the first occurance of the value\n"
   ]
  },
  {
   "cell_type": "code",
   "execution_count": 91,
   "id": "6784c15c",
   "metadata": {},
   "outputs": [
    {
     "name": "stdout",
     "output_type": "stream",
     "text": [
      "['ball', 'bat', 50, 60, 70, 20, 20, 80, 90]\n"
     ]
    }
   ],
   "source": [
    "l = ['bat', 'ball', 'bat', 50, 60, 70, 20 , 20 ,80, 90]\n",
    "l.remove('bat')\n",
    "print(l)"
   ]
  },
  {
   "cell_type": "code",
   "execution_count": 95,
   "id": "d177e470",
   "metadata": {},
   "outputs": [
    {
     "name": "stdout",
     "output_type": "stream",
     "text": [
      "['bat', 'ball', 50, 60, 70, 20, 20, 80, 90]\n"
     ]
    }
   ],
   "source": [
    "l = ['bat', 'ball', 'bat', 50, 60, 70, 20 , 20 ,80, 90]\n",
    "l.pop()\n",
    "#print(l)"
   ]
  },
  {
   "cell_type": "code",
   "execution_count": 92,
   "id": "c789a5cd",
   "metadata": {},
   "outputs": [
    {
     "name": "stdout",
     "output_type": "stream",
     "text": [
      "['ball', 50, 60, 70, 20, 20, 80, 90]\n"
     ]
    }
   ],
   "source": [
    "l\n",
    "l.remove('bat')\n",
    "print(l)"
   ]
  },
  {
   "cell_type": "code",
   "execution_count": 97,
   "id": "ec02285b",
   "metadata": {},
   "outputs": [
    {
     "name": "stdout",
     "output_type": "stream",
     "text": [
      "3\n"
     ]
    }
   ],
   "source": [
    "# count \n",
    "l1 = [10,20,30,1,1,1,1,1,'2','2','2',2,2,2,2,5,5,5,5,5]\n",
    "print(l1.count('2'))"
   ]
  },
  {
   "cell_type": "markdown",
   "id": "96f95591",
   "metadata": {},
   "source": [
    "# index\n",
    "- returns the index of the element \n",
    "- if the element is not present it will raise "
   ]
  },
  {
   "cell_type": "code",
   "execution_count": 102,
   "id": "da0e6b14",
   "metadata": {},
   "outputs": [
    {
     "name": "stdout",
     "output_type": "stream",
     "text": [
      "3\n"
     ]
    }
   ],
   "source": [
    "l1 = [10,20,30,1,1,1,1,1,'2','2','2',2,2,2,2,5,5,5,5,5]\n",
    "print(l1.index(1))"
   ]
  },
  {
   "cell_type": "markdown",
   "id": "e85e7b93",
   "metadata": {},
   "source": [
    "# Reverse\n",
    "* Reverse the list"
   ]
  },
  {
   "cell_type": "code",
   "execution_count": 103,
   "id": "93124ec4",
   "metadata": {},
   "outputs": [
    {
     "name": "stdout",
     "output_type": "stream",
     "text": [
      "None\n"
     ]
    }
   ],
   "source": [
    "l1 = [10,20,30,1,1,1,1,1,'2','2','2',2,2,2,2,5,5,5,5,5]\n",
    "print(l1.reverse())"
   ]
  },
  {
   "cell_type": "code",
   "execution_count": 104,
   "id": "c7b7a9c9",
   "metadata": {},
   "outputs": [
    {
     "data": {
      "text/plain": [
       "[5, 5, 5, 5, 5, 2, 2, 2, 2, '2', '2', '2', 1, 1, 1, 1, 1, 30, 20, 10]"
      ]
     },
     "execution_count": 104,
     "metadata": {},
     "output_type": "execute_result"
    }
   ],
   "source": [
    "l1"
   ]
  },
  {
   "cell_type": "code",
   "execution_count": 105,
   "id": "834bef69",
   "metadata": {},
   "outputs": [],
   "source": [
    "# Sort \n"
   ]
  },
  {
   "cell_type": "code",
   "execution_count": 106,
   "id": "7d6aba04",
   "metadata": {},
   "outputs": [
    {
     "name": "stdout",
     "output_type": "stream",
     "text": [
      "None\n"
     ]
    }
   ],
   "source": [
    "l = [1,6,47,99,30,55]\n",
    "print(l.sort())  # Reverse = false"
   ]
  },
  {
   "cell_type": "code",
   "execution_count": 107,
   "id": "3c789650",
   "metadata": {},
   "outputs": [
    {
     "data": {
      "text/plain": [
       "[1, 6, 30, 47, 55, 99]"
      ]
     },
     "execution_count": 107,
     "metadata": {},
     "output_type": "execute_result"
    }
   ],
   "source": [
    "l"
   ]
  },
  {
   "cell_type": "code",
   "execution_count": 108,
   "id": "3258cb07",
   "metadata": {},
   "outputs": [
    {
     "name": "stdout",
     "output_type": "stream",
     "text": [
      "None\n"
     ]
    }
   ],
   "source": [
    "l = [1,6,47,99,30,55]\n",
    "print(l.sort(reverse = True))  # Reverse = True"
   ]
  },
  {
   "cell_type": "code",
   "execution_count": 109,
   "id": "94a48dca",
   "metadata": {},
   "outputs": [
    {
     "data": {
      "text/plain": [
       "[99, 55, 47, 30, 6, 1]"
      ]
     },
     "execution_count": 109,
     "metadata": {},
     "output_type": "execute_result"
    }
   ],
   "source": [
    "l"
   ]
  },
  {
   "cell_type": "code",
   "execution_count": 113,
   "id": "3305fd43",
   "metadata": {},
   "outputs": [
    {
     "name": "stdout",
     "output_type": "stream",
     "text": [
      "None\n"
     ]
    }
   ],
   "source": [
    "l = [1.2,6,47,99,30,55]\n",
    "print(l.sort(reverse = True)) # "
   ]
  },
  {
   "cell_type": "code",
   "execution_count": 114,
   "id": "66e1c9a7",
   "metadata": {},
   "outputs": [
    {
     "data": {
      "text/plain": [
       "[99, 55, 47, 30, 6, 1.2]"
      ]
     },
     "execution_count": 114,
     "metadata": {},
     "output_type": "execute_result"
    }
   ],
   "source": [
    "l"
   ]
  },
  {
   "cell_type": "code",
   "execution_count": 118,
   "id": "4343efa6",
   "metadata": {},
   "outputs": [],
   "source": [
    "l = ['hi','hi','Hi']\n",
    "l.sort()"
   ]
  },
  {
   "cell_type": "code",
   "execution_count": 119,
   "id": "33a86af4",
   "metadata": {},
   "outputs": [
    {
     "data": {
      "text/plain": [
       "['Hi', 'hi', 'hi']"
      ]
     },
     "execution_count": 119,
     "metadata": {},
     "output_type": "execute_result"
    }
   ],
   "source": [
    "l"
   ]
  },
  {
   "cell_type": "code",
   "execution_count": null,
   "id": "aacecf2e",
   "metadata": {},
   "outputs": [],
   "source": []
  },
  {
   "cell_type": "code",
   "execution_count": 120,
   "id": "361fd304",
   "metadata": {},
   "outputs": [
    {
     "name": "stdout",
     "output_type": "stream",
     "text": [
      "None\n"
     ]
    }
   ],
   "source": [
    "hi = 3\n",
    "\n",
    "l= [1.2,6,hi,47,99,30,55]\n",
    "print(l.sort(reverse = True)) # "
   ]
  },
  {
   "cell_type": "code",
   "execution_count": 121,
   "id": "ba27f7a6",
   "metadata": {},
   "outputs": [
    {
     "data": {
      "text/plain": [
       "[99, 55, 47, 30, 6, 3, 1.2]"
      ]
     },
     "execution_count": 121,
     "metadata": {},
     "output_type": "execute_result"
    }
   ],
   "source": [
    "l"
   ]
  },
  {
   "cell_type": "markdown",
   "id": "eb3e45cf",
   "metadata": {},
   "source": [
    "# Clear\n",
    "* Its is removing the element in the list \n",
    "\n",
    "# Del\n",
    "* It is deleting the variable itself \n"
   ]
  },
  {
   "cell_type": "code",
   "execution_count": 122,
   "id": "0ff29f5f",
   "metadata": {},
   "outputs": [],
   "source": [
    "# Clear \n",
    "l = ['hi','hi','Hi']\n",
    "l.clear()"
   ]
  },
  {
   "cell_type": "code",
   "execution_count": 123,
   "id": "390185f3",
   "metadata": {},
   "outputs": [
    {
     "data": {
      "text/plain": [
       "[]"
      ]
     },
     "execution_count": 123,
     "metadata": {},
     "output_type": "execute_result"
    }
   ],
   "source": [
    "l"
   ]
  },
  {
   "cell_type": "code",
   "execution_count": 124,
   "id": "c52b1b67",
   "metadata": {},
   "outputs": [],
   "source": [
    "del l"
   ]
  },
  {
   "cell_type": "code",
   "execution_count": 125,
   "id": "1feb845e",
   "metadata": {},
   "outputs": [
    {
     "ename": "NameError",
     "evalue": "name 'l' is not defined",
     "output_type": "error",
     "traceback": [
      "\u001b[1;31m---------------------------------------------------------------------------\u001b[0m",
      "\u001b[1;31mNameError\u001b[0m                                 Traceback (most recent call last)",
      "Input \u001b[1;32mIn [125]\u001b[0m, in \u001b[0;36m<cell line: 1>\u001b[1;34m()\u001b[0m\n\u001b[1;32m----> 1\u001b[0m \u001b[43ml\u001b[49m\n",
      "\u001b[1;31mNameError\u001b[0m: name 'l' is not defined"
     ]
    }
   ],
   "source": [
    "l"
   ]
  },
  {
   "cell_type": "code",
   "execution_count": null,
   "id": "4965f9da",
   "metadata": {},
   "outputs": [],
   "source": [
    "# Shallow and Deep copy \n"
   ]
  },
  {
   "cell_type": "code",
   "execution_count": 126,
   "id": "f244a38f",
   "metadata": {},
   "outputs": [
    {
     "name": "stdout",
     "output_type": "stream",
     "text": [
      "2254366260096\n",
      "2254366278208\n"
     ]
    }
   ],
   "source": [
    "a = [1,2,3,4,5]\n",
    "b = [1,2,3,4,5]\n",
    "\n",
    "print(id(a))\n",
    "print(id(b))"
   ]
  },
  {
   "cell_type": "code",
   "execution_count": 131,
   "id": "2f059fcc",
   "metadata": {},
   "outputs": [
    {
     "name": "stdout",
     "output_type": "stream",
     "text": [
      "2254366250752\n",
      "2254366250752\n",
      "[1, 3, 3, 4, 5]\n",
      "[1, 3, 3, 4, 5]\n"
     ]
    }
   ],
   "source": [
    "a = [1,2,3,4,5]\n",
    "b = a # Aliasing\n",
    "\n",
    "print(id(a))\n",
    "print(id(b))\n",
    "\n",
    "b[1] = 3\n",
    "\n",
    "print(a)\n",
    "print(b)"
   ]
  },
  {
   "cell_type": "code",
   "execution_count": 136,
   "id": "b23b9c47",
   "metadata": {},
   "outputs": [
    {
     "name": "stdout",
     "output_type": "stream",
     "text": [
      "2254366251328\n",
      "2254366006592\n",
      "[1, 2, 3, 4, 5]\n",
      "[1, 3, 3, 4, 5]\n"
     ]
    }
   ],
   "source": [
    "# Shollow copy\n",
    "\n",
    "a = [1,2,3,4,5]\n",
    "b = a.copy()\n",
    "\n",
    "print(id(a))\n",
    "print(id(b))\n",
    "\n",
    "b[1] = 3\n",
    "\n",
    "print(a)\n",
    "print(b)\n",
    "\n"
   ]
  },
  {
   "cell_type": "code",
   "execution_count": 138,
   "id": "ec00275c",
   "metadata": {},
   "outputs": [
    {
     "name": "stdout",
     "output_type": "stream",
     "text": [
      "2254366221120\n",
      "2254366252032\n",
      "[1, 2, 3, 4, 5, [6, 7, 10]]\n",
      "[1, 2, 3, 4, 5, [6, 7, 10]]\n",
      "2254366221120\n",
      "2254366252032\n"
     ]
    }
   ],
   "source": [
    "# Shollow copy\n",
    "\n",
    "a = [1,2,3,4,5,[6,7,98]]\n",
    "b = a.copy()\n",
    "\n",
    "print(id(a))\n",
    "print(id(b))\n",
    "\n",
    "b[5][2] = 10 \n",
    "\n",
    "print(a)\n",
    "print(b)\n",
    "\n",
    "print(id(a))\n",
    "print(id(b))"
   ]
  },
  {
   "cell_type": "code",
   "execution_count": 147,
   "id": "110d0c55",
   "metadata": {},
   "outputs": [
    {
     "name": "stdout",
     "output_type": "stream",
     "text": [
      "2254364485568\n",
      "2254364895808\n",
      "[1, 2, 3, 4, 5, [6, 7, 8, 9]]\n",
      "[1, 2, 3, 4, 5, [6, 7, 10, 9]]\n"
     ]
    }
   ],
   "source": [
    "# deep copy\n",
    "from copy import deepcopy\n",
    "\n",
    "a = [1,2,3,4,5,[6,7,8,9]]\n",
    "b = deepcopy(a)\n",
    "\n",
    "print(id(a[5]))\n",
    "print(id(b[5]))\n",
    "\n",
    "b[5][2] = 10 \n",
    "\n",
    "print(a)\n",
    "print(b)"
   ]
  },
  {
   "cell_type": "code",
   "execution_count": null,
   "id": "ab0c7eba",
   "metadata": {},
   "outputs": [],
   "source": [
    "# For Loop"
   ]
  },
  {
   "cell_type": "code",
   "execution_count": null,
   "id": "6e049054",
   "metadata": {},
   "outputs": [],
   "source": []
  },
  {
   "cell_type": "code",
   "execution_count": null,
   "id": "4714e95b",
   "metadata": {},
   "outputs": [],
   "source": []
  },
  {
   "cell_type": "code",
   "execution_count": null,
   "id": "c409a4b3",
   "metadata": {},
   "outputs": [],
   "source": []
  },
  {
   "cell_type": "code",
   "execution_count": null,
   "id": "7c3c84a4",
   "metadata": {},
   "outputs": [],
   "source": []
  }
 ],
 "metadata": {
  "kernelspec": {
   "display_name": "Python 3 (ipykernel)",
   "language": "python",
   "name": "python3"
  },
  "language_info": {
   "codemirror_mode": {
    "name": "ipython",
    "version": 3
   },
   "file_extension": ".py",
   "mimetype": "text/x-python",
   "name": "python",
   "nbconvert_exporter": "python",
   "pygments_lexer": "ipython3",
   "version": "3.9.12"
  }
 },
 "nbformat": 4,
 "nbformat_minor": 5
}
