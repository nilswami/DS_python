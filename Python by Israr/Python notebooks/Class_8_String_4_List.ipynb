{
 "cells": [
  {
   "cell_type": "markdown",
   "id": "a347f4ab",
   "metadata": {},
   "source": [
    "# Split\n",
    "* It converts the string to a list based on the split chatcters and if not provided default is space"
   ]
  },
  {
   "cell_type": "code",
   "execution_count": 10,
   "id": "88dd16e3",
   "metadata": {},
   "outputs": [
    {
     "name": "stdout",
     "output_type": "stream",
     "text": [
      "['My', 'name', 'is', 'python', 'and', 'is', 'love', 'cooding']\n"
     ]
    }
   ],
   "source": [
    "my_str = 'My*name*is*python*and*is*love*cooding'\n",
    "print(my_str.split('*'))"
   ]
  },
  {
   "cell_type": "markdown",
   "id": "a43b45d2",
   "metadata": {},
   "source": [
    "# Join \n",
    "* Its the reverse of split()"
   ]
  },
  {
   "cell_type": "code",
   "execution_count": 18,
   "id": "e21121f0",
   "metadata": {},
   "outputs": [
    {
     "data": {
      "text/plain": [
       "'My---->name---->is---->python---->and---->is---->love---->cooding'"
      ]
     },
     "execution_count": 18,
     "metadata": {},
     "output_type": "execute_result"
    }
   ],
   "source": [
    "lst = ['My', 'name', 'is', 'python', 'and', 'is', 'love', 'cooding']\n",
    "\n",
    "# the value we want in between the list.join(variable)\n",
    "'---->'.join(lst)"
   ]
  },
  {
   "cell_type": "markdown",
   "id": "7ea2a980",
   "metadata": {},
   "source": [
    "# List \n",
    "\n",
    "- Any value which are written in a square brackets and seperated by commas"
   ]
  },
  {
   "cell_type": "code",
   "execution_count": 20,
   "id": "6778b63c",
   "metadata": {},
   "outputs": [
    {
     "name": "stdout",
     "output_type": "stream",
     "text": [
      "<class 'list'>\n"
     ]
    }
   ],
   "source": [
    "a = [1,2,3,4]\n",
    "print(type(a))"
   ]
  },
  {
   "cell_type": "code",
   "execution_count": 21,
   "id": "b45c6190",
   "metadata": {},
   "outputs": [
    {
     "data": {
      "text/plain": [
       "4"
      ]
     },
     "execution_count": 21,
     "metadata": {},
     "output_type": "execute_result"
    }
   ],
   "source": [
    "len(a)"
   ]
  },
  {
   "cell_type": "code",
   "execution_count": 22,
   "id": "9e808003",
   "metadata": {},
   "outputs": [
    {
     "data": {
      "text/plain": [
       "['banana', 'apple', 'grapes']"
      ]
     },
     "execution_count": 22,
     "metadata": {},
     "output_type": "execute_result"
    }
   ],
   "source": [
    "# Creatin of lists\n",
    "#1 st method is that you know the elements \n",
    "lst_1 = ['banana' , 'apple', 'grapes']\n",
    "lst_1"
   ]
  },
  {
   "cell_type": "code",
   "execution_count": 27,
   "id": "8c3ed117",
   "metadata": {},
   "outputs": [
    {
     "name": "stdout",
     "output_type": "stream",
     "text": [
      "Please enter the lst  :[1,2,3,4]\n",
      "[1, 2, 3, 4] <class 'list'>\n"
     ]
    }
   ],
   "source": [
    "# 2nd method is by taking the user input\\\n",
    "lst_2 = eval(input('Please enter the lst  :'))\n",
    "print(lst_2, type(lst_2))"
   ]
  },
  {
   "cell_type": "code",
   "execution_count": 32,
   "id": "cf8801d3",
   "metadata": {},
   "outputs": [
    {
     "name": "stdout",
     "output_type": "stream",
     "text": [
      "['a', 'b', 'c', 'd']\n",
      "[1, 2, 3, 4]\n",
      "<class 'list'>\n"
     ]
    }
   ],
   "source": [
    "# 3rd method type casting\n",
    "a = 'abcd'\n",
    "c = (1,2,3,4)\n",
    "b = list(a)\n",
    "print(list(a))\n",
    "print(list(c))\n",
    "print(type(b))"
   ]
  },
  {
   "cell_type": "code",
   "execution_count": 33,
   "id": "cf89d1de",
   "metadata": {},
   "outputs": [
    {
     "name": "stdout",
     "output_type": "stream",
     "text": [
      "['My', 'name', 'is', 'python', 'and', 'is', 'love', 'cooding']\n"
     ]
    }
   ],
   "source": [
    "# 4th method split\n",
    "my_str = 'My name is python and is love cooding'\n",
    "print(my_str.split(' '))"
   ]
  },
  {
   "cell_type": "code",
   "execution_count": 34,
   "id": "78ed3edb",
   "metadata": {},
   "outputs": [
    {
     "name": "stdout",
     "output_type": "stream",
     "text": [
      "['1', '2', '3', '4', '5', '6', '7']\n"
     ]
    }
   ],
   "source": [
    "# 4th method split\n",
    "my_str = '1 2 3 4 5 6 7'\n",
    "print(my_str.split(' '))"
   ]
  },
  {
   "cell_type": "code",
   "execution_count": 35,
   "id": "d0c62792",
   "metadata": {},
   "outputs": [
    {
     "data": {
      "text/plain": [
       "'1 2 3 4 5 6 7'"
      ]
     },
     "execution_count": 35,
     "metadata": {},
     "output_type": "execute_result"
    }
   ],
   "source": [
    "my_str"
   ]
  },
  {
   "cell_type": "code",
   "execution_count": null,
   "id": "4ea7b7b9",
   "metadata": {},
   "outputs": [],
   "source": [
    "# Properties of list\n",
    "\n",
    "* Its is a sequence data type\n",
    "* indexing (accessing one element) and sclicing (accessing multiple elements) is possible\n",
    "* Supports both +ve and -ve indexing\n",
    "* mutable\n",
    "* Allows duplication\n",
    "* Its is hetrogenous - It can save multiple data types\n",
    "* Basic operations are - concatination , reption, identity, Membership opereators"
   ]
  },
  {
   "cell_type": "code",
   "execution_count": 47,
   "id": "6affc097",
   "metadata": {},
   "outputs": [
    {
     "name": "stdout",
     "output_type": "stream",
     "text": [
      "6\n"
     ]
    }
   ],
   "source": [
    "# Indexing\n",
    "a = [1,2,3,4,5,6,7,8,9,6]\n",
    "a[6]\n",
    "len(a)\n",
    "print(a[len(a)-1])"
   ]
  },
  {
   "cell_type": "code",
   "execution_count": 53,
   "id": "3ce65ad6",
   "metadata": {},
   "outputs": [
    {
     "data": {
      "text/plain": [
       "[4, 5, 6]"
      ]
     },
     "execution_count": 53,
     "metadata": {},
     "output_type": "execute_result"
    }
   ],
   "source": [
    "# Slicing\n",
    "a = [1,2,3,4,5,6,7,8,9,10] # Extract [4,5,6]\n",
    "a[3:6]"
   ]
  },
  {
   "cell_type": "code",
   "execution_count": 57,
   "id": "400f1952",
   "metadata": {},
   "outputs": [
    {
     "data": {
      "text/plain": [
       "[2, 4, 6, 8, 10]"
      ]
     },
     "execution_count": 57,
     "metadata": {},
     "output_type": "execute_result"
    }
   ],
   "source": [
    "a[1::2]"
   ]
  },
  {
   "cell_type": "code",
   "execution_count": 61,
   "id": "3b3031df",
   "metadata": {},
   "outputs": [
    {
     "data": {
      "text/plain": [
       "[10, 8, 6, 4, 2]"
      ]
     },
     "execution_count": 61,
     "metadata": {},
     "output_type": "execute_result"
    }
   ],
   "source": [
    "# -ve indexing and slicing\n",
    "a = [1,2,3,4,5,6,7,8,9,10]\n",
    "a[-1:-11:-2]"
   ]
  },
  {
   "cell_type": "code",
   "execution_count": 62,
   "id": "93663346",
   "metadata": {},
   "outputs": [
    {
     "data": {
      "text/plain": [
       "[2, 4, 6, 8, 10]"
      ]
     },
     "execution_count": 62,
     "metadata": {},
     "output_type": "execute_result"
    }
   ],
   "source": [
    "a = [1,2,3,4,5,6,7,8,9,10]\n",
    "a[-9::2]"
   ]
  },
  {
   "cell_type": "code",
   "execution_count": 63,
   "id": "b4f4c98d",
   "metadata": {},
   "outputs": [
    {
     "data": {
      "text/plain": [
       "[1, 1, 1, 1, 1]"
      ]
     },
     "execution_count": 63,
     "metadata": {},
     "output_type": "execute_result"
    }
   ],
   "source": [
    "# Allows duplication\n",
    "lst = [1,1,1,1,1]\n",
    "lst"
   ]
  },
  {
   "cell_type": "code",
   "execution_count": 64,
   "id": "21e49c48",
   "metadata": {},
   "outputs": [
    {
     "name": "stdout",
     "output_type": "stream",
     "text": [
      "[1, 3, 3, 4, 5, 6, 7, 8, 9, 6]\n"
     ]
    }
   ],
   "source": [
    "# Mutable - update,add, remove elements from the list\n",
    "\n",
    "a = [1,2,3,4,5,6,7,8,9,6]\n",
    "a[1] = 3\n",
    "print(a)"
   ]
  },
  {
   "cell_type": "code",
   "execution_count": 66,
   "id": "d4378411",
   "metadata": {},
   "outputs": [
    {
     "data": {
      "text/plain": [
       "[1, 1.2, '1.2', True, False, [1, 2, 3], (5, 6, 4), {7, 8, 9}, (10+6j), None]"
      ]
     },
     "execution_count": 66,
     "metadata": {},
     "output_type": "execute_result"
    }
   ],
   "source": [
    "# Its is hetrogenous\n",
    "\n",
    "lst = [1,1.2,'1.2',True,False,[1,2,3],(5,6,4),{9,8,7,8}, 10+6j,None]\n",
    "lst"
   ]
  },
  {
   "cell_type": "markdown",
   "id": "b46667e3",
   "metadata": {},
   "source": [
    "# Basic Operations\n",
    "# Concatination"
   ]
  },
  {
   "cell_type": "code",
   "execution_count": 67,
   "id": "ee0b02bc",
   "metadata": {},
   "outputs": [
    {
     "name": "stdout",
     "output_type": "stream",
     "text": [
      "['__add__', '__class__', '__class_getitem__', '__contains__', '__delattr__', '__delitem__', '__dir__', '__doc__', '__eq__', '__format__', '__ge__', '__getattribute__', '__getitem__', '__gt__', '__hash__', '__iadd__', '__imul__', '__init__', '__init_subclass__', '__iter__', '__le__', '__len__', '__lt__', '__mul__', '__ne__', '__new__', '__reduce__', '__reduce_ex__', '__repr__', '__reversed__', '__rmul__', '__setattr__', '__setitem__', '__sizeof__', '__str__', '__subclasshook__', 'append', 'clear', 'copy', 'count', 'extend', 'index', 'insert', 'pop', 'remove', 'reverse', 'sort']\n"
     ]
    }
   ],
   "source": [
    "print(dir(list))"
   ]
  },
  {
   "cell_type": "code",
   "execution_count": 68,
   "id": "79f4c01e",
   "metadata": {},
   "outputs": [
    {
     "name": "stdout",
     "output_type": "stream",
     "text": [
      "[1, 2, 3, 4, 5, 6]\n"
     ]
    }
   ],
   "source": [
    "# Op ----> +\n",
    "a = [1,2,3]\n",
    "b = [4,5,6]\n",
    "print(a+b)   # [1,2,3,4,5,6]"
   ]
  },
  {
   "cell_type": "code",
   "execution_count": 72,
   "id": "4eb32d13",
   "metadata": {},
   "outputs": [
    {
     "name": "stdout",
     "output_type": "stream",
     "text": [
      "[1, 2, 3, 1, 2, 3]\n",
      "True\n"
     ]
    }
   ],
   "source": [
    "# repetation\n",
    "a = [1,2,3]\n",
    "b = 2\n",
    "print(a*b)   # [1,2,3,1,2,3]"
   ]
  },
  {
   "cell_type": "code",
   "execution_count": 71,
   "id": "6b90dbbc",
   "metadata": {},
   "outputs": [
    {
     "name": "stdout",
     "output_type": "stream",
     "text": [
      "False\n"
     ]
    }
   ],
   "source": [
    "# Membership operators\n",
    "# in and not in\n",
    "# Returs in bool\n",
    "a = ['Israr', 'Aritesh', 'Yamini', 'Kumar', 'Rameshwar', 'Kalyani']\n",
    "print('israr' in a)"
   ]
  },
  {
   "cell_type": "code",
   "execution_count": 86,
   "id": "30ee2925",
   "metadata": {},
   "outputs": [
    {
     "name": "stdout",
     "output_type": "stream",
     "text": [
      "1658771508672\n",
      "1658724672256\n",
      "1658637019440\n",
      "1658637019440\n"
     ]
    }
   ],
   "source": [
    "# Identity operators\n",
    "a = [1,2,3]\n",
    "b = [1,2,3]\n",
    "print(id(a))\n",
    "print(id(b))\n",
    "print(id(a[0]))\n",
    "print(id(b[0]))\n"
   ]
  },
  {
   "cell_type": "markdown",
   "id": "cdbec053",
   "metadata": {},
   "source": [
    "# Nested list \n",
    "\n",
    "- list inside a list"
   ]
  },
  {
   "cell_type": "code",
   "execution_count": null,
   "id": "03651b93",
   "metadata": {},
   "outputs": [],
   "source": [
    "a = [1,2,3,4,5] # List \n",
    "b = [1,[5,6,7,],3,4,5] # Nested list"
   ]
  },
  {
   "cell_type": "code",
   "execution_count": 91,
   "id": "7258b1e2",
   "metadata": {},
   "outputs": [
    {
     "data": {
      "text/plain": [
       "7"
      ]
     },
     "execution_count": 91,
     "metadata": {},
     "output_type": "execute_result"
    }
   ],
   "source": [
    "# 1st method\n",
    "b = [1,[5,6,7,],3,4,5]\n",
    "z = b[1]\n",
    "z[2]"
   ]
  },
  {
   "cell_type": "code",
   "execution_count": 94,
   "id": "803117c2",
   "metadata": {},
   "outputs": [
    {
     "data": {
      "text/plain": [
       "8"
      ]
     },
     "execution_count": 94,
     "metadata": {},
     "output_type": "execute_result"
    }
   ],
   "source": [
    "b = [1,[5,6,7,[9,8,7]],3,4,5]\n",
    "b[1][3][1]"
   ]
  },
  {
   "cell_type": "code",
   "execution_count": 100,
   "id": "e31559fc",
   "metadata": {},
   "outputs": [
    {
     "data": {
      "text/plain": [
       "'nohtyp'"
      ]
     },
     "execution_count": 100,
     "metadata": {},
     "output_type": "execute_result"
    }
   ],
   "source": [
    "b = [1,[5,6,7,[9,8,['python','datascience']]],3,4,5] # nohtyp\n",
    "b[1][3][2][0][6::-1]"
   ]
  },
  {
   "cell_type": "code",
   "execution_count": null,
   "id": "98fb1d8c",
   "metadata": {},
   "outputs": [],
   "source": []
  },
  {
   "cell_type": "code",
   "execution_count": null,
   "id": "8185f074",
   "metadata": {},
   "outputs": [],
   "source": []
  },
  {
   "cell_type": "code",
   "execution_count": null,
   "id": "de79e221",
   "metadata": {},
   "outputs": [],
   "source": []
  },
  {
   "cell_type": "code",
   "execution_count": null,
   "id": "d1c7fe6f",
   "metadata": {},
   "outputs": [],
   "source": []
  }
 ],
 "metadata": {
  "kernelspec": {
   "display_name": "Python 3 (ipykernel)",
   "language": "python",
   "name": "python3"
  },
  "language_info": {
   "codemirror_mode": {
    "name": "ipython",
    "version": 3
   },
   "file_extension": ".py",
   "mimetype": "text/x-python",
   "name": "python",
   "nbconvert_exporter": "python",
   "pygments_lexer": "ipython3",
   "version": "3.9.12"
  }
 },
 "nbformat": 4,
 "nbformat_minor": 5
}
