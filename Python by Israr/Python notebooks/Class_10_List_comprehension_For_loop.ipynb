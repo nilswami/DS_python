{
 "cells": [
  {
   "cell_type": "markdown",
   "id": "4ea14fb4",
   "metadata": {},
   "source": [
    "# For Loop"
   ]
  },
  {
   "cell_type": "markdown",
   "id": "2f16df41",
   "metadata": {},
   "source": [
    "# Syntax\n",
    "\n",
    "* for var in iterable:\n",
    "*     statement1\n",
    "*     statement2\n",
    "*     statement3\n"
   ]
  },
  {
   "cell_type": "code",
   "execution_count": null,
   "id": "000eab22",
   "metadata": {},
   "outputs": [],
   "source": [
    "# How to identify if datatype is iterable or not\n",
    "\n",
    "- len function should work on that\n",
    "- dir(object) it should have __iter__ "
   ]
  },
  {
   "cell_type": "code",
   "execution_count": 3,
   "id": "4cc41742",
   "metadata": {},
   "outputs": [
    {
     "name": "stdout",
     "output_type": "stream",
     "text": [
      "5\n"
     ]
    }
   ],
   "source": [
    "a = 'string' # iterable\n",
    "b = 2 # Not iterable\n",
    "c = [1,2,3,4,5] # iterable\n",
    "\n",
    "\n",
    "print(len(c))"
   ]
  },
  {
   "cell_type": "code",
   "execution_count": 6,
   "id": "fe83fd04",
   "metadata": {},
   "outputs": [
    {
     "name": "stdout",
     "output_type": "stream",
     "text": [
      "['__abs__', '__add__', '__and__', '__bool__', '__ceil__', '__class__', '__delattr__', '__dir__', '__divmod__', '__doc__', '__eq__', '__float__', '__floor__', '__floordiv__', '__format__', '__ge__', '__getattribute__', '__getnewargs__', '__gt__', '__hash__', '__index__', '__init__', '__init_subclass__', '__int__', '__invert__', '__le__', '__lshift__', '__lt__', '__mod__', '__mul__', '__ne__', '__neg__', '__new__', '__or__', '__pos__', '__pow__', '__radd__', '__rand__', '__rdivmod__', '__reduce__', '__reduce_ex__', '__repr__', '__rfloordiv__', '__rlshift__', '__rmod__', '__rmul__', '__ror__', '__round__', '__rpow__', '__rrshift__', '__rshift__', '__rsub__', '__rtruediv__', '__rxor__', '__setattr__', '__sizeof__', '__str__', '__sub__', '__subclasshook__', '__truediv__', '__trunc__', '__xor__', 'as_integer_ratio', 'bit_length', 'conjugate', 'denominator', 'from_bytes', 'imag', 'numerator', 'real', 'to_bytes']\n"
     ]
    }
   ],
   "source": [
    "print(dir(int))"
   ]
  },
  {
   "cell_type": "code",
   "execution_count": 7,
   "id": "b962b77b",
   "metadata": {},
   "outputs": [
    {
     "name": "stdout",
     "output_type": "stream",
     "text": [
      "Learnbay\n",
      "Learnbay\n",
      "Learnbay\n",
      "Learnbay\n",
      "Learnbay\n"
     ]
    }
   ],
   "source": [
    "for i in [1,2,3,4,5]:\n",
    "    print('Learnbay')"
   ]
  },
  {
   "cell_type": "code",
   "execution_count": null,
   "id": "c6ca5152",
   "metadata": {},
   "outputs": [],
   "source": [
    "for iteration 1 i = 1\n",
    "Learnbay\n",
    "\n",
    "for iteration 2 i = 2\n",
    "Learnbay\n",
    "\n",
    "for iteration 3 i = 3\n",
    "Learnbay\n",
    "\n",
    "for iteration 4 i = 4\n",
    "Learnbay\n",
    "\n",
    "for iteration 5 i = 5\n",
    "Learnbay\n",
    "\n",
    "for iteration 6 \n",
    "stop"
   ]
  },
  {
   "cell_type": "code",
   "execution_count": 8,
   "id": "c1f5a7a6",
   "metadata": {},
   "outputs": [
    {
     "name": "stdout",
     "output_type": "stream",
     "text": [
      "1\n",
      "2\n",
      "3\n",
      "4\n",
      "5\n"
     ]
    }
   ],
   "source": [
    "for i in [1,2,3,4,5]:\n",
    "    print(i)"
   ]
  },
  {
   "cell_type": "code",
   "execution_count": 9,
   "id": "c54bc4d8",
   "metadata": {},
   "outputs": [
    {
     "name": "stdout",
     "output_type": "stream",
     "text": [
      "0\n",
      "1\n",
      "2\n",
      "3\n",
      "4\n"
     ]
    }
   ],
   "source": [
    "for i in [1,2,3,4,5]:\n",
    "    print(i-1)"
   ]
  },
  {
   "cell_type": "code",
   "execution_count": 13,
   "id": "b1cf8ecb",
   "metadata": {},
   "outputs": [
    {
     "name": "stdout",
     "output_type": "stream",
     "text": [
      "Learnbay\n",
      "Learnbay\n",
      "Learnbay\n",
      "Learnbay\n",
      "Learnbay\n",
      "Learnbay\n"
     ]
    }
   ],
   "source": [
    "for i in 'python':\n",
    "    print('Learnbay')"
   ]
  },
  {
   "cell_type": "code",
   "execution_count": null,
   "id": "5c11be5b",
   "metadata": {},
   "outputs": [],
   "source": [
    "for iteration 1 i = p\n",
    "Learnbay\n",
    "\n",
    "for iteration 2 i = y\n",
    "Learnbay\n",
    "\n",
    "for iteration 3 i = t\n",
    "Learnbay\n",
    "\n",
    "for iteration 4 i = h\n",
    "Learnbay\n",
    "\n",
    "for iteration 5 i = o\n",
    "Learnbay\n",
    "\n",
    "for iteration 6 i = n\n",
    "Learnbay\n"
   ]
  },
  {
   "cell_type": "code",
   "execution_count": 16,
   "id": "88b73b71",
   "metadata": {},
   "outputs": [
    {
     "name": "stdout",
     "output_type": "stream",
     "text": [
      "1\n",
      "2\n",
      "3\n",
      "4\n",
      "a\n",
      "b\n",
      "python\n"
     ]
    }
   ],
   "source": [
    "a = [1,2,3,4,'a','b','python']\n",
    "\n",
    "for i in a:\n",
    "    print(i)"
   ]
  },
  {
   "cell_type": "code",
   "execution_count": 17,
   "id": "da22f7fa",
   "metadata": {},
   "outputs": [
    {
     "name": "stdout",
     "output_type": "stream",
     "text": [
      "1\n",
      "2\n",
      "3\n",
      "[1, 2, 3, [2, 1, 3]]\n"
     ]
    }
   ],
   "source": [
    "a = [1,2,3,[1,2,3,[2,1,3]]]\n",
    "for i in a:\n",
    "    print(i)"
   ]
  },
  {
   "cell_type": "code",
   "execution_count": 21,
   "id": "b97c1b38",
   "metadata": {},
   "outputs": [
    {
     "name": "stdout",
     "output_type": "stream",
     "text": [
      "2 * 1 = 2\n",
      "2 * 2 = 4\n",
      "2 * 3 = 6\n",
      "2 * 4 = 8\n",
      "2 * 5 = 10\n",
      "2 * 6 = 12\n",
      "2 * 7 = 14\n",
      "2 * 8 = 16\n",
      "2 * 9 = 18\n",
      "2 * 10 = 20\n"
     ]
    }
   ],
   "source": [
    "# Using for loop write a table of 2\n",
    "# 2 * 1 = 2\n",
    "# f\n",
    "a = [1,2,3,4,5,6,7,8,9,10]\n",
    "\n",
    "for i in a:\n",
    "    print(f'2 * {i} = {2*i}')"
   ]
  },
  {
   "cell_type": "code",
   "execution_count": 22,
   "id": "79fbe941",
   "metadata": {},
   "outputs": [
    {
     "name": "stdout",
     "output_type": "stream",
     "text": [
      "Please enter a string  :Python\n",
      "Please enter second string  :learnbay\n",
      "the first name is Python and the second name is learnbay\n"
     ]
    }
   ],
   "source": [
    "a = input(\"Please enter a string  :\")\n",
    "b  = input(\"Please enter second string  :\")\n",
    "\n",
    "print(f\"the first name is {a} and the second name is {b}\")\n"
   ]
  },
  {
   "cell_type": "code",
   "execution_count": 26,
   "id": "e86c0c46",
   "metadata": {},
   "outputs": [
    {
     "name": "stdout",
     "output_type": "stream",
     "text": [
      "Please enter a string  :python\n",
      "Please enter second string  :leanbay\n",
      "the first name is leanbay and the second name is python\n"
     ]
    }
   ],
   "source": [
    "a = input(\"Please enter a string  :\")\n",
    "b  = input(\"Please enter second string  :\")\n",
    "\n",
    "print(\"the first name is {} and the second name is {}\".format(b,a))\n"
   ]
  },
  {
   "cell_type": "code",
   "execution_count": 32,
   "id": "a69ce3a2",
   "metadata": {},
   "outputs": [
    {
     "name": "stdout",
     "output_type": "stream",
     "text": [
      "2 * 1 = 2\n",
      "2 * 2 = 4\n",
      "2 * 3 = 6\n",
      "2 * 4 = 8\n",
      "2 * 5 = 10\n",
      "2 * 6 = 12\n",
      "2 * 7 = 14\n",
      "2 * 8 = 16\n",
      "2 * 9 = 18\n",
      "2 * 10 = 20\n"
     ]
    }
   ],
   "source": [
    "# Using for loop write a table of 2\n",
    "# 2 * 1 = 2\n",
    "# f\n",
    "a = [1,2,3,4,5,6,7,8,9,10]\n",
    "\n",
    "for i in a:\n",
    "    print('2 * {} = {}'.format(i,i*2))"
   ]
  },
  {
   "cell_type": "code",
   "execution_count": 33,
   "id": "004715ff",
   "metadata": {},
   "outputs": [
    {
     "name": "stdout",
     "output_type": "stream",
     "text": [
      "Please enter a string  :python\n",
      "Please enter second string  :leanbay\n",
      "The first name is pythonThe Second name is leanbay\n"
     ]
    }
   ],
   "source": [
    "a = input(\"Please enter a string  :\")\n",
    "b  = input(\"Please enter second string  :\")\n",
    "\n",
    "print(\"The first name is \" + a+ \"The Second name is \"+ b)\n"
   ]
  },
  {
   "cell_type": "code",
   "execution_count": 36,
   "id": "3292f75d",
   "metadata": {},
   "outputs": [
    {
     "name": "stdout",
     "output_type": "stream",
     "text": [
      "Please enter the numbr  :9\n",
      "9*1 = 9\n",
      "9*2 = 18\n",
      "9*3 = 27\n",
      "9*4 = 36\n",
      "9*5 = 45\n",
      "9*6 = 54\n",
      "9*7 = 63\n",
      "9*8 = 72\n",
      "9*9 = 81\n",
      "9*10 = 90\n"
     ]
    }
   ],
   "source": [
    "# Using for loop write a table given by the user\n",
    "num = eval(input(\"Please enter the numbr  :\"))\n",
    "l = [1,2,3,4,5,6,7,8,9,10]\n",
    "for i in l:\n",
    "    print(f'{num}*{i} = {num*i}')"
   ]
  },
  {
   "cell_type": "code",
   "execution_count": 43,
   "id": "92b684d8",
   "metadata": {},
   "outputs": [
    {
     "name": "stdout",
     "output_type": "stream",
     "text": [
      "[2, 4, 6, 8, 10]\n"
     ]
    }
   ],
   "source": [
    "a = [1,2,3,4,5]\n",
    "b = []\n",
    "for i in a:\n",
    "    b.append(i*2)\n",
    "print(b)\n"
   ]
  },
  {
   "cell_type": "code",
   "execution_count": 41,
   "id": "23880b96",
   "metadata": {},
   "outputs": [
    {
     "data": {
      "text/plain": [
       "[1, 2, 3, 4, 5, 10]"
      ]
     },
     "execution_count": 41,
     "metadata": {},
     "output_type": "execute_result"
    }
   ],
   "source": [
    "a = [1,2,3,4,5]\n",
    "a.append(10)\n",
    "a"
   ]
  },
  {
   "cell_type": "code",
   "execution_count": 45,
   "id": "446fc186",
   "metadata": {},
   "outputs": [
    {
     "name": "stdout",
     "output_type": "stream",
     "text": [
      "[10, 10, 10, 10, 9, 11]\n"
     ]
    }
   ],
   "source": [
    "a = [1,2,3,4,5,6]\n",
    "b = [9,8,7,6,4,5]\n",
    "\n",
    "# [10,10,10,10,9,11]\n",
    "\n",
    "c = []\n",
    "for i in a:\n",
    "    c.append(a[i-1]+b[i-1])\n",
    "print(c)"
   ]
  },
  {
   "cell_type": "code",
   "execution_count": null,
   "id": "63d5f1b2",
   "metadata": {},
   "outputs": [],
   "source": []
  },
  {
   "cell_type": "markdown",
   "id": "d5bee3e6",
   "metadata": {},
   "source": [
    "# List Comprehension \n",
    "syntax = [expression for var in iterables if condition]"
   ]
  },
  {
   "cell_type": "code",
   "execution_count": 47,
   "id": "3e24cf70",
   "metadata": {},
   "outputs": [
    {
     "name": "stdout",
     "output_type": "stream",
     "text": [
      "[2, 4, 6, 8, 10]\n"
     ]
    }
   ],
   "source": [
    "a = [1,2,3,4,5]\n",
    "b = [i*2 for i in a]\n",
    "print(b)"
   ]
  },
  {
   "cell_type": "code",
   "execution_count": 48,
   "id": "b02ba33a",
   "metadata": {},
   "outputs": [
    {
     "name": "stdout",
     "output_type": "stream",
     "text": [
      "[2, 4, 6, 8, 10]\n"
     ]
    }
   ],
   "source": [
    "a = [1,2,3,4,5,6,7,8,9,10]\n",
    "b = []\n",
    "\n",
    "# if\n",
    "# For \n",
    "for i in a:\n",
    "    if i%2 == 0:\n",
    "        b.append(i)\n",
    "print(b)\n"
   ]
  },
  {
   "cell_type": "code",
   "execution_count": 51,
   "id": "7afe125c",
   "metadata": {},
   "outputs": [
    {
     "name": "stdout",
     "output_type": "stream",
     "text": [
      "[2, 4, 6, 8, 10]\n"
     ]
    }
   ],
   "source": [
    "# List com\n",
    "a = [1,2,3,4,5,6,7,8,9,10]\n",
    "b = [i for i in a if i%2 == 0]\n",
    "print(b)"
   ]
  },
  {
   "cell_type": "code",
   "execution_count": 60,
   "id": "11859b79",
   "metadata": {},
   "outputs": [
    {
     "name": "stdout",
     "output_type": "stream",
     "text": [
      "['israr', 'akash', 'amitesh', 'anil', 'amitesh']\n",
      "['israr', 'akash', 'amitesh', 'anil', 'amitesh']\n"
     ]
    }
   ],
   "source": [
    "# Extract all the usernames and store it in a list\n",
    "\n",
    "a = ['israr@gmail.com','akash@gmail.com','amitesh@gmail.com','anil@gmail.com','amitesh@gmail.com']\n",
    "\n",
    "# For Loop\n",
    "b = []\n",
    "for i in a:\n",
    "    b.append(i.split('@')[0])\n",
    "print(b)\n",
    "\n",
    "\n",
    "# List compre\n",
    "\n",
    "a = ['israr@gmail.com','akash@gmail.com','amitesh@gmail.com','anil@gmail.com','amitesh@gmail.com']\n",
    "b = [i.split('@')[0] for i in a]\n",
    "print(b)\n",
    "\n"
   ]
  },
  {
   "cell_type": "code",
   "execution_count": 62,
   "id": "b0f83f2f",
   "metadata": {},
   "outputs": [
    {
     "name": "stdout",
     "output_type": "stream",
     "text": [
      "['israr', 'akash', 'amitesh', 'anil', 'amitesh']\n"
     ]
    }
   ],
   "source": [
    "a = ['israr@gmail.com','akash@gmail.com','amitesh@gmail.com','anil@gmail.com','amitesh@gmail.com']\n",
    "b = [i.split('@')[0] for i in a]\n",
    "print(b)\n"
   ]
  },
  {
   "cell_type": "markdown",
   "id": "e26a23a1",
   "metadata": {},
   "source": [
    "# Tuple"
   ]
  },
  {
   "cell_type": "markdown",
   "id": "77c95d84",
   "metadata": {},
   "source": [
    "## Anything which is writen in ()"
   ]
  },
  {
   "cell_type": "code",
   "execution_count": 63,
   "id": "6cee07a2",
   "metadata": {},
   "outputs": [
    {
     "name": "stdout",
     "output_type": "stream",
     "text": [
      "(1, 2, 3, 4)\n"
     ]
    }
   ],
   "source": [
    "tup = (1,2,3,4)\n",
    "print(tup)"
   ]
  },
  {
   "cell_type": "code",
   "execution_count": 64,
   "id": "3716c901",
   "metadata": {},
   "outputs": [
    {
     "name": "stdout",
     "output_type": "stream",
     "text": [
      "<class 'tuple'>\n"
     ]
    }
   ],
   "source": [
    "tup = (1,2,3,4)\n",
    "print(type(tup))"
   ]
  },
  {
   "cell_type": "markdown",
   "id": "883f6131",
   "metadata": {},
   "source": [
    "# Creating a tuple\n",
    "* You already know the elements\n",
    "* Taking an user input\n",
    "* Type casting "
   ]
  },
  {
   "cell_type": "code",
   "execution_count": null,
   "id": "59e18329",
   "metadata": {},
   "outputs": [],
   "source": []
  },
  {
   "cell_type": "code",
   "execution_count": null,
   "id": "b97f31b8",
   "metadata": {},
   "outputs": [],
   "source": []
  }
 ],
 "metadata": {
  "kernelspec": {
   "display_name": "Python 3 (ipykernel)",
   "language": "python",
   "name": "python3"
  },
  "language_info": {
   "codemirror_mode": {
    "name": "ipython",
    "version": 3
   },
   "file_extension": ".py",
   "mimetype": "text/x-python",
   "name": "python",
   "nbconvert_exporter": "python",
   "pygments_lexer": "ipython3",
   "version": "3.9.12"
  }
 },
 "nbformat": 4,
 "nbformat_minor": 5
}
