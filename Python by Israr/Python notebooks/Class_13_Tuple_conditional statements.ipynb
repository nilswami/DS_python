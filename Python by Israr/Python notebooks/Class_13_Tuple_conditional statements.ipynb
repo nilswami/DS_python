{
 "cells": [
  {
   "cell_type": "markdown",
   "id": "dfe930c5",
   "metadata": {},
   "source": [
    "# Set data type\n",
    "\n",
    "* Colection of values and it is not a seq\n",
    "* indexing and slicing is not possible\n",
    "* Collection of unique values \n",
    "* mutable\n",
    "* Cannot contain a list"
   ]
  },
  {
   "cell_type": "code",
   "execution_count": 6,
   "id": "0a1a3695",
   "metadata": {},
   "outputs": [
    {
     "name": "stdout",
     "output_type": "stream",
     "text": [
      "{1, 2, 3, 4, 5} <class 'set'>\n"
     ]
    }
   ],
   "source": [
    "a = {1,2,3,4,5}\n",
    "print(a, type(a))"
   ]
  },
  {
   "cell_type": "code",
   "execution_count": 4,
   "id": "05774a3f",
   "metadata": {},
   "outputs": [
    {
     "name": "stdout",
     "output_type": "stream",
     "text": [
      "{1, 2, 3, 4, 5} <class 'set'>\n"
     ]
    }
   ],
   "source": [
    "a = {1,2,2,2,2,3,3,3,4,5,5,5,5,5} # 14\n",
    "print(a, type(a))"
   ]
  },
  {
   "cell_type": "code",
   "execution_count": 5,
   "id": "891b2855",
   "metadata": {},
   "outputs": [
    {
     "data": {
      "text/plain": [
       "5"
      ]
     },
     "execution_count": 5,
     "metadata": {},
     "output_type": "execute_result"
    }
   ],
   "source": [
    "len(a)"
   ]
  },
  {
   "cell_type": "code",
   "execution_count": 7,
   "id": "69c00eaf",
   "metadata": {},
   "outputs": [
    {
     "ename": "TypeError",
     "evalue": "'set' object is not subscriptable",
     "output_type": "error",
     "traceback": [
      "\u001b[1;31m---------------------------------------------------------------------------\u001b[0m",
      "\u001b[1;31mTypeError\u001b[0m                                 Traceback (most recent call last)",
      "Input \u001b[1;32mIn [7]\u001b[0m, in \u001b[0;36m<cell line: 1>\u001b[1;34m()\u001b[0m\n\u001b[1;32m----> 1\u001b[0m \u001b[43ma\u001b[49m\u001b[43m[\u001b[49m\u001b[38;5;241;43m0\u001b[39;49m\u001b[43m]\u001b[49m\n",
      "\u001b[1;31mTypeError\u001b[0m: 'set' object is not subscriptable"
     ]
    }
   ],
   "source": [
    "a[0]"
   ]
  },
  {
   "cell_type": "code",
   "execution_count": 8,
   "id": "7f9a9c08",
   "metadata": {},
   "outputs": [
    {
     "ename": "TypeError",
     "evalue": "unhashable type: 'list'",
     "output_type": "error",
     "traceback": [
      "\u001b[1;31m---------------------------------------------------------------------------\u001b[0m",
      "\u001b[1;31mTypeError\u001b[0m                                 Traceback (most recent call last)",
      "Input \u001b[1;32mIn [8]\u001b[0m, in \u001b[0;36m<cell line: 1>\u001b[1;34m()\u001b[0m\n\u001b[1;32m----> 1\u001b[0m a \u001b[38;5;241m=\u001b[39m {\u001b[38;5;241m1\u001b[39m,\u001b[38;5;241m2\u001b[39m,\u001b[38;5;241m3\u001b[39m,\u001b[38;5;241m4\u001b[39m,[\u001b[38;5;241m1\u001b[39m,\u001b[38;5;241m2\u001b[39m,\u001b[38;5;241m3\u001b[39m,\u001b[38;5;241m4\u001b[39m]}\n\u001b[0;32m      2\u001b[0m \u001b[38;5;28mprint\u001b[39m(a, \u001b[38;5;28mtype\u001b[39m(a))\n",
      "\u001b[1;31mTypeError\u001b[0m: unhashable type: 'list'"
     ]
    }
   ],
   "source": [
    "a = {1,2,3,4,[1,2,3,4]}\n",
    "print(a, type(a))"
   ]
  },
  {
   "cell_type": "code",
   "execution_count": 10,
   "id": "fdc8d68a",
   "metadata": {},
   "outputs": [
    {
     "name": "stdout",
     "output_type": "stream",
     "text": [
      "['__and__', '__class__', '__class_getitem__', '__contains__', '__delattr__', '__dir__', '__doc__', '__eq__', '__format__', '__ge__', '__getattribute__', '__gt__', '__hash__', '__iand__', '__init__', '__init_subclass__', '__ior__', '__isub__', '__iter__', '__ixor__', '__le__', '__len__', '__lt__', '__ne__', '__new__', '__or__', '__rand__', '__reduce__', '__reduce_ex__', '__repr__', '__ror__', '__rsub__', '__rxor__', '__setattr__', '__sizeof__', '__str__', '__sub__', '__subclasshook__', '__xor__', 'add', 'clear', 'copy', 'difference', 'difference_update', 'discard', 'intersection', 'intersection_update', 'isdisjoint', 'issubset', 'issuperset', 'pop', 'remove', 'symmetric_difference', 'symmetric_difference_update', 'union', 'update']\n"
     ]
    }
   ],
   "source": [
    "print(dir(a))"
   ]
  },
  {
   "cell_type": "code",
   "execution_count": 40,
   "id": "b2b3b7d5",
   "metadata": {},
   "outputs": [
    {
     "name": "stdout",
     "output_type": "stream",
     "text": [
      "None\n",
      "{1, 2, 3, 4, 5, 'add'}\n"
     ]
    }
   ],
   "source": [
    "a = {1,2,3,4,5}\n",
    "print(a.add('add'))\n",
    "print(a)"
   ]
  },
  {
   "cell_type": "code",
   "execution_count": 20,
   "id": "ad6f5180",
   "metadata": {},
   "outputs": [
    {
     "data": {
      "text/plain": [
       "{(10+6j), 0, 1.1, None, True, 'abc'}"
      ]
     },
     "execution_count": 20,
     "metadata": {},
     "output_type": "execute_result"
    }
   ],
   "source": [
    "a = {'abc', None , True, 1, 0, False, 1.1 , 10+6j}\n",
    "a"
   ]
  },
  {
   "cell_type": "code",
   "execution_count": 15,
   "id": "3f48fe5d",
   "metadata": {},
   "outputs": [
    {
     "data": {
      "text/plain": [
       "{1, 2, 4, 5, 9}"
      ]
     },
     "execution_count": 15,
     "metadata": {},
     "output_type": "execute_result"
    }
   ],
   "source": [
    "a = {1,2,9,4,5}\n",
    "a"
   ]
  },
  {
   "cell_type": "code",
   "execution_count": 21,
   "id": "66a4f5af",
   "metadata": {},
   "outputs": [
    {
     "name": "stdout",
     "output_type": "stream",
     "text": [
      "{50, 20, 40, 10, 30}\n"
     ]
    }
   ],
   "source": [
    "a = {10,20,50,30,40}\n",
    "print(a)"
   ]
  },
  {
   "cell_type": "code",
   "execution_count": 18,
   "id": "e8d9206a",
   "metadata": {},
   "outputs": [
    {
     "data": {
      "text/plain": [
       "True"
      ]
     },
     "execution_count": 18,
     "metadata": {},
     "output_type": "execute_result"
    }
   ],
   "source": [
    "True == 1"
   ]
  },
  {
   "cell_type": "code",
   "execution_count": 45,
   "id": "dc2ea07a",
   "metadata": {},
   "outputs": [
    {
     "name": "stdout",
     "output_type": "stream",
     "text": [
      "dict_items([('age', 56), ('Salary', 23), ('name', 'israr')])\n",
      "dict_items([('asd', 25), ('sdf', 27), ('name', 'amitesh')])\n",
      "dict_items([('fdgdf', 25), ('dfgd', 28), ('name', 'Purnendu')])\n"
     ]
    },
    {
     "data": {
      "text/plain": [
       "\"dict_items([('fdgdf', 25), ('dfgd', 28), ('name', 'Purnendu')])\""
      ]
     },
     "execution_count": 45,
     "metadata": {},
     "output_type": "execute_result"
    }
   ],
   "source": [
    "# Find the unique keys for emp1,2,3 are present\n",
    "\n",
    "emp_data = {\"emp1\":{'age': 56 , \"Salary\": 23 , \"name\":'israr'}, \n",
    "            \"emp2\":{'asd': 25 , \"sdf\": 27 , \"name\":'amitesh'}, \n",
    "            'emp3':{'fdgdf': 25 , \"dfgd\": 28 , \"name\":'Purnendu'}}\n",
    "tup = ()\n",
    "for i,j in emp_data.items():\n",
    "    tup = j.items()\n",
    "    print(tup)\n",
    "    \n",
    "b = str(tup)\n",
    "\n",
    "b"
   ]
  },
  {
   "cell_type": "markdown",
   "id": "7d446fa5",
   "metadata": {},
   "source": [
    "# Conditional statements"
   ]
  },
  {
   "cell_type": "code",
   "execution_count": null,
   "id": "d2f91734",
   "metadata": {},
   "outputs": [],
   "source": [
    "# If \n",
    "\n",
    "stat1 \n",
    "stat 2 \n",
    "stat 3\n",
    "if condition\n",
    "   stat 4  # True \n",
    "   stat 5\n",
    "stat 6\n",
    "stat 7\n",
    "    \n",
    "If condition true - 1,2,3,4,5,6,7\n",
    "If the condiition is false - 1,2,3,6,7"
   ]
  },
  {
   "cell_type": "code",
   "execution_count": null,
   "id": "d2696910",
   "metadata": {},
   "outputs": [],
   "source": [
    "# If  else \n",
    "\n",
    "stat1 \n",
    "stat 2 \n",
    "stat 3\n",
    "if condition:\n",
    "   stat 4  # True \n",
    "   stat 5\n",
    "else \n",
    "     stat 6\n",
    "     stat 7\n",
    "stat 8\n",
    "stat 9\n",
    "    \n",
    "If condition true - 1,2,3,4,5,8,9\n",
    "If the condiition is false - 1,2,3,6,7,8,9"
   ]
  },
  {
   "cell_type": "code",
   "execution_count": null,
   "id": "d64c6dab",
   "metadata": {},
   "outputs": [],
   "source": [
    "\n",
    "stat 1 \n",
    "stat 2 \n",
    "stat 3\n",
    "if condition1:\n",
    "   stat 4  # True \n",
    "   stat 5\n",
    "if condition2:\n",
    "   stat 6  # True \n",
    "   stat 7\n",
    "if condition3:\n",
    "   stat 8  # True \n",
    "   stat 9\n",
    "else \n",
    "     stat 10\n",
    "     stat 11\n",
    "stat 12\n",
    "stat 13\n",
    "    \n",
    "if condition 1 is true and all are false - 1,2,3,4,5,10,11,12,13\n",
    "if condition 1 and 2 are true and all are false - 1,2,3,4,5,6,7,10,11,12,13\n",
    "if all conditions are false - 1,2,3,10,11,12,13\n",
    "if conditions 1 2 3 are true - 1,2,3,4,5,6,7,8,9,12,13"
   ]
  },
  {
   "cell_type": "code",
   "execution_count": null,
   "id": "e1b9d8fb",
   "metadata": {},
   "outputs": [],
   "source": [
    "# elif \n",
    "\n",
    "stat 1 \n",
    "stat 2 \n",
    "stat 3\n",
    "if condition1:\n",
    "   stat 4  # True \n",
    "   stat 5\n",
    "elif condition2:\n",
    "   stat 6  # True \n",
    "   stat 7\n",
    "elif condition3:\n",
    "   stat 8  # True \n",
    "   stat 9\n",
    "else \n",
    "     stat 10\n",
    "     stat 11\n",
    "stat 12\n",
    "stat 13\n",
    "    \n",
    "if condition 1,2 are true and the rest is false -1,2,3,4,5,"
   ]
  },
  {
   "cell_type": "code",
   "execution_count": 52,
   "id": "4d380f99",
   "metadata": {},
   "outputs": [
    {
     "name": "stdout",
     "output_type": "stream",
     "text": [
      "stat 4\n",
      "stat12\n"
     ]
    }
   ],
   "source": [
    "a = 20\n",
    "b = 50\n",
    "if a<b:\n",
    "    print(\"stat 4\")\n",
    "elif a == b:\n",
    "    print('stat6')\n",
    "elif a>b:\n",
    "    print(\"stat8\")\n",
    "else: \n",
    "    print('something')\n",
    "print('stat12')"
   ]
  },
  {
   "cell_type": "code",
   "execution_count": 57,
   "id": "9dd27d79",
   "metadata": {},
   "outputs": [
    {
     "name": "stdout",
     "output_type": "stream",
     "text": [
      "stat 4\n",
      "stat8\n",
      "stat12\n"
     ]
    }
   ],
   "source": [
    "a = 20 # if 1 is true 2nd and 3rd is false\n",
    "b = 50\n",
    "if a<b: \n",
    "    print(\"stat 4\") #1\n",
    "if a > b:\n",
    "    print('stat6') # 0\n",
    "if a<b:\n",
    "    print(\"stat8\") # 0\n",
    "else: \n",
    "    print('something') #1\n",
    "print('stat12') # 1\n",
    "# 8,10,11"
   ]
  },
  {
   "cell_type": "code",
   "execution_count": 65,
   "id": "bb81ad07",
   "metadata": {
    "scrolled": true
   },
   "outputs": [
    {
     "name": "stdout",
     "output_type": "stream",
     "text": [
      "No\n",
      "random\n"
     ]
    }
   ],
   "source": [
    "# and \n",
    "a = 200\n",
    "b = 100\n",
    "c = 700\n",
    "\n",
    "if a>b and c >a and b==c :  #True and True  # True\n",
    "    print('Yes')\n",
    "else:\n",
    "    print('No')\n",
    "print('random')"
   ]
  },
  {
   "cell_type": "code",
   "execution_count": 60,
   "id": "eaf9a5e7",
   "metadata": {},
   "outputs": [
    {
     "data": {
      "text/plain": [
       "False"
      ]
     },
     "execution_count": 60,
     "metadata": {},
     "output_type": "execute_result"
    }
   ],
   "source": [
    "False and False"
   ]
  },
  {
   "cell_type": "code",
   "execution_count": 75,
   "id": "65d637bf",
   "metadata": {},
   "outputs": [
    {
     "name": "stdout",
     "output_type": "stream",
     "text": [
      "Yes\n",
      "random\n"
     ]
    }
   ],
   "source": [
    "# or\n",
    "a = 200\n",
    "b = 100\n",
    "c = 700\n",
    "\n",
    "if a==b or c==a or a>b:  #True and True \n",
    "    print('Yes')\n",
    "else:\n",
    "    print('No')\n",
    "print('random')"
   ]
  },
  {
   "cell_type": "code",
   "execution_count": 74,
   "id": "2420d0c4",
   "metadata": {},
   "outputs": [
    {
     "data": {
      "text/plain": [
       "True"
      ]
     },
     "execution_count": 74,
     "metadata": {},
     "output_type": "execute_result"
    }
   ],
   "source": [
    "False or False or True"
   ]
  },
  {
   "cell_type": "code",
   "execution_count": 77,
   "id": "adba5dec",
   "metadata": {},
   "outputs": [
    {
     "name": "stdout",
     "output_type": "stream",
     "text": [
      "Hola\n",
      "anything\n",
      "some\n"
     ]
    }
   ],
   "source": [
    "x = 2\n",
    "if x < 10:# True\n",
    "    print('Hola') # 1\n",
    "    if x >20: # False\n",
    "        print('Purnendu') # 0\n",
    "    else:\n",
    "        print('anything') # 1\n",
    "else:\n",
    "    print('barcelona') #0\n",
    "print('some') #1"
   ]
  },
  {
   "cell_type": "code",
   "execution_count": 85,
   "id": "07ebd86d",
   "metadata": {},
   "outputs": [
    {
     "name": "stdout",
     "output_type": "stream",
     "text": [
      "Please enter the number   :1.1\n",
      "five\n"
     ]
    }
   ],
   "source": [
    "# You have to take an number from 1-5 and convert it into word \n",
    "\n",
    "a = eval(input(\"Please enter the number   :\"))\n",
    "if a>5 or a<1:\n",
    "    print('Invalid number')\n",
    "else:\n",
    "    if a==1:\n",
    "        print('one')\n",
    "    elif a==2:\n",
    "        print('two')\n",
    "    elif a==3:\n",
    "        print('Three')\n",
    "    elif a ==4:\n",
    "        print('four')\n",
    "    else:\n",
    "        print('five')"
   ]
  },
  {
   "cell_type": "code",
   "execution_count": 80,
   "id": "ffd5af69",
   "metadata": {},
   "outputs": [
    {
     "name": "stdout",
     "output_type": "stream",
     "text": [
      "Please enter number 1 to 5: 1.1\n",
      "Enter number between 1 to 5 only\n"
     ]
    }
   ],
   "source": [
    "# \n",
    "var = eval(input('Please enter number 1 to 5: '))\n",
    "if var == 1:\n",
    "    print('ONE')\n",
    "elif var == 2:\n",
    "    print('TWO')\n",
    "elif var == 3:\n",
    "    print('THREE')\n",
    "elif var == 4:\n",
    "    print('FOUR')\n",
    "elif var == 5:\n",
    "    print('FIVE')\n",
    "else:\n",
    "    print('Enter number between 1 to 5 only')"
   ]
  },
  {
   "cell_type": "code",
   "execution_count": 88,
   "id": "6774a2fc",
   "metadata": {},
   "outputs": [
    {
     "name": "stdout",
     "output_type": "stream",
     "text": [
      "Enter the string  :Rotor\n",
      "Its a palindrom\n"
     ]
    }
   ],
   "source": [
    "# Write a program to check if the string is palindrom or not\n",
    "\n",
    "a = input('Enter the string  :').lower()\n",
    "if a == a[::-1]:\n",
    "    print('Its a palindrom')\n",
    "else: \n",
    "    print('Its not a palindrom')\n"
   ]
  },
  {
   "cell_type": "code",
   "execution_count": null,
   "id": "c008106b",
   "metadata": {},
   "outputs": [],
   "source": []
  },
  {
   "cell_type": "code",
   "execution_count": null,
   "id": "c87bba78",
   "metadata": {},
   "outputs": [],
   "source": [
    "# For work\n",
    "a = [0-9]\n",
    "b = ['zero'-'nine']\n",
    "\n",
    "\n"
   ]
  },
  {
   "cell_type": "code",
   "execution_count": 104,
   "id": "da2c85dd",
   "metadata": {},
   "outputs": [
    {
     "name": "stdout",
     "output_type": "stream",
     "text": [
      "please enter string:level\n",
      "palindrome\n"
     ]
    }
   ],
   "source": [
    "a=str(input('please enter string:'))\n",
    "\n",
    "#len(a)\n",
    "if(a[0:len(a)]==a[len(a)::-1]):\n",
    "    print('palindrome')\n",
    "else:\n",
    "    print('no')\n"
   ]
  },
  {
   "cell_type": "code",
   "execution_count": 94,
   "id": "4bcd4f52",
   "metadata": {},
   "outputs": [
    {
     "name": "stdout",
     "output_type": "stream",
     "text": [
      "level\n"
     ]
    }
   ],
   "source": [
    "a = 'level'\n",
    "print(a[0:len(a)])"
   ]
  },
  {
   "cell_type": "code",
   "execution_count": 100,
   "id": "435818a5",
   "metadata": {},
   "outputs": [
    {
     "name": "stdout",
     "output_type": "stream",
     "text": [
      "rarsi\n"
     ]
    }
   ],
   "source": [
    "a = 'israr'\n",
    "print(a[len(a)::-1])"
   ]
  },
  {
   "cell_type": "code",
   "execution_count": null,
   "id": "c2005438",
   "metadata": {},
   "outputs": [],
   "source": [
    "# Design me a calculator\n",
    "# a,b +-"
   ]
  },
  {
   "cell_type": "code",
   "execution_count": null,
   "id": "ae4e9a5e",
   "metadata": {},
   "outputs": [],
   "source": []
  }
 ],
 "metadata": {
  "kernelspec": {
   "display_name": "Python 3 (ipykernel)",
   "language": "python",
   "name": "python3"
  },
  "language_info": {
   "codemirror_mode": {
    "name": "ipython",
    "version": 3
   },
   "file_extension": ".py",
   "mimetype": "text/x-python",
   "name": "python",
   "nbconvert_exporter": "python",
   "pygments_lexer": "ipython3",
   "version": "3.9.12"
  }
 },
 "nbformat": 4,
 "nbformat_minor": 5
}
