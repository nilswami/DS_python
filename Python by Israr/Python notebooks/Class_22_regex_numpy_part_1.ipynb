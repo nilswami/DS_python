{
 "cells": [
  {
   "cell_type": "code",
   "execution_count": null,
   "id": "edeff867",
   "metadata": {},
   "outputs": [],
   "source": [
    "'''\n",
    ".       - Any Character Except New Line\n",
    "\\d      - Digit (0-9)\n",
    "\\D      - Not a Digit (0-9)\n",
    "\\w      - Word Character (a-z, A-Z, 0-9, _)\n",
    "\\W      - Not a Word Character\n",
    "\\s      - Whitespace (space, tab, newline)\n",
    "\\S      - Not Whitespace (space, tab, newline)\n",
    "\n",
    "\\b      - Word Boundary\n",
    "\\B      - Not a Word Boundary\n",
    "^       - Beginning of a String\n",
    "$       - End of a String\n",
    "\n",
    "[]      - Matches Characters in brackets\n",
    "[^ ]    - Matches Characters NOT in brackets\n",
    "|       - Either Or\n",
    "( )     - Group\n",
    "\n",
    "Quantifiers:\n",
    "*       - 0 or More\n",
    "+       - 1 or More\n",
    "?       - 0 or One\n",
    "{3}     - Exact Number\n",
    "{3,4}   - Range of Numbers (Minimum, Maximum)\n",
    "'''"
   ]
  },
  {
   "cell_type": "code",
   "execution_count": 60,
   "id": "481606ae",
   "metadata": {},
   "outputs": [],
   "source": [
    "text_to_search = '''\n",
    "abcdefghijklmnopqurtuvwxyz\n",
    "ABCDEFGHIJKLMNOPQRSTUVWXYZ\\s\n",
    "321-555-4321\n",
    "1234567890\n",
    "Ha HaHa\n",
    "MetaCharacters (Need to be escaped):\n",
    ". ^ $ * + ? { } [ ] \\ | ( )\n",
    "mohammed.israr11.com\n",
    "321-555-4321\n",
    "123.555.1234\n",
    "123*555*1234\n",
    "123.555.1234\n",
    "800-555-1234\n",
    "900-555-1234\n",
    "987000000000\n",
    "134000007770\n",
    "Mr. Schafer\n",
    "Mr Smith\n",
    "Ms Davis\n",
    "Mrs. Robinson\n",
    "Mr. T\n",
    "Mr_hello\n",
    "'''\n"
   ]
  },
  {
   "cell_type": "code",
   "execution_count": 4,
   "id": "51c571d5",
   "metadata": {},
   "outputs": [],
   "source": [
    "import re"
   ]
  },
  {
   "cell_type": "code",
   "execution_count": 19,
   "id": "17105d42",
   "metadata": {},
   "outputs": [
    {
     "name": "stdout",
     "output_type": "stream",
     "text": [
      "<re.Match object; span=(1, 2), match='a'>\n",
      "<re.Match object; span=(2, 3), match='b'>\n",
      "<re.Match object; span=(82, 83), match='a'>\n",
      "<re.Match object; span=(85, 86), match='a'>\n",
      "<re.Match object; span=(87, 88), match='a'>\n",
      "<re.Match object; span=(92, 93), match='a'>\n",
      "<re.Match object; span=(95, 96), match='a'>\n",
      "<re.Match object; span=(97, 98), match='a'>\n",
      "<re.Match object; span=(113, 114), match='b'>\n",
      "<re.Match object; span=(119, 120), match='a'>\n",
      "<re.Match object; span=(157, 158), match='a'>\n",
      "<re.Match object; span=(166, 167), match='a'>\n",
      "<re.Match object; span=(260, 261), match='a'>\n",
      "<re.Match object; span=(278, 279), match='a'>\n",
      "<re.Match object; span=(290, 291), match='b'>\n"
     ]
    }
   ],
   "source": [
    "# [ matches the char in brackets]\n",
    "a = re.compile(r'[ab]')\n",
    "# From where you want to match\n",
    "b = a.finditer(text_to_search)\n",
    "\n",
    "for i in b:\n",
    "    print(i)"
   ]
  },
  {
   "cell_type": "code",
   "execution_count": 15,
   "id": "b0dda5d0",
   "metadata": {},
   "outputs": [
    {
     "name": "stdout",
     "output_type": "stream",
     "text": [
      "<re.Match object; span=(1, 2), match='a'>\n",
      "<re.Match object; span=(2, 3), match='b'>\n",
      "<re.Match object; span=(3, 4), match='c'>\n",
      "<re.Match object; span=(4, 5), match='d'>\n",
      "<re.Match object; span=(5, 6), match='e'>\n",
      "<re.Match object; span=(6, 7), match='f'>\n",
      "<re.Match object; span=(7, 8), match='g'>\n",
      "<re.Match object; span=(8, 9), match='h'>\n",
      "<re.Match object; span=(9, 10), match='i'>\n",
      "<re.Match object; span=(10, 11), match='j'>\n",
      "<re.Match object; span=(11, 12), match='k'>\n",
      "<re.Match object; span=(12, 13), match='l'>\n",
      "<re.Match object; span=(13, 14), match='m'>\n",
      "<re.Match object; span=(14, 15), match='n'>\n",
      "<re.Match object; span=(15, 16), match='o'>\n",
      "<re.Match object; span=(16, 17), match='p'>\n",
      "<re.Match object; span=(17, 18), match='q'>\n",
      "<re.Match object; span=(18, 19), match='u'>\n",
      "<re.Match object; span=(19, 20), match='r'>\n",
      "<re.Match object; span=(20, 21), match='t'>\n",
      "<re.Match object; span=(21, 22), match='u'>\n",
      "<re.Match object; span=(22, 23), match='v'>\n",
      "<re.Match object; span=(23, 24), match='w'>\n",
      "<re.Match object; span=(24, 25), match='x'>\n",
      "<re.Match object; span=(25, 26), match='y'>\n",
      "<re.Match object; span=(26, 27), match='z'>\n",
      "<re.Match object; span=(28, 29), match='A'>\n",
      "<re.Match object; span=(29, 30), match='B'>\n",
      "<re.Match object; span=(30, 31), match='C'>\n",
      "<re.Match object; span=(31, 32), match='D'>\n",
      "<re.Match object; span=(32, 33), match='E'>\n",
      "<re.Match object; span=(33, 34), match='F'>\n",
      "<re.Match object; span=(34, 35), match='G'>\n",
      "<re.Match object; span=(35, 36), match='H'>\n",
      "<re.Match object; span=(36, 37), match='I'>\n",
      "<re.Match object; span=(37, 38), match='J'>\n",
      "<re.Match object; span=(38, 39), match='K'>\n",
      "<re.Match object; span=(39, 40), match='L'>\n",
      "<re.Match object; span=(40, 41), match='M'>\n",
      "<re.Match object; span=(41, 42), match='N'>\n",
      "<re.Match object; span=(42, 43), match='O'>\n",
      "<re.Match object; span=(43, 44), match='P'>\n",
      "<re.Match object; span=(44, 45), match='Q'>\n",
      "<re.Match object; span=(45, 46), match='R'>\n",
      "<re.Match object; span=(46, 47), match='S'>\n",
      "<re.Match object; span=(47, 48), match='T'>\n",
      "<re.Match object; span=(48, 49), match='U'>\n",
      "<re.Match object; span=(49, 50), match='V'>\n",
      "<re.Match object; span=(50, 51), match='W'>\n",
      "<re.Match object; span=(51, 52), match='X'>\n",
      "<re.Match object; span=(52, 53), match='Y'>\n",
      "<re.Match object; span=(53, 54), match='Z'>\n",
      "<re.Match object; span=(55, 56), match='s'>\n",
      "<re.Match object; span=(57, 58), match='3'>\n",
      "<re.Match object; span=(58, 59), match='2'>\n",
      "<re.Match object; span=(59, 60), match='1'>\n",
      "<re.Match object; span=(61, 62), match='5'>\n",
      "<re.Match object; span=(62, 63), match='5'>\n",
      "<re.Match object; span=(63, 64), match='5'>\n",
      "<re.Match object; span=(65, 66), match='4'>\n",
      "<re.Match object; span=(66, 67), match='3'>\n",
      "<re.Match object; span=(67, 68), match='2'>\n",
      "<re.Match object; span=(68, 69), match='1'>\n",
      "<re.Match object; span=(70, 71), match='1'>\n",
      "<re.Match object; span=(71, 72), match='2'>\n",
      "<re.Match object; span=(72, 73), match='3'>\n",
      "<re.Match object; span=(73, 74), match='4'>\n",
      "<re.Match object; span=(74, 75), match='5'>\n",
      "<re.Match object; span=(75, 76), match='6'>\n",
      "<re.Match object; span=(76, 77), match='7'>\n",
      "<re.Match object; span=(77, 78), match='8'>\n",
      "<re.Match object; span=(78, 79), match='9'>\n",
      "<re.Match object; span=(79, 80), match='0'>\n",
      "<re.Match object; span=(81, 82), match='H'>\n",
      "<re.Match object; span=(82, 83), match='a'>\n",
      "<re.Match object; span=(84, 85), match='H'>\n",
      "<re.Match object; span=(85, 86), match='a'>\n",
      "<re.Match object; span=(86, 87), match='H'>\n",
      "<re.Match object; span=(87, 88), match='a'>\n",
      "<re.Match object; span=(89, 90), match='M'>\n",
      "<re.Match object; span=(90, 91), match='e'>\n",
      "<re.Match object; span=(91, 92), match='t'>\n",
      "<re.Match object; span=(92, 93), match='a'>\n",
      "<re.Match object; span=(93, 94), match='C'>\n",
      "<re.Match object; span=(94, 95), match='h'>\n",
      "<re.Match object; span=(95, 96), match='a'>\n",
      "<re.Match object; span=(96, 97), match='r'>\n",
      "<re.Match object; span=(97, 98), match='a'>\n",
      "<re.Match object; span=(98, 99), match='c'>\n",
      "<re.Match object; span=(99, 100), match='t'>\n",
      "<re.Match object; span=(100, 101), match='e'>\n",
      "<re.Match object; span=(101, 102), match='r'>\n",
      "<re.Match object; span=(102, 103), match='s'>\n",
      "<re.Match object; span=(105, 106), match='N'>\n",
      "<re.Match object; span=(106, 107), match='e'>\n",
      "<re.Match object; span=(107, 108), match='e'>\n",
      "<re.Match object; span=(108, 109), match='d'>\n",
      "<re.Match object; span=(110, 111), match='t'>\n",
      "<re.Match object; span=(111, 112), match='o'>\n",
      "<re.Match object; span=(113, 114), match='b'>\n",
      "<re.Match object; span=(114, 115), match='e'>\n",
      "<re.Match object; span=(116, 117), match='e'>\n",
      "<re.Match object; span=(117, 118), match='s'>\n",
      "<re.Match object; span=(118, 119), match='c'>\n",
      "<re.Match object; span=(119, 120), match='a'>\n",
      "<re.Match object; span=(120, 121), match='p'>\n",
      "<re.Match object; span=(121, 122), match='e'>\n",
      "<re.Match object; span=(122, 123), match='d'>\n",
      "<re.Match object; span=(154, 155), match='m'>\n",
      "<re.Match object; span=(155, 156), match='o'>\n",
      "<re.Match object; span=(156, 157), match='h'>\n",
      "<re.Match object; span=(157, 158), match='a'>\n",
      "<re.Match object; span=(158, 159), match='m'>\n",
      "<re.Match object; span=(159, 160), match='m'>\n",
      "<re.Match object; span=(160, 161), match='e'>\n",
      "<re.Match object; span=(161, 162), match='d'>\n",
      "<re.Match object; span=(163, 164), match='i'>\n",
      "<re.Match object; span=(164, 165), match='s'>\n",
      "<re.Match object; span=(165, 166), match='r'>\n",
      "<re.Match object; span=(166, 167), match='a'>\n",
      "<re.Match object; span=(167, 168), match='r'>\n",
      "<re.Match object; span=(168, 169), match='1'>\n",
      "<re.Match object; span=(169, 170), match='1'>\n",
      "<re.Match object; span=(171, 172), match='c'>\n",
      "<re.Match object; span=(172, 173), match='o'>\n",
      "<re.Match object; span=(173, 174), match='m'>\n",
      "<re.Match object; span=(175, 176), match='3'>\n",
      "<re.Match object; span=(176, 177), match='2'>\n",
      "<re.Match object; span=(177, 178), match='1'>\n",
      "<re.Match object; span=(179, 180), match='5'>\n",
      "<re.Match object; span=(180, 181), match='5'>\n",
      "<re.Match object; span=(181, 182), match='5'>\n",
      "<re.Match object; span=(183, 184), match='4'>\n",
      "<re.Match object; span=(184, 185), match='3'>\n",
      "<re.Match object; span=(185, 186), match='2'>\n",
      "<re.Match object; span=(186, 187), match='1'>\n",
      "<re.Match object; span=(188, 189), match='1'>\n",
      "<re.Match object; span=(189, 190), match='2'>\n",
      "<re.Match object; span=(190, 191), match='3'>\n",
      "<re.Match object; span=(192, 193), match='5'>\n",
      "<re.Match object; span=(193, 194), match='5'>\n",
      "<re.Match object; span=(194, 195), match='5'>\n",
      "<re.Match object; span=(196, 197), match='1'>\n",
      "<re.Match object; span=(197, 198), match='2'>\n",
      "<re.Match object; span=(198, 199), match='3'>\n",
      "<re.Match object; span=(199, 200), match='4'>\n",
      "<re.Match object; span=(201, 202), match='1'>\n",
      "<re.Match object; span=(202, 203), match='2'>\n",
      "<re.Match object; span=(203, 204), match='3'>\n",
      "<re.Match object; span=(205, 206), match='5'>\n",
      "<re.Match object; span=(206, 207), match='5'>\n",
      "<re.Match object; span=(207, 208), match='5'>\n",
      "<re.Match object; span=(209, 210), match='1'>\n",
      "<re.Match object; span=(210, 211), match='2'>\n",
      "<re.Match object; span=(211, 212), match='3'>\n",
      "<re.Match object; span=(212, 213), match='4'>\n",
      "<re.Match object; span=(214, 215), match='1'>\n",
      "<re.Match object; span=(215, 216), match='2'>\n",
      "<re.Match object; span=(216, 217), match='3'>\n",
      "<re.Match object; span=(218, 219), match='5'>\n",
      "<re.Match object; span=(219, 220), match='5'>\n",
      "<re.Match object; span=(220, 221), match='5'>\n",
      "<re.Match object; span=(222, 223), match='1'>\n",
      "<re.Match object; span=(223, 224), match='2'>\n",
      "<re.Match object; span=(224, 225), match='3'>\n",
      "<re.Match object; span=(225, 226), match='4'>\n",
      "<re.Match object; span=(227, 228), match='8'>\n",
      "<re.Match object; span=(228, 229), match='0'>\n",
      "<re.Match object; span=(229, 230), match='0'>\n",
      "<re.Match object; span=(231, 232), match='5'>\n",
      "<re.Match object; span=(232, 233), match='5'>\n",
      "<re.Match object; span=(233, 234), match='5'>\n",
      "<re.Match object; span=(235, 236), match='1'>\n",
      "<re.Match object; span=(236, 237), match='2'>\n",
      "<re.Match object; span=(237, 238), match='3'>\n",
      "<re.Match object; span=(238, 239), match='4'>\n",
      "<re.Match object; span=(240, 241), match='9'>\n",
      "<re.Match object; span=(241, 242), match='0'>\n",
      "<re.Match object; span=(242, 243), match='0'>\n",
      "<re.Match object; span=(244, 245), match='5'>\n",
      "<re.Match object; span=(245, 246), match='5'>\n",
      "<re.Match object; span=(246, 247), match='5'>\n",
      "<re.Match object; span=(248, 249), match='1'>\n",
      "<re.Match object; span=(249, 250), match='2'>\n",
      "<re.Match object; span=(250, 251), match='3'>\n",
      "<re.Match object; span=(251, 252), match='4'>\n",
      "<re.Match object; span=(253, 254), match='M'>\n",
      "<re.Match object; span=(254, 255), match='r'>\n",
      "<re.Match object; span=(257, 258), match='S'>\n",
      "<re.Match object; span=(258, 259), match='c'>\n",
      "<re.Match object; span=(259, 260), match='h'>\n",
      "<re.Match object; span=(260, 261), match='a'>\n",
      "<re.Match object; span=(261, 262), match='f'>\n",
      "<re.Match object; span=(262, 263), match='e'>\n",
      "<re.Match object; span=(263, 264), match='r'>\n",
      "<re.Match object; span=(265, 266), match='M'>\n",
      "<re.Match object; span=(266, 267), match='r'>\n",
      "<re.Match object; span=(268, 269), match='S'>\n",
      "<re.Match object; span=(269, 270), match='m'>\n",
      "<re.Match object; span=(270, 271), match='i'>\n",
      "<re.Match object; span=(271, 272), match='t'>\n",
      "<re.Match object; span=(272, 273), match='h'>\n",
      "<re.Match object; span=(274, 275), match='M'>\n",
      "<re.Match object; span=(275, 276), match='s'>\n",
      "<re.Match object; span=(277, 278), match='D'>\n",
      "<re.Match object; span=(278, 279), match='a'>\n",
      "<re.Match object; span=(279, 280), match='v'>\n",
      "<re.Match object; span=(280, 281), match='i'>\n",
      "<re.Match object; span=(281, 282), match='s'>\n",
      "<re.Match object; span=(283, 284), match='M'>\n",
      "<re.Match object; span=(284, 285), match='r'>\n",
      "<re.Match object; span=(285, 286), match='s'>\n",
      "<re.Match object; span=(288, 289), match='R'>\n",
      "<re.Match object; span=(289, 290), match='o'>\n",
      "<re.Match object; span=(290, 291), match='b'>\n",
      "<re.Match object; span=(291, 292), match='i'>\n",
      "<re.Match object; span=(292, 293), match='n'>\n",
      "<re.Match object; span=(293, 294), match='s'>\n",
      "<re.Match object; span=(294, 295), match='o'>\n",
      "<re.Match object; span=(295, 296), match='n'>\n",
      "<re.Match object; span=(297, 298), match='M'>\n",
      "<re.Match object; span=(298, 299), match='r'>\n",
      "<re.Match object; span=(301, 302), match='T'>\n",
      "<re.Match object; span=(303, 304), match='M'>\n",
      "<re.Match object; span=(304, 305), match='r'>\n",
      "<re.Match object; span=(306, 307), match='h'>\n",
      "<re.Match object; span=(307, 308), match='e'>\n",
      "<re.Match object; span=(308, 309), match='l'>\n",
      "<re.Match object; span=(309, 310), match='l'>\n",
      "<re.Match object; span=(310, 311), match='o'>\n"
     ]
    }
   ],
   "source": [
    "# [ matches the char in brackets]\n",
    "a = re.compile(r'[0-9A-Za-z]')\n",
    "# From where you want to match\n",
    "b = a.finditer(text_to_search)\n",
    "\n",
    "for i in b:\n",
    "    print(i)"
   ]
  },
  {
   "cell_type": "code",
   "execution_count": 16,
   "id": "7d415062",
   "metadata": {},
   "outputs": [
    {
     "name": "stdout",
     "output_type": "stream",
     "text": [
      "<re.Match object; span=(0, 1), match='H'>\n",
      "<re.Match object; span=(2, 3), match='y'>\n",
      "<re.Match object; span=(3, 4), match=' '>\n",
      "<re.Match object; span=(4, 5), match='t'>\n",
      "<re.Match object; span=(5, 6), match='h'>\n",
      "<re.Match object; span=(7, 8), match='r'>\n",
      "<re.Match object; span=(9, 10), match=' '>\n",
      "<re.Match object; span=(10, 11), match='t'>\n",
      "<re.Match object; span=(11, 12), match='h'>\n",
      "<re.Match object; span=(12, 13), match='i'>\n",
      "<re.Match object; span=(13, 14), match='i'>\n",
      "<re.Match object; span=(14, 15), match='s'>\n",
      "<re.Match object; span=(15, 16), match=' '>\n",
      "<re.Match object; span=(16, 17), match='i'>\n",
      "<re.Match object; span=(17, 18), match='s'>\n",
      "<re.Match object; span=(18, 19), match=' '>\n",
      "<re.Match object; span=(19, 20), match='p'>\n",
      "<re.Match object; span=(20, 21), match='y'>\n",
      "<re.Match object; span=(21, 22), match='t'>\n",
      "<re.Match object; span=(22, 23), match='h'>\n",
      "<re.Match object; span=(23, 24), match='o'>\n",
      "<re.Match object; span=(24, 25), match='n'>\n",
      "<re.Match object; span=(25, 26), match=' '>\n",
      "<re.Match object; span=(27, 28), match='l'>\n",
      "<re.Match object; span=(29, 30), match='s'>\n",
      "<re.Match object; span=(30, 31), match='s'>\n"
     ]
    }
   ],
   "source": [
    "# [ matches the char in brackets]\n",
    "a = re.compile(r'[^a-f]')\n",
    "# From where you want to match\n",
    "b = a.finditer('Hey there thiis is python class')\n",
    "\n",
    "for i in b:\n",
    "    print(i)"
   ]
  },
  {
   "cell_type": "code",
   "execution_count": 29,
   "id": "d6e76fd4",
   "metadata": {},
   "outputs": [
    {
     "name": "stdout",
     "output_type": "stream",
     "text": [
      "<re.Match object; span=(0, 3), match='cat'>\n",
      "<re.Match object; span=(8, 11), match='fat'>\n",
      "<re.Match object; span=(12, 15), match='mat'>\n",
      "<re.Match object; span=(16, 19), match='pat'>\n"
     ]
    }
   ],
   "source": [
    "# [ matches the char in brackets]\n",
    "a = re.compile(r'\\b[^b]at')\n",
    "# From where you want to match\n",
    "b = a.finditer('cat bat fat mat pat sohat that')\n",
    "\n",
    "for i in b:\n",
    "    print(i)"
   ]
  },
  {
   "cell_type": "code",
   "execution_count": 36,
   "id": "226611db",
   "metadata": {},
   "outputs": [
    {
     "name": "stdout",
     "output_type": "stream",
     "text": [
      "<re.Match object; span=(57, 69), match='321-555-4321'>\n",
      "<re.Match object; span=(175, 187), match='321-555-4321'>\n",
      "<re.Match object; span=(201, 213), match='123*555*1234'>\n",
      "<re.Match object; span=(227, 239), match='800-555-1234'>\n",
      "<re.Match object; span=(240, 252), match='900-555-1234'>\n"
     ]
    }
   ],
   "source": [
    "# {} - \n",
    "\n",
    "# [ matches the char in brackets]\n",
    "a = re.compile(r'\\d{3}[-*]\\d{3}[*-]\\d{4}')\n",
    "# From where you want to match\n",
    "b = a.finditer(text_to_search)\n",
    "\n",
    "for i in b:\n",
    "    print(i)"
   ]
  },
  {
   "cell_type": "code",
   "execution_count": 39,
   "id": "f73c9a26",
   "metadata": {},
   "outputs": [
    {
     "name": "stdout",
     "output_type": "stream",
     "text": [
      "<re.Match object; span=(253, 264), match='98700000000'>\n"
     ]
    }
   ],
   "source": [
    "# {} - \n",
    "\n",
    "# [ matches the char in brackets]\n",
    "a = re.compile(r'[98]\\d{10}')\n",
    "# From where you want to match\n",
    "b = a.finditer(text_to_search)\n",
    "\n",
    "for i in b:\n",
    "    print(i)"
   ]
  },
  {
   "cell_type": "code",
   "execution_count": 45,
   "id": "5889e848",
   "metadata": {},
   "outputs": [
    {
     "name": "stdout",
     "output_type": "stream",
     "text": [
      "<re.Match object; span=(57, 69), match='321-555-4321'>\n",
      "<re.Match object; span=(175, 187), match='321-555-4321'>\n",
      "<re.Match object; span=(188, 200), match='123.555.1234'>\n",
      "<re.Match object; span=(214, 226), match='123.555.1234'>\n"
     ]
    }
   ],
   "source": [
    "# {min, max} - \n",
    "\n",
    "# [ matches the char in brackets]\n",
    "a = re.compile(r'[^89]\\d{2}[-.]\\d{3}[-.]\\d{4}')\n",
    "# From where you want to match\n",
    "b = a.finditer(text_to_search)\n",
    "\n",
    "for i in b:\n",
    "    print(i)"
   ]
  },
  {
   "cell_type": "code",
   "execution_count": 46,
   "id": "c3862169",
   "metadata": {},
   "outputs": [
    {
     "name": "stdout",
     "output_type": "stream",
     "text": [
      "<re.Match object; span=(40, 41), match='M'>\n",
      "<re.Match object; span=(89, 90), match='M'>\n",
      "<re.Match object; span=(279, 280), match='M'>\n",
      "<re.Match object; span=(291, 292), match='M'>\n",
      "<re.Match object; span=(300, 301), match='M'>\n",
      "<re.Match object; span=(309, 310), match='M'>\n",
      "<re.Match object; span=(323, 324), match='M'>\n",
      "<re.Match object; span=(329, 330), match='M'>\n"
     ]
    }
   ],
   "source": [
    "# step 1\n",
    "\n",
    "# [ matches the char in brackets]\n",
    "a = re.compile(r'M')\n",
    "# From where you want to match\n",
    "b = a.finditer(text_to_search)\n",
    "\n",
    "for i in b:\n",
    "    print(i)"
   ]
  },
  {
   "cell_type": "code",
   "execution_count": 47,
   "id": "dcc7331c",
   "metadata": {},
   "outputs": [
    {
     "name": "stdout",
     "output_type": "stream",
     "text": [
      "<re.Match object; span=(279, 281), match='Mr'>\n",
      "<re.Match object; span=(291, 293), match='Mr'>\n",
      "<re.Match object; span=(309, 311), match='Mr'>\n",
      "<re.Match object; span=(323, 325), match='Mr'>\n",
      "<re.Match object; span=(329, 331), match='Mr'>\n"
     ]
    }
   ],
   "source": [
    "# step 2\n",
    "\n",
    "# [ matches the char in brackets]\n",
    "a = re.compile(r'Mr')\n",
    "# From where you want to match\n",
    "b = a.finditer(text_to_search)\n",
    "\n",
    "for i in b:\n",
    "    print(i)"
   ]
  },
  {
   "cell_type": "code",
   "execution_count": 49,
   "id": "a4222ac4",
   "metadata": {},
   "outputs": [
    {
     "name": "stdout",
     "output_type": "stream",
     "text": [
      "<re.Match object; span=(279, 282), match='Mr.'>\n",
      "<re.Match object; span=(323, 326), match='Mr.'>\n"
     ]
    }
   ],
   "source": [
    "# step 3\n",
    "\n",
    "# [ matches the char in brackets]\n",
    "a = re.compile(r'Mr\\.')\n",
    "# From where you want to match\n",
    "b = a.finditer(text_to_search)\n",
    "\n",
    "for i in b:\n",
    "    print(i)"
   ]
  },
  {
   "cell_type": "code",
   "execution_count": 50,
   "id": "65bbdd97",
   "metadata": {},
   "outputs": [
    {
     "name": "stdout",
     "output_type": "stream",
     "text": [
      "<re.Match object; span=(279, 283), match='Mr. '>\n",
      "<re.Match object; span=(323, 327), match='Mr. '>\n"
     ]
    }
   ],
   "source": [
    "# step 4\n",
    "\n",
    "# [ matches the char in brackets]\n",
    "a = re.compile(r'Mr\\.\\s')\n",
    "# From where you want to match\n",
    "b = a.finditer(text_to_search)\n",
    "\n",
    "for i in b:\n",
    "    print(i)"
   ]
  },
  {
   "cell_type": "code",
   "execution_count": 51,
   "id": "f0f80f76",
   "metadata": {},
   "outputs": [
    {
     "name": "stdout",
     "output_type": "stream",
     "text": [
      "<re.Match object; span=(279, 284), match='Mr. S'>\n",
      "<re.Match object; span=(323, 328), match='Mr. T'>\n"
     ]
    }
   ],
   "source": [
    "# step 5\n",
    "\n",
    "# [ matches the char in brackets]\n",
    "a = re.compile(r'Mr\\.\\s[A-Z]')\n",
    "# From where you want to match\n",
    "b = a.finditer(text_to_search)\n",
    "\n",
    "for i in b:\n",
    "    print(i)"
   ]
  },
  {
   "cell_type": "code",
   "execution_count": 61,
   "id": "e99fda87",
   "metadata": {},
   "outputs": [
    {
     "name": "stdout",
     "output_type": "stream",
     "text": [
      "<re.Match object; span=(279, 290), match='Mr. Schafer'>\n",
      "<re.Match object; span=(323, 328), match='Mr. T'>\n"
     ]
    }
   ],
   "source": [
    "# step 6 - use of star\n",
    "\n",
    "# [ matches the char in brackets]\n",
    "a = re.compile(r'Mr\\.\\s[A-Z][a-z]*')\n",
    "# From where you want to match\n",
    "b = a.finditer(text_to_search)\n",
    "\n",
    "for i in b:\n",
    "    print(i)"
   ]
  },
  {
   "cell_type": "code",
   "execution_count": 62,
   "id": "8932a2f1",
   "metadata": {},
   "outputs": [
    {
     "name": "stdout",
     "output_type": "stream",
     "text": [
      "<re.Match object; span=(279, 290), match='Mr. Schafer'>\n",
      "<re.Match object; span=(323, 328), match='Mr. T'>\n"
     ]
    }
   ],
   "source": [
    "# step 7 | --> or   ()\n",
    "\n",
    "# [ matches the char in brackets]\n",
    "a = re.compile(r'M(r|s)\\.\\s[A-Z][a-z]*')\n",
    "# From where you want to match\n",
    "b = a.finditer(text_to_search)\n",
    "\n",
    "for i in b:\n",
    "    print(i)"
   ]
  },
  {
   "cell_type": "code",
   "execution_count": 64,
   "id": "de26f2ef",
   "metadata": {},
   "outputs": [
    {
     "name": "stdout",
     "output_type": "stream",
     "text": [
      "<re.Match object; span=(279, 290), match='Mr. Schafer'>\n",
      "<re.Match object; span=(291, 299), match='Mr Smith'>\n",
      "<re.Match object; span=(300, 308), match='Ms Davis'>\n",
      "<re.Match object; span=(309, 322), match='Mrs. Robinson'>\n",
      "<re.Match object; span=(323, 328), match='Mr. T'>\n"
     ]
    }
   ],
   "source": [
    "# step 8\n",
    "\n",
    "# [ matches the char in brackets]\n",
    "a = re.compile(r'M(r|s|rs)\\.?\\s[A-Z][a-z]*')\n",
    "# From where you want to match\n",
    "b = a.finditer(text_to_search)\n",
    "\n",
    "for i in b:\n",
    "    print(i)"
   ]
  },
  {
   "cell_type": "code",
   "execution_count": 70,
   "id": "d11208da",
   "metadata": {},
   "outputs": [
    {
     "name": "stdout",
     "output_type": "stream",
     "text": [
      "<re.Match object; span=(279, 290), match='Mr. Schafer'>\n",
      "<re.Match object; span=(291, 299), match='Mr Smith'>\n",
      "<re.Match object; span=(300, 308), match='Ms Davis'>\n",
      "<re.Match object; span=(309, 312), match='Mrs'>\n",
      "<re.Match object; span=(323, 328), match='Mr. T'>\n",
      "<re.Match object; span=(329, 337), match='Mr_hello'>\n"
     ]
    }
   ],
   "source": [
    "# step 8\n",
    "\n",
    "# [ matches the char in brackets]\n",
    "a = re.compile(r'M(r|s|rs)(.|_)?\\s?[A-Z|a-z][a-z]*')\n",
    "# From where you want to match\n",
    "b = a.finditer(text_to_search)\n",
    "\n",
    "for i in b:\n",
    "    print(i)"
   ]
  },
  {
   "cell_type": "code",
   "execution_count": null,
   "id": "bef9d845",
   "metadata": {},
   "outputs": [],
   "source": []
  },
  {
   "cell_type": "code",
   "execution_count": 71,
   "id": "5f61a1c5",
   "metadata": {},
   "outputs": [],
   "source": [
    "text_to_search = '''\n",
    "abcdefghijklmnopqurtuvwxyz\n",
    "ABCDEFGHIJKLMNOPQRSTUVWXYZ\\s\n",
    "321-555-4321\n",
    "1234567890\n",
    "Ha HaHa\n",
    "MetaCharacters (Need to be escaped):\n",
    ". ^ $ * + ? { } [ ] \\ | ( )\n",
    "mohammed.israr11.com\n",
    "321-555-4321\n",
    "123.555.1234\n",
    "123*555*1234\n",
    "123.555.1234\n",
    "800-555-1234\n",
    "900-555-1234\n",
    "987000000000\n",
    "134000007770\n",
    "Mr. Schafer\n",
    "Mr Smith\n",
    "Ms Davis\n",
    "Mrs. Robinson\n",
    "Mr. T\n",
    "Mr_hello\n",
    "'''\n"
   ]
  },
  {
   "cell_type": "code",
   "execution_count": null,
   "id": "daf39df0",
   "metadata": {},
   "outputs": [],
   "source": [
    "regex to check whether its a valid email or no?"
   ]
  },
  {
   "cell_type": "code",
   "execution_count": 72,
   "id": "06309f35",
   "metadata": {},
   "outputs": [],
   "source": [
    "mail='''mohammed.israr11@gmail.com\n",
    "mohammed.python@gmail.com\n",
    "PYTHON.israr11@yahoo.com\n",
    "mohammed.israr11@mama-earth.com \n",
    "mohammed_israr11@redif.com \n",
    "'''\n"
   ]
  },
  {
   "cell_type": "code",
   "execution_count": 82,
   "id": "64035a72",
   "metadata": {},
   "outputs": [],
   "source": [
    "mails='''PYTHON.israr11@yahoo.com'''\n"
   ]
  },
  {
   "cell_type": "code",
   "execution_count": 83,
   "id": "3dcc458c",
   "metadata": {},
   "outputs": [
    {
     "name": "stdout",
     "output_type": "stream",
     "text": [
      "<re.Match object; span=(6, 24), match='.israr11@yahoo.com'>\n"
     ]
    }
   ],
   "source": [
    "a=re.compile(r'\\b[^A-Z][a-z]*(.|_)[a-z0-9]*@[a-z]*\\.com') #not white space #? 0 0r 1\n",
    "b=a.finditer(mails)\n",
    "for i in b:\n",
    "    print(i)\n"
   ]
  },
  {
   "cell_type": "code",
   "execution_count": 81,
   "id": "9eab3d65",
   "metadata": {},
   "outputs": [
    {
     "name": "stdout",
     "output_type": "stream",
     "text": [
      "<re.Match object; span=(0, 26), match='mohammed.israr11@gmail.com'>\n",
      "<re.Match object; span=(27, 52), match='mohammed.python@gmail.com'>\n",
      "<re.Match object; span=(59, 77), match='.israr11@yahoo.com'>\n",
      "<re.Match object; span=(111, 137), match='mohammed_israr11@redif.com'>\n"
     ]
    }
   ],
   "source": [
    "import re\n",
    "pattern = re.compile(r'[a-z]*(.|_)?[a-z0-9]*@[a-z]*\\.com')\n",
    "\n",
    "matches = pattern.finditer(mail)\n",
    "\n",
    "for i in matches:\n",
    "    print(i)\n"
   ]
  },
  {
   "cell_type": "markdown",
   "id": "369a8408",
   "metadata": {},
   "source": [
    "# Numpy"
   ]
  },
  {
   "cell_type": "code",
   "execution_count": 84,
   "id": "30c1df62",
   "metadata": {},
   "outputs": [
    {
     "name": "stdout",
     "output_type": "stream",
     "text": [
      "Requirement already satisfied: numpy in c:\\users\\mit\\anaconda3\\lib\\site-packages (1.21.5)\n",
      "Note: you may need to restart the kernel to use updated packages.\n"
     ]
    }
   ],
   "source": [
    "pip install numpy"
   ]
  },
  {
   "cell_type": "code",
   "execution_count": 85,
   "id": "6d502f0e",
   "metadata": {},
   "outputs": [
    {
     "name": "stdout",
     "output_type": "stream",
     "text": [
      "Requirement already satisfied: pandas in c:\\users\\mit\\anaconda3\\lib\\site-packages (1.4.2)\n",
      "Requirement already satisfied: numpy>=1.18.5 in c:\\users\\mit\\anaconda3\\lib\\site-packages (from pandas) (1.21.5)\n",
      "Requirement already satisfied: pytz>=2020.1 in c:\\users\\mit\\anaconda3\\lib\\site-packages (from pandas) (2021.3)\n",
      "Requirement already satisfied: python-dateutil>=2.8.1 in c:\\users\\mit\\anaconda3\\lib\\site-packages (from pandas) (2.8.2)\n",
      "Requirement already satisfied: six>=1.5 in c:\\users\\mit\\anaconda3\\lib\\site-packages (from python-dateutil>=2.8.1->pandas) (1.16.0)\n",
      "Note: you may need to restart the kernel to use updated packages.\n"
     ]
    }
   ],
   "source": [
    "pip install pandas"
   ]
  },
  {
   "cell_type": "markdown",
   "id": "b530cc21",
   "metadata": {},
   "source": [
    "* matrix - maths \n",
    "* programing - array\n",
    "* deep learning - tensor"
   ]
  },
  {
   "cell_type": "markdown",
   "id": "eb7ca2b9",
   "metadata": {},
   "source": [
    "# Numpy - Numerical python\n",
    "\n",
    "* Its a python package used for computation and preocessing of single and multi dimensional array\n",
    "* Its written in C - The speed is unmatchable \n",
    "* "
   ]
  },
  {
   "cell_type": "code",
   "execution_count": 88,
   "id": "1c7f9284",
   "metadata": {},
   "outputs": [],
   "source": [
    "import numpy as np"
   ]
  },
  {
   "cell_type": "code",
   "execution_count": null,
   "id": "e0c91bef",
   "metadata": {},
   "outputs": [],
   "source": [
    "# 1. create an array with python list or tuple using array function"
   ]
  },
  {
   "cell_type": "code",
   "execution_count": 95,
   "id": "7389bfb0",
   "metadata": {},
   "outputs": [
    {
     "name": "stdout",
     "output_type": "stream",
     "text": [
      "<class 'list'>\n",
      "[1 2 3 4 5 6] <class 'numpy.ndarray'>\n"
     ]
    }
   ],
   "source": [
    "lst_1 = [1,2,3,4,5,6]\n",
    "\n",
    "print(type(lst_1))\n",
    "\n",
    "arr = np.array(lst_1)\n",
    "\n",
    "print(arr , type(arr))"
   ]
  },
  {
   "cell_type": "code",
   "execution_count": 92,
   "id": "4b8eecb7",
   "metadata": {},
   "outputs": [
    {
     "name": "stdout",
     "output_type": "stream",
     "text": [
      "<class 'tuple'>\n",
      "[1 2 3 4 5 6] <class 'numpy.ndarray'>\n"
     ]
    }
   ],
   "source": [
    "lst_1 = (1,2,3,4,5,6)\n",
    "\n",
    "print(type(lst_1))\n",
    "\n",
    "arr = np.array(lst_1)\n",
    "\n",
    "print(arr , type(arr))"
   ]
  },
  {
   "cell_type": "code",
   "execution_count": null,
   "id": "8d7927b9",
   "metadata": {},
   "outputs": [],
   "source": [
    "print(dir(np))"
   ]
  },
  {
   "cell_type": "code",
   "execution_count": 94,
   "id": "b474a9da",
   "metadata": {},
   "outputs": [
    {
     "name": "stdout",
     "output_type": "stream",
     "text": [
      "<class 'dict'>\n",
      "{1: 3434, 2: 4334, 3: 32434, 4: 343, 5: 343, 6: 343} <class 'numpy.ndarray'>\n"
     ]
    }
   ],
   "source": [
    "lst_1 = {1:3434,2:4334,3:32434,4:343,5:343,6:343}\n",
    "\n",
    "print(type(lst_1))\n",
    "\n",
    "arr = np.array(lst_1)\n",
    "\n",
    "print(arr , type(arr))"
   ]
  },
  {
   "cell_type": "code",
   "execution_count": 99,
   "id": "27746bcf",
   "metadata": {},
   "outputs": [
    {
     "name": "stdout",
     "output_type": "stream",
     "text": [
      "6\n",
      "(6,)\n",
      "1\n"
     ]
    }
   ],
   "source": [
    "lst_1 = [1,2,3,4,5,6]\n",
    "\n",
    "arr = np.array(lst_1)\n",
    "\n",
    "# few important attributes \n",
    "\n",
    "# Size of the array\n",
    "print(arr.size)\n",
    "\n",
    "# shape of the array\n",
    "print(arr.shape)\n",
    "# dim\n",
    "print(arr.ndim)"
   ]
  },
  {
   "cell_type": "code",
   "execution_count": null,
   "id": "2a557ced",
   "metadata": {},
   "outputs": [],
   "source": [
    "scalar ?----> 0d ----45, 65,34\n",
    "vector ?----> 1d -----> [1,2,3,4,5,6]\n",
    "2d\n",
    "3d\n",
    "4d\n"
   ]
  },
  {
   "cell_type": "code",
   "execution_count": 101,
   "id": "cac65312",
   "metadata": {},
   "outputs": [
    {
     "name": "stdout",
     "output_type": "stream",
     "text": [
      "<class 'list'>\n",
      "[[ 1  2  3  4]\n",
      " [ 9  7  6  5]\n",
      " [ 3  6  7 98]] <class 'numpy.ndarray'>\n"
     ]
    }
   ],
   "source": [
    "lst_1 = [[1,2,3,4],[9,7,6,5],[3,6,7,98]]\n",
    "\n",
    "print(type(lst_1))\n",
    "\n",
    "arr = np.array(lst_1)\n",
    "\n",
    "print(arr , type(arr))"
   ]
  },
  {
   "cell_type": "code",
   "execution_count": 117,
   "id": "06414459",
   "metadata": {},
   "outputs": [
    {
     "name": "stdout",
     "output_type": "stream",
     "text": [
      "<class 'int'>\n",
      "2 <class 'numpy.ndarray'>\n"
     ]
    }
   ],
   "source": [
    "lst_1 = [[[1,2,3],[4,5,6]]]\n",
    "\n",
    "print(type(lst_1))\n",
    "\n",
    "arr = np.array(lst_1)\n",
    "\n",
    "print(arr , type(arr))"
   ]
  },
  {
   "cell_type": "code",
   "execution_count": null,
   "id": "f187fedc",
   "metadata": {},
   "outputs": [],
   "source": [
    "2. Create an array with arange function"
   ]
  },
  {
   "cell_type": "code",
   "execution_count": 105,
   "id": "8327a343",
   "metadata": {},
   "outputs": [
    {
     "data": {
      "text/plain": [
       "[0, 2, 4, 6, 8]"
      ]
     },
     "execution_count": 105,
     "metadata": {},
     "output_type": "execute_result"
    }
   ],
   "source": [
    "list(range(0,10,2))"
   ]
  },
  {
   "cell_type": "code",
   "execution_count": 107,
   "id": "593ab14e",
   "metadata": {},
   "outputs": [
    {
     "data": {
      "text/plain": [
       "array([0, 1, 2, 3, 4, 5, 6, 7, 8, 9])"
      ]
     },
     "execution_count": 107,
     "metadata": {},
     "output_type": "execute_result"
    }
   ],
   "source": [
    "np.arange(0,10)"
   ]
  },
  {
   "cell_type": "markdown",
   "id": "f496a9e7",
   "metadata": {},
   "source": [
    "# 3. using linspace"
   ]
  },
  {
   "cell_type": "code",
   "execution_count": 115,
   "id": "fd3d697a",
   "metadata": {},
   "outputs": [
    {
     "data": {
      "text/plain": [
       "array([ 1.  ,  3.25,  5.5 ,  7.75, 10.  ])"
      ]
     },
     "execution_count": 115,
     "metadata": {},
     "output_type": "execute_result"
    }
   ],
   "source": [
    "np.linspace(1,10,5)"
   ]
  },
  {
   "cell_type": "code",
   "execution_count": 116,
   "id": "83cc2109",
   "metadata": {},
   "outputs": [],
   "source": [
    "# zeros and zero like\n"
   ]
  },
  {
   "cell_type": "code",
   "execution_count": null,
   "id": "07b03aee",
   "metadata": {},
   "outputs": [],
   "source": []
  },
  {
   "cell_type": "code",
   "execution_count": null,
   "id": "0e8b218d",
   "metadata": {},
   "outputs": [],
   "source": []
  },
  {
   "cell_type": "code",
   "execution_count": null,
   "id": "a0d146fd",
   "metadata": {},
   "outputs": [],
   "source": []
  }
 ],
 "metadata": {
  "kernelspec": {
   "display_name": "Python 3 (ipykernel)",
   "language": "python",
   "name": "python3"
  },
  "language_info": {
   "codemirror_mode": {
    "name": "ipython",
    "version": 3
   },
   "file_extension": ".py",
   "mimetype": "text/x-python",
   "name": "python",
   "nbconvert_exporter": "python",
   "pygments_lexer": "ipython3",
   "version": "3.9.12"
  }
 },
 "nbformat": 4,
 "nbformat_minor": 5
}
