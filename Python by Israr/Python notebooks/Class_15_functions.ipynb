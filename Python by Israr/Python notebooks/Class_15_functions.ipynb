{
 "cells": [
  {
   "cell_type": "code",
   "execution_count": null,
   "id": "6fc07860",
   "metadata": {},
   "outputs": [],
   "source": [
    "my_dict = {\n",
    "    \"1\":\"One\",\n",
    "    '2':\"Two\",\n",
    "    '3':\"Three\",\n",
    "    '4':\"Four\",\n",
    "    '5':\"five\"\n",
    "}\n",
    "i = '6'\n",
    "for k,l in my_dict.items():\n",
    "    if i in k:\n",
    "        print(my_dict[i])\n",
    "        break\n",
    "        \n",
    "else: \n",
    "        print(\"invalid\")\n"
   ]
  },
  {
   "cell_type": "code",
   "execution_count": null,
   "id": "d700dbe2",
   "metadata": {},
   "outputs": [],
   "source": [
    "i = 11 # Initilization\n",
    "while i < 10: # condition\n",
    "    print('statement')\n",
    "    i+=1 # inc/dec\n",
    "else: print('give valid number')"
   ]
  },
  {
   "cell_type": "code",
   "execution_count": null,
   "id": "a31f5712",
   "metadata": {},
   "outputs": [],
   "source": [
    "# pass \n",
    "s = 'student'\n",
    "for i in s:\n",
    "    if i == 'u':\n",
    "        print('pass executed')\n",
    "        pass\n",
    "    print(i)"
   ]
  },
  {
   "cell_type": "code",
   "execution_count": null,
   "id": "3275409f",
   "metadata": {},
   "outputs": [],
   "source": [
    "for i in range(6): \n",
    "    if i == 1:\n",
    "        pass\n",
    "        print('dsa')\n",
    "    print(i)"
   ]
  },
  {
   "cell_type": "code",
   "execution_count": null,
   "id": "0e453bef",
   "metadata": {},
   "outputs": [],
   "source": [
    "a = 'python'\n",
    "i = 0 #\n",
    "while i < 6:# \n",
    "    if i >= 3:\n",
    "        pass\n",
    "    print(a[i]*(i+1))\n",
    "    i += 1"
   ]
  },
  {
   "cell_type": "markdown",
   "id": "17ec3eed",
   "metadata": {},
   "source": [
    "# Functions"
   ]
  },
  {
   "cell_type": "code",
   "execution_count": null,
   "id": "a6c30c00",
   "metadata": {},
   "outputs": [],
   "source": [
    "str1 = 'abc'\n",
    "# Task 1\n",
    "if str1 == str1[::-1]:\n",
    "    print('Yes')\n",
    "else: print('No')\n",
    "    \n",
    "# Task 2\n",
    "num_1 = 10\n",
    "num_2 = 20\n",
    "print(num_1+num_2)\n",
    "\n",
    "# Task 3 \n",
    "str1 = 'xyz'\n",
    "if str1 == str1[::-1]:\n",
    "    print('Yes')\n",
    "else: print('No')"
   ]
  },
  {
   "cell_type": "code",
   "execution_count": null,
   "id": "8e80e98d",
   "metadata": {},
   "outputs": [],
   "source": [
    "def sum1():\n",
    "    print(10+20)"
   ]
  },
  {
   "cell_type": "code",
   "execution_count": null,
   "id": "7969d7bd",
   "metadata": {},
   "outputs": [],
   "source": [
    "sum1()"
   ]
  },
  {
   "cell_type": "code",
   "execution_count": null,
   "id": "5b16a035",
   "metadata": {},
   "outputs": [],
   "source": [
    "# Function\n",
    "- function defination - we define the code that we want \n",
    "- function call - we execute the function\n",
    "\n",
    "\n",
    "sysntax- \n",
    "def func_name(parameter):\n",
    "    state 1\n",
    "    stat 2\n",
    "    return stat 3\n",
    "\n",
    "# The thigs which are optional\n",
    "* parameters \n",
    "* return\n",
    "\n",
    "# Function call\n",
    "fuct_name(parameter)"
   ]
  },
  {
   "cell_type": "code",
   "execution_count": null,
   "id": "c2e47fe4",
   "metadata": {},
   "outputs": [],
   "source": [
    "def palindrome():\n",
    "    str1 = input('Please enter the string')\n",
    "    if str1 == str1[::-1]:\n",
    "        print('Yes')\n",
    "    else: print('No')"
   ]
  },
  {
   "cell_type": "code",
   "execution_count": null,
   "id": "f5e1cc9e",
   "metadata": {},
   "outputs": [],
   "source": [
    "palindrome()"
   ]
  },
  {
   "cell_type": "code",
   "execution_count": null,
   "id": "af94cf58",
   "metadata": {},
   "outputs": [],
   "source": [
    "def sub():\n",
    "    print(20-10)"
   ]
  },
  {
   "cell_type": "code",
   "execution_count": null,
   "id": "886272cc",
   "metadata": {},
   "outputs": [],
   "source": [
    "sub()"
   ]
  },
  {
   "cell_type": "code",
   "execution_count": null,
   "id": "13185a54",
   "metadata": {},
   "outputs": [],
   "source": [
    "def sum1(a,b, c = 4):\n",
    "    print(a+b+c)"
   ]
  },
  {
   "cell_type": "code",
   "execution_count": null,
   "id": "2b9d885e",
   "metadata": {},
   "outputs": [],
   "source": [
    "sum1(10,20)"
   ]
  },
  {
   "cell_type": "code",
   "execution_count": null,
   "id": "3e4af5e4",
   "metadata": {},
   "outputs": [],
   "source": [
    "list(range(10,15))"
   ]
  },
  {
   "cell_type": "markdown",
   "id": "c2c45a1c",
   "metadata": {},
   "source": [
    "# Types of arguments \n",
    "\n",
    "1. positional argument\n",
    "  - The order is important\n",
    "  - num of arg should match with the number of parameters."
   ]
  },
  {
   "cell_type": "code",
   "execution_count": null,
   "id": "f5ceead0",
   "metadata": {},
   "outputs": [],
   "source": [
    "def emp_info(emp_name , emp_salary, emp_age):\n",
    "    print(emp_name)\n",
    "    print(emp_salary)\n",
    "    print(emp_age)\n",
    "\n",
    "emp_info('israr', 'zero',25 )"
   ]
  },
  {
   "cell_type": "code",
   "execution_count": null,
   "id": "2fc69817",
   "metadata": {},
   "outputs": [],
   "source": [
    "def emp_info(emp_name , emp_salary, emp_age):\n",
    "    print(emp_name)\n",
    "    print(emp_salary)\n",
    "#    print(emp_age)\n",
    "\n",
    "emp_info(25, 'zero','israr' )"
   ]
  },
  {
   "cell_type": "code",
   "execution_count": null,
   "id": "d7c431fc",
   "metadata": {},
   "outputs": [],
   "source": [
    "def emp_info(emp_name , emp_salary, emp_age):\n",
    "    print(emp_name)\n",
    "    print(emp_salary)\n",
    "    print(emp_age)\n",
    "\n",
    "emp_info('israr', 'zero' )"
   ]
  },
  {
   "cell_type": "markdown",
   "id": "a2e746d5",
   "metadata": {},
   "source": [
    "2. default arguments \n",
    " - It is used to keep any values as default\n",
    " - Parameter passing for the default arg is optional (Pass only if you need to change it)\n",
    " - You can change the position of the default values only after passing the required parameters"
   ]
  },
  {
   "cell_type": "code",
   "execution_count": null,
   "id": "33ad708c",
   "metadata": {},
   "outputs": [],
   "source": [
    "def emp_info(emp_name , emp_salary, emp_age, emp_location='Bangalore' ):\n",
    "    print(emp_name)\n",
    "    print(emp_salary)\n",
    "    print(emp_age)\n",
    "    print(emp_location)\n",
    "\n",
    "emp_info('israr', 'zero',35 )"
   ]
  },
  {
   "cell_type": "code",
   "execution_count": null,
   "id": "d00bca75",
   "metadata": {},
   "outputs": [],
   "source": [
    "def emp_info(emp_name , emp_salary, emp_age, emp_location='Bangalore' ):\n",
    "    print(emp_name)\n",
    "    print(emp_salary)\n",
    "    print(emp_age)\n",
    "    print(emp_location)\n",
    "\n",
    "emp_info('israr', 'zero',35 )"
   ]
  },
  {
   "cell_type": "code",
   "execution_count": null,
   "id": "e88630f0",
   "metadata": {},
   "outputs": [],
   "source": [
    "a = list([1,2,3,4,5])\n",
    "a[2] = 7"
   ]
  },
  {
   "cell_type": "code",
   "execution_count": null,
   "id": "671e94a6",
   "metadata": {},
   "outputs": [],
   "source": [
    "print(emp_info('amitesh', 600000, 25, emp_location = 'Kerala'))"
   ]
  },
  {
   "cell_type": "code",
   "execution_count": null,
   "id": "1051a557",
   "metadata": {},
   "outputs": [],
   "source": [
    "print(emp_info('amitesh', 600000, 25,'kerala' ))"
   ]
  },
  {
   "cell_type": "markdown",
   "id": "9caff2e1",
   "metadata": {},
   "source": [
    "# keyword arguments"
   ]
  },
  {
   "cell_type": "code",
   "execution_count": null,
   "id": "247ede59",
   "metadata": {},
   "outputs": [],
   "source": [
    "def emp_info(emp_name , emp_salary, emp_age, emp_location='Bangalore', emp_pin = 560032 ):\n",
    "    print(emp_name)\n",
    "    print(emp_salary)\n",
    "    print(emp_age)\n",
    "    print(emp_location)\n",
    "    print(emp_pin)\n",
    "\n",
    "emp_info('israr', 'zero',35 )"
   ]
  },
  {
   "cell_type": "markdown",
   "id": "74f64ae6",
   "metadata": {},
   "source": [
    "* Important note - If there is a combination of positional argument and default argument\n",
    "* Then the positional arguments should be followed by default"
   ]
  },
  {
   "cell_type": "code",
   "execution_count": null,
   "id": "0a442989",
   "metadata": {},
   "outputs": [],
   "source": [
    "def emp_info(emp_name , emp_salary, emp_age, emp_location='Bangalore', emp_pin = 560032 ):\n",
    "    print(emp_name)\n",
    "    print(emp_salary)\n",
    "    print(emp_age)\n",
    "    print(emp_location)\n",
    "    print(emp_pin)\n",
    "\n",
    "emp_info(emp_pin = 655656, 'israr', 'zero',35 , emp_location='mumbai')"
   ]
  },
  {
   "cell_type": "code",
   "execution_count": null,
   "id": "4b09c286",
   "metadata": {},
   "outputs": [],
   "source": [
    "def emp_info(emp_name , emp_salary, emp_age, emp_location='Bangalore', emp_pin = 560032 ):\n",
    "    print(emp_name)\n",
    "    print(emp_salary)\n",
    "    print(emp_age)\n",
    "    print(emp_location)\n",
    "    print(emp_pin)\n",
    "\n",
    "emp_info('israr',emp_salary = 'zero',44, emp_pin = 57575 , emp_location='mumbai')"
   ]
  },
  {
   "cell_type": "code",
   "execution_count": null,
   "id": "cb312ec7",
   "metadata": {},
   "outputs": [],
   "source": [
    "def emp_info(emp_name , emp_salary, emp_age, emp_location='Bangalore', emp_pin = 560032 ):\n",
    "    print(emp_name)\n",
    "    print(emp_salary)\n",
    "    print(emp_age)\n",
    "    print(emp_location)\n",
    "    print(emp_pin)\n",
    "\n",
    "emp_info('israr', 'zero', 35 , emp_pin = 65565, emp_location='mumbai')"
   ]
  },
  {
   "cell_type": "code",
   "execution_count": null,
   "id": "d1387297",
   "metadata": {},
   "outputs": [],
   "source": [
    "def emp_info(emp_name , emp_salary, emp_age, emp_location='Bangalore', emp_pin = 560032 ):\n",
    "    pass\n",
    "    print(emp_name)\n",
    "    print(emp_salary)\n",
    "    print(emp_age)\n",
    "    print(emp_location)\n",
    "    print(emp_pin)\n",
    "\n",
    "emp_info('israr', 'zero', 35 , emp_location = 'kerala', emp_pin = 879)"
   ]
  },
  {
   "cell_type": "code",
   "execution_count": null,
   "id": "687d5977",
   "metadata": {},
   "outputs": [],
   "source": [
    "emp_info('safdsd','sdfs',43)"
   ]
  },
  {
   "cell_type": "code",
   "execution_count": 1,
   "id": "ce96b740",
   "metadata": {},
   "outputs": [
    {
     "name": "stdout",
     "output_type": "stream",
     "text": [
      "30\n",
      "70\n",
      "40\n",
      "30\n",
      "10\n",
      "20\n"
     ]
    },
    {
     "ename": "NameError",
     "evalue": "name 'a' is not defined",
     "output_type": "error",
     "traceback": [
      "\u001b[1;31m---------------------------------------------------------------------------\u001b[0m",
      "\u001b[1;31mNameError\u001b[0m                                 Traceback (most recent call last)",
      "Input \u001b[1;32mIn [1]\u001b[0m, in \u001b[0;36m<cell line: 15>\u001b[1;34m()\u001b[0m\n\u001b[0;32m     13\u001b[0m \u001b[38;5;28mprint\u001b[39m(x)\n\u001b[0;32m     14\u001b[0m \u001b[38;5;28mprint\u001b[39m(y)\n\u001b[1;32m---> 15\u001b[0m \u001b[38;5;28mprint\u001b[39m(\u001b[43ma\u001b[49m)\n\u001b[0;32m     16\u001b[0m \u001b[38;5;28mprint\u001b[39m(b)\n\u001b[0;32m     17\u001b[0m \u001b[38;5;28mprint\u001b[39m(c)\n",
      "\u001b[1;31mNameError\u001b[0m: name 'a' is not defined"
     ]
    }
   ],
   "source": [
    "x = 10 \n",
    "y = 20\n",
    "\n",
    "def sum1(a,b):\n",
    "    c = a+b\n",
    "    d = x+y\n",
    "    print(d)\n",
    "    print(c)\n",
    "    print(a)\n",
    "    print(b)\n",
    "sum1(40,30)\n",
    "\n",
    "print(x)\n",
    "print(y)\n",
    "print(a)\n",
    "print(b)\n",
    "print(c)\n",
    "print(d)\n",
    "\n",
    "# 30\n",
    "# 70\n",
    "# 40\n",
    "# 30\n",
    "# 10\n",
    "# 20"
   ]
  },
  {
   "cell_type": "code",
   "execution_count": null,
   "id": "6c9cbd8d",
   "metadata": {},
   "outputs": [],
   "source": [
    "# Return_map reduce filter_ enumerate "
   ]
  }
 ],
 "metadata": {
  "kernelspec": {
   "display_name": "Python 3 (ipykernel)",
   "language": "python",
   "name": "python3"
  },
  "language_info": {
   "codemirror_mode": {
    "name": "ipython",
    "version": 3
   },
   "file_extension": ".py",
   "mimetype": "text/x-python",
   "name": "python",
   "nbconvert_exporter": "python",
   "pygments_lexer": "ipython3",
   "version": "3.9.12"
  }
 },
 "nbformat": 4,
 "nbformat_minor": 5
}
