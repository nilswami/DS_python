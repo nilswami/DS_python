{
 "cells": [
  {
   "cell_type": "markdown",
   "id": "b7280377",
   "metadata": {},
   "source": [
    "# Different ways to execute the python file"
   ]
  },
  {
   "cell_type": "code",
   "execution_count": 1,
   "id": "43df9108",
   "metadata": {},
   "outputs": [],
   "source": [
    "# extension of python of python file - .py\n",
    "# extension of jupyter notebook - .pynb"
   ]
  },
  {
   "cell_type": "code",
   "execution_count": null,
   "id": "ae706844",
   "metadata": {},
   "outputs": [],
   "source": [
    "1. jupyter \n",
    "2. interpretor\n",
    "3. load the Python file and run it through the prompt"
   ]
  },
  {
   "cell_type": "code",
   "execution_count": null,
   "id": "f22c3c0e",
   "metadata": {},
   "outputs": [],
   "source": [
    "pwd # To sind the current directory"
   ]
  },
  {
   "cell_type": "code",
   "execution_count": null,
   "id": "e392d22f",
   "metadata": {},
   "outputs": [],
   "source": [
    "# Python components\n",
    "\n",
    "- literals - datatypes\n",
    "- Constants\n",
    "- Variables \n",
    "- identifiers\n",
    "- Reserved words\n",
    "- statement and expressions\n",
    "- blocks and indentation\n",
    "- comments"
   ]
  },
  {
   "cell_type": "code",
   "execution_count": null,
   "id": "b42ca923",
   "metadata": {},
   "outputs": [],
   "source": [
    "# literals\n",
    "\n",
    "- any value that you see in a programming is called as literals\n",
    "\n",
    "different types of literals are\n",
    "\n",
    "1. int - any value without a decimal point eg -100, 99 , 56\n",
    "2. float - any value with a decimal point eg -100.999 , 99.123 , 56.98\n",
    "3. Complex - any numbers that can be written in the form of a+bj a = real, b = img\n",
    "4. None\n",
    "5. Boolean - True/False\n",
    "6. String - anything written inside '_' , \"_\", '''_''' and \"\"\"__\"\"\""
   ]
  },
  {
   "cell_type": "code",
   "execution_count": null,
   "id": "ed5c0105",
   "metadata": {},
   "outputs": [],
   "source": [
    "a = 10 #int\n",
    "b = -20 # int\n",
    "c = None # None \n",
    "e = 'none' # String \n",
    "f = True # Boolean"
   ]
  },
  {
   "cell_type": "code",
   "execution_count": null,
   "id": "59175c2d",
   "metadata": {},
   "outputs": [],
   "source": []
  },
  {
   "cell_type": "code",
   "execution_count": null,
   "id": "43b88f9f",
   "metadata": {},
   "outputs": [],
   "source": [
    "'-' ----> "
   ]
  },
  {
   "cell_type": "code",
   "execution_count": 10,
   "id": "b42b9d81",
   "metadata": {},
   "outputs": [
    {
     "name": "stdout",
     "output_type": "stream",
     "text": [
      "This is a \n",
      "python's \n",
      "class\n"
     ]
    }
   ],
   "source": [
    "a = \"\"\"This is a \n",
    "python's \n",
    "class\"\"\"\n",
    "print(a)"
   ]
  },
  {
   "cell_type": "markdown",
   "id": "4bd79c7f",
   "metadata": {},
   "source": [
    "# Constants , Varaibles and identifiers\n",
    "\n",
    "* Constants and variables are subsets of identifiers\n",
    "\n",
    "* Identifiers - Any name used in the program like a variable name , function name , class name, contant name\n",
    "\n",
    "Rules \n",
    "\n",
    "1. Allowed characters are A-Z , a-z , 0-9 , _\n",
    "2. Not allowed - Special char \n",
    "3. Should not start with number\n",
    "4. Predefined Keywords \n",
    "\n",
    "1. All constants should be in capital letters\n"
   ]
  },
  {
   "cell_type": "code",
   "execution_count": 16,
   "id": "399193ad",
   "metadata": {},
   "outputs": [
    {
     "name": "stdout",
     "output_type": "stream",
     "text": [
      "['False', 'None', 'True', '__peg_parser__', 'and', 'as', 'assert', 'async', 'await', 'break', 'class', 'continue', 'def', 'del', 'elif', 'else', 'except', 'finally', 'for', 'from', 'global', 'if', 'import', 'in', 'is', 'lambda', 'nonlocal', 'not', 'or', 'pass', 'raise', 'return', 'try', 'while', 'with', 'yield']\n"
     ]
    }
   ],
   "source": [
    "import keyword\n",
    "print(keyword.kwlist)"
   ]
  },
  {
   "cell_type": "code",
   "execution_count": 17,
   "id": "ea58cd06",
   "metadata": {},
   "outputs": [
    {
     "name": "stdout",
     "output_type": "stream",
     "text": [
      "3.14\n"
     ]
    }
   ],
   "source": [
    "PI = 3.14\n",
    "\n",
    "pi = 3.14\n",
    "\n",
    "print(pi)"
   ]
  },
  {
   "cell_type": "code",
   "execution_count": null,
   "id": "e2099681",
   "metadata": {},
   "outputs": [],
   "source": [
    "abc # Valid no speacial char and didnt start with any digit\n",
    "1bc #  Invalid starts with a digit\n",
    "abc_1 #  Valid \n",
    "abc_@ #  In valid\n",
    "if # Invalid\n",
    "If # Valid\n",
    "false # Valid\n",
    "False # Invalid\n",
    "info # Valid\n",
    "info@ # Invalid\n",
    "abc@123 # Invalid"
   ]
  },
  {
   "cell_type": "code",
   "execution_count": null,
   "id": "038bf6eb",
   "metadata": {},
   "outputs": [],
   "source": [
    "# statement and expressions\n",
    "\n",
    "Expression - Its the combination of litrals and any operator that give out some value, Anything that gives an output \n",
    "Statements - That does not give an output"
   ]
  },
  {
   "cell_type": "code",
   "execution_count": 19,
   "id": "b8701538",
   "metadata": {},
   "outputs": [
    {
     "data": {
      "text/plain": [
       "30"
      ]
     },
     "execution_count": 19,
     "metadata": {},
     "output_type": "execute_result"
    }
   ],
   "source": [
    "10+20 #Expression"
   ]
  },
  {
   "cell_type": "code",
   "execution_count": 18,
   "id": "4b751f4f",
   "metadata": {},
   "outputs": [
    {
     "data": {
      "text/plain": [
       "10"
      ]
     },
     "execution_count": 18,
     "metadata": {},
     "output_type": "execute_result"
    }
   ],
   "source": [
    "10 # Expression "
   ]
  },
  {
   "cell_type": "code",
   "execution_count": 2,
   "id": "4e217cc5",
   "metadata": {},
   "outputs": [],
   "source": [
    "# Statement\n",
    "a = 10"
   ]
  },
  {
   "cell_type": "code",
   "execution_count": 3,
   "id": "c29c9e56",
   "metadata": {},
   "outputs": [],
   "source": [
    "# Statement \n",
    "for i in range (5):\n",
    "    pass"
   ]
  },
  {
   "cell_type": "code",
   "execution_count": null,
   "id": "b5ac5087",
   "metadata": {},
   "outputs": [],
   "source": [
    "# blocks and indentation\n",
    "\n",
    "stat 1\n",
    "stat 2 \n",
    "stat 3 \n",
    "stat 4 \n",
    "stat 5\n",
    "stat 6\n",
    "\n",
    "executions  - 1 , 2 , 3 , 4 , 5 , 6\n",
    "\n",
    "\n",
    "stat 1\n",
    "stat 2\n",
    "if condition:\n",
    "        stat 3 \n",
    "        stat 4 \n",
    "stat 5\n",
    "stat 6"
   ]
  },
  {
   "cell_type": "code",
   "execution_count": 9,
   "id": "bc014aa2",
   "metadata": {},
   "outputs": [
    {
     "name": "stdout",
     "output_type": "stream",
     "text": [
      "Akshay\n",
      "Amitesh\n",
      "Anil\n",
      "Ankus\n",
      "Israr\n"
     ]
    }
   ],
   "source": [
    "a = 100\n",
    "print('Akshay')\n",
    "print('Amitesh')\n",
    "if a> 9:\n",
    "      print('Anil')\n",
    "      print('Ankus')\n",
    "print('Israr')"
   ]
  },
  {
   "cell_type": "markdown",
   "id": "7d430c4a",
   "metadata": {},
   "source": [
    "# comments\n",
    "\n",
    "- Comments can be used to make the code more readable\n",
    "- Comments can be used to prevent the code from execution"
   ]
  },
  {
   "cell_type": "code",
   "execution_count": 10,
   "id": "541d6d72",
   "metadata": {},
   "outputs": [
    {
     "name": "stdout",
     "output_type": "stream",
     "text": [
      "225\n"
     ]
    }
   ],
   "source": [
    "PI = 3.14 # Ignore it\n",
    "r = 15 # Side of the square\n",
    "a = r*r # Area of a square\n",
    "print(ab)"
   ]
  },
  {
   "cell_type": "code",
   "execution_count": null,
   "id": "34afdb1e",
   "metadata": {},
   "outputs": [],
   "source": [
    "# a = 32\n",
    "# b = 34\n",
    "# c = 45\n",
    "d = 54"
   ]
  },
  {
   "cell_type": "code",
   "execution_count": null,
   "id": "2a1c9523",
   "metadata": {},
   "outputs": [],
   "source": []
  },
  {
   "cell_type": "code",
   "execution_count": null,
   "id": "4dca64ad",
   "metadata": {},
   "outputs": [],
   "source": []
  },
  {
   "cell_type": "code",
   "execution_count": null,
   "id": "a19a755a",
   "metadata": {},
   "outputs": [],
   "source": []
  },
  {
   "cell_type": "code",
   "execution_count": null,
   "id": "e5eea170",
   "metadata": {},
   "outputs": [],
   "source": []
  },
  {
   "cell_type": "code",
   "execution_count": null,
   "id": "0f8b96d3",
   "metadata": {},
   "outputs": [],
   "source": []
  },
  {
   "cell_type": "code",
   "execution_count": null,
   "id": "81041405",
   "metadata": {},
   "outputs": [],
   "source": []
  },
  {
   "cell_type": "code",
   "execution_count": null,
   "id": "a6455774",
   "metadata": {},
   "outputs": [],
   "source": []
  },
  {
   "cell_type": "code",
   "execution_count": null,
   "id": "fe73b4f2",
   "metadata": {},
   "outputs": [],
   "source": []
  },
  {
   "cell_type": "code",
   "execution_count": null,
   "id": "bc3ed586",
   "metadata": {},
   "outputs": [],
   "source": []
  },
  {
   "cell_type": "code",
   "execution_count": null,
   "id": "9f82acc8",
   "metadata": {},
   "outputs": [],
   "source": []
  }
 ],
 "metadata": {
  "kernelspec": {
   "display_name": "Python 3 (ipykernel)",
   "language": "python",
   "name": "python3"
  },
  "language_info": {
   "codemirror_mode": {
    "name": "ipython",
    "version": 3
   },
   "file_extension": ".py",
   "mimetype": "text/x-python",
   "name": "python",
   "nbconvert_exporter": "python",
   "pygments_lexer": "ipython3",
   "version": "3.9.12"
  }
 },
 "nbformat": 4,
 "nbformat_minor": 5
}
