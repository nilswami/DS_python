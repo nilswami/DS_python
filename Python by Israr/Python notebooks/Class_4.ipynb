{
 "cells": [
  {
   "cell_type": "markdown",
   "id": "6015fe42",
   "metadata": {},
   "source": [
    "# Float"
   ]
  },
  {
   "cell_type": "markdown",
   "id": "277a899e",
   "metadata": {},
   "source": [
    "* Any value with the decimal point is a float number"
   ]
  },
  {
   "cell_type": "code",
   "execution_count": 1,
   "id": "3ebd3248",
   "metadata": {},
   "outputs": [
    {
     "name": "stdout",
     "output_type": "stream",
     "text": [
      "<class 'float'>\n"
     ]
    }
   ],
   "source": [
    "a = 10.2\n",
    "print(type(a))"
   ]
  },
  {
   "cell_type": "code",
   "execution_count": null,
   "id": "ddd7fc5e",
   "metadata": {},
   "outputs": [],
   "source": [
    "# Operations possible on floats \n",
    "- Arithmetic operations \n",
    "- Comparision operations\n",
    "- Logical Operations\n",
    "- Equality operations\n",
    "- Asssignment operation expept bitwise\n",
    "- Identity operators\n",
    "\n",
    "# Operations Not possible with floats\n",
    "- bitwise \n",
    "\n",
    "# Object resuability is not possibe"
   ]
  },
  {
   "cell_type": "code",
   "execution_count": 3,
   "id": "c927166e",
   "metadata": {},
   "outputs": [
    {
     "ename": "TypeError",
     "evalue": "unsupported operand type(s) for |: 'float' and 'int'",
     "output_type": "error",
     "traceback": [
      "\u001b[1;31m---------------------------------------------------------------------------\u001b[0m",
      "\u001b[1;31mTypeError\u001b[0m                                 Traceback (most recent call last)",
      "Input \u001b[1;32mIn [3]\u001b[0m, in \u001b[0;36m<cell line: 3>\u001b[1;34m()\u001b[0m\n\u001b[0;32m      1\u001b[0m a \u001b[38;5;241m=\u001b[39m \u001b[38;5;241m10.20\u001b[39m\n\u001b[0;32m      2\u001b[0m b \u001b[38;5;241m=\u001b[39m \u001b[38;5;241m20\u001b[39m\n\u001b[1;32m----> 3\u001b[0m \u001b[43ma\u001b[49m\u001b[38;5;241;43m|\u001b[39;49m\u001b[43mb\u001b[49m\n",
      "\u001b[1;31mTypeError\u001b[0m: unsupported operand type(s) for |: 'float' and 'int'"
     ]
    }
   ],
   "source": [
    "# Example\n",
    "a = 10.20\n",
    "b = 20\n",
    "a|b"
   ]
  },
  {
   "cell_type": "markdown",
   "id": "5b646fd2",
   "metadata": {},
   "source": [
    "# Complex data types"
   ]
  },
  {
   "cell_type": "markdown",
   "id": "2236f00c",
   "metadata": {},
   "source": [
    "* Any value that can be represented in the form of a+bj where a is real and b is ima\n",
    "\n",
    "\n",
    "### The output of .real will always be in float"
   ]
  },
  {
   "cell_type": "code",
   "execution_count": 8,
   "id": "0dcb0809",
   "metadata": {},
   "outputs": [
    {
     "name": "stdout",
     "output_type": "stream",
     "text": [
      "(6+7j)\n",
      "<class 'complex'>\n"
     ]
    }
   ],
   "source": [
    "a = 6+7j\n",
    "print(a)\n",
    "print(type(a))"
   ]
  },
  {
   "cell_type": "code",
   "execution_count": 11,
   "id": "93ce7e85",
   "metadata": {},
   "outputs": [
    {
     "name": "stdout",
     "output_type": "stream",
     "text": [
      "6.0\n",
      "7.0\n"
     ]
    }
   ],
   "source": [
    "a = 6+7j\n",
    "\n",
    "print(a.real)\n",
    "print(a.imag)"
   ]
  },
  {
   "cell_type": "code",
   "execution_count": null,
   "id": "f7da9a16",
   "metadata": {},
   "outputs": [],
   "source": [
    "# Operations possible on complex\n",
    "\n",
    "- Arithmetic operations except modulo, floor\n",
    "- Logical Operations \n",
    "- Equality operations\n",
    "- Asssignment operation\n",
    "- Identity operators\n",
    "\n",
    "# Operations Not possible with complex\n",
    "- Comparision operators \n",
    "\n",
    "# Object resuability is not possibe"
   ]
  },
  {
   "cell_type": "code",
   "execution_count": 17,
   "id": "774c66c7",
   "metadata": {},
   "outputs": [
    {
     "data": {
      "text/plain": [
       "(7+8j)"
      ]
     },
     "execution_count": 17,
     "metadata": {},
     "output_type": "execute_result"
    }
   ],
   "source": [
    "8+6j and 7+8j"
   ]
  },
  {
   "cell_type": "markdown",
   "id": "a8985811",
   "metadata": {},
   "source": [
    "# None data types"
   ]
  },
  {
   "cell_type": "markdown",
   "id": "07aa6080",
   "metadata": {},
   "source": [
    "* None is used to represent a misssing valuw"
   ]
  },
  {
   "cell_type": "code",
   "execution_count": null,
   "id": "4bcd445e",
   "metadata": {},
   "outputs": [],
   "source": [
    "emp_name     emp_id     emp_sal        Atte\n",
    "\n",
    "abc          None          100000       1\n",
    "pqr           123          200000       0\n",
    "xyz           124          None         1"
   ]
  },
  {
   "cell_type": "markdown",
   "id": "6e496b11",
   "metadata": {},
   "source": [
    "# Boolean Data types"
   ]
  },
  {
   "cell_type": "markdown",
   "id": "85b0cf9e",
   "metadata": {},
   "source": [
    "- True also means 1\n",
    "- False also means 0"
   ]
  },
  {
   "cell_type": "code",
   "execution_count": 19,
   "id": "578fd3f0",
   "metadata": {},
   "outputs": [
    {
     "data": {
      "text/plain": [
       "True"
      ]
     },
     "execution_count": 19,
     "metadata": {},
     "output_type": "execute_result"
    }
   ],
   "source": [
    "False == 0"
   ]
  },
  {
   "cell_type": "code",
   "execution_count": 20,
   "id": "7d772630",
   "metadata": {},
   "outputs": [
    {
     "data": {
      "text/plain": [
       "2"
      ]
     },
     "execution_count": 20,
     "metadata": {},
     "output_type": "execute_result"
    }
   ],
   "source": [
    "# True ----> 1\n",
    "True + True "
   ]
  },
  {
   "cell_type": "code",
   "execution_count": 21,
   "id": "6d68881c",
   "metadata": {},
   "outputs": [
    {
     "data": {
      "text/plain": [
       "3"
      ]
     },
     "execution_count": 21,
     "metadata": {},
     "output_type": "execute_result"
    }
   ],
   "source": [
    "True + True + False + True   # 3"
   ]
  },
  {
   "cell_type": "code",
   "execution_count": 25,
   "id": "b389336a",
   "metadata": {},
   "outputs": [
    {
     "name": "stdout",
     "output_type": "stream",
     "text": [
      "False\n",
      "True\n",
      "False\n",
      "True\n"
     ]
    }
   ],
   "source": [
    "# int \n",
    "#- 0 is False and the rest are true\n",
    "print(bool(0))\n",
    "\n",
    "# float \n",
    "# - 0.0 is false and the rest are true\n",
    "print(bool(25.5))\n",
    "print(bool(0.00000000))\n",
    "\n",
    "# complex \n",
    "# - 0.0j is false and the rest are true\n",
    "print(bool(0+0.00005j))\n",
    "\n",
    "# None \n",
    "# bool of None is always false\n",
    "print(bool(None))\n",
    "\n",
    "\n",
    "# Derived data types \n",
    "# list, tuple, set and dic is false if they are empty"
   ]
  },
  {
   "cell_type": "markdown",
   "id": "7b450754",
   "metadata": {},
   "source": [
    "# Type casting\n",
    "\n",
    "* converting the data types of the variable\n",
    "\n",
    "1. int()\n",
    "2. float()\n",
    "3. str()\n",
    "4. bool()\n",
    "5. complex()\n",
    "\n",
    "\n",
    "Shortcut \n",
    "* eval()"
   ]
  },
  {
   "cell_type": "code",
   "execution_count": 28,
   "id": "f015c53e",
   "metadata": {},
   "outputs": [
    {
     "name": "stdout",
     "output_type": "stream",
     "text": [
      "<class 'int'>\n"
     ]
    }
   ],
   "source": [
    "a = 10\n",
    "\n",
    "print(type(a))"
   ]
  },
  {
   "cell_type": "code",
   "execution_count": 29,
   "id": "aad56322",
   "metadata": {},
   "outputs": [
    {
     "name": "stdout",
     "output_type": "stream",
     "text": [
      "1\n",
      "1.0\n",
      "1\n"
     ]
    }
   ],
   "source": [
    "# 1 st way\n",
    "a = 1\n",
    "\n",
    "print(a)  #\n",
    "print(float(a))   #1.0\n",
    "print(a)  # 1"
   ]
  },
  {
   "cell_type": "code",
   "execution_count": 30,
   "id": "ff967b92",
   "metadata": {},
   "outputs": [
    {
     "name": "stdout",
     "output_type": "stream",
     "text": [
      "1.0\n"
     ]
    }
   ],
   "source": [
    "# 2nd  way\n",
    "a = float(1)\n",
    "\n",
    "print(a)  #"
   ]
  },
  {
   "cell_type": "code",
   "execution_count": 36,
   "id": "d889b944",
   "metadata": {},
   "outputs": [
    {
     "name": "stdout",
     "output_type": "stream",
     "text": [
      "<class 'str'>\n",
      "<class 'int'>\n",
      "<class 'str'>\n"
     ]
    }
   ],
   "source": [
    "a = '123'\n",
    "\n",
    "print(type(a))\n",
    "print(type(int(a)))\n",
    "print(type(a))"
   ]
  },
  {
   "cell_type": "code",
   "execution_count": 37,
   "id": "f45fb03e",
   "metadata": {},
   "outputs": [
    {
     "name": "stdout",
     "output_type": "stream",
     "text": [
      "<class 'str'>\n"
     ]
    }
   ],
   "source": [
    "a = 1.45\n",
    "print(type(str(a)))"
   ]
  },
  {
   "cell_type": "code",
   "execution_count": 38,
   "id": "d07c38db",
   "metadata": {},
   "outputs": [
    {
     "ename": "ValueError",
     "evalue": "invalid literal for int() with base 10: '1.2'",
     "output_type": "error",
     "traceback": [
      "\u001b[1;31m---------------------------------------------------------------------------\u001b[0m",
      "\u001b[1;31mValueError\u001b[0m                                Traceback (most recent call last)",
      "Input \u001b[1;32mIn [38]\u001b[0m, in \u001b[0;36m<cell line: 2>\u001b[1;34m()\u001b[0m\n\u001b[0;32m      1\u001b[0m a \u001b[38;5;241m=\u001b[39m \u001b[38;5;124m'\u001b[39m\u001b[38;5;124m1.2\u001b[39m\u001b[38;5;124m'\u001b[39m\n\u001b[1;32m----> 2\u001b[0m \u001b[38;5;28mprint\u001b[39m(\u001b[38;5;28;43mint\u001b[39;49m\u001b[43m(\u001b[49m\u001b[43ma\u001b[49m\u001b[43m)\u001b[49m)\n",
      "\u001b[1;31mValueError\u001b[0m: invalid literal for int() with base 10: '1.2'"
     ]
    }
   ],
   "source": [
    "a = '1.2'  # \n",
    "print(int(a))"
   ]
  },
  {
   "cell_type": "code",
   "execution_count": 41,
   "id": "a363c801",
   "metadata": {},
   "outputs": [
    {
     "ename": "ValueError",
     "evalue": "invalid literal for int() with base 10: '123a'",
     "output_type": "error",
     "traceback": [
      "\u001b[1;31m---------------------------------------------------------------------------\u001b[0m",
      "\u001b[1;31mValueError\u001b[0m                                Traceback (most recent call last)",
      "Input \u001b[1;32mIn [41]\u001b[0m, in \u001b[0;36m<cell line: 2>\u001b[1;34m()\u001b[0m\n\u001b[0;32m      1\u001b[0m a \u001b[38;5;241m=\u001b[39m \u001b[38;5;124m'\u001b[39m\u001b[38;5;124m123a\u001b[39m\u001b[38;5;124m'\u001b[39m\n\u001b[1;32m----> 2\u001b[0m \u001b[38;5;28mprint\u001b[39m(\u001b[38;5;28;43mint\u001b[39;49m\u001b[43m(\u001b[49m\u001b[43ma\u001b[49m\u001b[43m)\u001b[49m)\n",
      "\u001b[1;31mValueError\u001b[0m: invalid literal for int() with base 10: '123a'"
     ]
    }
   ],
   "source": [
    "a = '123a' # Cannot use special characters and alphabets with int\n",
    "print(int(a))"
   ]
  },
  {
   "cell_type": "code",
   "execution_count": 42,
   "id": "dcb6e4ec",
   "metadata": {},
   "outputs": [
    {
     "name": "stdout",
     "output_type": "stream",
     "text": [
      "1.2\n"
     ]
    }
   ],
   "source": [
    "a = '1.2'  \n",
    "print(float(a))"
   ]
  },
  {
   "cell_type": "code",
   "execution_count": 44,
   "id": "6950cc07",
   "metadata": {},
   "outputs": [
    {
     "name": "stdout",
     "output_type": "stream",
     "text": [
      "<class 'float'>\n"
     ]
    }
   ],
   "source": [
    "# eval\n",
    "\n",
    "a = '1.2'  # \n",
    "print(type(eval(a)))"
   ]
  },
  {
   "cell_type": "code",
   "execution_count": 45,
   "id": "edd1880f",
   "metadata": {},
   "outputs": [
    {
     "name": "stdout",
     "output_type": "stream",
     "text": [
      "<class 'complex'>\n"
     ]
    }
   ],
   "source": [
    "a = '10+9j'\n",
    "\n",
    "print(type(eval(a)))"
   ]
  },
  {
   "cell_type": "code",
   "execution_count": 46,
   "id": "fbf931dd",
   "metadata": {},
   "outputs": [
    {
     "name": "stdout",
     "output_type": "stream",
     "text": [
      "<class 'int'>\n",
      "<class 'str'>\n",
      "<class 'int'>\n"
     ]
    }
   ],
   "source": [
    "a = 123\n",
    "\n",
    "print(type(a))\n",
    "print(type(str(a)))\n",
    "print(type(a))"
   ]
  },
  {
   "cell_type": "code",
   "execution_count": 48,
   "id": "4d802604",
   "metadata": {},
   "outputs": [
    {
     "name": "stdout",
     "output_type": "stream",
     "text": [
      "<class 'int'>\n",
      "<class 'bool'>\n",
      "<class 'int'>\n"
     ]
    }
   ],
   "source": [
    "a = 6\n",
    "\n",
    "print(type(a))\n",
    "print(type(bool(a)))\n",
    "print(type(a))"
   ]
  },
  {
   "cell_type": "code",
   "execution_count": 51,
   "id": "383c4d4d",
   "metadata": {},
   "outputs": [
    {
     "name": "stdout",
     "output_type": "stream",
     "text": [
      "(10+0j)\n"
     ]
    }
   ],
   "source": [
    "a = 10\n",
    "\n",
    "print(complex(a))"
   ]
  },
  {
   "cell_type": "markdown",
   "id": "0344e8a0",
   "metadata": {},
   "source": [
    "# Input and Output functions in python\n",
    "\n",
    "* It is used to take input from the user\n",
    "* Input function will always give the string data type\n"
   ]
  },
  {
   "cell_type": "code",
   "execution_count": 54,
   "id": "098c2f46",
   "metadata": {},
   "outputs": [
    {
     "name": "stdout",
     "output_type": "stream",
     "text": [
      "Please enter your number  999999999\n",
      "******\n",
      "999999999\n"
     ]
    }
   ],
   "source": [
    "a = int(input('Please enter your number  '))\n",
    "\n",
    "print('******')\n",
    "print(a)"
   ]
  },
  {
   "cell_type": "code",
   "execution_count": 56,
   "id": "a5debca2",
   "metadata": {},
   "outputs": [
    {
     "name": "stdout",
     "output_type": "stream",
     "text": [
      "Please enter your number  4.56\n",
      "******\n",
      "4.56\n"
     ]
    }
   ],
   "source": [
    "a = float(input('Please enter your number  '))\n",
    "\n",
    "print('******')\n",
    "print(a)"
   ]
  },
  {
   "cell_type": "code",
   "execution_count": 59,
   "id": "9eec8082",
   "metadata": {},
   "outputs": [
    {
     "name": "stdout",
     "output_type": "stream",
     "text": [
      "please enter a number   6654151.5216515\n",
      "6654151.5216515\n",
      "<class 'str'>\n"
     ]
    }
   ],
   "source": [
    "a = input('please enter a number   ')\n",
    "\n",
    "\n",
    "print(a)\n",
    "print(type(a))"
   ]
  },
  {
   "cell_type": "code",
   "execution_count": 60,
   "id": "f4e51091",
   "metadata": {},
   "outputs": [
    {
     "name": "stdout",
     "output_type": "stream",
     "text": [
      "please enter a number   1\n",
      "(1+0j)\n",
      "<class 'complex'>\n"
     ]
    }
   ],
   "source": [
    "a = complex(input('please enter a number   '))\n",
    "\n",
    "\n",
    "print(a)\n",
    "print(type(a))"
   ]
  },
  {
   "cell_type": "markdown",
   "id": "7babcc13",
   "metadata": {},
   "source": [
    "# Eval()\n",
    "* It automatically converts the data type"
   ]
  },
  {
   "cell_type": "code",
   "execution_count": 75,
   "id": "6673449e",
   "metadata": {},
   "outputs": [
    {
     "name": "stdout",
     "output_type": "stream",
     "text": [
      "Enter the 4 digit pin 1.1\n",
      "Enter the last 2 digit of your number2+5j\n",
      "(3.1+5j)\n"
     ]
    }
   ],
   "source": [
    "# \n",
    "\n",
    "a = eval(input('Enter the 4 digit pin '))      # Not int \n",
    "b = eval(input('Enter the last 2 digit of your number  '))\n",
    "\n",
    "print(a+b)"
   ]
  },
  {
   "cell_type": "code",
   "execution_count": 74,
   "id": "d2699849",
   "metadata": {},
   "outputs": [
    {
     "name": "stdout",
     "output_type": "stream",
     "text": [
      "please enter a number   0.9+85j\n",
      "(0.9+85j)\n",
      "<class 'complex'>\n"
     ]
    }
   ],
   "source": [
    "a = eval(input('please enter a number   '))\n",
    "\n",
    "print(a)\n",
    "print(type(a))"
   ]
  },
  {
   "cell_type": "markdown",
   "id": "1148df2d",
   "metadata": {},
   "source": [
    "# Output function\n",
    "* print()\n",
    "\n",
    "10\\n20\\n30\n"
   ]
  },
  {
   "cell_type": "code",
   "execution_count": 76,
   "id": "ff9874e8",
   "metadata": {},
   "outputs": [
    {
     "name": "stdout",
     "output_type": "stream",
     "text": [
      "10\n",
      "20\n",
      "30\n"
     ]
    }
   ],
   "source": [
    "a = 10\n",
    "b = 20\n",
    "c = 30\n",
    "\n",
    "print(a)\n",
    "print(b)\n",
    "print(c)"
   ]
  },
  {
   "cell_type": "code",
   "execution_count": 77,
   "id": "cdb0a5e7",
   "metadata": {},
   "outputs": [
    {
     "name": "stdout",
     "output_type": "stream",
     "text": [
      "20*****"
     ]
    }
   ],
   "source": [
    "a = 20\n",
    "print(a, end ='*****')"
   ]
  },
  {
   "cell_type": "code",
   "execution_count": 82,
   "id": "d2ae7bb0",
   "metadata": {},
   "outputs": [
    {
     "name": "stdout",
     "output_type": "stream",
     "text": [
      "10\t20\n",
      "30\n"
     ]
    }
   ],
   "source": [
    "a = 10\n",
    "b = 20\n",
    "c = 30\n",
    "\n",
    "print(a, end ='\\t')\n",
    "print(b)\n",
    "print(c)"
   ]
  },
  {
   "cell_type": "code",
   "execution_count": 92,
   "id": "8c699769",
   "metadata": {},
   "outputs": [
    {
     "name": "stdout",
     "output_type": "stream",
     "text": [
      "10***20***30\n"
     ]
    }
   ],
   "source": [
    "a = 10\n",
    "b = 20\n",
    "c = 30\n",
    "\n",
    "print(a,b,c , sep = '***')\n",
    "\n",
    "# end - how to end the line\n",
    "# sep - adds seperation between variable"
   ]
  },
  {
   "cell_type": "code",
   "execution_count": 90,
   "id": "eb30635a",
   "metadata": {},
   "outputs": [
    {
     "name": "stdout",
     "output_type": "stream",
     "text": [
      "10++++20----30\n",
      "40######10%%%%%20%%%%%50$$$$"
     ]
    }
   ],
   "source": [
    "a = 10\n",
    "b = 20\n",
    "c = 30\n",
    "d = 40\n",
    "e = 50\n",
    "\n",
    "print(a,b , sep = '++++' , end = '----')\n",
    "print(c , end = '\\n')\n",
    "print(d , end = '######')\n",
    "print(a,b,e, sep = '%%%%%', end = '$$$$')"
   ]
  },
  {
   "cell_type": "markdown",
   "id": "8435328d",
   "metadata": {},
   "source": [
    "10++++20----30\n",
    "40####10%%%%20%%%%50$$$$$"
   ]
  },
  {
   "cell_type": "code",
   "execution_count": null,
   "id": "82b1c9a9",
   "metadata": {},
   "outputs": [],
   "source": []
  },
  {
   "cell_type": "code",
   "execution_count": null,
   "id": "83a51198",
   "metadata": {},
   "outputs": [],
   "source": []
  },
  {
   "cell_type": "code",
   "execution_count": null,
   "id": "3c674b79",
   "metadata": {},
   "outputs": [],
   "source": []
  },
  {
   "cell_type": "code",
   "execution_count": null,
   "id": "af366a69",
   "metadata": {},
   "outputs": [],
   "source": []
  },
  {
   "cell_type": "code",
   "execution_count": null,
   "id": "4f3ed27e",
   "metadata": {},
   "outputs": [],
   "source": []
  },
  {
   "cell_type": "code",
   "execution_count": null,
   "id": "cb9e62e3",
   "metadata": {},
   "outputs": [],
   "source": []
  },
  {
   "cell_type": "code",
   "execution_count": null,
   "id": "8466265f",
   "metadata": {},
   "outputs": [],
   "source": []
  },
  {
   "cell_type": "code",
   "execution_count": null,
   "id": "68ca89da",
   "metadata": {},
   "outputs": [],
   "source": []
  },
  {
   "cell_type": "code",
   "execution_count": null,
   "id": "579b1312",
   "metadata": {},
   "outputs": [],
   "source": []
  },
  {
   "cell_type": "code",
   "execution_count": null,
   "id": "a82532ea",
   "metadata": {},
   "outputs": [],
   "source": []
  },
  {
   "cell_type": "code",
   "execution_count": null,
   "id": "8d33f8ee",
   "metadata": {},
   "outputs": [],
   "source": []
  }
 ],
 "metadata": {
  "kernelspec": {
   "display_name": "Python 3 (ipykernel)",
   "language": "python",
   "name": "python3"
  },
  "language_info": {
   "codemirror_mode": {
    "name": "ipython",
    "version": 3
   },
   "file_extension": ".py",
   "mimetype": "text/x-python",
   "name": "python",
   "nbconvert_exporter": "python",
   "pygments_lexer": "ipython3",
   "version": "3.9.12"
  }
 },
 "nbformat": 4,
 "nbformat_minor": 5
}
